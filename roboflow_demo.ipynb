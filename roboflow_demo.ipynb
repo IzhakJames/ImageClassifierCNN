{
 "cells": [
  {
   "cell_type": "code",
   "execution_count": 1,
   "metadata": {},
   "outputs": [
    {
     "name": "stdout",
     "output_type": "stream",
     "text": [
      "loading Roboflow workspace...\n",
      "loading Roboflow project...\n"
     ]
    },
    {
     "name": "stderr",
     "output_type": "stream",
     "text": [
      "Downloading Dataset Version Zip in Road-Sign-Image-Detection-2 to yolokeras:: 100%|██████████| 19409/19409 [00:02<00:00, 8442.59it/s] "
     ]
    },
    {
     "name": "stdout",
     "output_type": "stream",
     "text": [
      "\n"
     ]
    },
    {
     "name": "stderr",
     "output_type": "stream",
     "text": [
      "\n",
      "Extracting Dataset Version Zip to Road-Sign-Image-Detection-2 in yolokeras:: 100%|██████████| 378/378 [00:00<00:00, 5899.14it/s]\n"
     ]
    }
   ],
   "source": [
    "#!pip install roboflow\n",
    "import os\n",
    "import json\n",
    "import matplotlib.pyplot as plt\n",
    "import matplotlib.image as mpimg\n",
    "from matplotlib.patches import Rectangle\n",
    "import numpy as np\n",
    "from roboflow import Roboflow\n",
    "\n",
    "# Define the folder containing images\n",
    "images_folder = 'data_2/TEST/8'\n",
    "\n",
    "# Create a list to store predictions\n",
    "all_predictions = []\n",
    "\n",
    "def crop_images(images_folder, padding=10):\n",
    "    rf = Roboflow(api_key=\"5QKKlp6IjU5UTbSv406u\")\n",
    "    project = rf.workspace(\"is4242-gmgjf\").project(\"road-sign-image-detection\")\n",
    "    version = project.version(2)\n",
    "    dataset = version.download(\"yolokeras\")\n",
    "\n",
    "    model = version.model\n",
    "    # Optionally, change the confidence and overlap thresholds (values are percentages)\n",
    "    model.confidence = 60\n",
    "    model.overlap = 35\n",
    "\n",
    "    cropped_images = []\n",
    "\n",
    "    # Loop through the images folder\n",
    "    for image_file in os.listdir(images_folder):\n",
    "        if image_file.endswith('.jpg') or image_file.endswith('.jpeg') or image_file.endswith('.png'):\n",
    "            # Load the image\n",
    "            image_path = os.path.join(images_folder, image_file)\n",
    "            image = mpimg.imread(image_path)\n",
    "            prediction = model.predict(image_path)\n",
    "\n",
    "            # Extract predictions as JSON\n",
    "            predictions_json = prediction.json()\n",
    "            \n",
    "            # Crop the image to include some extra space around the bounding box\n",
    "            for bounding_box in predictions_json['predictions']:\n",
    "                x = bounding_box['x']\n",
    "                y = bounding_box['y']\n",
    "                width = bounding_box['width']\n",
    "                height = bounding_box['height']\n",
    "\n",
    "                # Calculate corner points with extra padding\n",
    "                x1 = int(x - (width / 2) - padding)\n",
    "                y1 = int(y - (height / 2) - padding)\n",
    "                x2 = int(x + (width / 2) + padding)\n",
    "                y2 = int(y + (height / 2) + padding)\n",
    "\n",
    "                # Ensure the cropped area is within the image bounds\n",
    "                x1 = max(x1, 0)\n",
    "                y1 = max(y1, 0)\n",
    "                x2 = min(x2, image.shape[1])\n",
    "                y2 = min(y2, image.shape[0])\n",
    "\n",
    "                # Crop the image\n",
    "                cropped_image = image[y1:y2, x1:x2]\n",
    "\n",
    "                # Append the cropped image to the list\n",
    "                cropped_images.append(cropped_image)\n",
    "\n",
    "                # Plot the cropped image\n",
    "                plt.imshow(cropped_image)\n",
    "                plt.axis('off')\n",
    "                plt.show()\n",
    "                print(prediction.plot())\n",
    "\n",
    "    # Convert the list of cropped images to a numpy array\n",
    "    cropped_images_array = np.array(cropped_images)\n",
    "    \n",
    "    return cropped_images_array\n",
    "\n",
    "# Example usage:\n",
    "# cropped_images_array = crop_images('images_folder_path', model)"
   ]
  }
 ],
 "metadata": {
  "kernelspec": {
   "display_name": "is4242",
   "language": "python",
   "name": "python3"
  },
  "language_info": {
   "codemirror_mode": {
    "name": "ipython",
    "version": 3
   },
   "file_extension": ".py",
   "mimetype": "text/x-python",
   "name": "python",
   "nbconvert_exporter": "python",
   "pygments_lexer": "ipython3",
   "version": "3.12.1"
  }
 },
 "nbformat": 4,
 "nbformat_minor": 2
}
