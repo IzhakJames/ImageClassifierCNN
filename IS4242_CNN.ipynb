{
 "cells": [
  {
   "cell_type": "code",
   "execution_count": 1,
   "id": "94570c07",
   "metadata": {},
   "outputs": [],
   "source": [
    "#Importing Libraries\n",
    "import pandas as pd\n",
    "import random\n",
    "import pickle\n",
    "import tensorflow as tf\n",
    "import keras\n",
    "from keras.models import Sequential\n",
    "from keras.layers import Dense, Flatten,BatchNormalization, Dropout, Lambda, Conv2D, MaxPool2D, InputLayer\n",
    "from tensorflow.keras.utils import plot_model\n",
    "from tensorflow.keras.applications import VGG16\n",
    "import numpy as np\n",
    "import matplotlib.pyplot as plt\n",
    "import cv2\n",
    "import os\n",
    "from sklearn.preprocessing import LabelEncoder\n",
    "import random \n",
    "\n",
    "random.seed(19)"
   ]
  },
  {
   "cell_type": "code",
   "execution_count": 2,
   "id": "e5ecbfca",
   "metadata": {},
   "outputs": [],
   "source": [
    "pickle_in = open('X.pickle',\"rb\")\n",
    "X = pickle.load(pickle_in)\n",
    "pickle_in.close()\n",
    "\n",
    "pickle_in = open('y.pickle',\"rb\")\n",
    "y = pickle.load(pickle_in)\n",
    "pickle_in.close()"
   ]
  },
  {
   "cell_type": "code",
   "execution_count": 3,
   "id": "5bdab14e",
   "metadata": {},
   "outputs": [
    {
     "data": {
      "text/plain": [
       "(64, 64, 1)"
      ]
     },
     "execution_count": 3,
     "metadata": {},
     "output_type": "execute_result"
    }
   ],
   "source": [
    "X.shape[1:]"
   ]
  },
  {
   "cell_type": "markdown",
   "id": "89e1882f",
   "metadata": {},
   "source": [
    "## Creating a model to be trained on gray-scaled, unnormalised data"
   ]
  },
  {
   "cell_type": "code",
   "execution_count": 4,
   "id": "a551c788",
   "metadata": {},
   "outputs": [
    {
     "data": {
      "text/html": [
       "<pre style=\"white-space:pre;overflow-x:auto;line-height:normal;font-family:Menlo,'DejaVu Sans Mono',consolas,'Courier New',monospace\"><span style=\"font-weight: bold\">Model: \"sequential\"</span>\n",
       "</pre>\n"
      ],
      "text/plain": [
       "\u001b[1mModel: \"sequential\"\u001b[0m\n"
      ]
     },
     "metadata": {},
     "output_type": "display_data"
    },
    {
     "data": {
      "text/html": [
       "<pre style=\"white-space:pre;overflow-x:auto;line-height:normal;font-family:Menlo,'DejaVu Sans Mono',consolas,'Courier New',monospace\">┏━━━━━━━━━━━━━━━━━━━━━━━━━━━━━━━━━┳━━━━━━━━━━━━━━━━━━━━━━━━┳━━━━━━━━━━━━━━━┓\n",
       "┃<span style=\"font-weight: bold\"> Layer (type)                    </span>┃<span style=\"font-weight: bold\"> Output Shape           </span>┃<span style=\"font-weight: bold\">       Param # </span>┃\n",
       "┡━━━━━━━━━━━━━━━━━━━━━━━━━━━━━━━━━╇━━━━━━━━━━━━━━━━━━━━━━━━╇━━━━━━━━━━━━━━━┩\n",
       "│ conv2d (<span style=\"color: #0087ff; text-decoration-color: #0087ff\">Conv2D</span>)                 │ (<span style=\"color: #00d7ff; text-decoration-color: #00d7ff\">None</span>, <span style=\"color: #00af00; text-decoration-color: #00af00\">64</span>, <span style=\"color: #00af00; text-decoration-color: #00af00\">64</span>, <span style=\"color: #00af00; text-decoration-color: #00af00\">128</span>)    │         <span style=\"color: #00af00; text-decoration-color: #00af00\">2,176</span> │\n",
       "├─────────────────────────────────┼────────────────────────┼───────────────┤\n",
       "│ max_pooling2d (<span style=\"color: #0087ff; text-decoration-color: #0087ff\">MaxPooling2D</span>)    │ (<span style=\"color: #00d7ff; text-decoration-color: #00d7ff\">None</span>, <span style=\"color: #00af00; text-decoration-color: #00af00\">32</span>, <span style=\"color: #00af00; text-decoration-color: #00af00\">32</span>, <span style=\"color: #00af00; text-decoration-color: #00af00\">128</span>)    │             <span style=\"color: #00af00; text-decoration-color: #00af00\">0</span> │\n",
       "├─────────────────────────────────┼────────────────────────┼───────────────┤\n",
       "│ conv2d_1 (<span style=\"color: #0087ff; text-decoration-color: #0087ff\">Conv2D</span>)               │ (<span style=\"color: #00d7ff; text-decoration-color: #00d7ff\">None</span>, <span style=\"color: #00af00; text-decoration-color: #00af00\">32</span>, <span style=\"color: #00af00; text-decoration-color: #00af00\">32</span>, <span style=\"color: #00af00; text-decoration-color: #00af00\">64</span>)     │       <span style=\"color: #00af00; text-decoration-color: #00af00\">131,136</span> │\n",
       "├─────────────────────────────────┼────────────────────────┼───────────────┤\n",
       "│ max_pooling2d_1 (<span style=\"color: #0087ff; text-decoration-color: #0087ff\">MaxPooling2D</span>)  │ (<span style=\"color: #00d7ff; text-decoration-color: #00d7ff\">None</span>, <span style=\"color: #00af00; text-decoration-color: #00af00\">16</span>, <span style=\"color: #00af00; text-decoration-color: #00af00\">16</span>, <span style=\"color: #00af00; text-decoration-color: #00af00\">64</span>)     │             <span style=\"color: #00af00; text-decoration-color: #00af00\">0</span> │\n",
       "├─────────────────────────────────┼────────────────────────┼───────────────┤\n",
       "│ conv2d_2 (<span style=\"color: #0087ff; text-decoration-color: #0087ff\">Conv2D</span>)               │ (<span style=\"color: #00d7ff; text-decoration-color: #00d7ff\">None</span>, <span style=\"color: #00af00; text-decoration-color: #00af00\">16</span>, <span style=\"color: #00af00; text-decoration-color: #00af00\">16</span>, <span style=\"color: #00af00; text-decoration-color: #00af00\">32</span>)     │        <span style=\"color: #00af00; text-decoration-color: #00af00\">32,800</span> │\n",
       "├─────────────────────────────────┼────────────────────────┼───────────────┤\n",
       "│ max_pooling2d_2 (<span style=\"color: #0087ff; text-decoration-color: #0087ff\">MaxPooling2D</span>)  │ (<span style=\"color: #00d7ff; text-decoration-color: #00d7ff\">None</span>, <span style=\"color: #00af00; text-decoration-color: #00af00\">8</span>, <span style=\"color: #00af00; text-decoration-color: #00af00\">8</span>, <span style=\"color: #00af00; text-decoration-color: #00af00\">32</span>)       │             <span style=\"color: #00af00; text-decoration-color: #00af00\">0</span> │\n",
       "├─────────────────────────────────┼────────────────────────┼───────────────┤\n",
       "│ conv2d_3 (<span style=\"color: #0087ff; text-decoration-color: #0087ff\">Conv2D</span>)               │ (<span style=\"color: #00d7ff; text-decoration-color: #00d7ff\">None</span>, <span style=\"color: #00af00; text-decoration-color: #00af00\">8</span>, <span style=\"color: #00af00; text-decoration-color: #00af00\">8</span>, <span style=\"color: #00af00; text-decoration-color: #00af00\">16</span>)       │         <span style=\"color: #00af00; text-decoration-color: #00af00\">8,208</span> │\n",
       "├─────────────────────────────────┼────────────────────────┼───────────────┤\n",
       "│ max_pooling2d_3 (<span style=\"color: #0087ff; text-decoration-color: #0087ff\">MaxPooling2D</span>)  │ (<span style=\"color: #00d7ff; text-decoration-color: #00d7ff\">None</span>, <span style=\"color: #00af00; text-decoration-color: #00af00\">4</span>, <span style=\"color: #00af00; text-decoration-color: #00af00\">4</span>, <span style=\"color: #00af00; text-decoration-color: #00af00\">16</span>)       │             <span style=\"color: #00af00; text-decoration-color: #00af00\">0</span> │\n",
       "├─────────────────────────────────┼────────────────────────┼───────────────┤\n",
       "│ flatten (<span style=\"color: #0087ff; text-decoration-color: #0087ff\">Flatten</span>)               │ (<span style=\"color: #00d7ff; text-decoration-color: #00d7ff\">None</span>, <span style=\"color: #00af00; text-decoration-color: #00af00\">256</span>)            │             <span style=\"color: #00af00; text-decoration-color: #00af00\">0</span> │\n",
       "├─────────────────────────────────┼────────────────────────┼───────────────┤\n",
       "│ dense (<span style=\"color: #0087ff; text-decoration-color: #0087ff\">Dense</span>)                   │ (<span style=\"color: #00d7ff; text-decoration-color: #00d7ff\">None</span>, <span style=\"color: #00af00; text-decoration-color: #00af00\">128</span>)            │        <span style=\"color: #00af00; text-decoration-color: #00af00\">32,896</span> │\n",
       "├─────────────────────────────────┼────────────────────────┼───────────────┤\n",
       "│ dropout (<span style=\"color: #0087ff; text-decoration-color: #0087ff\">Dropout</span>)               │ (<span style=\"color: #00d7ff; text-decoration-color: #00d7ff\">None</span>, <span style=\"color: #00af00; text-decoration-color: #00af00\">128</span>)            │             <span style=\"color: #00af00; text-decoration-color: #00af00\">0</span> │\n",
       "├─────────────────────────────────┼────────────────────────┼───────────────┤\n",
       "│ dense_1 (<span style=\"color: #0087ff; text-decoration-color: #0087ff\">Dense</span>)                 │ (<span style=\"color: #00d7ff; text-decoration-color: #00d7ff\">None</span>, <span style=\"color: #00af00; text-decoration-color: #00af00\">32</span>)             │         <span style=\"color: #00af00; text-decoration-color: #00af00\">4,128</span> │\n",
       "└─────────────────────────────────┴────────────────────────┴───────────────┘\n",
       "</pre>\n"
      ],
      "text/plain": [
       "┏━━━━━━━━━━━━━━━━━━━━━━━━━━━━━━━━━┳━━━━━━━━━━━━━━━━━━━━━━━━┳━━━━━━━━━━━━━━━┓\n",
       "┃\u001b[1m \u001b[0m\u001b[1mLayer (type)                   \u001b[0m\u001b[1m \u001b[0m┃\u001b[1m \u001b[0m\u001b[1mOutput Shape          \u001b[0m\u001b[1m \u001b[0m┃\u001b[1m \u001b[0m\u001b[1m      Param #\u001b[0m\u001b[1m \u001b[0m┃\n",
       "┡━━━━━━━━━━━━━━━━━━━━━━━━━━━━━━━━━╇━━━━━━━━━━━━━━━━━━━━━━━━╇━━━━━━━━━━━━━━━┩\n",
       "│ conv2d (\u001b[38;5;33mConv2D\u001b[0m)                 │ (\u001b[38;5;45mNone\u001b[0m, \u001b[38;5;34m64\u001b[0m, \u001b[38;5;34m64\u001b[0m, \u001b[38;5;34m128\u001b[0m)    │         \u001b[38;5;34m2,176\u001b[0m │\n",
       "├─────────────────────────────────┼────────────────────────┼───────────────┤\n",
       "│ max_pooling2d (\u001b[38;5;33mMaxPooling2D\u001b[0m)    │ (\u001b[38;5;45mNone\u001b[0m, \u001b[38;5;34m32\u001b[0m, \u001b[38;5;34m32\u001b[0m, \u001b[38;5;34m128\u001b[0m)    │             \u001b[38;5;34m0\u001b[0m │\n",
       "├─────────────────────────────────┼────────────────────────┼───────────────┤\n",
       "│ conv2d_1 (\u001b[38;5;33mConv2D\u001b[0m)               │ (\u001b[38;5;45mNone\u001b[0m, \u001b[38;5;34m32\u001b[0m, \u001b[38;5;34m32\u001b[0m, \u001b[38;5;34m64\u001b[0m)     │       \u001b[38;5;34m131,136\u001b[0m │\n",
       "├─────────────────────────────────┼────────────────────────┼───────────────┤\n",
       "│ max_pooling2d_1 (\u001b[38;5;33mMaxPooling2D\u001b[0m)  │ (\u001b[38;5;45mNone\u001b[0m, \u001b[38;5;34m16\u001b[0m, \u001b[38;5;34m16\u001b[0m, \u001b[38;5;34m64\u001b[0m)     │             \u001b[38;5;34m0\u001b[0m │\n",
       "├─────────────────────────────────┼────────────────────────┼───────────────┤\n",
       "│ conv2d_2 (\u001b[38;5;33mConv2D\u001b[0m)               │ (\u001b[38;5;45mNone\u001b[0m, \u001b[38;5;34m16\u001b[0m, \u001b[38;5;34m16\u001b[0m, \u001b[38;5;34m32\u001b[0m)     │        \u001b[38;5;34m32,800\u001b[0m │\n",
       "├─────────────────────────────────┼────────────────────────┼───────────────┤\n",
       "│ max_pooling2d_2 (\u001b[38;5;33mMaxPooling2D\u001b[0m)  │ (\u001b[38;5;45mNone\u001b[0m, \u001b[38;5;34m8\u001b[0m, \u001b[38;5;34m8\u001b[0m, \u001b[38;5;34m32\u001b[0m)       │             \u001b[38;5;34m0\u001b[0m │\n",
       "├─────────────────────────────────┼────────────────────────┼───────────────┤\n",
       "│ conv2d_3 (\u001b[38;5;33mConv2D\u001b[0m)               │ (\u001b[38;5;45mNone\u001b[0m, \u001b[38;5;34m8\u001b[0m, \u001b[38;5;34m8\u001b[0m, \u001b[38;5;34m16\u001b[0m)       │         \u001b[38;5;34m8,208\u001b[0m │\n",
       "├─────────────────────────────────┼────────────────────────┼───────────────┤\n",
       "│ max_pooling2d_3 (\u001b[38;5;33mMaxPooling2D\u001b[0m)  │ (\u001b[38;5;45mNone\u001b[0m, \u001b[38;5;34m4\u001b[0m, \u001b[38;5;34m4\u001b[0m, \u001b[38;5;34m16\u001b[0m)       │             \u001b[38;5;34m0\u001b[0m │\n",
       "├─────────────────────────────────┼────────────────────────┼───────────────┤\n",
       "│ flatten (\u001b[38;5;33mFlatten\u001b[0m)               │ (\u001b[38;5;45mNone\u001b[0m, \u001b[38;5;34m256\u001b[0m)            │             \u001b[38;5;34m0\u001b[0m │\n",
       "├─────────────────────────────────┼────────────────────────┼───────────────┤\n",
       "│ dense (\u001b[38;5;33mDense\u001b[0m)                   │ (\u001b[38;5;45mNone\u001b[0m, \u001b[38;5;34m128\u001b[0m)            │        \u001b[38;5;34m32,896\u001b[0m │\n",
       "├─────────────────────────────────┼────────────────────────┼───────────────┤\n",
       "│ dropout (\u001b[38;5;33mDropout\u001b[0m)               │ (\u001b[38;5;45mNone\u001b[0m, \u001b[38;5;34m128\u001b[0m)            │             \u001b[38;5;34m0\u001b[0m │\n",
       "├─────────────────────────────────┼────────────────────────┼───────────────┤\n",
       "│ dense_1 (\u001b[38;5;33mDense\u001b[0m)                 │ (\u001b[38;5;45mNone\u001b[0m, \u001b[38;5;34m32\u001b[0m)             │         \u001b[38;5;34m4,128\u001b[0m │\n",
       "└─────────────────────────────────┴────────────────────────┴───────────────┘\n"
      ]
     },
     "metadata": {},
     "output_type": "display_data"
    },
    {
     "data": {
      "text/html": [
       "<pre style=\"white-space:pre;overflow-x:auto;line-height:normal;font-family:Menlo,'DejaVu Sans Mono',consolas,'Courier New',monospace\"><span style=\"font-weight: bold\"> Total params: </span><span style=\"color: #00af00; text-decoration-color: #00af00\">211,344</span> (825.56 KB)\n",
       "</pre>\n"
      ],
      "text/plain": [
       "\u001b[1m Total params: \u001b[0m\u001b[38;5;34m211,344\u001b[0m (825.56 KB)\n"
      ]
     },
     "metadata": {},
     "output_type": "display_data"
    },
    {
     "data": {
      "text/html": [
       "<pre style=\"white-space:pre;overflow-x:auto;line-height:normal;font-family:Menlo,'DejaVu Sans Mono',consolas,'Courier New',monospace\"><span style=\"font-weight: bold\"> Trainable params: </span><span style=\"color: #00af00; text-decoration-color: #00af00\">211,344</span> (825.56 KB)\n",
       "</pre>\n"
      ],
      "text/plain": [
       "\u001b[1m Trainable params: \u001b[0m\u001b[38;5;34m211,344\u001b[0m (825.56 KB)\n"
      ]
     },
     "metadata": {},
     "output_type": "display_data"
    },
    {
     "data": {
      "text/html": [
       "<pre style=\"white-space:pre;overflow-x:auto;line-height:normal;font-family:Menlo,'DejaVu Sans Mono',consolas,'Courier New',monospace\"><span style=\"font-weight: bold\"> Non-trainable params: </span><span style=\"color: #00af00; text-decoration-color: #00af00\">0</span> (0.00 B)\n",
       "</pre>\n"
      ],
      "text/plain": [
       "\u001b[1m Non-trainable params: \u001b[0m\u001b[38;5;34m0\u001b[0m (0.00 B)\n"
      ]
     },
     "metadata": {},
     "output_type": "display_data"
    }
   ],
   "source": [
    "# Define the model\n",
    "model = Sequential()\n",
    "\n",
    "# Add InputLayer with input shape\n",
    "model.add(InputLayer(shape=X.shape[1:]))\n",
    "\n",
    "# 1st Convolutional Layer\n",
    "model.add(Conv2D(128, (4, 4), padding='same', activation='relu'))\n",
    "\n",
    "# Max Pooling Layer\n",
    "model.add(MaxPool2D(pool_size=(2, 2)))\n",
    "\n",
    "# 2nd Convolutional Layer\n",
    "model.add(Conv2D(64, (4, 4), padding='same', activation='relu'))\n",
    "\n",
    "# Max Pooling Layer\n",
    "model.add(MaxPool2D(pool_size=(2, 2)))\n",
    "\n",
    "# 3rd Convolutional Layer\n",
    "model.add(Conv2D(32, (4, 4), padding='same', activation='relu'))\n",
    "\n",
    "# Max Pooling Layer\n",
    "model.add(MaxPool2D(pool_size=(2, 2)))\n",
    "\n",
    "# 4th Convolutional Layer\n",
    "model.add(Conv2D(16, (4, 4), padding='same', activation='relu'))\n",
    "\n",
    "# Max Pooling Layer\n",
    "model.add(MaxPool2D(pool_size=(2, 2)))\n",
    "\n",
    "# Flatten layer\n",
    "model.add(Flatten())\n",
    "\n",
    "# Fully Connected Dense Layer\n",
    "model.add(Dense(128, activation='relu'))\n",
    "\n",
    "# Dropout Layer\n",
    "model.add(Dropout(0.5))\n",
    "\n",
    "# Output Layer\n",
    "model.add(Dense(32, activation='softmax'))\n",
    "\n",
    "# Compile the model\n",
    "# tf.keras.optimizers.SGD(learning_rate=0.01, momentum=0.9)\n",
    "model.compile(optimizer=\"Adam\",\n",
    "              loss='sparse_categorical_crossentropy',\n",
    "              metrics=['accuracy'])\n",
    "\n",
    "# Print the model summary\n",
    "model.summary()"
   ]
  },
  {
   "cell_type": "code",
   "execution_count": 5,
   "id": "177ec582",
   "metadata": {
    "scrolled": true
   },
   "outputs": [
    {
     "name": "stdout",
     "output_type": "stream",
     "text": [
      "Epoch 1/30\n",
      "\u001b[1m87/87\u001b[0m \u001b[32m━━━━━━━━━━━━━━━━━━━━\u001b[0m\u001b[37m\u001b[0m \u001b[1m9s\u001b[0m 97ms/step - accuracy: 0.0563 - loss: 6.3528 - val_accuracy: 0.2305 - val_loss: 2.9124\n",
      "Epoch 2/30\n",
      "\u001b[1m87/87\u001b[0m \u001b[32m━━━━━━━━━━━━━━━━━━━━\u001b[0m\u001b[37m\u001b[0m \u001b[1m8s\u001b[0m 97ms/step - accuracy: 0.2509 - loss: 2.7897 - val_accuracy: 0.7110 - val_loss: 1.3259\n",
      "Epoch 3/30\n",
      "\u001b[1m87/87\u001b[0m \u001b[32m━━━━━━━━━━━━━━━━━━━━\u001b[0m\u001b[37m\u001b[0m \u001b[1m8s\u001b[0m 90ms/step - accuracy: 0.5684 - loss: 1.6083 - val_accuracy: 0.7792 - val_loss: 0.9857\n",
      "Epoch 4/30\n",
      "\u001b[1m87/87\u001b[0m \u001b[32m━━━━━━━━━━━━━━━━━━━━\u001b[0m\u001b[37m\u001b[0m \u001b[1m8s\u001b[0m 93ms/step - accuracy: 0.6947 - loss: 1.0827 - val_accuracy: 0.8799 - val_loss: 0.4997\n",
      "Epoch 5/30\n",
      "\u001b[1m87/87\u001b[0m \u001b[32m━━━━━━━━━━━━━━━━━━━━\u001b[0m\u001b[37m\u001b[0m \u001b[1m8s\u001b[0m 90ms/step - accuracy: 0.7629 - loss: 0.7770 - val_accuracy: 0.8799 - val_loss: 0.4233\n",
      "Epoch 6/30\n",
      "\u001b[1m87/87\u001b[0m \u001b[32m━━━━━━━━━━━━━━━━━━━━\u001b[0m\u001b[37m\u001b[0m \u001b[1m8s\u001b[0m 93ms/step - accuracy: 0.8313 - loss: 0.6182 - val_accuracy: 0.9058 - val_loss: 0.3273\n",
      "Epoch 7/30\n",
      "\u001b[1m87/87\u001b[0m \u001b[32m━━━━━━━━━━━━━━━━━━━━\u001b[0m\u001b[37m\u001b[0m \u001b[1m8s\u001b[0m 87ms/step - accuracy: 0.8454 - loss: 0.5287 - val_accuracy: 0.9091 - val_loss: 0.3020\n",
      "Epoch 8/30\n",
      "\u001b[1m87/87\u001b[0m \u001b[32m━━━━━━━━━━━━━━━━━━━━\u001b[0m\u001b[37m\u001b[0m \u001b[1m8s\u001b[0m 93ms/step - accuracy: 0.8619 - loss: 0.4453 - val_accuracy: 0.9188 - val_loss: 0.2844\n",
      "Epoch 9/30\n",
      "\u001b[1m87/87\u001b[0m \u001b[32m━━━━━━━━━━━━━━━━━━━━\u001b[0m\u001b[37m\u001b[0m \u001b[1m8s\u001b[0m 90ms/step - accuracy: 0.8886 - loss: 0.3945 - val_accuracy: 0.9123 - val_loss: 0.2529\n",
      "Epoch 10/30\n",
      "\u001b[1m87/87\u001b[0m \u001b[32m━━━━━━━━━━━━━━━━━━━━\u001b[0m\u001b[37m\u001b[0m \u001b[1m8s\u001b[0m 90ms/step - accuracy: 0.8958 - loss: 0.3386 - val_accuracy: 0.9383 - val_loss: 0.2296\n",
      "Epoch 11/30\n",
      "\u001b[1m87/87\u001b[0m \u001b[32m━━━━━━━━━━━━━━━━━━━━\u001b[0m\u001b[37m\u001b[0m \u001b[1m8s\u001b[0m 88ms/step - accuracy: 0.9105 - loss: 0.3124 - val_accuracy: 0.9351 - val_loss: 0.2632\n",
      "Epoch 12/30\n",
      "\u001b[1m87/87\u001b[0m \u001b[32m━━━━━━━━━━━━━━━━━━━━\u001b[0m\u001b[37m\u001b[0m \u001b[1m8s\u001b[0m 93ms/step - accuracy: 0.9099 - loss: 0.2930 - val_accuracy: 0.9351 - val_loss: 0.2302\n",
      "Epoch 13/30\n",
      "\u001b[1m87/87\u001b[0m \u001b[32m━━━━━━━━━━━━━━━━━━━━\u001b[0m\u001b[37m\u001b[0m \u001b[1m8s\u001b[0m 93ms/step - accuracy: 0.9274 - loss: 0.2342 - val_accuracy: 0.9351 - val_loss: 0.2756\n",
      "Epoch 14/30\n",
      "\u001b[1m87/87\u001b[0m \u001b[32m━━━━━━━━━━━━━━━━━━━━\u001b[0m\u001b[37m\u001b[0m \u001b[1m8s\u001b[0m 94ms/step - accuracy: 0.9257 - loss: 0.2472 - val_accuracy: 0.9448 - val_loss: 0.2166\n",
      "Epoch 15/30\n",
      "\u001b[1m87/87\u001b[0m \u001b[32m━━━━━━━━━━━━━━━━━━━━\u001b[0m\u001b[37m\u001b[0m \u001b[1m8s\u001b[0m 90ms/step - accuracy: 0.9416 - loss: 0.1882 - val_accuracy: 0.9481 - val_loss: 0.2022\n",
      "Epoch 16/30\n",
      "\u001b[1m87/87\u001b[0m \u001b[32m━━━━━━━━━━━━━━━━━━━━\u001b[0m\u001b[37m\u001b[0m \u001b[1m8s\u001b[0m 95ms/step - accuracy: 0.9366 - loss: 0.1807 - val_accuracy: 0.9383 - val_loss: 0.2104\n",
      "Epoch 17/30\n",
      "\u001b[1m87/87\u001b[0m \u001b[32m━━━━━━━━━━━━━━━━━━━━\u001b[0m\u001b[37m\u001b[0m \u001b[1m8s\u001b[0m 88ms/step - accuracy: 0.9459 - loss: 0.1626 - val_accuracy: 0.9545 - val_loss: 0.1718\n",
      "Epoch 18/30\n",
      "\u001b[1m87/87\u001b[0m \u001b[32m━━━━━━━━━━━━━━━━━━━━\u001b[0m\u001b[37m\u001b[0m \u001b[1m8s\u001b[0m 91ms/step - accuracy: 0.9505 - loss: 0.1583 - val_accuracy: 0.9448 - val_loss: 0.2504\n",
      "Epoch 19/30\n",
      "\u001b[1m87/87\u001b[0m \u001b[32m━━━━━━━━━━━━━━━━━━━━\u001b[0m\u001b[37m\u001b[0m \u001b[1m8s\u001b[0m 86ms/step - accuracy: 0.9542 - loss: 0.1577 - val_accuracy: 0.9578 - val_loss: 0.1588\n",
      "Epoch 20/30\n",
      "\u001b[1m87/87\u001b[0m \u001b[32m━━━━━━━━━━━━━━━━━━━━\u001b[0m\u001b[37m\u001b[0m \u001b[1m8s\u001b[0m 92ms/step - accuracy: 0.9559 - loss: 0.1318 - val_accuracy: 0.9578 - val_loss: 0.2100\n",
      "Epoch 21/30\n",
      "\u001b[1m87/87\u001b[0m \u001b[32m━━━━━━━━━━━━━━━━━━━━\u001b[0m\u001b[37m\u001b[0m \u001b[1m8s\u001b[0m 92ms/step - accuracy: 0.9530 - loss: 0.1340 - val_accuracy: 0.9578 - val_loss: 0.2322\n",
      "Epoch 22/30\n",
      "\u001b[1m87/87\u001b[0m \u001b[32m━━━━━━━━━━━━━━━━━━━━\u001b[0m\u001b[37m\u001b[0m \u001b[1m8s\u001b[0m 94ms/step - accuracy: 0.9634 - loss: 0.1325 - val_accuracy: 0.9513 - val_loss: 0.1798\n",
      "Epoch 23/30\n",
      "\u001b[1m87/87\u001b[0m \u001b[32m━━━━━━━━━━━━━━━━━━━━\u001b[0m\u001b[37m\u001b[0m \u001b[1m8s\u001b[0m 89ms/step - accuracy: 0.9551 - loss: 0.1474 - val_accuracy: 0.9513 - val_loss: 0.2285\n",
      "Epoch 24/30\n",
      "\u001b[1m87/87\u001b[0m \u001b[32m━━━━━━━━━━━━━━━━━━━━\u001b[0m\u001b[37m\u001b[0m \u001b[1m8s\u001b[0m 90ms/step - accuracy: 0.9520 - loss: 0.1347 - val_accuracy: 0.9545 - val_loss: 0.2009\n",
      "Epoch 25/30\n",
      "\u001b[1m87/87\u001b[0m \u001b[32m━━━━━━━━━━━━━━━━━━━━\u001b[0m\u001b[37m\u001b[0m \u001b[1m8s\u001b[0m 91ms/step - accuracy: 0.9615 - loss: 0.1242 - val_accuracy: 0.9448 - val_loss: 0.1816\n",
      "Epoch 26/30\n",
      "\u001b[1m87/87\u001b[0m \u001b[32m━━━━━━━━━━━━━━━━━━━━\u001b[0m\u001b[37m\u001b[0m \u001b[1m8s\u001b[0m 90ms/step - accuracy: 0.9716 - loss: 0.1071 - val_accuracy: 0.9610 - val_loss: 0.2137\n",
      "Epoch 27/30\n",
      "\u001b[1m87/87\u001b[0m \u001b[32m━━━━━━━━━━━━━━━━━━━━\u001b[0m\u001b[37m\u001b[0m \u001b[1m8s\u001b[0m 91ms/step - accuracy: 0.9619 - loss: 0.1476 - val_accuracy: 0.9545 - val_loss: 0.1856\n",
      "Epoch 28/30\n",
      "\u001b[1m87/87\u001b[0m \u001b[32m━━━━━━━━━━━━━━━━━━━━\u001b[0m\u001b[37m\u001b[0m \u001b[1m8s\u001b[0m 93ms/step - accuracy: 0.9634 - loss: 0.1091 - val_accuracy: 0.9578 - val_loss: 0.1705\n",
      "Epoch 29/30\n",
      "\u001b[1m87/87\u001b[0m \u001b[32m━━━━━━━━━━━━━━━━━━━━\u001b[0m\u001b[37m\u001b[0m \u001b[1m8s\u001b[0m 89ms/step - accuracy: 0.9600 - loss: 0.1519 - val_accuracy: 0.9545 - val_loss: 0.1715\n",
      "Epoch 30/30\n",
      "\u001b[1m87/87\u001b[0m \u001b[32m━━━━━━━━━━━━━━━━━━━━\u001b[0m\u001b[37m\u001b[0m \u001b[1m8s\u001b[0m 95ms/step - accuracy: 0.9640 - loss: 0.1076 - val_accuracy: 0.9643 - val_loss: 0.1490\n"
     ]
    }
   ],
   "source": [
    "# Train the model\n",
    "history = model.fit(X, y, epochs=30, validation_split=0.10, batch_size=32) "
   ]
  },
  {
   "cell_type": "code",
   "execution_count": 6,
   "id": "7ba44968",
   "metadata": {
    "scrolled": true
   },
   "outputs": [
    {
     "data": {
      "image/png": "[encoded data removed]",
      "text/plain": [
       "<Figure size 640x480 with 1 Axes>"
      ]
     },
     "metadata": {},
     "output_type": "display_data"
    },
    {
     "data": {
      "image/png": "[encoded data removed]",
      "text/plain": [
       "<Figure size 640x480 with 1 Axes>"
      ]
     },
     "metadata": {},
     "output_type": "display_data"
    }
   ],
   "source": [
    "# Plot training & validation loss values\n",
    "plt.plot(history.history['loss'])\n",
    "plt.plot(history.history['val_loss'])\n",
    "plt.title('Model Loss')\n",
    "plt.ylabel('Loss')\n",
    "plt.xlabel('Epoch')\n",
    "plt.legend(['Train', 'Validation'], loc='upper left')\n",
    "plt.show()\n",
    "\n",
    "# Plot training & validation accuracy values\n",
    "plt.plot(history.history['accuracy'])\n",
    "plt.plot(history.history['val_accuracy'])\n",
    "plt.title('Model Accuracy')\n",
    "plt.ylabel('Accuracy')\n",
    "plt.xlabel('Epoch')\n",
    "plt.legend(['Train', 'Validation'], loc='upper left')\n",
    "plt.show()"
   ]
  },
  {
   "cell_type": "code",
   "execution_count": 7,
   "id": "54be50a5",
   "metadata": {},
   "outputs": [],
   "source": [
    "pickle_in = open('X_test.pickle',\"rb\")\n",
    "X_test = pickle.load(pickle_in)\n",
    "pickle_in.close()\n",
    "\n",
    "pickle_in = open('y_test.pickle',\"rb\")\n",
    "y_test = pickle.load(pickle_in)\n",
    "pickle_in.close()"
   ]
  },
  {
   "cell_type": "code",
   "execution_count": 8,
   "id": "5b2f2dda",
   "metadata": {},
   "outputs": [
    {
     "name": "stdout",
     "output_type": "stream",
     "text": [
      "\u001b[1m11/11\u001b[0m \u001b[32m━━━━━━━━━━━━━━━━━━━━\u001b[0m\u001b[37m\u001b[0m \u001b[1m0s\u001b[0m 28ms/step - accuracy: 0.5647 - loss: 2.3872\n",
      "Test Loss: 2.2607367038726807\n",
      "Test Accuracy: 0.5795454382896423\n"
     ]
    }
   ],
   "source": [
    "# Evaluate the model on the test dataset\n",
    "loss, accuracy = model.evaluate(X_test, y_test)\n",
    "\n",
    "# Print the test loss and accuracy\n",
    "print(\"Test Loss:\", loss)\n",
    "print(\"Test Accuracy:\", accuracy)"
   ]
  },
  {
   "cell_type": "markdown",
   "id": "460135cb",
   "metadata": {},
   "source": [
    "### Training the same Model on Normalised, gray-scaled Images"
   ]
  },
  {
   "cell_type": "markdown",
   "id": "9a9a6c72",
   "metadata": {},
   "source": [
    "Using simple rescaling of Images.\n",
    "\n",
    "This method involves rescaling pixel values to a new range, typically between 0 and 1. By dividing each pixel by the maximum possible value (usually 255), we can achieve this form of normalization which helps in scaling down the pixel intensity for various computing purposes."
   ]
  },
  {
   "cell_type": "code",
   "execution_count": 9,
   "id": "8d1c4d07",
   "metadata": {},
   "outputs": [
    {
     "data": {
      "text/plain": [
       "array([[[[0.18823529],\n",
       "         [0.18039216],\n",
       "         [0.18823529],\n",
       "         ...,\n",
       "         [0.16078431],\n",
       "         [0.17647059],\n",
       "         [0.20392157]],\n",
       "\n",
       "        [[0.18823529],\n",
       "         [0.17254902],\n",
       "         [0.16862745],\n",
       "         ...,\n",
       "         [0.23137255],\n",
       "         [0.23137255],\n",
       "         [0.23529412]],\n",
       "\n",
       "        [[0.14509804],\n",
       "         [0.10980392],\n",
       "         [0.11372549],\n",
       "         ...,\n",
       "         [0.21568627],\n",
       "         [0.22352941],\n",
       "         [0.23137255]],\n",
       "\n",
       "        ...,\n",
       "\n",
       "        [[0.25882353],\n",
       "         [0.21960784],\n",
       "         [0.30196078],\n",
       "         ...,\n",
       "         [0.22352941],\n",
       "         [0.23921569],\n",
       "         [0.21176471]],\n",
       "\n",
       "        [[0.2627451 ],\n",
       "         [0.20784314],\n",
       "         [0.21960784],\n",
       "         ...,\n",
       "         [0.21960784],\n",
       "         [0.25098039],\n",
       "         [0.25098039]],\n",
       "\n",
       "        [[0.26666667],\n",
       "         [0.21960784],\n",
       "         [0.2       ],\n",
       "         ...,\n",
       "         [0.24313725],\n",
       "         [0.24313725],\n",
       "         [0.23921569]]],\n",
       "\n",
       "\n",
       "       [[[0.24705882],\n",
       "         [0.76078431],\n",
       "         [0.73333333],\n",
       "         ...,\n",
       "         [0.17647059],\n",
       "         [0.21176471],\n",
       "         [0.25882353]],\n",
       "\n",
       "        [[0.30196078],\n",
       "         [0.25098039],\n",
       "         [0.32941176],\n",
       "         ...,\n",
       "         [0.21568627],\n",
       "         [0.29803922],\n",
       "         [0.2745098 ]],\n",
       "\n",
       "        [[0.29803922],\n",
       "         [0.22745098],\n",
       "         [0.20784314],\n",
       "         ...,\n",
       "         [0.21176471],\n",
       "         [0.23529412],\n",
       "         [0.23529412]],\n",
       "\n",
       "        ...,\n",
       "\n",
       "        [[0.10980392],\n",
       "         [0.11372549],\n",
       "         [0.11372549],\n",
       "         ...,\n",
       "         [0.13333333],\n",
       "         [0.14901961],\n",
       "         [0.15294118]],\n",
       "\n",
       "        [[0.10980392],\n",
       "         [0.11372549],\n",
       "         [0.11372549],\n",
       "         ...,\n",
       "         [0.12941176],\n",
       "         [0.14509804],\n",
       "         [0.14901961]],\n",
       "\n",
       "        [[0.09803922],\n",
       "         [0.10196078],\n",
       "         [0.10196078],\n",
       "         ...,\n",
       "         [0.1254902 ],\n",
       "         [0.12941176],\n",
       "         [0.1372549 ]]],\n",
       "\n",
       "\n",
       "       [[[0.94901961],\n",
       "         [0.94901961],\n",
       "         [0.94509804],\n",
       "         ...,\n",
       "         [0.90588235],\n",
       "         [0.90588235],\n",
       "         [0.90588235]],\n",
       "\n",
       "        [[0.94901961],\n",
       "         [0.94509804],\n",
       "         [0.94509804],\n",
       "         ...,\n",
       "         [0.90196078],\n",
       "         [0.90196078],\n",
       "         [0.90588235]],\n",
       "\n",
       "        [[0.94509804],\n",
       "         [0.94509804],\n",
       "         [0.94117647],\n",
       "         ...,\n",
       "         [0.90588235],\n",
       "         [0.90196078],\n",
       "         [0.90196078]],\n",
       "\n",
       "        ...,\n",
       "\n",
       "        [[0.67058824],\n",
       "         [0.65882353],\n",
       "         [0.6627451 ],\n",
       "         ...,\n",
       "         [0.73333333],\n",
       "         [0.76470588],\n",
       "         [0.76078431]],\n",
       "\n",
       "        [[0.34509804],\n",
       "         [0.4       ],\n",
       "         [0.44705882],\n",
       "         ...,\n",
       "         [0.75294118],\n",
       "         [0.74901961],\n",
       "         [0.76078431]],\n",
       "\n",
       "        [[0.25098039],\n",
       "         [0.23137255],\n",
       "         [0.24313725],\n",
       "         ...,\n",
       "         [0.74901961],\n",
       "         [0.76470588],\n",
       "         [0.75686275]]],\n",
       "\n",
       "\n",
       "       ...,\n",
       "\n",
       "\n",
       "       [[[0.35294118],\n",
       "         [0.34509804],\n",
       "         [0.32941176],\n",
       "         ...,\n",
       "         [0.3372549 ],\n",
       "         [0.3372549 ],\n",
       "         [0.3372549 ]],\n",
       "\n",
       "        [[0.35294118],\n",
       "         [0.34509804],\n",
       "         [0.32156863],\n",
       "         ...,\n",
       "         [0.3372549 ],\n",
       "         [0.3372549 ],\n",
       "         [0.3372549 ]],\n",
       "\n",
       "        [[0.34509804],\n",
       "         [0.34117647],\n",
       "         [0.31764706],\n",
       "         ...,\n",
       "         [0.3372549 ],\n",
       "         [0.3372549 ],\n",
       "         [0.3372549 ]],\n",
       "\n",
       "        ...,\n",
       "\n",
       "        [[0.4       ],\n",
       "         [0.40784314],\n",
       "         [0.41176471],\n",
       "         ...,\n",
       "         [0.41568627],\n",
       "         [0.41960784],\n",
       "         [0.41960784]],\n",
       "\n",
       "        [[0.40392157],\n",
       "         [0.41176471],\n",
       "         [0.41568627],\n",
       "         ...,\n",
       "         [0.40784314],\n",
       "         [0.41176471],\n",
       "         [0.41568627]],\n",
       "\n",
       "        [[0.4       ],\n",
       "         [0.41176471],\n",
       "         [0.41568627],\n",
       "         ...,\n",
       "         [0.40784314],\n",
       "         [0.41176471],\n",
       "         [0.41176471]]],\n",
       "\n",
       "\n",
       "       [[[0.14901961],\n",
       "         [0.15294118],\n",
       "         [0.15294118],\n",
       "         ...,\n",
       "         [0.24705882],\n",
       "         [0.24313725],\n",
       "         [0.24313725]],\n",
       "\n",
       "        [[0.14901961],\n",
       "         [0.14901961],\n",
       "         [0.14901961],\n",
       "         ...,\n",
       "         [0.23921569],\n",
       "         [0.24705882],\n",
       "         [0.25490196]],\n",
       "\n",
       "        [[0.14901961],\n",
       "         [0.14901961],\n",
       "         [0.14901961],\n",
       "         ...,\n",
       "         [0.23921569],\n",
       "         [0.24313725],\n",
       "         [0.24313725]],\n",
       "\n",
       "        ...,\n",
       "\n",
       "        [[0.21176471],\n",
       "         [0.15686275],\n",
       "         [0.14901961],\n",
       "         ...,\n",
       "         [0.25098039],\n",
       "         [0.25098039],\n",
       "         [0.25098039]],\n",
       "\n",
       "        [[0.20392157],\n",
       "         [0.18823529],\n",
       "         [0.17647059],\n",
       "         ...,\n",
       "         [0.25098039],\n",
       "         [0.25098039],\n",
       "         [0.25098039]],\n",
       "\n",
       "        [[0.20784314],\n",
       "         [0.18431373],\n",
       "         [0.17647059],\n",
       "         ...,\n",
       "         [0.25098039],\n",
       "         [0.25098039],\n",
       "         [0.25098039]]],\n",
       "\n",
       "\n",
       "       [[[0.58431373],\n",
       "         [0.47843137],\n",
       "         [0.31764706],\n",
       "         ...,\n",
       "         [0.37254902],\n",
       "         [0.37254902],\n",
       "         [0.37254902]],\n",
       "\n",
       "        [[0.58823529],\n",
       "         [0.50980392],\n",
       "         [0.35294118],\n",
       "         ...,\n",
       "         [0.37254902],\n",
       "         [0.37254902],\n",
       "         [0.36862745]],\n",
       "\n",
       "        [[0.59215686],\n",
       "         [0.57647059],\n",
       "         [0.48627451],\n",
       "         ...,\n",
       "         [0.37647059],\n",
       "         [0.37647059],\n",
       "         [0.37254902]],\n",
       "\n",
       "        ...,\n",
       "\n",
       "        [[0.30980392],\n",
       "         [0.09803922],\n",
       "         [0.07843137],\n",
       "         ...,\n",
       "         [0.2627451 ],\n",
       "         [0.2745098 ],\n",
       "         [0.15294118]],\n",
       "\n",
       "        [[0.29803922],\n",
       "         [0.10588235],\n",
       "         [0.07843137],\n",
       "         ...,\n",
       "         [0.2627451 ],\n",
       "         [0.27843137],\n",
       "         [0.13333333]],\n",
       "\n",
       "        [[0.29019608],\n",
       "         [0.10980392],\n",
       "         [0.10980392],\n",
       "         ...,\n",
       "         [0.2627451 ],\n",
       "         [0.2745098 ],\n",
       "         [0.15294118]]]])"
      ]
     },
     "execution_count": 9,
     "metadata": {},
     "output_type": "execute_result"
    }
   ],
   "source": [
    "X = X/255.0\n",
    "X"
   ]
  },
  {
   "cell_type": "code",
   "execution_count": 10,
   "id": "56aca753",
   "metadata": {},
   "outputs": [
    {
     "data": {
      "text/plain": [
       "array([[[[0.64313725],\n",
       "         [0.64313725],\n",
       "         [0.63921569],\n",
       "         ...,\n",
       "         [0.30588235],\n",
       "         [0.34901961],\n",
       "         [0.56470588]],\n",
       "\n",
       "        [[0.64313725],\n",
       "         [0.64313725],\n",
       "         [0.64705882],\n",
       "         ...,\n",
       "         [0.31764706],\n",
       "         [0.3372549 ],\n",
       "         [0.55686275]],\n",
       "\n",
       "        [[0.63921569],\n",
       "         [0.64313725],\n",
       "         [0.64313725],\n",
       "         ...,\n",
       "         [0.31764706],\n",
       "         [0.32156863],\n",
       "         [0.54509804]],\n",
       "\n",
       "        ...,\n",
       "\n",
       "        [[0.09019608],\n",
       "         [0.09019608],\n",
       "         [0.09019608],\n",
       "         ...,\n",
       "         [0.29019608],\n",
       "         [0.10196078],\n",
       "         [0.16470588]],\n",
       "\n",
       "        [[0.09411765],\n",
       "         [0.09019608],\n",
       "         [0.08627451],\n",
       "         ...,\n",
       "         [0.2745098 ],\n",
       "         [0.11764706],\n",
       "         [0.16078431]],\n",
       "\n",
       "        [[0.09411765],\n",
       "         [0.08627451],\n",
       "         [0.09411765],\n",
       "         ...,\n",
       "         [0.23921569],\n",
       "         [0.11372549],\n",
       "         [0.1372549 ]]],\n",
       "\n",
       "\n",
       "       [[[0.17254902],\n",
       "         [0.17254902],\n",
       "         [0.17254902],\n",
       "         ...,\n",
       "         [0.16862745],\n",
       "         [0.16862745],\n",
       "         [0.16862745]],\n",
       "\n",
       "        [[0.17254902],\n",
       "         [0.17254902],\n",
       "         [0.16862745],\n",
       "         ...,\n",
       "         [0.16862745],\n",
       "         [0.16862745],\n",
       "         [0.16862745]],\n",
       "\n",
       "        [[0.16862745],\n",
       "         [0.16862745],\n",
       "         [0.16862745],\n",
       "         ...,\n",
       "         [0.16862745],\n",
       "         [0.16862745],\n",
       "         [0.16862745]],\n",
       "\n",
       "        ...,\n",
       "\n",
       "        [[0.15294118],\n",
       "         [0.15686275],\n",
       "         [0.16470588],\n",
       "         ...,\n",
       "         [0.15294118],\n",
       "         [0.15294118],\n",
       "         [0.15294118]],\n",
       "\n",
       "        [[0.15686275],\n",
       "         [0.15686275],\n",
       "         [0.16470588],\n",
       "         ...,\n",
       "         [0.15294118],\n",
       "         [0.15294118],\n",
       "         [0.15294118]],\n",
       "\n",
       "        [[0.15686275],\n",
       "         [0.16078431],\n",
       "         [0.16470588],\n",
       "         ...,\n",
       "         [0.15294118],\n",
       "         [0.15294118],\n",
       "         [0.15294118]]],\n",
       "\n",
       "\n",
       "       [[[0.44705882],\n",
       "         [0.38039216],\n",
       "         [0.64705882],\n",
       "         ...,\n",
       "         [0.47058824],\n",
       "         [0.47843137],\n",
       "         [0.44313725]],\n",
       "\n",
       "        [[0.32156863],\n",
       "         [0.29411765],\n",
       "         [0.23137255],\n",
       "         ...,\n",
       "         [0.49019608],\n",
       "         [0.4745098 ],\n",
       "         [0.45098039]],\n",
       "\n",
       "        [[0.31764706],\n",
       "         [0.29019608],\n",
       "         [0.25098039],\n",
       "         ...,\n",
       "         [0.42352941],\n",
       "         [0.35294118],\n",
       "         [0.35294118]],\n",
       "\n",
       "        ...,\n",
       "\n",
       "        [[0.94117647],\n",
       "         [0.27843137],\n",
       "         [0.88235294],\n",
       "         ...,\n",
       "         [0.29019608],\n",
       "         [0.32941176],\n",
       "         [0.2745098 ]],\n",
       "\n",
       "        [[0.79215686],\n",
       "         [0.65098039],\n",
       "         [0.79215686],\n",
       "         ...,\n",
       "         [0.23921569],\n",
       "         [0.24705882],\n",
       "         [0.26666667]],\n",
       "\n",
       "        [[0.68627451],\n",
       "         [0.63921569],\n",
       "         [0.21960784],\n",
       "         ...,\n",
       "         [0.22352941],\n",
       "         [0.23529412],\n",
       "         [0.22352941]]],\n",
       "\n",
       "\n",
       "       ...,\n",
       "\n",
       "\n",
       "       [[[0.65490196],\n",
       "         [0.44313725],\n",
       "         [0.72941176],\n",
       "         ...,\n",
       "         [0.64313725],\n",
       "         [0.59215686],\n",
       "         [0.38039216]],\n",
       "\n",
       "        [[0.74509804],\n",
       "         [0.60392157],\n",
       "         [0.81176471],\n",
       "         ...,\n",
       "         [0.56470588],\n",
       "         [0.45490196],\n",
       "         [0.21568627]],\n",
       "\n",
       "        [[0.58823529],\n",
       "         [0.64705882],\n",
       "         [0.78039216],\n",
       "         ...,\n",
       "         [0.39607843],\n",
       "         [0.32941176],\n",
       "         [0.23137255]],\n",
       "\n",
       "        ...,\n",
       "\n",
       "        [[0.25882353],\n",
       "         [0.26666667],\n",
       "         [0.31372549],\n",
       "         ...,\n",
       "         [0.97254902],\n",
       "         [0.96470588],\n",
       "         [0.97254902]],\n",
       "\n",
       "        [[0.25098039],\n",
       "         [0.2627451 ],\n",
       "         [0.3254902 ],\n",
       "         ...,\n",
       "         [0.96862745],\n",
       "         [0.97254902],\n",
       "         [0.97254902]],\n",
       "\n",
       "        [[0.14117647],\n",
       "         [0.24313725],\n",
       "         [0.33333333],\n",
       "         ...,\n",
       "         [0.96862745],\n",
       "         [0.96470588],\n",
       "         [0.96862745]]],\n",
       "\n",
       "\n",
       "       [[[0.22745098],\n",
       "         [0.21176471],\n",
       "         [0.22745098],\n",
       "         ...,\n",
       "         [0.35686275],\n",
       "         [0.27843137],\n",
       "         [0.27058824]],\n",
       "\n",
       "        [[0.21176471],\n",
       "         [0.23137255],\n",
       "         [0.22745098],\n",
       "         ...,\n",
       "         [0.38431373],\n",
       "         [0.24705882],\n",
       "         [0.23137255]],\n",
       "\n",
       "        [[0.22352941],\n",
       "         [0.23529412],\n",
       "         [0.22352941],\n",
       "         ...,\n",
       "         [0.29803922],\n",
       "         [0.22352941],\n",
       "         [0.28235294]],\n",
       "\n",
       "        ...,\n",
       "\n",
       "        [[0.17254902],\n",
       "         [0.15686275],\n",
       "         [0.1254902 ],\n",
       "         ...,\n",
       "         [0.16862745],\n",
       "         [0.19215686],\n",
       "         [0.20392157]],\n",
       "\n",
       "        [[0.2       ],\n",
       "         [0.18039216],\n",
       "         [0.17647059],\n",
       "         ...,\n",
       "         [0.16078431],\n",
       "         [0.17647059],\n",
       "         [0.18039216]],\n",
       "\n",
       "        [[0.17254902],\n",
       "         [0.18039216],\n",
       "         [0.17254902],\n",
       "         ...,\n",
       "         [0.14901961],\n",
       "         [0.17254902],\n",
       "         [0.20392157]]],\n",
       "\n",
       "\n",
       "       [[[0.58823529],\n",
       "         [0.58823529],\n",
       "         [0.58823529],\n",
       "         ...,\n",
       "         [0.50980392],\n",
       "         [0.49803922],\n",
       "         [0.47843137]],\n",
       "\n",
       "        [[0.58823529],\n",
       "         [0.58823529],\n",
       "         [0.58823529],\n",
       "         ...,\n",
       "         [0.50980392],\n",
       "         [0.50196078],\n",
       "         [0.48235294]],\n",
       "\n",
       "        [[0.59215686],\n",
       "         [0.59215686],\n",
       "         [0.59215686],\n",
       "         ...,\n",
       "         [0.50980392],\n",
       "         [0.50588235],\n",
       "         [0.47843137]],\n",
       "\n",
       "        ...,\n",
       "\n",
       "        [[0.34509804],\n",
       "         [0.38039216],\n",
       "         [0.42745098],\n",
       "         ...,\n",
       "         [0.38039216],\n",
       "         [0.43137255],\n",
       "         [0.43921569]],\n",
       "\n",
       "        [[0.3372549 ],\n",
       "         [0.31764706],\n",
       "         [0.32156863],\n",
       "         ...,\n",
       "         [0.35294118],\n",
       "         [0.34117647],\n",
       "         [0.32941176]],\n",
       "\n",
       "        [[0.29411765],\n",
       "         [0.36862745],\n",
       "         [0.32941176],\n",
       "         ...,\n",
       "         [0.38823529],\n",
       "         [0.29803922],\n",
       "         [0.48235294]]]])"
      ]
     },
     "execution_count": 10,
     "metadata": {},
     "output_type": "execute_result"
    }
   ],
   "source": [
    "X_test = X_test/255.0\n",
    "X_test"
   ]
  },
  {
   "cell_type": "code",
   "execution_count": 11,
   "id": "2df9ee19",
   "metadata": {},
   "outputs": [
    {
     "data": {
      "text/html": [
       "<pre style=\"white-space:pre;overflow-x:auto;line-height:normal;font-family:Menlo,'DejaVu Sans Mono',consolas,'Courier New',monospace\"><span style=\"font-weight: bold\">Model: \"sequential_1\"</span>\n",
       "</pre>\n"
      ],
      "text/plain": [
       "\u001b[1mModel: \"sequential_1\"\u001b[0m\n"
      ]
     },
     "metadata": {},
     "output_type": "display_data"
    },
    {
     "data": {
      "text/html": [
       "<pre style=\"white-space:pre;overflow-x:auto;line-height:normal;font-family:Menlo,'DejaVu Sans Mono',consolas,'Courier New',monospace\">┏━━━━━━━━━━━━━━━━━━━━━━━━━━━━━━━━━┳━━━━━━━━━━━━━━━━━━━━━━━━┳━━━━━━━━━━━━━━━┓\n",
       "┃<span style=\"font-weight: bold\"> Layer (type)                    </span>┃<span style=\"font-weight: bold\"> Output Shape           </span>┃<span style=\"font-weight: bold\">       Param # </span>┃\n",
       "┡━━━━━━━━━━━━━━━━━━━━━━━━━━━━━━━━━╇━━━━━━━━━━━━━━━━━━━━━━━━╇━━━━━━━━━━━━━━━┩\n",
       "│ conv2d_4 (<span style=\"color: #0087ff; text-decoration-color: #0087ff\">Conv2D</span>)               │ (<span style=\"color: #00d7ff; text-decoration-color: #00d7ff\">None</span>, <span style=\"color: #00af00; text-decoration-color: #00af00\">64</span>, <span style=\"color: #00af00; text-decoration-color: #00af00\">64</span>, <span style=\"color: #00af00; text-decoration-color: #00af00\">128</span>)    │         <span style=\"color: #00af00; text-decoration-color: #00af00\">2,176</span> │\n",
       "├─────────────────────────────────┼────────────────────────┼───────────────┤\n",
       "│ max_pooling2d_4 (<span style=\"color: #0087ff; text-decoration-color: #0087ff\">MaxPooling2D</span>)  │ (<span style=\"color: #00d7ff; text-decoration-color: #00d7ff\">None</span>, <span style=\"color: #00af00; text-decoration-color: #00af00\">32</span>, <span style=\"color: #00af00; text-decoration-color: #00af00\">32</span>, <span style=\"color: #00af00; text-decoration-color: #00af00\">128</span>)    │             <span style=\"color: #00af00; text-decoration-color: #00af00\">0</span> │\n",
       "├─────────────────────────────────┼────────────────────────┼───────────────┤\n",
       "│ conv2d_5 (<span style=\"color: #0087ff; text-decoration-color: #0087ff\">Conv2D</span>)               │ (<span style=\"color: #00d7ff; text-decoration-color: #00d7ff\">None</span>, <span style=\"color: #00af00; text-decoration-color: #00af00\">32</span>, <span style=\"color: #00af00; text-decoration-color: #00af00\">32</span>, <span style=\"color: #00af00; text-decoration-color: #00af00\">64</span>)     │       <span style=\"color: #00af00; text-decoration-color: #00af00\">131,136</span> │\n",
       "├─────────────────────────────────┼────────────────────────┼───────────────┤\n",
       "│ max_pooling2d_5 (<span style=\"color: #0087ff; text-decoration-color: #0087ff\">MaxPooling2D</span>)  │ (<span style=\"color: #00d7ff; text-decoration-color: #00d7ff\">None</span>, <span style=\"color: #00af00; text-decoration-color: #00af00\">16</span>, <span style=\"color: #00af00; text-decoration-color: #00af00\">16</span>, <span style=\"color: #00af00; text-decoration-color: #00af00\">64</span>)     │             <span style=\"color: #00af00; text-decoration-color: #00af00\">0</span> │\n",
       "├─────────────────────────────────┼────────────────────────┼───────────────┤\n",
       "│ conv2d_6 (<span style=\"color: #0087ff; text-decoration-color: #0087ff\">Conv2D</span>)               │ (<span style=\"color: #00d7ff; text-decoration-color: #00d7ff\">None</span>, <span style=\"color: #00af00; text-decoration-color: #00af00\">16</span>, <span style=\"color: #00af00; text-decoration-color: #00af00\">16</span>, <span style=\"color: #00af00; text-decoration-color: #00af00\">32</span>)     │        <span style=\"color: #00af00; text-decoration-color: #00af00\">32,800</span> │\n",
       "├─────────────────────────────────┼────────────────────────┼───────────────┤\n",
       "│ max_pooling2d_6 (<span style=\"color: #0087ff; text-decoration-color: #0087ff\">MaxPooling2D</span>)  │ (<span style=\"color: #00d7ff; text-decoration-color: #00d7ff\">None</span>, <span style=\"color: #00af00; text-decoration-color: #00af00\">8</span>, <span style=\"color: #00af00; text-decoration-color: #00af00\">8</span>, <span style=\"color: #00af00; text-decoration-color: #00af00\">32</span>)       │             <span style=\"color: #00af00; text-decoration-color: #00af00\">0</span> │\n",
       "├─────────────────────────────────┼────────────────────────┼───────────────┤\n",
       "│ conv2d_7 (<span style=\"color: #0087ff; text-decoration-color: #0087ff\">Conv2D</span>)               │ (<span style=\"color: #00d7ff; text-decoration-color: #00d7ff\">None</span>, <span style=\"color: #00af00; text-decoration-color: #00af00\">8</span>, <span style=\"color: #00af00; text-decoration-color: #00af00\">8</span>, <span style=\"color: #00af00; text-decoration-color: #00af00\">16</span>)       │         <span style=\"color: #00af00; text-decoration-color: #00af00\">8,208</span> │\n",
       "├─────────────────────────────────┼────────────────────────┼───────────────┤\n",
       "│ max_pooling2d_7 (<span style=\"color: #0087ff; text-decoration-color: #0087ff\">MaxPooling2D</span>)  │ (<span style=\"color: #00d7ff; text-decoration-color: #00d7ff\">None</span>, <span style=\"color: #00af00; text-decoration-color: #00af00\">4</span>, <span style=\"color: #00af00; text-decoration-color: #00af00\">4</span>, <span style=\"color: #00af00; text-decoration-color: #00af00\">16</span>)       │             <span style=\"color: #00af00; text-decoration-color: #00af00\">0</span> │\n",
       "├─────────────────────────────────┼────────────────────────┼───────────────┤\n",
       "│ flatten_1 (<span style=\"color: #0087ff; text-decoration-color: #0087ff\">Flatten</span>)             │ (<span style=\"color: #00d7ff; text-decoration-color: #00d7ff\">None</span>, <span style=\"color: #00af00; text-decoration-color: #00af00\">256</span>)            │             <span style=\"color: #00af00; text-decoration-color: #00af00\">0</span> │\n",
       "├─────────────────────────────────┼────────────────────────┼───────────────┤\n",
       "│ dense_2 (<span style=\"color: #0087ff; text-decoration-color: #0087ff\">Dense</span>)                 │ (<span style=\"color: #00d7ff; text-decoration-color: #00d7ff\">None</span>, <span style=\"color: #00af00; text-decoration-color: #00af00\">128</span>)            │        <span style=\"color: #00af00; text-decoration-color: #00af00\">32,896</span> │\n",
       "├─────────────────────────────────┼────────────────────────┼───────────────┤\n",
       "│ dropout_1 (<span style=\"color: #0087ff; text-decoration-color: #0087ff\">Dropout</span>)             │ (<span style=\"color: #00d7ff; text-decoration-color: #00d7ff\">None</span>, <span style=\"color: #00af00; text-decoration-color: #00af00\">128</span>)            │             <span style=\"color: #00af00; text-decoration-color: #00af00\">0</span> │\n",
       "├─────────────────────────────────┼────────────────────────┼───────────────┤\n",
       "│ dense_3 (<span style=\"color: #0087ff; text-decoration-color: #0087ff\">Dense</span>)                 │ (<span style=\"color: #00d7ff; text-decoration-color: #00d7ff\">None</span>, <span style=\"color: #00af00; text-decoration-color: #00af00\">32</span>)             │         <span style=\"color: #00af00; text-decoration-color: #00af00\">4,128</span> │\n",
       "└─────────────────────────────────┴────────────────────────┴───────────────┘\n",
       "</pre>\n"
      ],
      "text/plain": [
       "┏━━━━━━━━━━━━━━━━━━━━━━━━━━━━━━━━━┳━━━━━━━━━━━━━━━━━━━━━━━━┳━━━━━━━━━━━━━━━┓\n",
       "┃\u001b[1m \u001b[0m\u001b[1mLayer (type)                   \u001b[0m\u001b[1m \u001b[0m┃\u001b[1m \u001b[0m\u001b[1mOutput Shape          \u001b[0m\u001b[1m \u001b[0m┃\u001b[1m \u001b[0m\u001b[1m      Param #\u001b[0m\u001b[1m \u001b[0m┃\n",
       "┡━━━━━━━━━━━━━━━━━━━━━━━━━━━━━━━━━╇━━━━━━━━━━━━━━━━━━━━━━━━╇━━━━━━━━━━━━━━━┩\n",
       "│ conv2d_4 (\u001b[38;5;33mConv2D\u001b[0m)               │ (\u001b[38;5;45mNone\u001b[0m, \u001b[38;5;34m64\u001b[0m, \u001b[38;5;34m64\u001b[0m, \u001b[38;5;34m128\u001b[0m)    │         \u001b[38;5;34m2,176\u001b[0m │\n",
       "├─────────────────────────────────┼────────────────────────┼───────────────┤\n",
       "│ max_pooling2d_4 (\u001b[38;5;33mMaxPooling2D\u001b[0m)  │ (\u001b[38;5;45mNone\u001b[0m, \u001b[38;5;34m32\u001b[0m, \u001b[38;5;34m32\u001b[0m, \u001b[38;5;34m128\u001b[0m)    │             \u001b[38;5;34m0\u001b[0m │\n",
       "├─────────────────────────────────┼────────────────────────┼───────────────┤\n",
       "│ conv2d_5 (\u001b[38;5;33mConv2D\u001b[0m)               │ (\u001b[38;5;45mNone\u001b[0m, \u001b[38;5;34m32\u001b[0m, \u001b[38;5;34m32\u001b[0m, \u001b[38;5;34m64\u001b[0m)     │       \u001b[38;5;34m131,136\u001b[0m │\n",
       "├─────────────────────────────────┼────────────────────────┼───────────────┤\n",
       "│ max_pooling2d_5 (\u001b[38;5;33mMaxPooling2D\u001b[0m)  │ (\u001b[38;5;45mNone\u001b[0m, \u001b[38;5;34m16\u001b[0m, \u001b[38;5;34m16\u001b[0m, \u001b[38;5;34m64\u001b[0m)     │             \u001b[38;5;34m0\u001b[0m │\n",
       "├─────────────────────────────────┼────────────────────────┼───────────────┤\n",
       "│ conv2d_6 (\u001b[38;5;33mConv2D\u001b[0m)               │ (\u001b[38;5;45mNone\u001b[0m, \u001b[38;5;34m16\u001b[0m, \u001b[38;5;34m16\u001b[0m, \u001b[38;5;34m32\u001b[0m)     │        \u001b[38;5;34m32,800\u001b[0m │\n",
       "├─────────────────────────────────┼────────────────────────┼───────────────┤\n",
       "│ max_pooling2d_6 (\u001b[38;5;33mMaxPooling2D\u001b[0m)  │ (\u001b[38;5;45mNone\u001b[0m, \u001b[38;5;34m8\u001b[0m, \u001b[38;5;34m8\u001b[0m, \u001b[38;5;34m32\u001b[0m)       │             \u001b[38;5;34m0\u001b[0m │\n",
       "├─────────────────────────────────┼────────────────────────┼───────────────┤\n",
       "│ conv2d_7 (\u001b[38;5;33mConv2D\u001b[0m)               │ (\u001b[38;5;45mNone\u001b[0m, \u001b[38;5;34m8\u001b[0m, \u001b[38;5;34m8\u001b[0m, \u001b[38;5;34m16\u001b[0m)       │         \u001b[38;5;34m8,208\u001b[0m │\n",
       "├─────────────────────────────────┼────────────────────────┼───────────────┤\n",
       "│ max_pooling2d_7 (\u001b[38;5;33mMaxPooling2D\u001b[0m)  │ (\u001b[38;5;45mNone\u001b[0m, \u001b[38;5;34m4\u001b[0m, \u001b[38;5;34m4\u001b[0m, \u001b[38;5;34m16\u001b[0m)       │             \u001b[38;5;34m0\u001b[0m │\n",
       "├─────────────────────────────────┼────────────────────────┼───────────────┤\n",
       "│ flatten_1 (\u001b[38;5;33mFlatten\u001b[0m)             │ (\u001b[38;5;45mNone\u001b[0m, \u001b[38;5;34m256\u001b[0m)            │             \u001b[38;5;34m0\u001b[0m │\n",
       "├─────────────────────────────────┼────────────────────────┼───────────────┤\n",
       "│ dense_2 (\u001b[38;5;33mDense\u001b[0m)                 │ (\u001b[38;5;45mNone\u001b[0m, \u001b[38;5;34m128\u001b[0m)            │        \u001b[38;5;34m32,896\u001b[0m │\n",
       "├─────────────────────────────────┼────────────────────────┼───────────────┤\n",
       "│ dropout_1 (\u001b[38;5;33mDropout\u001b[0m)             │ (\u001b[38;5;45mNone\u001b[0m, \u001b[38;5;34m128\u001b[0m)            │             \u001b[38;5;34m0\u001b[0m │\n",
       "├─────────────────────────────────┼────────────────────────┼───────────────┤\n",
       "│ dense_3 (\u001b[38;5;33mDense\u001b[0m)                 │ (\u001b[38;5;45mNone\u001b[0m, \u001b[38;5;34m32\u001b[0m)             │         \u001b[38;5;34m4,128\u001b[0m │\n",
       "└─────────────────────────────────┴────────────────────────┴───────────────┘\n"
      ]
     },
     "metadata": {},
     "output_type": "display_data"
    },
    {
     "data": {
      "text/html": [
       "<pre style=\"white-space:pre;overflow-x:auto;line-height:normal;font-family:Menlo,'DejaVu Sans Mono',consolas,'Courier New',monospace\"><span style=\"font-weight: bold\"> Total params: </span><span style=\"color: #00af00; text-decoration-color: #00af00\">211,344</span> (825.56 KB)\n",
       "</pre>\n"
      ],
      "text/plain": [
       "\u001b[1m Total params: \u001b[0m\u001b[38;5;34m211,344\u001b[0m (825.56 KB)\n"
      ]
     },
     "metadata": {},
     "output_type": "display_data"
    },
    {
     "data": {
      "text/html": [
       "<pre style=\"white-space:pre;overflow-x:auto;line-height:normal;font-family:Menlo,'DejaVu Sans Mono',consolas,'Courier New',monospace\"><span style=\"font-weight: bold\"> Trainable params: </span><span style=\"color: #00af00; text-decoration-color: #00af00\">211,344</span> (825.56 KB)\n",
       "</pre>\n"
      ],
      "text/plain": [
       "\u001b[1m Trainable params: \u001b[0m\u001b[38;5;34m211,344\u001b[0m (825.56 KB)\n"
      ]
     },
     "metadata": {},
     "output_type": "display_data"
    },
    {
     "data": {
      "text/html": [
       "<pre style=\"white-space:pre;overflow-x:auto;line-height:normal;font-family:Menlo,'DejaVu Sans Mono',consolas,'Courier New',monospace\"><span style=\"font-weight: bold\"> Non-trainable params: </span><span style=\"color: #00af00; text-decoration-color: #00af00\">0</span> (0.00 B)\n",
       "</pre>\n"
      ],
      "text/plain": [
       "\u001b[1m Non-trainable params: \u001b[0m\u001b[38;5;34m0\u001b[0m (0.00 B)\n"
      ]
     },
     "metadata": {},
     "output_type": "display_data"
    }
   ],
   "source": [
    "# Define the model\n",
    "model = Sequential()\n",
    "\n",
    "# Add InputLayer with input shape\n",
    "model.add(InputLayer(shape=X.shape[1:]))\n",
    "\n",
    "# 1st Convolutional Layer\n",
    "model.add(Conv2D(128, (4, 4), padding='same', activation='relu'))\n",
    "\n",
    "# Max Pooling Layer\n",
    "model.add(MaxPool2D(pool_size=(2, 2)))\n",
    "\n",
    "# 2nd Convolutional Layer\n",
    "model.add(Conv2D(64, (4, 4), padding='same', activation='relu'))\n",
    "\n",
    "# Max Pooling Layer\n",
    "model.add(MaxPool2D(pool_size=(2, 2)))\n",
    "\n",
    "# 3rd Convolutional Layer\n",
    "model.add(Conv2D(32, (4, 4), padding='same', activation='relu'))\n",
    "\n",
    "# Max Pooling Layer\n",
    "model.add(MaxPool2D(pool_size=(2, 2)))\n",
    "\n",
    "# 4th Convolutional Layer\n",
    "model.add(Conv2D(16, (4, 4), padding='same', activation='relu'))\n",
    "\n",
    "# Max Pooling Layer\n",
    "model.add(MaxPool2D(pool_size=(2, 2)))\n",
    "\n",
    "# Flatten layer\n",
    "model.add(Flatten())\n",
    "\n",
    "# Fully Connected Dense Layer\n",
    "model.add(Dense(128, activation='relu'))\n",
    "\n",
    "# Dropout Layer\n",
    "model.add(Dropout(0.5))\n",
    "\n",
    "# Output Layer\n",
    "model.add(Dense(32, activation='softmax'))\n",
    "\n",
    "# Compile the model\n",
    "model.compile(optimizer=\"Adam\",\n",
    "              loss='sparse_categorical_crossentropy',\n",
    "              metrics=['accuracy'])\n",
    "\n",
    "# Print the model summary\n",
    "model.summary()"
   ]
  },
  {
   "cell_type": "code",
   "execution_count": 12,
   "id": "e03f8ab4",
   "metadata": {
    "scrolled": true
   },
   "outputs": [
    {
     "name": "stdout",
     "output_type": "stream",
     "text": [
      "Epoch 1/30\n",
      "\u001b[1m87/87\u001b[0m \u001b[32m━━━━━━━━━━━━━━━━━━━━\u001b[0m\u001b[37m\u001b[0m \u001b[1m9s\u001b[0m 89ms/step - accuracy: 0.0541 - loss: 3.3954 - val_accuracy: 0.1006 - val_loss: 3.2221\n",
      "Epoch 2/30\n",
      "\u001b[1m87/87\u001b[0m \u001b[32m━━━━━━━━━━━━━━━━━━━━\u001b[0m\u001b[37m\u001b[0m \u001b[1m8s\u001b[0m 88ms/step - accuracy: 0.2313 - loss: 2.8397 - val_accuracy: 0.7825 - val_loss: 0.9374\n",
      "Epoch 3/30\n",
      "\u001b[1m87/87\u001b[0m \u001b[32m━━━━━━━━━━━━━━━━━━━━\u001b[0m\u001b[37m\u001b[0m \u001b[1m7s\u001b[0m 83ms/step - accuracy: 0.6817 - loss: 1.1530 - val_accuracy: 0.8864 - val_loss: 0.4873\n",
      "Epoch 4/30\n",
      "\u001b[1m87/87\u001b[0m \u001b[32m━━━━━━━━━━━━━━━━━━━━\u001b[0m\u001b[37m\u001b[0m \u001b[1m8s\u001b[0m 92ms/step - accuracy: 0.8145 - loss: 0.6945 - val_accuracy: 0.9318 - val_loss: 0.2821\n",
      "Epoch 5/30\n",
      "\u001b[1m87/87\u001b[0m \u001b[32m━━━━━━━━━━━━━━━━━━━━\u001b[0m\u001b[37m\u001b[0m \u001b[1m8s\u001b[0m 86ms/step - accuracy: 0.8673 - loss: 0.4591 - val_accuracy: 0.9253 - val_loss: 0.2483\n",
      "Epoch 6/30\n",
      "\u001b[1m87/87\u001b[0m \u001b[32m━━━━━━━━━━━━━━━━━━━━\u001b[0m\u001b[37m\u001b[0m \u001b[1m8s\u001b[0m 87ms/step - accuracy: 0.8847 - loss: 0.3860 - val_accuracy: 0.9513 - val_loss: 0.1961\n",
      "Epoch 7/30\n",
      "\u001b[1m87/87\u001b[0m \u001b[32m━━━━━━━━━━━━━━━━━━━━\u001b[0m\u001b[37m\u001b[0m \u001b[1m8s\u001b[0m 96ms/step - accuracy: 0.9187 - loss: 0.2697 - val_accuracy: 0.9545 - val_loss: 0.1733\n",
      "Epoch 8/30\n",
      "\u001b[1m87/87\u001b[0m \u001b[32m━━━━━━━━━━━━━━━━━━━━\u001b[0m\u001b[37m\u001b[0m \u001b[1m8s\u001b[0m 92ms/step - accuracy: 0.9393 - loss: 0.2125 - val_accuracy: 0.9578 - val_loss: 0.1663\n",
      "Epoch 9/30\n",
      "\u001b[1m87/87\u001b[0m \u001b[32m━━━━━━━━━━━━━━━━━━━━\u001b[0m\u001b[37m\u001b[0m \u001b[1m8s\u001b[0m 89ms/step - accuracy: 0.9432 - loss: 0.1900 - val_accuracy: 0.9610 - val_loss: 0.1454\n",
      "Epoch 10/30\n",
      "\u001b[1m87/87\u001b[0m \u001b[32m━━━━━━━━━━━━━━━━━━━━\u001b[0m\u001b[37m\u001b[0m \u001b[1m8s\u001b[0m 94ms/step - accuracy: 0.9523 - loss: 0.1580 - val_accuracy: 0.9643 - val_loss: 0.1617\n",
      "Epoch 11/30\n",
      "\u001b[1m87/87\u001b[0m \u001b[32m━━━━━━━━━━━━━━━━━━━━\u001b[0m\u001b[37m\u001b[0m \u001b[1m8s\u001b[0m 95ms/step - accuracy: 0.9559 - loss: 0.1431 - val_accuracy: 0.9610 - val_loss: 0.1885\n",
      "Epoch 12/30\n",
      "\u001b[1m87/87\u001b[0m \u001b[32m━━━━━━━━━━━━━━━━━━━━\u001b[0m\u001b[37m\u001b[0m \u001b[1m8s\u001b[0m 94ms/step - accuracy: 0.9548 - loss: 0.1432 - val_accuracy: 0.9643 - val_loss: 0.1614\n",
      "Epoch 13/30\n",
      "\u001b[1m87/87\u001b[0m \u001b[32m━━━━━━━━━━━━━━━━━━━━\u001b[0m\u001b[37m\u001b[0m \u001b[1m8s\u001b[0m 91ms/step - accuracy: 0.9627 - loss: 0.1151 - val_accuracy: 0.9578 - val_loss: 0.1934\n",
      "Epoch 14/30\n",
      "\u001b[1m87/87\u001b[0m \u001b[32m━━━━━━━━━━━━━━━━━━━━\u001b[0m\u001b[37m\u001b[0m \u001b[1m8s\u001b[0m 91ms/step - accuracy: 0.9644 - loss: 0.0987 - val_accuracy: 0.9675 - val_loss: 0.1538\n",
      "Epoch 15/30\n",
      "\u001b[1m87/87\u001b[0m \u001b[32m━━━━━━━━━━━━━━━━━━━━\u001b[0m\u001b[37m\u001b[0m \u001b[1m8s\u001b[0m 89ms/step - accuracy: 0.9687 - loss: 0.0932 - val_accuracy: 0.9740 - val_loss: 0.1587\n",
      "Epoch 16/30\n",
      "\u001b[1m87/87\u001b[0m \u001b[32m━━━━━━━━━━━━━━━━━━━━\u001b[0m\u001b[37m\u001b[0m \u001b[1m8s\u001b[0m 90ms/step - accuracy: 0.9654 - loss: 0.0882 - val_accuracy: 0.9643 - val_loss: 0.1494\n",
      "Epoch 17/30\n",
      "\u001b[1m87/87\u001b[0m \u001b[32m━━━━━━━━━━━━━━━━━━━━\u001b[0m\u001b[37m\u001b[0m \u001b[1m7s\u001b[0m 85ms/step - accuracy: 0.9758 - loss: 0.0760 - val_accuracy: 0.9708 - val_loss: 0.1564\n",
      "Epoch 18/30\n",
      "\u001b[1m87/87\u001b[0m \u001b[32m━━━━━━━━━━━━━━━━━━━━\u001b[0m\u001b[37m\u001b[0m \u001b[1m8s\u001b[0m 88ms/step - accuracy: 0.9778 - loss: 0.0772 - val_accuracy: 0.9708 - val_loss: 0.1362\n",
      "Epoch 19/30\n",
      "\u001b[1m87/87\u001b[0m \u001b[32m━━━━━━━━━━━━━━━━━━━━\u001b[0m\u001b[37m\u001b[0m \u001b[1m8s\u001b[0m 90ms/step - accuracy: 0.9828 - loss: 0.0546 - val_accuracy: 0.9708 - val_loss: 0.1520\n",
      "Epoch 20/30\n",
      "\u001b[1m87/87\u001b[0m \u001b[32m━━━━━━━━━━━━━━━━━━━━\u001b[0m\u001b[37m\u001b[0m \u001b[1m8s\u001b[0m 90ms/step - accuracy: 0.9756 - loss: 0.0726 - val_accuracy: 0.9708 - val_loss: 0.1535\n",
      "Epoch 21/30\n",
      "\u001b[1m87/87\u001b[0m \u001b[32m━━━━━━━━━━━━━━━━━━━━\u001b[0m\u001b[37m\u001b[0m \u001b[1m8s\u001b[0m 90ms/step - accuracy: 0.9766 - loss: 0.0898 - val_accuracy: 0.9675 - val_loss: 0.1741\n",
      "Epoch 22/30\n",
      "\u001b[1m87/87\u001b[0m \u001b[32m━━━━━━━━━━━━━━━━━━━━\u001b[0m\u001b[37m\u001b[0m \u001b[1m8s\u001b[0m 93ms/step - accuracy: 0.9770 - loss: 0.0687 - val_accuracy: 0.9675 - val_loss: 0.1763\n",
      "Epoch 23/30\n",
      "\u001b[1m87/87\u001b[0m \u001b[32m━━━━━━━━━━━━━━━━━━━━\u001b[0m\u001b[37m\u001b[0m \u001b[1m8s\u001b[0m 88ms/step - accuracy: 0.9871 - loss: 0.0436 - val_accuracy: 0.9675 - val_loss: 0.1738\n",
      "Epoch 24/30\n",
      "\u001b[1m87/87\u001b[0m \u001b[32m━━━━━━━━━━━━━━━━━━━━\u001b[0m\u001b[37m\u001b[0m \u001b[1m8s\u001b[0m 87ms/step - accuracy: 0.9804 - loss: 0.0526 - val_accuracy: 0.9708 - val_loss: 0.1863\n",
      "Epoch 25/30\n",
      "\u001b[1m87/87\u001b[0m \u001b[32m━━━━━━━━━━━━━━━━━━━━\u001b[0m\u001b[37m\u001b[0m \u001b[1m8s\u001b[0m 87ms/step - accuracy: 0.9886 - loss: 0.0333 - val_accuracy: 0.9675 - val_loss: 0.2094\n",
      "Epoch 26/30\n",
      "\u001b[1m87/87\u001b[0m \u001b[32m━━━━━━━━━━━━━━━━━━━━\u001b[0m\u001b[37m\u001b[0m \u001b[1m8s\u001b[0m 91ms/step - accuracy: 0.9697 - loss: 0.1084 - val_accuracy: 0.9675 - val_loss: 0.2002\n",
      "Epoch 27/30\n",
      "\u001b[1m87/87\u001b[0m \u001b[32m━━━━━━━━━━━━━━━━━━━━\u001b[0m\u001b[37m\u001b[0m \u001b[1m8s\u001b[0m 88ms/step - accuracy: 0.9785 - loss: 0.0626 - val_accuracy: 0.9675 - val_loss: 0.1538\n",
      "Epoch 28/30\n",
      "\u001b[1m87/87\u001b[0m \u001b[32m━━━━━━━━━━━━━━━━━━━━\u001b[0m\u001b[37m\u001b[0m \u001b[1m8s\u001b[0m 90ms/step - accuracy: 0.9917 - loss: 0.0346 - val_accuracy: 0.9708 - val_loss: 0.1901\n",
      "Epoch 29/30\n",
      "\u001b[1m87/87\u001b[0m \u001b[32m━━━━━━━━━━━━━━━━━━━━\u001b[0m\u001b[37m\u001b[0m \u001b[1m8s\u001b[0m 88ms/step - accuracy: 0.9836 - loss: 0.0466 - val_accuracy: 0.9675 - val_loss: 0.1686\n",
      "Epoch 30/30\n",
      "\u001b[1m87/87\u001b[0m \u001b[32m━━━━━━━━━━━━━━━━━━━━\u001b[0m\u001b[37m\u001b[0m \u001b[1m8s\u001b[0m 88ms/step - accuracy: 0.9908 - loss: 0.0293 - val_accuracy: 0.9740 - val_loss: 0.1972\n"
     ]
    }
   ],
   "source": [
    "# Train the model\n",
    "history = model.fit(X, y, epochs=30, validation_split=0.10, batch_size=32) "
   ]
  },
  {
   "cell_type": "code",
   "execution_count": 13,
   "id": "db398f42",
   "metadata": {
    "scrolled": true
   },
   "outputs": [
    {
     "data": {
      "image/png": "[encoded data removed]",
      "text/plain": [
       "<Figure size 640x480 with 1 Axes>"
      ]
     },
     "metadata": {},
     "output_type": "display_data"
    },
    {
     "data": {
      "image/png": "[encoded data removed]",
      "text/plain": [
       "<Figure size 640x480 with 1 Axes>"
      ]
     },
     "metadata": {},
     "output_type": "display_data"
    }
   ],
   "source": [
    "# Plot training & validation loss values\n",
    "plt.plot(history.history['loss'])\n",
    "plt.plot(history.history['val_loss'])\n",
    "plt.title('Model Loss')\n",
    "plt.ylabel('Loss')\n",
    "plt.xlabel('Epoch')\n",
    "plt.legend(['Train', 'Validation'], loc='upper left')\n",
    "plt.show()\n",
    "\n",
    "# Plot training & validation accuracy values\n",
    "plt.plot(history.history['accuracy'])\n",
    "plt.plot(history.history['val_accuracy'])\n",
    "plt.title('Model Accuracy')\n",
    "plt.ylabel('Accuracy')\n",
    "plt.xlabel('Epoch')\n",
    "plt.legend(['Train', 'Validation'], loc='upper left')\n",
    "plt.show()"
   ]
  },
  {
   "cell_type": "code",
   "execution_count": 14,
   "id": "5650a8c4",
   "metadata": {},
   "outputs": [],
   "source": [
    "pickle_in = open('X_test.pickle',\"rb\")\n",
    "X_test = pickle.load(pickle_in)\n",
    "pickle_in.close()\n",
    "\n",
    "pickle_in = open('y_test.pickle',\"rb\")\n",
    "y_test = pickle.load(pickle_in)\n",
    "pickle_in.close()"
   ]
  },
  {
   "cell_type": "code",
   "execution_count": 15,
   "id": "0b0ec082",
   "metadata": {},
   "outputs": [
    {
     "name": "stdout",
     "output_type": "stream",
     "text": [
      "\u001b[1m11/11\u001b[0m \u001b[32m━━━━━━━━━━━━━━━━━━━━\u001b[0m\u001b[37m\u001b[0m \u001b[1m0s\u001b[0m 33ms/step - accuracy: 0.7107 - loss: 338.1926\n",
      "Test Loss: 343.5689392089844\n",
      "Test Accuracy: 0.6988636255264282\n"
     ]
    }
   ],
   "source": [
    "# Evaluate the model on the test dataset\n",
    "loss, accuracy = model.evaluate(X_test, y_test)\n",
    "\n",
    "# Print the test loss and accuracy\n",
    "print(\"Test Loss:\", loss)\n",
    "print(\"Test Accuracy:\", accuracy)"
   ]
  },
  {
   "cell_type": "markdown",
   "id": "e1f2e5b9",
   "metadata": {},
   "source": [
    "### Colored, normalised Image data."
   ]
  },
  {
   "cell_type": "code",
   "execution_count": 16,
   "id": "999f994b",
   "metadata": {},
   "outputs": [],
   "source": [
    "pickle_in = open('X_color.pickle',\"rb\")\n",
    "X_color = pickle.load(pickle_in)\n",
    "pickle_in.close()\n",
    "\n",
    "pickle_in = open('y_color.pickle',\"rb\")\n",
    "y_color = pickle.load(pickle_in)\n",
    "pickle_in.close()"
   ]
  },
  {
   "cell_type": "code",
   "execution_count": 17,
   "id": "4c4c9728",
   "metadata": {},
   "outputs": [],
   "source": [
    "pickle_in = open('X_test_color.pickle',\"rb\")\n",
    "X_test_color = pickle.load(pickle_in)\n",
    "pickle_in.close()\n",
    "\n",
    "pickle_in = open('y_test_color.pickle',\"rb\")\n",
    "y_test_color = pickle.load(pickle_in)\n",
    "pickle_in.close()"
   ]
  },
  {
   "cell_type": "code",
   "execution_count": 18,
   "id": "47f232c0",
   "metadata": {},
   "outputs": [
    {
     "data": {
      "text/plain": [
       "(64, 64, 3)"
      ]
     },
     "execution_count": 18,
     "metadata": {},
     "output_type": "execute_result"
    }
   ],
   "source": [
    "X_color.shape[1:]"
   ]
  },
  {
   "cell_type": "code",
   "execution_count": 19,
   "id": "2686e1b6",
   "metadata": {},
   "outputs": [
    {
     "data": {
      "text/plain": [
       "array([[[[0.17254902, 0.19215686, 0.21568627],\n",
       "         [0.16862745, 0.18039216, 0.20784314],\n",
       "         [0.17647059, 0.18823529, 0.21176471],\n",
       "         ...,\n",
       "         [0.1372549 , 0.16470588, 0.18823529],\n",
       "         [0.15294118, 0.18039216, 0.20392157],\n",
       "         [0.18039216, 0.21176471, 0.23529412]],\n",
       "\n",
       "        [[0.17254902, 0.18823529, 0.21568627],\n",
       "         [0.16078431, 0.17254902, 0.2       ],\n",
       "         [0.15686275, 0.16862745, 0.2       ],\n",
       "         ...,\n",
       "         [0.20392157, 0.23921569, 0.25490196],\n",
       "         [0.20392157, 0.23921569, 0.25490196],\n",
       "         [0.21176471, 0.24313725, 0.25882353]],\n",
       "\n",
       "        [[0.13333333, 0.14509804, 0.17254902],\n",
       "         [0.09803922, 0.10980392, 0.1372549 ],\n",
       "         [0.10196078, 0.11372549, 0.14117647],\n",
       "         ...,\n",
       "         [0.18823529, 0.22745098, 0.23529412],\n",
       "         [0.19607843, 0.23529412, 0.24313725],\n",
       "         [0.20392157, 0.24313725, 0.25098039]],\n",
       "\n",
       "        ...,\n",
       "\n",
       "        [[0.23529412, 0.26666667, 0.27843137],\n",
       "         [0.19215686, 0.23529412, 0.23921569],\n",
       "         [0.27058824, 0.31764706, 0.31764706],\n",
       "         ...,\n",
       "         [0.19215686, 0.23921569, 0.22352941],\n",
       "         [0.21176471, 0.25490196, 0.23529412],\n",
       "         [0.18039216, 0.23137255, 0.20392157]],\n",
       "\n",
       "        [[0.23529412, 0.27058824, 0.2745098 ],\n",
       "         [0.17647059, 0.22352941, 0.21960784],\n",
       "         [0.18823529, 0.23529412, 0.23529412],\n",
       "         ...,\n",
       "         [0.19215686, 0.23529412, 0.21568627],\n",
       "         [0.22352941, 0.26666667, 0.24705882],\n",
       "         [0.22352941, 0.27058824, 0.24313725]],\n",
       "\n",
       "        [[0.23921569, 0.2745098 , 0.27058824],\n",
       "         [0.19215686, 0.23529412, 0.22745098],\n",
       "         [0.16862745, 0.21568627, 0.21568627],\n",
       "         ...,\n",
       "         [0.21176471, 0.25882353, 0.23529412],\n",
       "         [0.21176471, 0.25882353, 0.23529412],\n",
       "         [0.20784314, 0.25882353, 0.23137255]]],\n",
       "\n",
       "\n",
       "       [[[0.24705882, 0.25098039, 0.23137255],\n",
       "         [0.75686275, 0.76470588, 0.75294118],\n",
       "         [0.72156863, 0.74117647, 0.7254902 ],\n",
       "         ...,\n",
       "         [0.1372549 , 0.20784314, 0.11372549],\n",
       "         [0.18431373, 0.23921569, 0.14117647],\n",
       "         [0.23529412, 0.28235294, 0.18823529]],\n",
       "\n",
       "        [[0.29019608, 0.30980392, 0.28235294],\n",
       "         [0.23921569, 0.25882353, 0.23529412],\n",
       "         [0.31764706, 0.3372549 , 0.31372549],\n",
       "         ...,\n",
       "         [0.18431373, 0.24313725, 0.15294118],\n",
       "         [0.2745098 , 0.3254902 , 0.22745098],\n",
       "         [0.25098039, 0.29803922, 0.20392157]],\n",
       "\n",
       "        [[0.28235294, 0.31372549, 0.26666667],\n",
       "         [0.21568627, 0.23529412, 0.20784314],\n",
       "         [0.19607843, 0.21568627, 0.18823529],\n",
       "         ...,\n",
       "         [0.18039216, 0.24313725, 0.14117647],\n",
       "         [0.20784314, 0.2627451 , 0.16470588],\n",
       "         [0.20784314, 0.2627451 , 0.16470588]],\n",
       "\n",
       "        ...,\n",
       "\n",
       "        [[0.08627451, 0.1254902 , 0.09411765],\n",
       "         [0.09019608, 0.12941176, 0.09803922],\n",
       "         [0.09019608, 0.12941176, 0.09803922],\n",
       "         ...,\n",
       "         [0.10588235, 0.15294118, 0.10588235],\n",
       "         [0.12156863, 0.16862745, 0.12156863],\n",
       "         [0.1254902 , 0.17254902, 0.1254902 ]],\n",
       "\n",
       "        [[0.08627451, 0.1254902 , 0.09411765],\n",
       "         [0.09019608, 0.12941176, 0.09803922],\n",
       "         [0.09019608, 0.12941176, 0.09803922],\n",
       "         ...,\n",
       "         [0.10196078, 0.14901961, 0.10196078],\n",
       "         [0.11764706, 0.16470588, 0.11764706],\n",
       "         [0.12156863, 0.16862745, 0.12156863]],\n",
       "\n",
       "        [[0.08235294, 0.10588235, 0.09019608],\n",
       "         [0.08627451, 0.10980392, 0.09411765],\n",
       "         [0.08627451, 0.10980392, 0.09411765],\n",
       "         ...,\n",
       "         [0.09803922, 0.14509804, 0.09803922],\n",
       "         [0.10588235, 0.15294118, 0.10588235],\n",
       "         [0.10980392, 0.15686275, 0.10980392]]],\n",
       "\n",
       "\n",
       "       [[[0.94901961, 0.94901961, 0.94901961],\n",
       "         [0.94901961, 0.94901961, 0.94901961],\n",
       "         [0.94509804, 0.94509804, 0.94509804],\n",
       "         ...,\n",
       "         [0.89411765, 0.90980392, 0.92156863],\n",
       "         [0.89411765, 0.90980392, 0.92156863],\n",
       "         [0.89411765, 0.90980392, 0.92156863]],\n",
       "\n",
       "        [[0.94901961, 0.94901961, 0.94901961],\n",
       "         [0.94509804, 0.94509804, 0.94509804],\n",
       "         [0.94509804, 0.94509804, 0.94509804],\n",
       "         ...,\n",
       "         [0.89019608, 0.90588235, 0.91764706],\n",
       "         [0.89019608, 0.90588235, 0.91764706],\n",
       "         [0.89411765, 0.90980392, 0.92156863]],\n",
       "\n",
       "        [[0.94509804, 0.94509804, 0.94509804],\n",
       "         [0.94509804, 0.94509804, 0.94509804],\n",
       "         [0.94117647, 0.94117647, 0.94117647],\n",
       "         ...,\n",
       "         [0.89019608, 0.90588235, 0.91764706],\n",
       "         [0.89019608, 0.90588235, 0.91764706],\n",
       "         [0.89019608, 0.90588235, 0.91764706]],\n",
       "\n",
       "        ...,\n",
       "\n",
       "        [[0.65882353, 0.67843137, 0.6627451 ],\n",
       "         [0.64705882, 0.67058824, 0.65098039],\n",
       "         [0.65098039, 0.67058824, 0.65490196],\n",
       "         ...,\n",
       "         [0.72156863, 0.7372549 , 0.74117647],\n",
       "         [0.75294118, 0.76862745, 0.78039216],\n",
       "         [0.74901961, 0.76470588, 0.77647059]],\n",
       "\n",
       "        [[0.26666667, 0.36078431, 0.45098039],\n",
       "         [0.31764706, 0.41960784, 0.51372549],\n",
       "         [0.36862745, 0.46666667, 0.57254902],\n",
       "         ...,\n",
       "         [0.74117647, 0.75686275, 0.76470588],\n",
       "         [0.7372549 , 0.75294118, 0.76470588],\n",
       "         [0.74901961, 0.76470588, 0.77647059]],\n",
       "\n",
       "        [[0.09019608, 0.27843137, 0.5372549 ],\n",
       "         [0.07058824, 0.25490196, 0.52156863],\n",
       "         [0.08235294, 0.26666667, 0.54117647],\n",
       "         ...,\n",
       "         [0.7372549 , 0.75294118, 0.75686275],\n",
       "         [0.75294118, 0.76862745, 0.78039216],\n",
       "         [0.74509804, 0.76078431, 0.77254902]]],\n",
       "\n",
       "\n",
       "       ...,\n",
       "\n",
       "\n",
       "       [[[0.3372549 , 0.36078431, 0.35294118],\n",
       "         [0.32941176, 0.35294118, 0.34509804],\n",
       "         [0.31372549, 0.3372549 , 0.32941176],\n",
       "         ...,\n",
       "         [0.3254902 , 0.34117647, 0.3372549 ],\n",
       "         [0.3254902 , 0.34117647, 0.3372549 ],\n",
       "         [0.3254902 , 0.34117647, 0.3372549 ]],\n",
       "\n",
       "        [[0.3372549 , 0.36078431, 0.35294118],\n",
       "         [0.32941176, 0.35294118, 0.34509804],\n",
       "         [0.30588235, 0.32941176, 0.32156863],\n",
       "         ...,\n",
       "         [0.3254902 , 0.34117647, 0.3372549 ],\n",
       "         [0.3254902 , 0.34117647, 0.3372549 ],\n",
       "         [0.3254902 , 0.34117647, 0.3372549 ]],\n",
       "\n",
       "        [[0.32941176, 0.35294118, 0.34509804],\n",
       "         [0.3254902 , 0.34901961, 0.34117647],\n",
       "         [0.30196078, 0.3254902 , 0.31764706],\n",
       "         ...,\n",
       "         [0.3254902 , 0.34117647, 0.3372549 ],\n",
       "         [0.3254902 , 0.34117647, 0.3372549 ],\n",
       "         [0.3254902 , 0.34117647, 0.3372549 ]],\n",
       "\n",
       "        ...,\n",
       "\n",
       "        [[0.37254902, 0.41176471, 0.41568627],\n",
       "         [0.38431373, 0.41568627, 0.42352941],\n",
       "         [0.39607843, 0.41568627, 0.42745098],\n",
       "         ...,\n",
       "         [0.40392157, 0.41960784, 0.43137255],\n",
       "         [0.40392157, 0.42352941, 0.43921569],\n",
       "         [0.40392157, 0.42352941, 0.43921569]],\n",
       "\n",
       "        [[0.37647059, 0.41568627, 0.41960784],\n",
       "         [0.38823529, 0.41568627, 0.42745098],\n",
       "         [0.4       , 0.41960784, 0.43137255],\n",
       "         ...,\n",
       "         [0.39607843, 0.41176471, 0.42352941],\n",
       "         [0.39607843, 0.41568627, 0.43137255],\n",
       "         [0.4       , 0.41960784, 0.43529412]],\n",
       "\n",
       "        [[0.37254902, 0.41176471, 0.41568627],\n",
       "         [0.38823529, 0.41960784, 0.42745098],\n",
       "         [0.4       , 0.41960784, 0.43137255],\n",
       "         ...,\n",
       "         [0.39607843, 0.41176471, 0.42352941],\n",
       "         [0.39607843, 0.41568627, 0.43137255],\n",
       "         [0.39607843, 0.41568627, 0.43137255]]],\n",
       "\n",
       "\n",
       "       [[[0.1372549 , 0.15686275, 0.12941176],\n",
       "         [0.14117647, 0.16078431, 0.13333333],\n",
       "         [0.14117647, 0.16078431, 0.13333333],\n",
       "         ...,\n",
       "         [0.23137255, 0.25490196, 0.24705882],\n",
       "         [0.22745098, 0.25098039, 0.24313725],\n",
       "         [0.22745098, 0.25098039, 0.24313725]],\n",
       "\n",
       "        [[0.1372549 , 0.15686275, 0.12941176],\n",
       "         [0.1372549 , 0.15686275, 0.12941176],\n",
       "         [0.1372549 , 0.15686275, 0.12941176],\n",
       "         ...,\n",
       "         [0.22352941, 0.24705882, 0.23921569],\n",
       "         [0.23137255, 0.25490196, 0.24705882],\n",
       "         [0.23921569, 0.2627451 , 0.25490196]],\n",
       "\n",
       "        [[0.1372549 , 0.15686275, 0.12941176],\n",
       "         [0.1372549 , 0.15686275, 0.12941176],\n",
       "         [0.1372549 , 0.15686275, 0.1254902 ],\n",
       "         ...,\n",
       "         [0.22352941, 0.24705882, 0.23921569],\n",
       "         [0.22745098, 0.25098039, 0.24313725],\n",
       "         [0.22745098, 0.25098039, 0.24313725]],\n",
       "\n",
       "        ...,\n",
       "\n",
       "        [[0.2       , 0.22352941, 0.17647059],\n",
       "         [0.14509804, 0.17647059, 0.09411765],\n",
       "         [0.1372549 , 0.16470588, 0.09411765],\n",
       "         ...,\n",
       "         [0.23529412, 0.25490196, 0.26666667],\n",
       "         [0.23529412, 0.25490196, 0.26666667],\n",
       "         [0.22745098, 0.25882353, 0.26666667]],\n",
       "\n",
       "        [[0.19607843, 0.21960784, 0.15294118],\n",
       "         [0.17647059, 0.20392157, 0.13333333],\n",
       "         [0.16470588, 0.19215686, 0.13333333],\n",
       "         ...,\n",
       "         [0.23529412, 0.25490196, 0.26666667],\n",
       "         [0.23529412, 0.25490196, 0.26666667],\n",
       "         [0.23137255, 0.25882353, 0.26666667]],\n",
       "\n",
       "        [[0.19607843, 0.22352941, 0.15294118],\n",
       "         [0.17254902, 0.2       , 0.12941176],\n",
       "         [0.16470588, 0.18823529, 0.12941176],\n",
       "         ...,\n",
       "         [0.23529412, 0.25490196, 0.26666667],\n",
       "         [0.23529412, 0.25490196, 0.26666667],\n",
       "         [0.23529412, 0.25882353, 0.26666667]]],\n",
       "\n",
       "\n",
       "       [[[0.81568627, 0.4745098 , 0.11372549],\n",
       "         [0.68235294, 0.37647059, 0.08627451],\n",
       "         [0.48235294, 0.21568627, 0.00392157],\n",
       "         ...,\n",
       "         [0.4745098 , 0.33333333, 0.14509804],\n",
       "         [0.4745098 , 0.33333333, 0.14509804],\n",
       "         [0.48235294, 0.3372549 , 0.15686275]],\n",
       "\n",
       "        [[0.82352941, 0.47843137, 0.10980392],\n",
       "         [0.71764706, 0.41176471, 0.09803922],\n",
       "         [0.52941176, 0.25098039, 0.00392157],\n",
       "         ...,\n",
       "         [0.47843137, 0.3372549 , 0.14117647],\n",
       "         [0.4745098 , 0.3372549 , 0.14509804],\n",
       "         [0.47058824, 0.32941176, 0.14117647]],\n",
       "\n",
       "        [[0.82352941, 0.48627451, 0.1254902 ],\n",
       "         [0.8       , 0.47843137, 0.11372549],\n",
       "         [0.69803922, 0.38431373, 0.03529412],\n",
       "         ...,\n",
       "         [0.4745098 , 0.34509804, 0.14901961],\n",
       "         [0.4745098 , 0.34509804, 0.14509804],\n",
       "         [0.47058824, 0.3372549 , 0.14509804]],\n",
       "\n",
       "        ...,\n",
       "\n",
       "        [[0.32941176, 0.30980392, 0.2627451 ],\n",
       "         [0.11372549, 0.09803922, 0.07843137],\n",
       "         [0.08627451, 0.06666667, 0.07843137],\n",
       "         ...,\n",
       "         [0.28627451, 0.24705882, 0.27058824],\n",
       "         [0.30196078, 0.27058824, 0.2627451 ],\n",
       "         [0.17647059, 0.15686275, 0.14117647]],\n",
       "\n",
       "        [[0.30196078, 0.30196078, 0.27843137],\n",
       "         [0.11764706, 0.10588235, 0.0745098 ],\n",
       "         [0.09019608, 0.06666667, 0.09411765],\n",
       "         ...,\n",
       "         [0.28627451, 0.25098039, 0.2745098 ],\n",
       "         [0.29803922, 0.26666667, 0.25882353],\n",
       "         [0.15294118, 0.1372549 , 0.10588235]],\n",
       "\n",
       "        [[0.29411765, 0.29411765, 0.2745098 ],\n",
       "         [0.08627451, 0.10980392, 0.09803922],\n",
       "         [0.07058824, 0.10588235, 0.15686275],\n",
       "         ...,\n",
       "         [0.29019608, 0.25490196, 0.2745098 ],\n",
       "         [0.29803922, 0.26666667, 0.25882353],\n",
       "         [0.17254902, 0.15294118, 0.10980392]]]])"
      ]
     },
     "execution_count": 19,
     "metadata": {},
     "output_type": "execute_result"
    }
   ],
   "source": [
    "X_color = X_color/255.0\n",
    "X_color"
   ]
  },
  {
   "cell_type": "code",
   "execution_count": 20,
   "id": "5efc0774",
   "metadata": {},
   "outputs": [
    {
     "data": {
      "text/plain": [
       "array([[[[0.62745098, 0.64705882, 0.65882353],\n",
       "         [0.62745098, 0.64705882, 0.65882353],\n",
       "         [0.62352941, 0.64313725, 0.65490196],\n",
       "         ...,\n",
       "         [0.28235294, 0.30980392, 0.34117647],\n",
       "         [0.3372549 , 0.34901961, 0.37647059],\n",
       "         [0.56078431, 0.56470588, 0.58039216]],\n",
       "\n",
       "        [[0.62745098, 0.64705882, 0.65882353],\n",
       "         [0.62745098, 0.64705882, 0.65882353],\n",
       "         [0.63137255, 0.65098039, 0.6627451 ],\n",
       "         ...,\n",
       "         [0.29019608, 0.3254902 , 0.35686275],\n",
       "         [0.32941176, 0.3372549 , 0.36078431],\n",
       "         [0.54901961, 0.55686275, 0.57254902]],\n",
       "\n",
       "        [[0.62352941, 0.64313725, 0.65490196],\n",
       "         [0.62745098, 0.64705882, 0.65882353],\n",
       "         [0.62745098, 0.64705882, 0.65882353],\n",
       "         ...,\n",
       "         [0.29019608, 0.3254902 , 0.36078431],\n",
       "         [0.30980392, 0.3254902 , 0.34117647],\n",
       "         [0.52941176, 0.54901961, 0.56470588]],\n",
       "\n",
       "        ...,\n",
       "\n",
       "        [[0.0745098 , 0.09411765, 0.09019608],\n",
       "         [0.05882353, 0.10196078, 0.09019608],\n",
       "         [0.0627451 , 0.10588235, 0.09019608],\n",
       "         ...,\n",
       "         [0.2745098 , 0.29803922, 0.29019608],\n",
       "         [0.08627451, 0.10980392, 0.10196078],\n",
       "         [0.14901961, 0.17254902, 0.16470588]],\n",
       "\n",
       "        [[0.07843137, 0.10196078, 0.09411765],\n",
       "         [0.0627451 , 0.10196078, 0.09019608],\n",
       "         [0.05882353, 0.10196078, 0.08627451],\n",
       "         ...,\n",
       "         [0.25882353, 0.28235294, 0.2745098 ],\n",
       "         [0.10196078, 0.1254902 , 0.11764706],\n",
       "         [0.14509804, 0.16862745, 0.16078431]],\n",
       "\n",
       "        [[0.07843137, 0.10196078, 0.09411765],\n",
       "         [0.06666667, 0.09803922, 0.08627451],\n",
       "         [0.06666667, 0.10980392, 0.09411765],\n",
       "         ...,\n",
       "         [0.22352941, 0.24705882, 0.23921569],\n",
       "         [0.09803922, 0.12156863, 0.11372549],\n",
       "         [0.12156863, 0.14509804, 0.1372549 ]]],\n",
       "\n",
       "\n",
       "       [[[0.15686275, 0.18823529, 0.14509804],\n",
       "         [0.15686275, 0.18823529, 0.14509804],\n",
       "         [0.15686275, 0.18823529, 0.14509804],\n",
       "         ...,\n",
       "         [0.16862745, 0.17254902, 0.14117647],\n",
       "         [0.16862745, 0.17254902, 0.14117647],\n",
       "         [0.16862745, 0.17254902, 0.14117647]],\n",
       "\n",
       "        [[0.15686275, 0.18823529, 0.14509804],\n",
       "         [0.15686275, 0.18823529, 0.14509804],\n",
       "         [0.15686275, 0.18431373, 0.14117647],\n",
       "         ...,\n",
       "         [0.16862745, 0.17254902, 0.14117647],\n",
       "         [0.16862745, 0.17254902, 0.14117647],\n",
       "         [0.16862745, 0.17254902, 0.14509804]],\n",
       "\n",
       "        [[0.15294118, 0.18431373, 0.14117647],\n",
       "         [0.15294118, 0.18431373, 0.14117647],\n",
       "         [0.15294118, 0.18431373, 0.14117647],\n",
       "         ...,\n",
       "         [0.16862745, 0.17254902, 0.14117647],\n",
       "         [0.16862745, 0.17254902, 0.14509804],\n",
       "         [0.16862745, 0.17254902, 0.14901961]],\n",
       "\n",
       "        ...,\n",
       "\n",
       "        [[0.1372549 , 0.16470588, 0.13333333],\n",
       "         [0.1372549 , 0.17254902, 0.13333333],\n",
       "         [0.14117647, 0.18039216, 0.1372549 ],\n",
       "         ...,\n",
       "         [0.1254902 , 0.17254902, 0.11764706],\n",
       "         [0.1254902 , 0.17254902, 0.11764706],\n",
       "         [0.1254902 , 0.17254902, 0.11764706]],\n",
       "\n",
       "        [[0.13333333, 0.16862745, 0.13333333],\n",
       "         [0.1372549 , 0.17254902, 0.1372549 ],\n",
       "         [0.14117647, 0.18039216, 0.1372549 ],\n",
       "         ...,\n",
       "         [0.1254902 , 0.17254902, 0.11764706],\n",
       "         [0.1254902 , 0.17254902, 0.11764706],\n",
       "         [0.12941176, 0.17254902, 0.11764706]],\n",
       "\n",
       "        [[0.13333333, 0.17254902, 0.1372549 ],\n",
       "         [0.1372549 , 0.17647059, 0.1372549 ],\n",
       "         [0.14117647, 0.18039216, 0.1372549 ],\n",
       "         ...,\n",
       "         [0.1254902 , 0.17254902, 0.11764706],\n",
       "         [0.1254902 , 0.17254902, 0.11764706],\n",
       "         [0.12941176, 0.17254902, 0.11764706]]],\n",
       "\n",
       "\n",
       "       [[[0.45098039, 0.50196078, 0.18823529],\n",
       "         [0.38431373, 0.43137255, 0.09411765],\n",
       "         [0.6627451 , 0.71372549, 0.2627451 ],\n",
       "         ...,\n",
       "         [0.41960784, 0.55294118, 0.18039216],\n",
       "         [0.42352941, 0.56470588, 0.17254902],\n",
       "         [0.39215686, 0.5254902 , 0.15294118]],\n",
       "\n",
       "        [[0.3254902 , 0.35686275, 0.1254902 ],\n",
       "         [0.29411765, 0.32941176, 0.11372549],\n",
       "         [0.23137255, 0.2745098 , 0.00392157],\n",
       "         ...,\n",
       "         [0.43921569, 0.57254902, 0.19215686],\n",
       "         [0.42352941, 0.55686275, 0.17647059],\n",
       "         [0.4       , 0.53333333, 0.16078431]],\n",
       "\n",
       "        [[0.31372549, 0.34901961, 0.17254902],\n",
       "         [0.27843137, 0.3254902 , 0.1372549 ],\n",
       "         [0.23921569, 0.29411765, 0.07058824],\n",
       "         ...,\n",
       "         [0.37254902, 0.50588235, 0.13333333],\n",
       "         [0.30196078, 0.43529412, 0.06666667],\n",
       "         [0.31372549, 0.42745098, 0.06666667]],\n",
       "\n",
       "        ...,\n",
       "\n",
       "        [[0.88627451, 0.98039216, 0.87843137],\n",
       "         [0.22352941, 0.31372549, 0.28235294],\n",
       "         [0.81960784, 0.91764706, 0.90196078],\n",
       "         ...,\n",
       "         [0.26666667, 0.31764706, 0.21176471],\n",
       "         [0.30588235, 0.34509804, 0.30588235],\n",
       "         [0.2627451 , 0.28627451, 0.23137255]],\n",
       "\n",
       "        [[0.7372549 , 0.82745098, 0.74901961],\n",
       "         [0.58823529, 0.6745098 , 0.66666667],\n",
       "         [0.71764706, 0.82745098, 0.80784314],\n",
       "         ...,\n",
       "         [0.21568627, 0.2627451 , 0.17647059],\n",
       "         [0.21960784, 0.26666667, 0.21960784],\n",
       "         [0.24313725, 0.28627451, 0.23137255]],\n",
       "\n",
       "        [[0.63137255, 0.71372549, 0.68627451],\n",
       "         [0.58039216, 0.67058824, 0.63921569],\n",
       "         [0.16078431, 0.25490196, 0.19215686],\n",
       "         ...,\n",
       "         [0.19607843, 0.24705882, 0.18039216],\n",
       "         [0.20784314, 0.25490196, 0.20784314],\n",
       "         [0.2       , 0.24705882, 0.16078431]]],\n",
       "\n",
       "\n",
       "       ...,\n",
       "\n",
       "\n",
       "       [[[0.63921569, 0.67058824, 0.62352941],\n",
       "         [0.38431373, 0.4745098 , 0.42745098],\n",
       "         [0.61176471, 0.78431373, 0.74509804],\n",
       "         ...,\n",
       "         [0.75294118, 0.60392157, 0.54901961],\n",
       "         [0.73333333, 0.54117647, 0.48627451],\n",
       "         [0.52941176, 0.3254902 , 0.2745098 ]],\n",
       "\n",
       "        [[0.72156863, 0.76470588, 0.70980392],\n",
       "         [0.54117647, 0.64705882, 0.55686275],\n",
       "         [0.72941176, 0.85098039, 0.81176471],\n",
       "         ...,\n",
       "         [0.66666667, 0.5254902 , 0.48235294],\n",
       "         [0.58431373, 0.41176471, 0.36078431],\n",
       "         [0.3372549 , 0.16862745, 0.1254902 ]],\n",
       "\n",
       "        [[0.58431373, 0.6       , 0.54901961],\n",
       "         [0.61176471, 0.67058824, 0.59607843],\n",
       "         [0.74117647, 0.80392157, 0.75686275],\n",
       "         ...,\n",
       "         [0.49411765, 0.36078431, 0.32941176],\n",
       "         [0.43137255, 0.29411765, 0.25098039],\n",
       "         [0.3254902 , 0.19607843, 0.15686275]],\n",
       "\n",
       "        ...,\n",
       "\n",
       "        [[0.27843137, 0.25882353, 0.22352941],\n",
       "         [0.27843137, 0.27058824, 0.22352941],\n",
       "         [0.31764706, 0.32156863, 0.27058824],\n",
       "         ...,\n",
       "         [0.99607843, 0.97254902, 0.90980392],\n",
       "         [0.99215686, 0.96078431, 0.90588235],\n",
       "         [1.        , 0.97254902, 0.90980392]],\n",
       "\n",
       "        [[0.26666667, 0.25098039, 0.21568627],\n",
       "         [0.27843137, 0.2627451 , 0.21568627],\n",
       "         [0.3372549 , 0.32941176, 0.27843137],\n",
       "         ...,\n",
       "         [0.99607843, 0.96862745, 0.90588235],\n",
       "         [0.99607843, 0.97254902, 0.90980392],\n",
       "         [0.99607843, 0.97254902, 0.90588235]],\n",
       "\n",
       "        [[0.15686275, 0.14117647, 0.10588235],\n",
       "         [0.25882353, 0.24705882, 0.2       ],\n",
       "         [0.34117647, 0.33333333, 0.28627451],\n",
       "         ...,\n",
       "         [0.99607843, 0.96862745, 0.90588235],\n",
       "         [0.99215686, 0.96470588, 0.90196078],\n",
       "         [0.99215686, 0.97254902, 0.90196078]]],\n",
       "\n",
       "\n",
       "       [[[0.20784314, 0.25098039, 0.1372549 ],\n",
       "         [0.19607843, 0.23921569, 0.12156863],\n",
       "         [0.21176471, 0.25490196, 0.1372549 ],\n",
       "         ...,\n",
       "         [0.33333333, 0.38823529, 0.25882353],\n",
       "         [0.25490196, 0.30980392, 0.17647059],\n",
       "         [0.24313725, 0.30196078, 0.15686275]],\n",
       "\n",
       "        [[0.18823529, 0.24313725, 0.11372549],\n",
       "         [0.20784314, 0.25882353, 0.14117647],\n",
       "         [0.20392157, 0.25490196, 0.1372549 ],\n",
       "         ...,\n",
       "         [0.36078431, 0.41960784, 0.26666667],\n",
       "         [0.22352941, 0.28235294, 0.12156863],\n",
       "         [0.20392157, 0.27058824, 0.09803922]],\n",
       "\n",
       "        [[0.19607843, 0.25490196, 0.13333333],\n",
       "         [0.20784314, 0.26666667, 0.14509804],\n",
       "         [0.19607843, 0.25490196, 0.13333333],\n",
       "         ...,\n",
       "         [0.2745098 , 0.33333333, 0.17647059],\n",
       "         [0.2       , 0.25882353, 0.09019608],\n",
       "         [0.25490196, 0.3254902 , 0.14117647]],\n",
       "\n",
       "        ...,\n",
       "\n",
       "        [[0.15686275, 0.18823529, 0.12941176],\n",
       "         [0.14117647, 0.17254902, 0.11372549],\n",
       "         [0.10980392, 0.14117647, 0.08235294],\n",
       "         ...,\n",
       "         [0.14117647, 0.19215686, 0.1254902 ],\n",
       "         [0.16078431, 0.21960784, 0.14901961],\n",
       "         [0.17254902, 0.23137255, 0.15294118]],\n",
       "\n",
       "        [[0.18431373, 0.21568627, 0.15686275],\n",
       "         [0.16470588, 0.19607843, 0.1372549 ],\n",
       "         [0.16078431, 0.19215686, 0.13333333],\n",
       "         ...,\n",
       "         [0.13333333, 0.18431373, 0.11764706],\n",
       "         [0.14901961, 0.2       , 0.13333333],\n",
       "         [0.15294118, 0.20392157, 0.12941176]],\n",
       "\n",
       "        [[0.15686275, 0.18823529, 0.12941176],\n",
       "         [0.16470588, 0.19607843, 0.1372549 ],\n",
       "         [0.15686275, 0.18823529, 0.12941176],\n",
       "         ...,\n",
       "         [0.11764706, 0.16862745, 0.10588235],\n",
       "         [0.14509804, 0.19607843, 0.12941176],\n",
       "         [0.17647059, 0.22745098, 0.15294118]]],\n",
       "\n",
       "\n",
       "       [[[0.59215686, 0.59215686, 0.56078431],\n",
       "         [0.58823529, 0.59215686, 0.56078431],\n",
       "         [0.59215686, 0.59215686, 0.56078431],\n",
       "         ...,\n",
       "         [0.59215686, 0.49019608, 0.4       ],\n",
       "         [0.58431373, 0.4745098 , 0.38823529],\n",
       "         [0.56470588, 0.45490196, 0.36078431]],\n",
       "\n",
       "        [[0.59215686, 0.59215686, 0.56078431],\n",
       "         [0.6       , 0.58823529, 0.56078431],\n",
       "         [0.6       , 0.58823529, 0.56078431],\n",
       "         ...,\n",
       "         [0.59215686, 0.49019608, 0.4       ],\n",
       "         [0.58823529, 0.47843137, 0.38431373],\n",
       "         [0.56862745, 0.45882353, 0.36470588]],\n",
       "\n",
       "        [[0.60392157, 0.59215686, 0.56470588],\n",
       "         [0.60392157, 0.59215686, 0.56470588],\n",
       "         [0.60392157, 0.59215686, 0.56470588],\n",
       "         ...,\n",
       "         [0.59215686, 0.49019608, 0.4       ],\n",
       "         [0.59215686, 0.48235294, 0.39607843],\n",
       "         [0.56470588, 0.45490196, 0.36078431]],\n",
       "\n",
       "        ...,\n",
       "\n",
       "        [[0.36078431, 0.35686275, 0.24313725],\n",
       "         [0.39607843, 0.38431373, 0.29019608],\n",
       "         [0.44705882, 0.43529412, 0.34901961],\n",
       "         ...,\n",
       "         [0.38431373, 0.4       , 0.2627451 ],\n",
       "         [0.43529412, 0.45098039, 0.31372549],\n",
       "         [0.45098039, 0.45490196, 0.32156863]],\n",
       "\n",
       "        [[0.35294118, 0.34901961, 0.23921569],\n",
       "         [0.33333333, 0.3254902 , 0.22745098],\n",
       "         [0.33333333, 0.32941176, 0.24705882],\n",
       "         ...,\n",
       "         [0.35686275, 0.37254902, 0.23529412],\n",
       "         [0.34901961, 0.36078431, 0.22745098],\n",
       "         [0.34509804, 0.34901961, 0.21176471]],\n",
       "\n",
       "        [[0.31764706, 0.30980392, 0.18823529],\n",
       "         [0.38431373, 0.37647059, 0.27843137],\n",
       "         [0.34509804, 0.3372549 , 0.24705882],\n",
       "         ...,\n",
       "         [0.39215686, 0.40784314, 0.27058824],\n",
       "         [0.30196078, 0.31764706, 0.18823529],\n",
       "         [0.49411765, 0.49803922, 0.37254902]]]])"
      ]
     },
     "execution_count": 20,
     "metadata": {},
     "output_type": "execute_result"
    }
   ],
   "source": [
    "X_test_color = X_test_color/255.0\n",
    "X_test_color"
   ]
  },
  {
   "cell_type": "code",
   "execution_count": 21,
   "id": "5f581845",
   "metadata": {},
   "outputs": [
    {
     "data": {
      "text/html": [
       "<pre style=\"white-space:pre;overflow-x:auto;line-height:normal;font-family:Menlo,'DejaVu Sans Mono',consolas,'Courier New',monospace\"><span style=\"font-weight: bold\">Model: \"sequential_2\"</span>\n",
       "</pre>\n"
      ],
      "text/plain": [
       "\u001b[1mModel: \"sequential_2\"\u001b[0m\n"
      ]
     },
     "metadata": {},
     "output_type": "display_data"
    },
    {
     "data": {
      "text/html": [
       "<pre style=\"white-space:pre;overflow-x:auto;line-height:normal;font-family:Menlo,'DejaVu Sans Mono',consolas,'Courier New',monospace\">┏━━━━━━━━━━━━━━━━━━━━━━━━━━━━━━━━━┳━━━━━━━━━━━━━━━━━━━━━━━━┳━━━━━━━━━━━━━━━┓\n",
       "┃<span style=\"font-weight: bold\"> Layer (type)                    </span>┃<span style=\"font-weight: bold\"> Output Shape           </span>┃<span style=\"font-weight: bold\">       Param # </span>┃\n",
       "┡━━━━━━━━━━━━━━━━━━━━━━━━━━━━━━━━━╇━━━━━━━━━━━━━━━━━━━━━━━━╇━━━━━━━━━━━━━━━┩\n",
       "│ conv2d_8 (<span style=\"color: #0087ff; text-decoration-color: #0087ff\">Conv2D</span>)               │ (<span style=\"color: #00d7ff; text-decoration-color: #00d7ff\">None</span>, <span style=\"color: #00af00; text-decoration-color: #00af00\">64</span>, <span style=\"color: #00af00; text-decoration-color: #00af00\">64</span>, <span style=\"color: #00af00; text-decoration-color: #00af00\">128</span>)    │         <span style=\"color: #00af00; text-decoration-color: #00af00\">6,272</span> │\n",
       "├─────────────────────────────────┼────────────────────────┼───────────────┤\n",
       "│ max_pooling2d_8 (<span style=\"color: #0087ff; text-decoration-color: #0087ff\">MaxPooling2D</span>)  │ (<span style=\"color: #00d7ff; text-decoration-color: #00d7ff\">None</span>, <span style=\"color: #00af00; text-decoration-color: #00af00\">32</span>, <span style=\"color: #00af00; text-decoration-color: #00af00\">32</span>, <span style=\"color: #00af00; text-decoration-color: #00af00\">128</span>)    │             <span style=\"color: #00af00; text-decoration-color: #00af00\">0</span> │\n",
       "├─────────────────────────────────┼────────────────────────┼───────────────┤\n",
       "│ conv2d_9 (<span style=\"color: #0087ff; text-decoration-color: #0087ff\">Conv2D</span>)               │ (<span style=\"color: #00d7ff; text-decoration-color: #00d7ff\">None</span>, <span style=\"color: #00af00; text-decoration-color: #00af00\">32</span>, <span style=\"color: #00af00; text-decoration-color: #00af00\">32</span>, <span style=\"color: #00af00; text-decoration-color: #00af00\">64</span>)     │       <span style=\"color: #00af00; text-decoration-color: #00af00\">131,136</span> │\n",
       "├─────────────────────────────────┼────────────────────────┼───────────────┤\n",
       "│ max_pooling2d_9 (<span style=\"color: #0087ff; text-decoration-color: #0087ff\">MaxPooling2D</span>)  │ (<span style=\"color: #00d7ff; text-decoration-color: #00d7ff\">None</span>, <span style=\"color: #00af00; text-decoration-color: #00af00\">16</span>, <span style=\"color: #00af00; text-decoration-color: #00af00\">16</span>, <span style=\"color: #00af00; text-decoration-color: #00af00\">64</span>)     │             <span style=\"color: #00af00; text-decoration-color: #00af00\">0</span> │\n",
       "├─────────────────────────────────┼────────────────────────┼───────────────┤\n",
       "│ conv2d_10 (<span style=\"color: #0087ff; text-decoration-color: #0087ff\">Conv2D</span>)              │ (<span style=\"color: #00d7ff; text-decoration-color: #00d7ff\">None</span>, <span style=\"color: #00af00; text-decoration-color: #00af00\">16</span>, <span style=\"color: #00af00; text-decoration-color: #00af00\">16</span>, <span style=\"color: #00af00; text-decoration-color: #00af00\">32</span>)     │        <span style=\"color: #00af00; text-decoration-color: #00af00\">32,800</span> │\n",
       "├─────────────────────────────────┼────────────────────────┼───────────────┤\n",
       "│ max_pooling2d_10 (<span style=\"color: #0087ff; text-decoration-color: #0087ff\">MaxPooling2D</span>) │ (<span style=\"color: #00d7ff; text-decoration-color: #00d7ff\">None</span>, <span style=\"color: #00af00; text-decoration-color: #00af00\">8</span>, <span style=\"color: #00af00; text-decoration-color: #00af00\">8</span>, <span style=\"color: #00af00; text-decoration-color: #00af00\">32</span>)       │             <span style=\"color: #00af00; text-decoration-color: #00af00\">0</span> │\n",
       "├─────────────────────────────────┼────────────────────────┼───────────────┤\n",
       "│ conv2d_11 (<span style=\"color: #0087ff; text-decoration-color: #0087ff\">Conv2D</span>)              │ (<span style=\"color: #00d7ff; text-decoration-color: #00d7ff\">None</span>, <span style=\"color: #00af00; text-decoration-color: #00af00\">8</span>, <span style=\"color: #00af00; text-decoration-color: #00af00\">8</span>, <span style=\"color: #00af00; text-decoration-color: #00af00\">16</span>)       │         <span style=\"color: #00af00; text-decoration-color: #00af00\">8,208</span> │\n",
       "├─────────────────────────────────┼────────────────────────┼───────────────┤\n",
       "│ max_pooling2d_11 (<span style=\"color: #0087ff; text-decoration-color: #0087ff\">MaxPooling2D</span>) │ (<span style=\"color: #00d7ff; text-decoration-color: #00d7ff\">None</span>, <span style=\"color: #00af00; text-decoration-color: #00af00\">4</span>, <span style=\"color: #00af00; text-decoration-color: #00af00\">4</span>, <span style=\"color: #00af00; text-decoration-color: #00af00\">16</span>)       │             <span style=\"color: #00af00; text-decoration-color: #00af00\">0</span> │\n",
       "├─────────────────────────────────┼────────────────────────┼───────────────┤\n",
       "│ flatten_2 (<span style=\"color: #0087ff; text-decoration-color: #0087ff\">Flatten</span>)             │ (<span style=\"color: #00d7ff; text-decoration-color: #00d7ff\">None</span>, <span style=\"color: #00af00; text-decoration-color: #00af00\">256</span>)            │             <span style=\"color: #00af00; text-decoration-color: #00af00\">0</span> │\n",
       "├─────────────────────────────────┼────────────────────────┼───────────────┤\n",
       "│ dense_4 (<span style=\"color: #0087ff; text-decoration-color: #0087ff\">Dense</span>)                 │ (<span style=\"color: #00d7ff; text-decoration-color: #00d7ff\">None</span>, <span style=\"color: #00af00; text-decoration-color: #00af00\">128</span>)            │        <span style=\"color: #00af00; text-decoration-color: #00af00\">32,896</span> │\n",
       "├─────────────────────────────────┼────────────────────────┼───────────────┤\n",
       "│ dropout_2 (<span style=\"color: #0087ff; text-decoration-color: #0087ff\">Dropout</span>)             │ (<span style=\"color: #00d7ff; text-decoration-color: #00d7ff\">None</span>, <span style=\"color: #00af00; text-decoration-color: #00af00\">128</span>)            │             <span style=\"color: #00af00; text-decoration-color: #00af00\">0</span> │\n",
       "├─────────────────────────────────┼────────────────────────┼───────────────┤\n",
       "│ dense_5 (<span style=\"color: #0087ff; text-decoration-color: #0087ff\">Dense</span>)                 │ (<span style=\"color: #00d7ff; text-decoration-color: #00d7ff\">None</span>, <span style=\"color: #00af00; text-decoration-color: #00af00\">32</span>)             │         <span style=\"color: #00af00; text-decoration-color: #00af00\">4,128</span> │\n",
       "└─────────────────────────────────┴────────────────────────┴───────────────┘\n",
       "</pre>\n"
      ],
      "text/plain": [
       "┏━━━━━━━━━━━━━━━━━━━━━━━━━━━━━━━━━┳━━━━━━━━━━━━━━━━━━━━━━━━┳━━━━━━━━━━━━━━━┓\n",
       "┃\u001b[1m \u001b[0m\u001b[1mLayer (type)                   \u001b[0m\u001b[1m \u001b[0m┃\u001b[1m \u001b[0m\u001b[1mOutput Shape          \u001b[0m\u001b[1m \u001b[0m┃\u001b[1m \u001b[0m\u001b[1m      Param #\u001b[0m\u001b[1m \u001b[0m┃\n",
       "┡━━━━━━━━━━━━━━━━━━━━━━━━━━━━━━━━━╇━━━━━━━━━━━━━━━━━━━━━━━━╇━━━━━━━━━━━━━━━┩\n",
       "│ conv2d_8 (\u001b[38;5;33mConv2D\u001b[0m)               │ (\u001b[38;5;45mNone\u001b[0m, \u001b[38;5;34m64\u001b[0m, \u001b[38;5;34m64\u001b[0m, \u001b[38;5;34m128\u001b[0m)    │         \u001b[38;5;34m6,272\u001b[0m │\n",
       "├─────────────────────────────────┼────────────────────────┼───────────────┤\n",
       "│ max_pooling2d_8 (\u001b[38;5;33mMaxPooling2D\u001b[0m)  │ (\u001b[38;5;45mNone\u001b[0m, \u001b[38;5;34m32\u001b[0m, \u001b[38;5;34m32\u001b[0m, \u001b[38;5;34m128\u001b[0m)    │             \u001b[38;5;34m0\u001b[0m │\n",
       "├─────────────────────────────────┼────────────────────────┼───────────────┤\n",
       "│ conv2d_9 (\u001b[38;5;33mConv2D\u001b[0m)               │ (\u001b[38;5;45mNone\u001b[0m, \u001b[38;5;34m32\u001b[0m, \u001b[38;5;34m32\u001b[0m, \u001b[38;5;34m64\u001b[0m)     │       \u001b[38;5;34m131,136\u001b[0m │\n",
       "├─────────────────────────────────┼────────────────────────┼───────────────┤\n",
       "│ max_pooling2d_9 (\u001b[38;5;33mMaxPooling2D\u001b[0m)  │ (\u001b[38;5;45mNone\u001b[0m, \u001b[38;5;34m16\u001b[0m, \u001b[38;5;34m16\u001b[0m, \u001b[38;5;34m64\u001b[0m)     │             \u001b[38;5;34m0\u001b[0m │\n",
       "├─────────────────────────────────┼────────────────────────┼───────────────┤\n",
       "│ conv2d_10 (\u001b[38;5;33mConv2D\u001b[0m)              │ (\u001b[38;5;45mNone\u001b[0m, \u001b[38;5;34m16\u001b[0m, \u001b[38;5;34m16\u001b[0m, \u001b[38;5;34m32\u001b[0m)     │        \u001b[38;5;34m32,800\u001b[0m │\n",
       "├─────────────────────────────────┼────────────────────────┼───────────────┤\n",
       "│ max_pooling2d_10 (\u001b[38;5;33mMaxPooling2D\u001b[0m) │ (\u001b[38;5;45mNone\u001b[0m, \u001b[38;5;34m8\u001b[0m, \u001b[38;5;34m8\u001b[0m, \u001b[38;5;34m32\u001b[0m)       │             \u001b[38;5;34m0\u001b[0m │\n",
       "├─────────────────────────────────┼────────────────────────┼───────────────┤\n",
       "│ conv2d_11 (\u001b[38;5;33mConv2D\u001b[0m)              │ (\u001b[38;5;45mNone\u001b[0m, \u001b[38;5;34m8\u001b[0m, \u001b[38;5;34m8\u001b[0m, \u001b[38;5;34m16\u001b[0m)       │         \u001b[38;5;34m8,208\u001b[0m │\n",
       "├─────────────────────────────────┼────────────────────────┼───────────────┤\n",
       "│ max_pooling2d_11 (\u001b[38;5;33mMaxPooling2D\u001b[0m) │ (\u001b[38;5;45mNone\u001b[0m, \u001b[38;5;34m4\u001b[0m, \u001b[38;5;34m4\u001b[0m, \u001b[38;5;34m16\u001b[0m)       │             \u001b[38;5;34m0\u001b[0m │\n",
       "├─────────────────────────────────┼────────────────────────┼───────────────┤\n",
       "│ flatten_2 (\u001b[38;5;33mFlatten\u001b[0m)             │ (\u001b[38;5;45mNone\u001b[0m, \u001b[38;5;34m256\u001b[0m)            │             \u001b[38;5;34m0\u001b[0m │\n",
       "├─────────────────────────────────┼────────────────────────┼───────────────┤\n",
       "│ dense_4 (\u001b[38;5;33mDense\u001b[0m)                 │ (\u001b[38;5;45mNone\u001b[0m, \u001b[38;5;34m128\u001b[0m)            │        \u001b[38;5;34m32,896\u001b[0m │\n",
       "├─────────────────────────────────┼────────────────────────┼───────────────┤\n",
       "│ dropout_2 (\u001b[38;5;33mDropout\u001b[0m)             │ (\u001b[38;5;45mNone\u001b[0m, \u001b[38;5;34m128\u001b[0m)            │             \u001b[38;5;34m0\u001b[0m │\n",
       "├─────────────────────────────────┼────────────────────────┼───────────────┤\n",
       "│ dense_5 (\u001b[38;5;33mDense\u001b[0m)                 │ (\u001b[38;5;45mNone\u001b[0m, \u001b[38;5;34m32\u001b[0m)             │         \u001b[38;5;34m4,128\u001b[0m │\n",
       "└─────────────────────────────────┴────────────────────────┴───────────────┘\n"
      ]
     },
     "metadata": {},
     "output_type": "display_data"
    },
    {
     "data": {
      "text/html": [
       "<pre style=\"white-space:pre;overflow-x:auto;line-height:normal;font-family:Menlo,'DejaVu Sans Mono',consolas,'Courier New',monospace\"><span style=\"font-weight: bold\"> Total params: </span><span style=\"color: #00af00; text-decoration-color: #00af00\">215,440</span> (841.56 KB)\n",
       "</pre>\n"
      ],
      "text/plain": [
       "\u001b[1m Total params: \u001b[0m\u001b[38;5;34m215,440\u001b[0m (841.56 KB)\n"
      ]
     },
     "metadata": {},
     "output_type": "display_data"
    },
    {
     "data": {
      "text/html": [
       "<pre style=\"white-space:pre;overflow-x:auto;line-height:normal;font-family:Menlo,'DejaVu Sans Mono',consolas,'Courier New',monospace\"><span style=\"font-weight: bold\"> Trainable params: </span><span style=\"color: #00af00; text-decoration-color: #00af00\">215,440</span> (841.56 KB)\n",
       "</pre>\n"
      ],
      "text/plain": [
       "\u001b[1m Trainable params: \u001b[0m\u001b[38;5;34m215,440\u001b[0m (841.56 KB)\n"
      ]
     },
     "metadata": {},
     "output_type": "display_data"
    },
    {
     "data": {
      "text/html": [
       "<pre style=\"white-space:pre;overflow-x:auto;line-height:normal;font-family:Menlo,'DejaVu Sans Mono',consolas,'Courier New',monospace\"><span style=\"font-weight: bold\"> Non-trainable params: </span><span style=\"color: #00af00; text-decoration-color: #00af00\">0</span> (0.00 B)\n",
       "</pre>\n"
      ],
      "text/plain": [
       "\u001b[1m Non-trainable params: \u001b[0m\u001b[38;5;34m0\u001b[0m (0.00 B)\n"
      ]
     },
     "metadata": {},
     "output_type": "display_data"
    }
   ],
   "source": [
    "# Define the color model\n",
    "model_color = Sequential()\n",
    "\n",
    "# Add InputLayer with input shape\n",
    "model_color.add(InputLayer(shape=X_color.shape[1:]))\n",
    "\n",
    "# 1st Convolutional Layer\n",
    "model_color.add(Conv2D(128, (4, 4), padding='same', activation='relu'))\n",
    "\n",
    "# Max Pooling Layer\n",
    "model_color.add(MaxPool2D(pool_size=(2, 2)))\n",
    "\n",
    "# 2nd Convolutional Layer\n",
    "model_color.add(Conv2D(64, (4, 4), padding='same', activation='relu'))\n",
    "\n",
    "# Max Pooling Layer\n",
    "model_color.add(MaxPool2D(pool_size=(2, 2)))\n",
    "\n",
    "# 3rd Convolutional Layer\n",
    "model_color.add(Conv2D(32, (4, 4), padding='same', activation='relu'))\n",
    "\n",
    "# Max Pooling Layer\n",
    "model_color.add(MaxPool2D(pool_size=(2, 2)))\n",
    "\n",
    "# 4th Convolutional Layer\n",
    "model_color.add(Conv2D(16, (4, 4), padding='same', activation='relu'))\n",
    "\n",
    "# Max Pooling Layer\n",
    "model_color.add(MaxPool2D(pool_size=(2, 2)))\n",
    "\n",
    "# Flatten layer\n",
    "model_color.add(Flatten())\n",
    "\n",
    "# Fully Connected Dense Layer\n",
    "model_color.add(Dense(128, activation='relu'))\n",
    "\n",
    "# Dropout Layer\n",
    "model_color.add(Dropout(0.5))\n",
    "\n",
    "# Output Layer\n",
    "model_color.add(Dense(32, activation='softmax'))\n",
    "\n",
    "\n",
    "# Compile the model\n",
    "model_color.compile(optimizer=\"Adam\",\n",
    "              loss='sparse_categorical_crossentropy',\n",
    "              metrics=['accuracy'])\n",
    "\n",
    "# Print the model summary\n",
    "model_color.summary()"
   ]
  },
  {
   "cell_type": "code",
   "execution_count": 22,
   "id": "478c26e2",
   "metadata": {
    "scrolled": true
   },
   "outputs": [
    {
     "name": "stdout",
     "output_type": "stream",
     "text": [
      "Epoch 1/30\n",
      "\u001b[1m87/87\u001b[0m \u001b[32m━━━━━━━━━━━━━━━━━━━━\u001b[0m\u001b[37m\u001b[0m \u001b[1m9s\u001b[0m 92ms/step - accuracy: 0.0906 - loss: 3.2980 - val_accuracy: 0.4286 - val_loss: 2.1747\n",
      "Epoch 2/30\n",
      "\u001b[1m87/87\u001b[0m \u001b[32m━━━━━━━━━━━━━━━━━━━━\u001b[0m\u001b[37m\u001b[0m \u001b[1m8s\u001b[0m 91ms/step - accuracy: 0.4635 - loss: 1.9397 - val_accuracy: 0.8734 - val_loss: 0.5807\n",
      "Epoch 3/30\n",
      "\u001b[1m87/87\u001b[0m \u001b[32m━━━━━━━━━━━━━━━━━━━━\u001b[0m\u001b[37m\u001b[0m \u001b[1m8s\u001b[0m 88ms/step - accuracy: 0.7311 - loss: 0.8783 - val_accuracy: 0.8896 - val_loss: 0.4056\n",
      "Epoch 4/30\n",
      "\u001b[1m87/87\u001b[0m \u001b[32m━━━━━━━━━━━━━━━━━━━━\u001b[0m\u001b[37m\u001b[0m \u001b[1m8s\u001b[0m 92ms/step - accuracy: 0.8386 - loss: 0.6142 - val_accuracy: 0.9416 - val_loss: 0.2066\n",
      "Epoch 5/30\n",
      "\u001b[1m87/87\u001b[0m \u001b[32m━━━━━━━━━━━━━━━━━━━━\u001b[0m\u001b[37m\u001b[0m \u001b[1m8s\u001b[0m 92ms/step - accuracy: 0.8837 - loss: 0.3814 - val_accuracy: 0.9610 - val_loss: 0.1769\n",
      "Epoch 6/30\n",
      "\u001b[1m87/87\u001b[0m \u001b[32m━━━━━━━━━━━━━━━━━━━━\u001b[0m\u001b[37m\u001b[0m \u001b[1m8s\u001b[0m 97ms/step - accuracy: 0.8986 - loss: 0.3375 - val_accuracy: 0.9773 - val_loss: 0.1125\n",
      "Epoch 7/30\n",
      "\u001b[1m87/87\u001b[0m \u001b[32m━━━━━━━━━━━━━━━━━━━━\u001b[0m\u001b[37m\u001b[0m \u001b[1m8s\u001b[0m 92ms/step - accuracy: 0.9180 - loss: 0.2548 - val_accuracy: 0.9708 - val_loss: 0.1084\n",
      "Epoch 8/30\n",
      "\u001b[1m87/87\u001b[0m \u001b[32m━━━━━━━━━━━━━━━━━━━━\u001b[0m\u001b[37m\u001b[0m \u001b[1m8s\u001b[0m 94ms/step - accuracy: 0.9271 - loss: 0.2464 - val_accuracy: 0.9578 - val_loss: 0.1038\n",
      "Epoch 9/30\n",
      "\u001b[1m87/87\u001b[0m \u001b[32m━━━━━━━━━━━━━━━━━━━━\u001b[0m\u001b[37m\u001b[0m \u001b[1m8s\u001b[0m 92ms/step - accuracy: 0.9464 - loss: 0.1611 - val_accuracy: 0.9578 - val_loss: 0.1319\n",
      "Epoch 10/30\n",
      "\u001b[1m87/87\u001b[0m \u001b[32m━━━━━━━━━━━━━━━━━━━━\u001b[0m\u001b[37m\u001b[0m \u001b[1m8s\u001b[0m 94ms/step - accuracy: 0.9481 - loss: 0.1663 - val_accuracy: 0.9773 - val_loss: 0.0840\n",
      "Epoch 11/30\n",
      "\u001b[1m87/87\u001b[0m \u001b[32m━━━━━━━━━━━━━━━━━━━━\u001b[0m\u001b[37m\u001b[0m \u001b[1m8s\u001b[0m 92ms/step - accuracy: 0.9572 - loss: 0.1350 - val_accuracy: 0.9708 - val_loss: 0.1109\n",
      "Epoch 12/30\n",
      "\u001b[1m87/87\u001b[0m \u001b[32m━━━━━━━━━━━━━━━━━━━━\u001b[0m\u001b[37m\u001b[0m \u001b[1m8s\u001b[0m 94ms/step - accuracy: 0.9656 - loss: 0.1160 - val_accuracy: 0.9805 - val_loss: 0.0768\n",
      "Epoch 13/30\n",
      "\u001b[1m87/87\u001b[0m \u001b[32m━━━━━━━━━━━━━━━━━━━━\u001b[0m\u001b[37m\u001b[0m \u001b[1m8s\u001b[0m 91ms/step - accuracy: 0.9729 - loss: 0.0904 - val_accuracy: 0.9805 - val_loss: 0.0685\n",
      "Epoch 14/30\n",
      "\u001b[1m87/87\u001b[0m \u001b[32m━━━━━━━━━━━━━━━━━━━━\u001b[0m\u001b[37m\u001b[0m \u001b[1m8s\u001b[0m 96ms/step - accuracy: 0.9742 - loss: 0.0835 - val_accuracy: 0.9708 - val_loss: 0.1172\n",
      "Epoch 15/30\n",
      "\u001b[1m87/87\u001b[0m \u001b[32m━━━━━━━━━━━━━━━━━━━━\u001b[0m\u001b[37m\u001b[0m \u001b[1m8s\u001b[0m 95ms/step - accuracy: 0.9710 - loss: 0.0824 - val_accuracy: 0.9740 - val_loss: 0.0790\n",
      "Epoch 16/30\n",
      "\u001b[1m87/87\u001b[0m \u001b[32m━━━━━━━━━━━━━━━━━━━━\u001b[0m\u001b[37m\u001b[0m \u001b[1m8s\u001b[0m 93ms/step - accuracy: 0.9686 - loss: 0.0891 - val_accuracy: 0.9838 - val_loss: 0.0581\n",
      "Epoch 17/30\n",
      "\u001b[1m87/87\u001b[0m \u001b[32m━━━━━━━━━━━━━━━━━━━━\u001b[0m\u001b[37m\u001b[0m \u001b[1m8s\u001b[0m 90ms/step - accuracy: 0.9790 - loss: 0.0638 - val_accuracy: 0.9708 - val_loss: 0.0764\n",
      "Epoch 18/30\n",
      "\u001b[1m87/87\u001b[0m \u001b[32m━━━━━━━━━━━━━━━━━━━━\u001b[0m\u001b[37m\u001b[0m \u001b[1m8s\u001b[0m 91ms/step - accuracy: 0.9869 - loss: 0.0382 - val_accuracy: 0.9838 - val_loss: 0.0514\n",
      "Epoch 19/30\n",
      "\u001b[1m87/87\u001b[0m \u001b[32m━━━━━━━━━━━━━━━━━━━━\u001b[0m\u001b[37m\u001b[0m \u001b[1m8s\u001b[0m 93ms/step - accuracy: 0.9785 - loss: 0.0593 - val_accuracy: 0.9870 - val_loss: 0.0491\n",
      "Epoch 20/30\n",
      "\u001b[1m87/87\u001b[0m \u001b[32m━━━━━━━━━━━━━━━━━━━━\u001b[0m\u001b[37m\u001b[0m \u001b[1m8s\u001b[0m 95ms/step - accuracy: 0.9864 - loss: 0.0504 - val_accuracy: 0.9773 - val_loss: 0.0558\n",
      "Epoch 21/30\n",
      "\u001b[1m87/87\u001b[0m \u001b[32m━━━━━━━━━━━━━━━━━━━━\u001b[0m\u001b[37m\u001b[0m \u001b[1m8s\u001b[0m 91ms/step - accuracy: 0.9753 - loss: 0.0571 - val_accuracy: 0.9773 - val_loss: 0.0689\n",
      "Epoch 22/30\n",
      "\u001b[1m87/87\u001b[0m \u001b[32m━━━━━━━━━━━━━━━━━━━━\u001b[0m\u001b[37m\u001b[0m \u001b[1m8s\u001b[0m 92ms/step - accuracy: 0.9832 - loss: 0.0547 - val_accuracy: 0.9805 - val_loss: 0.0710\n",
      "Epoch 23/30\n",
      "\u001b[1m87/87\u001b[0m \u001b[32m━━━━━━━━━━━━━━━━━━━━\u001b[0m\u001b[37m\u001b[0m \u001b[1m8s\u001b[0m 91ms/step - accuracy: 0.9877 - loss: 0.0332 - val_accuracy: 0.9870 - val_loss: 0.0598\n",
      "Epoch 24/30\n",
      "\u001b[1m87/87\u001b[0m \u001b[32m━━━━━━━━━━━━━━━━━━━━\u001b[0m\u001b[37m\u001b[0m \u001b[1m8s\u001b[0m 92ms/step - accuracy: 0.9867 - loss: 0.0466 - val_accuracy: 0.9773 - val_loss: 0.0496\n",
      "Epoch 25/30\n",
      "\u001b[1m87/87\u001b[0m \u001b[32m━━━━━━━━━━━━━━━━━━━━\u001b[0m\u001b[37m\u001b[0m \u001b[1m8s\u001b[0m 93ms/step - accuracy: 0.9909 - loss: 0.0367 - val_accuracy: 0.9773 - val_loss: 0.0607\n",
      "Epoch 26/30\n",
      "\u001b[1m87/87\u001b[0m \u001b[32m━━━━━━━━━━━━━━━━━━━━\u001b[0m\u001b[37m\u001b[0m \u001b[1m8s\u001b[0m 92ms/step - accuracy: 0.9908 - loss: 0.0267 - val_accuracy: 0.9838 - val_loss: 0.0462\n",
      "Epoch 27/30\n",
      "\u001b[1m87/87\u001b[0m \u001b[32m━━━━━━━━━━━━━━━━━━━━\u001b[0m\u001b[37m\u001b[0m \u001b[1m8s\u001b[0m 91ms/step - accuracy: 0.9840 - loss: 0.0453 - val_accuracy: 0.9838 - val_loss: 0.0562\n",
      "Epoch 28/30\n",
      "\u001b[1m87/87\u001b[0m \u001b[32m━━━━━━━━━━━━━━━━━━━━\u001b[0m\u001b[37m\u001b[0m \u001b[1m8s\u001b[0m 92ms/step - accuracy: 0.9895 - loss: 0.0383 - val_accuracy: 0.9773 - val_loss: 0.1116\n",
      "Epoch 29/30\n",
      "\u001b[1m87/87\u001b[0m \u001b[32m━━━━━━━━━━━━━━━━━━━━\u001b[0m\u001b[37m\u001b[0m \u001b[1m8s\u001b[0m 94ms/step - accuracy: 0.9825 - loss: 0.0588 - val_accuracy: 0.9870 - val_loss: 0.0396\n",
      "Epoch 30/30\n",
      "\u001b[1m87/87\u001b[0m \u001b[32m━━━━━━━━━━━━━━━━━━━━\u001b[0m\u001b[37m\u001b[0m \u001b[1m8s\u001b[0m 95ms/step - accuracy: 0.9830 - loss: 0.0396 - val_accuracy: 0.9838 - val_loss: 0.0451\n"
     ]
    }
   ],
   "source": [
    "# Train the model\n",
    "history = model_color.fit(X_color, y_color, epochs=30, validation_split=0.10,batch_size=32) "
   ]
  },
  {
   "cell_type": "code",
   "execution_count": 23,
   "id": "2e835e7d",
   "metadata": {
    "scrolled": true
   },
   "outputs": [
    {
     "data": {
      "image/png": "[encoded data removed]",
      "text/plain": [
       "<Figure size 640x480 with 1 Axes>"
      ]
     },
     "metadata": {},
     "output_type": "display_data"
    },
    {
     "data": {
      "image/png": "[encoded data removed]",
      "text/plain": [
       "<Figure size 640x480 with 1 Axes>"
      ]
     },
     "metadata": {},
     "output_type": "display_data"
    }
   ],
   "source": [
    "# Plot training & validation loss values\n",
    "plt.plot(history.history['loss'])\n",
    "plt.plot(history.history['val_loss'])\n",
    "plt.title('Model Loss')\n",
    "plt.ylabel('Loss')\n",
    "plt.xlabel('Epoch')\n",
    "plt.legend(['Train', 'Validation'], loc='upper left')\n",
    "plt.show()\n",
    "\n",
    "# Plot training & validation accuracy values\n",
    "plt.plot(history.history['accuracy'])\n",
    "plt.plot(history.history['val_accuracy'])\n",
    "plt.title('Model Accuracy')\n",
    "plt.ylabel('Accuracy')\n",
    "plt.xlabel('Epoch')\n",
    "plt.legend(['Train', 'Validation'], loc='upper left')\n",
    "plt.show()"
   ]
  },
  {
   "cell_type": "code",
   "execution_count": 24,
   "id": "a8d38214",
   "metadata": {},
   "outputs": [
    {
     "name": "stdout",
     "output_type": "stream",
     "text": [
      "\u001b[1m11/11\u001b[0m \u001b[32m━━━━━━━━━━━━━━━━━━━━\u001b[0m\u001b[37m\u001b[0m \u001b[1m0s\u001b[0m 30ms/step - accuracy: 0.7967 - loss: 1.1558\n",
      "Test Loss: 1.0883619785308838\n",
      "Test Accuracy: 0.8181818127632141\n"
     ]
    }
   ],
   "source": [
    "# Evaluate the model on the test dataset\n",
    "loss, accuracy = model_color.evaluate(X_test_color, y_test_color)\n",
    "\n",
    "# Print the test loss and accuracy\n",
    "print(\"Test Loss:\", loss)\n",
    "print(\"Test Accuracy:\", accuracy)"
   ]
  },
  {
   "cell_type": "markdown",
   "id": "c8833703",
   "metadata": {},
   "source": [
    "### Imrpoving performance with different optimisers"
   ]
  },
  {
   "cell_type": "code",
   "execution_count": 25,
   "id": "ea9916f6",
   "metadata": {},
   "outputs": [
    {
     "data": {
      "text/html": [
       "<pre style=\"white-space:pre;overflow-x:auto;line-height:normal;font-family:Menlo,'DejaVu Sans Mono',consolas,'Courier New',monospace\"><span style=\"font-weight: bold\">Model: \"sequential_3\"</span>\n",
       "</pre>\n"
      ],
      "text/plain": [
       "\u001b[1mModel: \"sequential_3\"\u001b[0m\n"
      ]
     },
     "metadata": {},
     "output_type": "display_data"
    },
    {
     "data": {
      "text/html": [
       "<pre style=\"white-space:pre;overflow-x:auto;line-height:normal;font-family:Menlo,'DejaVu Sans Mono',consolas,'Courier New',monospace\">┏━━━━━━━━━━━━━━━━━━━━━━━━━━━━━━━━━┳━━━━━━━━━━━━━━━━━━━━━━━━┳━━━━━━━━━━━━━━━┓\n",
       "┃<span style=\"font-weight: bold\"> Layer (type)                    </span>┃<span style=\"font-weight: bold\"> Output Shape           </span>┃<span style=\"font-weight: bold\">       Param # </span>┃\n",
       "┡━━━━━━━━━━━━━━━━━━━━━━━━━━━━━━━━━╇━━━━━━━━━━━━━━━━━━━━━━━━╇━━━━━━━━━━━━━━━┩\n",
       "│ conv2d_12 (<span style=\"color: #0087ff; text-decoration-color: #0087ff\">Conv2D</span>)              │ (<span style=\"color: #00d7ff; text-decoration-color: #00d7ff\">None</span>, <span style=\"color: #00af00; text-decoration-color: #00af00\">64</span>, <span style=\"color: #00af00; text-decoration-color: #00af00\">64</span>, <span style=\"color: #00af00; text-decoration-color: #00af00\">128</span>)    │         <span style=\"color: #00af00; text-decoration-color: #00af00\">6,272</span> │\n",
       "├─────────────────────────────────┼────────────────────────┼───────────────┤\n",
       "│ max_pooling2d_12 (<span style=\"color: #0087ff; text-decoration-color: #0087ff\">MaxPooling2D</span>) │ (<span style=\"color: #00d7ff; text-decoration-color: #00d7ff\">None</span>, <span style=\"color: #00af00; text-decoration-color: #00af00\">32</span>, <span style=\"color: #00af00; text-decoration-color: #00af00\">32</span>, <span style=\"color: #00af00; text-decoration-color: #00af00\">128</span>)    │             <span style=\"color: #00af00; text-decoration-color: #00af00\">0</span> │\n",
       "├─────────────────────────────────┼────────────────────────┼───────────────┤\n",
       "│ conv2d_13 (<span style=\"color: #0087ff; text-decoration-color: #0087ff\">Conv2D</span>)              │ (<span style=\"color: #00d7ff; text-decoration-color: #00d7ff\">None</span>, <span style=\"color: #00af00; text-decoration-color: #00af00\">32</span>, <span style=\"color: #00af00; text-decoration-color: #00af00\">32</span>, <span style=\"color: #00af00; text-decoration-color: #00af00\">64</span>)     │       <span style=\"color: #00af00; text-decoration-color: #00af00\">131,136</span> │\n",
       "├─────────────────────────────────┼────────────────────────┼───────────────┤\n",
       "│ max_pooling2d_13 (<span style=\"color: #0087ff; text-decoration-color: #0087ff\">MaxPooling2D</span>) │ (<span style=\"color: #00d7ff; text-decoration-color: #00d7ff\">None</span>, <span style=\"color: #00af00; text-decoration-color: #00af00\">16</span>, <span style=\"color: #00af00; text-decoration-color: #00af00\">16</span>, <span style=\"color: #00af00; text-decoration-color: #00af00\">64</span>)     │             <span style=\"color: #00af00; text-decoration-color: #00af00\">0</span> │\n",
       "├─────────────────────────────────┼────────────────────────┼───────────────┤\n",
       "│ conv2d_14 (<span style=\"color: #0087ff; text-decoration-color: #0087ff\">Conv2D</span>)              │ (<span style=\"color: #00d7ff; text-decoration-color: #00d7ff\">None</span>, <span style=\"color: #00af00; text-decoration-color: #00af00\">16</span>, <span style=\"color: #00af00; text-decoration-color: #00af00\">16</span>, <span style=\"color: #00af00; text-decoration-color: #00af00\">32</span>)     │        <span style=\"color: #00af00; text-decoration-color: #00af00\">32,800</span> │\n",
       "├─────────────────────────────────┼────────────────────────┼───────────────┤\n",
       "│ max_pooling2d_14 (<span style=\"color: #0087ff; text-decoration-color: #0087ff\">MaxPooling2D</span>) │ (<span style=\"color: #00d7ff; text-decoration-color: #00d7ff\">None</span>, <span style=\"color: #00af00; text-decoration-color: #00af00\">8</span>, <span style=\"color: #00af00; text-decoration-color: #00af00\">8</span>, <span style=\"color: #00af00; text-decoration-color: #00af00\">32</span>)       │             <span style=\"color: #00af00; text-decoration-color: #00af00\">0</span> │\n",
       "├─────────────────────────────────┼────────────────────────┼───────────────┤\n",
       "│ conv2d_15 (<span style=\"color: #0087ff; text-decoration-color: #0087ff\">Conv2D</span>)              │ (<span style=\"color: #00d7ff; text-decoration-color: #00d7ff\">None</span>, <span style=\"color: #00af00; text-decoration-color: #00af00\">8</span>, <span style=\"color: #00af00; text-decoration-color: #00af00\">8</span>, <span style=\"color: #00af00; text-decoration-color: #00af00\">16</span>)       │         <span style=\"color: #00af00; text-decoration-color: #00af00\">8,208</span> │\n",
       "├─────────────────────────────────┼────────────────────────┼───────────────┤\n",
       "│ max_pooling2d_15 (<span style=\"color: #0087ff; text-decoration-color: #0087ff\">MaxPooling2D</span>) │ (<span style=\"color: #00d7ff; text-decoration-color: #00d7ff\">None</span>, <span style=\"color: #00af00; text-decoration-color: #00af00\">4</span>, <span style=\"color: #00af00; text-decoration-color: #00af00\">4</span>, <span style=\"color: #00af00; text-decoration-color: #00af00\">16</span>)       │             <span style=\"color: #00af00; text-decoration-color: #00af00\">0</span> │\n",
       "├─────────────────────────────────┼────────────────────────┼───────────────┤\n",
       "│ flatten_3 (<span style=\"color: #0087ff; text-decoration-color: #0087ff\">Flatten</span>)             │ (<span style=\"color: #00d7ff; text-decoration-color: #00d7ff\">None</span>, <span style=\"color: #00af00; text-decoration-color: #00af00\">256</span>)            │             <span style=\"color: #00af00; text-decoration-color: #00af00\">0</span> │\n",
       "├─────────────────────────────────┼────────────────────────┼───────────────┤\n",
       "│ dense_6 (<span style=\"color: #0087ff; text-decoration-color: #0087ff\">Dense</span>)                 │ (<span style=\"color: #00d7ff; text-decoration-color: #00d7ff\">None</span>, <span style=\"color: #00af00; text-decoration-color: #00af00\">128</span>)            │        <span style=\"color: #00af00; text-decoration-color: #00af00\">32,896</span> │\n",
       "├─────────────────────────────────┼────────────────────────┼───────────────┤\n",
       "│ dropout_3 (<span style=\"color: #0087ff; text-decoration-color: #0087ff\">Dropout</span>)             │ (<span style=\"color: #00d7ff; text-decoration-color: #00d7ff\">None</span>, <span style=\"color: #00af00; text-decoration-color: #00af00\">128</span>)            │             <span style=\"color: #00af00; text-decoration-color: #00af00\">0</span> │\n",
       "├─────────────────────────────────┼────────────────────────┼───────────────┤\n",
       "│ dense_7 (<span style=\"color: #0087ff; text-decoration-color: #0087ff\">Dense</span>)                 │ (<span style=\"color: #00d7ff; text-decoration-color: #00d7ff\">None</span>, <span style=\"color: #00af00; text-decoration-color: #00af00\">32</span>)             │         <span style=\"color: #00af00; text-decoration-color: #00af00\">4,128</span> │\n",
       "└─────────────────────────────────┴────────────────────────┴───────────────┘\n",
       "</pre>\n"
      ],
      "text/plain": [
       "┏━━━━━━━━━━━━━━━━━━━━━━━━━━━━━━━━━┳━━━━━━━━━━━━━━━━━━━━━━━━┳━━━━━━━━━━━━━━━┓\n",
       "┃\u001b[1m \u001b[0m\u001b[1mLayer (type)                   \u001b[0m\u001b[1m \u001b[0m┃\u001b[1m \u001b[0m\u001b[1mOutput Shape          \u001b[0m\u001b[1m \u001b[0m┃\u001b[1m \u001b[0m\u001b[1m      Param #\u001b[0m\u001b[1m \u001b[0m┃\n",
       "┡━━━━━━━━━━━━━━━━━━━━━━━━━━━━━━━━━╇━━━━━━━━━━━━━━━━━━━━━━━━╇━━━━━━━━━━━━━━━┩\n",
       "│ conv2d_12 (\u001b[38;5;33mConv2D\u001b[0m)              │ (\u001b[38;5;45mNone\u001b[0m, \u001b[38;5;34m64\u001b[0m, \u001b[38;5;34m64\u001b[0m, \u001b[38;5;34m128\u001b[0m)    │         \u001b[38;5;34m6,272\u001b[0m │\n",
       "├─────────────────────────────────┼────────────────────────┼───────────────┤\n",
       "│ max_pooling2d_12 (\u001b[38;5;33mMaxPooling2D\u001b[0m) │ (\u001b[38;5;45mNone\u001b[0m, \u001b[38;5;34m32\u001b[0m, \u001b[38;5;34m32\u001b[0m, \u001b[38;5;34m128\u001b[0m)    │             \u001b[38;5;34m0\u001b[0m │\n",
       "├─────────────────────────────────┼────────────────────────┼───────────────┤\n",
       "│ conv2d_13 (\u001b[38;5;33mConv2D\u001b[0m)              │ (\u001b[38;5;45mNone\u001b[0m, \u001b[38;5;34m32\u001b[0m, \u001b[38;5;34m32\u001b[0m, \u001b[38;5;34m64\u001b[0m)     │       \u001b[38;5;34m131,136\u001b[0m │\n",
       "├─────────────────────────────────┼────────────────────────┼───────────────┤\n",
       "│ max_pooling2d_13 (\u001b[38;5;33mMaxPooling2D\u001b[0m) │ (\u001b[38;5;45mNone\u001b[0m, \u001b[38;5;34m16\u001b[0m, \u001b[38;5;34m16\u001b[0m, \u001b[38;5;34m64\u001b[0m)     │             \u001b[38;5;34m0\u001b[0m │\n",
       "├─────────────────────────────────┼────────────────────────┼───────────────┤\n",
       "│ conv2d_14 (\u001b[38;5;33mConv2D\u001b[0m)              │ (\u001b[38;5;45mNone\u001b[0m, \u001b[38;5;34m16\u001b[0m, \u001b[38;5;34m16\u001b[0m, \u001b[38;5;34m32\u001b[0m)     │        \u001b[38;5;34m32,800\u001b[0m │\n",
       "├─────────────────────────────────┼────────────────────────┼───────────────┤\n",
       "│ max_pooling2d_14 (\u001b[38;5;33mMaxPooling2D\u001b[0m) │ (\u001b[38;5;45mNone\u001b[0m, \u001b[38;5;34m8\u001b[0m, \u001b[38;5;34m8\u001b[0m, \u001b[38;5;34m32\u001b[0m)       │             \u001b[38;5;34m0\u001b[0m │\n",
       "├─────────────────────────────────┼────────────────────────┼───────────────┤\n",
       "│ conv2d_15 (\u001b[38;5;33mConv2D\u001b[0m)              │ (\u001b[38;5;45mNone\u001b[0m, \u001b[38;5;34m8\u001b[0m, \u001b[38;5;34m8\u001b[0m, \u001b[38;5;34m16\u001b[0m)       │         \u001b[38;5;34m8,208\u001b[0m │\n",
       "├─────────────────────────────────┼────────────────────────┼───────────────┤\n",
       "│ max_pooling2d_15 (\u001b[38;5;33mMaxPooling2D\u001b[0m) │ (\u001b[38;5;45mNone\u001b[0m, \u001b[38;5;34m4\u001b[0m, \u001b[38;5;34m4\u001b[0m, \u001b[38;5;34m16\u001b[0m)       │             \u001b[38;5;34m0\u001b[0m │\n",
       "├─────────────────────────────────┼────────────────────────┼───────────────┤\n",
       "│ flatten_3 (\u001b[38;5;33mFlatten\u001b[0m)             │ (\u001b[38;5;45mNone\u001b[0m, \u001b[38;5;34m256\u001b[0m)            │             \u001b[38;5;34m0\u001b[0m │\n",
       "├─────────────────────────────────┼────────────────────────┼───────────────┤\n",
       "│ dense_6 (\u001b[38;5;33mDense\u001b[0m)                 │ (\u001b[38;5;45mNone\u001b[0m, \u001b[38;5;34m128\u001b[0m)            │        \u001b[38;5;34m32,896\u001b[0m │\n",
       "├─────────────────────────────────┼────────────────────────┼───────────────┤\n",
       "│ dropout_3 (\u001b[38;5;33mDropout\u001b[0m)             │ (\u001b[38;5;45mNone\u001b[0m, \u001b[38;5;34m128\u001b[0m)            │             \u001b[38;5;34m0\u001b[0m │\n",
       "├─────────────────────────────────┼────────────────────────┼───────────────┤\n",
       "│ dense_7 (\u001b[38;5;33mDense\u001b[0m)                 │ (\u001b[38;5;45mNone\u001b[0m, \u001b[38;5;34m32\u001b[0m)             │         \u001b[38;5;34m4,128\u001b[0m │\n",
       "└─────────────────────────────────┴────────────────────────┴───────────────┘\n"
      ]
     },
     "metadata": {},
     "output_type": "display_data"
    },
    {
     "data": {
      "text/html": [
       "<pre style=\"white-space:pre;overflow-x:auto;line-height:normal;font-family:Menlo,'DejaVu Sans Mono',consolas,'Courier New',monospace\"><span style=\"font-weight: bold\"> Total params: </span><span style=\"color: #00af00; text-decoration-color: #00af00\">215,440</span> (841.56 KB)\n",
       "</pre>\n"
      ],
      "text/plain": [
       "\u001b[1m Total params: \u001b[0m\u001b[38;5;34m215,440\u001b[0m (841.56 KB)\n"
      ]
     },
     "metadata": {},
     "output_type": "display_data"
    },
    {
     "data": {
      "text/html": [
       "<pre style=\"white-space:pre;overflow-x:auto;line-height:normal;font-family:Menlo,'DejaVu Sans Mono',consolas,'Courier New',monospace\"><span style=\"font-weight: bold\"> Trainable params: </span><span style=\"color: #00af00; text-decoration-color: #00af00\">215,440</span> (841.56 KB)\n",
       "</pre>\n"
      ],
      "text/plain": [
       "\u001b[1m Trainable params: \u001b[0m\u001b[38;5;34m215,440\u001b[0m (841.56 KB)\n"
      ]
     },
     "metadata": {},
     "output_type": "display_data"
    },
    {
     "data": {
      "text/html": [
       "<pre style=\"white-space:pre;overflow-x:auto;line-height:normal;font-family:Menlo,'DejaVu Sans Mono',consolas,'Courier New',monospace\"><span style=\"font-weight: bold\"> Non-trainable params: </span><span style=\"color: #00af00; text-decoration-color: #00af00\">0</span> (0.00 B)\n",
       "</pre>\n"
      ],
      "text/plain": [
       "\u001b[1m Non-trainable params: \u001b[0m\u001b[38;5;34m0\u001b[0m (0.00 B)\n"
      ]
     },
     "metadata": {},
     "output_type": "display_data"
    }
   ],
   "source": [
    "# Define the color model\n",
    "model_SGD = Sequential()\n",
    "\n",
    "# Add InputLayer with input shape\n",
    "model_SGD.add(InputLayer(shape=X_color.shape[1:]))\n",
    "\n",
    "# 1st Convolutional Layer\n",
    "model_SGD.add(Conv2D(128, (4, 4), padding='same', activation='relu'))\n",
    "\n",
    "# Max Pooling Layer\n",
    "model_SGD.add(MaxPool2D(pool_size=(2, 2)))\n",
    "\n",
    "# 2nd Convolutional Layer\n",
    "model_SGD.add(Conv2D(64, (4, 4), padding='same', activation='relu'))\n",
    "\n",
    "# Max Pooling Layer\n",
    "model_SGD.add(MaxPool2D(pool_size=(2, 2)))\n",
    "\n",
    "# 3rd Convolutional Layer\n",
    "model_SGD.add(Conv2D(32, (4, 4), padding='same', activation='relu'))\n",
    "\n",
    "# Max Pooling Layer\n",
    "model_SGD.add(MaxPool2D(pool_size=(2, 2)))\n",
    "\n",
    "# 4th Convolutional Layer\n",
    "model_SGD.add(Conv2D(16, (4, 4), padding='same', activation='relu'))\n",
    "\n",
    "# Max Pooling Layer\n",
    "model_SGD.add(MaxPool2D(pool_size=(2, 2)))\n",
    "\n",
    "# Flatten layer\n",
    "model_SGD.add(Flatten())\n",
    "\n",
    "# Fully Connected Dense Layer\n",
    "model_SGD.add(Dense(128, activation='relu'))\n",
    "\n",
    "# Dropout Layer\n",
    "model_SGD.add(Dropout(0.5))\n",
    "\n",
    "# Output Layer\n",
    "model_SGD.add(Dense(32, activation='softmax'))\n",
    "\n",
    "# Compile the model\n",
    "model_SGD.compile(optimizer= tf.keras.optimizers.SGD(learning_rate=0.01, momentum=0.9),\n",
    "              loss='sparse_categorical_crossentropy',\n",
    "              metrics=['accuracy'])\n",
    "\n",
    "# Print the model summary\n",
    "model_SGD.summary()"
   ]
  },
  {
   "cell_type": "code",
   "execution_count": 26,
   "id": "6d720a7f",
   "metadata": {
    "scrolled": true
   },
   "outputs": [
    {
     "name": "stdout",
     "output_type": "stream",
     "text": [
      "Epoch 1/30\n",
      "\u001b[1m87/87\u001b[0m \u001b[32m━━━━━━━━━━━━━━━━━━━━\u001b[0m\u001b[37m\u001b[0m \u001b[1m9s\u001b[0m 92ms/step - accuracy: 0.0592 - loss: 3.4426 - val_accuracy: 0.1396 - val_loss: 3.3193\n",
      "Epoch 2/30\n",
      "\u001b[1m87/87\u001b[0m \u001b[32m━━━━━━━━━━━━━━━━━━━━\u001b[0m\u001b[37m\u001b[0m \u001b[1m8s\u001b[0m 91ms/step - accuracy: 0.1500 - loss: 3.1035 - val_accuracy: 0.5065 - val_loss: 2.1008\n",
      "Epoch 3/30\n",
      "\u001b[1m87/87\u001b[0m \u001b[32m━━━━━━━━━━━━━━━━━━━━\u001b[0m\u001b[37m\u001b[0m \u001b[1m8s\u001b[0m 88ms/step - accuracy: 0.4663 - loss: 1.9125 - val_accuracy: 0.7208 - val_loss: 0.9087\n",
      "Epoch 4/30\n",
      "\u001b[1m87/87\u001b[0m \u001b[32m━━━━━━━━━━━━━━━━━━━━\u001b[0m\u001b[37m\u001b[0m \u001b[1m8s\u001b[0m 89ms/step - accuracy: 0.6792 - loss: 1.0773 - val_accuracy: 0.8247 - val_loss: 0.5008\n",
      "Epoch 5/30\n",
      "\u001b[1m87/87\u001b[0m \u001b[32m━━━━━━━━━━━━━━━━━━━━\u001b[0m\u001b[37m\u001b[0m \u001b[1m8s\u001b[0m 89ms/step - accuracy: 0.7412 - loss: 0.8267 - val_accuracy: 0.8377 - val_loss: 0.5353\n",
      "Epoch 6/30\n",
      "\u001b[1m87/87\u001b[0m \u001b[32m━━━━━━━━━━━━━━━━━━━━\u001b[0m\u001b[37m\u001b[0m \u001b[1m8s\u001b[0m 92ms/step - accuracy: 0.7632 - loss: 0.6992 - val_accuracy: 0.8961 - val_loss: 0.2971\n",
      "Epoch 7/30\n",
      "\u001b[1m87/87\u001b[0m \u001b[32m━━━━━━━━━━━━━━━━━━━━\u001b[0m\u001b[37m\u001b[0m \u001b[1m8s\u001b[0m 88ms/step - accuracy: 0.8368 - loss: 0.5386 - val_accuracy: 0.8929 - val_loss: 0.2680\n",
      "Epoch 8/30\n",
      "\u001b[1m87/87\u001b[0m \u001b[32m━━━━━━━━━━━━━━━━━━━━\u001b[0m\u001b[37m\u001b[0m \u001b[1m8s\u001b[0m 91ms/step - accuracy: 0.8615 - loss: 0.4269 - val_accuracy: 0.9123 - val_loss: 0.2764\n",
      "Epoch 9/30\n",
      "\u001b[1m87/87\u001b[0m \u001b[32m━━━━━━━━━━━━━━━━━━━━\u001b[0m\u001b[37m\u001b[0m \u001b[1m8s\u001b[0m 89ms/step - accuracy: 0.8804 - loss: 0.3752 - val_accuracy: 0.9318 - val_loss: 0.2084\n",
      "Epoch 10/30\n",
      "\u001b[1m87/87\u001b[0m \u001b[32m━━━━━━━━━━━━━━━━━━━━\u001b[0m\u001b[37m\u001b[0m \u001b[1m8s\u001b[0m 94ms/step - accuracy: 0.8861 - loss: 0.3477 - val_accuracy: 0.9513 - val_loss: 0.1540\n",
      "Epoch 11/30\n",
      "\u001b[1m87/87\u001b[0m \u001b[32m━━━━━━━━━━━━━━━━━━━━\u001b[0m\u001b[37m\u001b[0m \u001b[1m8s\u001b[0m 91ms/step - accuracy: 0.9216 - loss: 0.2378 - val_accuracy: 0.9383 - val_loss: 0.1463\n",
      "Epoch 12/30\n",
      "\u001b[1m87/87\u001b[0m \u001b[32m━━━━━━━━━━━━━━━━━━━━\u001b[0m\u001b[37m\u001b[0m \u001b[1m8s\u001b[0m 93ms/step - accuracy: 0.9088 - loss: 0.2855 - val_accuracy: 0.9513 - val_loss: 0.1512\n",
      "Epoch 13/30\n",
      "\u001b[1m87/87\u001b[0m \u001b[32m━━━━━━━━━━━━━━━━━━━━\u001b[0m\u001b[37m\u001b[0m \u001b[1m8s\u001b[0m 95ms/step - accuracy: 0.9306 - loss: 0.2286 - val_accuracy: 0.9351 - val_loss: 0.1547\n",
      "Epoch 14/30\n",
      "\u001b[1m87/87\u001b[0m \u001b[32m━━━━━━━━━━━━━━━━━━━━\u001b[0m\u001b[37m\u001b[0m \u001b[1m8s\u001b[0m 93ms/step - accuracy: 0.9434 - loss: 0.1740 - val_accuracy: 0.9221 - val_loss: 0.1886\n",
      "Epoch 15/30\n",
      "\u001b[1m87/87\u001b[0m \u001b[32m━━━━━━━━━━━━━━━━━━━━\u001b[0m\u001b[37m\u001b[0m \u001b[1m8s\u001b[0m 91ms/step - accuracy: 0.9423 - loss: 0.1837 - val_accuracy: 0.9675 - val_loss: 0.0891\n",
      "Epoch 16/30\n",
      "\u001b[1m87/87\u001b[0m \u001b[32m━━━━━━━━━━━━━━━━━━━━\u001b[0m\u001b[37m\u001b[0m \u001b[1m8s\u001b[0m 92ms/step - accuracy: 0.9490 - loss: 0.1460 - val_accuracy: 0.9578 - val_loss: 0.1260\n",
      "Epoch 17/30\n",
      "\u001b[1m87/87\u001b[0m \u001b[32m━━━━━━━━━━━━━━━━━━━━\u001b[0m\u001b[37m\u001b[0m \u001b[1m8s\u001b[0m 91ms/step - accuracy: 0.9516 - loss: 0.1474 - val_accuracy: 0.9610 - val_loss: 0.1226\n",
      "Epoch 18/30\n",
      "\u001b[1m87/87\u001b[0m \u001b[32m━━━━━━━━━━━━━━━━━━━━\u001b[0m\u001b[37m\u001b[0m \u001b[1m8s\u001b[0m 92ms/step - accuracy: 0.9623 - loss: 0.1159 - val_accuracy: 0.9675 - val_loss: 0.0871\n",
      "Epoch 19/30\n",
      "\u001b[1m87/87\u001b[0m \u001b[32m━━━━━━━━━━━━━━━━━━━━\u001b[0m\u001b[37m\u001b[0m \u001b[1m8s\u001b[0m 90ms/step - accuracy: 0.9696 - loss: 0.0974 - val_accuracy: 0.9903 - val_loss: 0.0635\n",
      "Epoch 20/30\n",
      "\u001b[1m87/87\u001b[0m \u001b[32m━━━━━━━━━━━━━━━━━━━━\u001b[0m\u001b[37m\u001b[0m \u001b[1m8s\u001b[0m 93ms/step - accuracy: 0.9711 - loss: 0.0911 - val_accuracy: 0.9740 - val_loss: 0.1076\n",
      "Epoch 21/30\n",
      "\u001b[1m87/87\u001b[0m \u001b[32m━━━━━━━━━━━━━━━━━━━━\u001b[0m\u001b[37m\u001b[0m \u001b[1m8s\u001b[0m 91ms/step - accuracy: 0.9755 - loss: 0.0812 - val_accuracy: 0.9805 - val_loss: 0.0638\n",
      "Epoch 22/30\n",
      "\u001b[1m87/87\u001b[0m \u001b[32m━━━━━━━━━━━━━━━━━━━━\u001b[0m\u001b[37m\u001b[0m \u001b[1m8s\u001b[0m 92ms/step - accuracy: 0.9764 - loss: 0.0822 - val_accuracy: 0.9805 - val_loss: 0.0779\n",
      "Epoch 23/30\n",
      "\u001b[1m87/87\u001b[0m \u001b[32m━━━━━━━━━━━━━━━━━━━━\u001b[0m\u001b[37m\u001b[0m \u001b[1m8s\u001b[0m 94ms/step - accuracy: 0.9708 - loss: 0.0949 - val_accuracy: 0.9805 - val_loss: 0.0563\n",
      "Epoch 24/30\n",
      "\u001b[1m87/87\u001b[0m \u001b[32m━━━━━━━━━━━━━━━━━━━━\u001b[0m\u001b[37m\u001b[0m \u001b[1m8s\u001b[0m 97ms/step - accuracy: 0.9860 - loss: 0.0497 - val_accuracy: 0.9740 - val_loss: 0.0923\n",
      "Epoch 25/30\n",
      "\u001b[1m87/87\u001b[0m \u001b[32m━━━━━━━━━━━━━━━━━━━━\u001b[0m\u001b[37m\u001b[0m \u001b[1m8s\u001b[0m 92ms/step - accuracy: 0.9830 - loss: 0.0612 - val_accuracy: 0.9805 - val_loss: 0.0659\n",
      "Epoch 26/30\n",
      "\u001b[1m87/87\u001b[0m \u001b[32m━━━━━━━━━━━━━━━━━━━━\u001b[0m\u001b[37m\u001b[0m \u001b[1m8s\u001b[0m 92ms/step - accuracy: 0.9828 - loss: 0.0640 - val_accuracy: 0.9740 - val_loss: 0.0792\n",
      "Epoch 27/30\n",
      "\u001b[1m87/87\u001b[0m \u001b[32m━━━━━━━━━━━━━━━━━━━━\u001b[0m\u001b[37m\u001b[0m \u001b[1m8s\u001b[0m 89ms/step - accuracy: 0.9854 - loss: 0.0527 - val_accuracy: 0.9838 - val_loss: 0.0659\n",
      "Epoch 28/30\n",
      "\u001b[1m87/87\u001b[0m \u001b[32m━━━━━━━━━━━━━━━━━━━━\u001b[0m\u001b[37m\u001b[0m \u001b[1m8s\u001b[0m 92ms/step - accuracy: 0.9892 - loss: 0.0274 - val_accuracy: 0.9805 - val_loss: 0.0787\n",
      "Epoch 29/30\n",
      "\u001b[1m87/87\u001b[0m \u001b[32m━━━━━━━━━━━━━━━━━━━━\u001b[0m\u001b[37m\u001b[0m \u001b[1m8s\u001b[0m 90ms/step - accuracy: 0.9828 - loss: 0.0463 - val_accuracy: 0.9838 - val_loss: 0.0579\n",
      "Epoch 30/30\n",
      "\u001b[1m87/87\u001b[0m \u001b[32m━━━━━━━━━━━━━━━━━━━━\u001b[0m\u001b[37m\u001b[0m \u001b[1m8s\u001b[0m 92ms/step - accuracy: 0.9764 - loss: 0.0886 - val_accuracy: 0.9740 - val_loss: 0.0780\n"
     ]
    }
   ],
   "source": [
    "# Train the model\n",
    "history = model_SGD.fit(X_color, y_color, epochs=30, validation_split=0.10,batch_size=32) "
   ]
  },
  {
   "cell_type": "code",
   "execution_count": 27,
   "id": "2c366435",
   "metadata": {
    "scrolled": true
   },
   "outputs": [
    {
     "data": {
      "image/png": "[encoded data removed]",
      "text/plain": [
       "<Figure size 640x480 with 1 Axes>"
      ]
     },
     "metadata": {},
     "output_type": "display_data"
    },
    {
     "data": {
      "image/png": "[encoded data removed]",
      "text/plain": [
       "<Figure size 640x480 with 1 Axes>"
      ]
     },
     "metadata": {},
     "output_type": "display_data"
    }
   ],
   "source": [
    "# Plot training & validation loss values\n",
    "plt.plot(history.history['loss'])\n",
    "plt.plot(history.history['val_loss'])\n",
    "plt.title('Model Loss')\n",
    "plt.ylabel('Loss')\n",
    "plt.xlabel('Epoch')\n",
    "plt.legend(['Train', 'Validation'], loc='upper left')\n",
    "plt.show()\n",
    "\n",
    "# Plot training & validation accuracy values\n",
    "plt.plot(history.history['accuracy'])\n",
    "plt.plot(history.history['val_accuracy'])\n",
    "plt.title('Model Accuracy')\n",
    "plt.ylabel('Accuracy')\n",
    "plt.xlabel('Epoch')\n",
    "plt.legend(['Train', 'Validation'], loc='upper left')\n",
    "plt.show()"
   ]
  },
  {
   "cell_type": "code",
   "execution_count": 28,
   "id": "052ba023",
   "metadata": {},
   "outputs": [
    {
     "name": "stdout",
     "output_type": "stream",
     "text": [
      "\u001b[1m11/11\u001b[0m \u001b[32m━━━━━━━━━━━━━━━━━━━━\u001b[0m\u001b[37m\u001b[0m \u001b[1m0s\u001b[0m 31ms/step - accuracy: 0.7208 - loss: 1.6347\n",
      "Test Loss: 1.4081426858901978\n",
      "Test Accuracy: 0.7329545617103577\n"
     ]
    }
   ],
   "source": [
    "# Evaluate the model on the test dataset\n",
    "loss, accuracy = model_SGD.evaluate(X_test_color, y_test_color)\n",
    "\n",
    "# Print the test loss and accuracy\n",
    "print(\"Test Loss:\", loss)\n",
    "print(\"Test Accuracy:\", accuracy)"
   ]
  },
  {
   "cell_type": "markdown",
   "id": "2d5b6781",
   "metadata": {},
   "source": [
    "## RMSPROP Optimiser"
   ]
  },
  {
   "cell_type": "code",
   "execution_count": 29,
   "id": "000ae8d8",
   "metadata": {},
   "outputs": [
    {
     "data": {
      "text/html": [
       "<pre style=\"white-space:pre;overflow-x:auto;line-height:normal;font-family:Menlo,'DejaVu Sans Mono',consolas,'Courier New',monospace\"><span style=\"font-weight: bold\">Model: \"sequential_4\"</span>\n",
       "</pre>\n"
      ],
      "text/plain": [
       "\u001b[1mModel: \"sequential_4\"\u001b[0m\n"
      ]
     },
     "metadata": {},
     "output_type": "display_data"
    },
    {
     "data": {
      "text/html": [
       "<pre style=\"white-space:pre;overflow-x:auto;line-height:normal;font-family:Menlo,'DejaVu Sans Mono',consolas,'Courier New',monospace\">┏━━━━━━━━━━━━━━━━━━━━━━━━━━━━━━━━━┳━━━━━━━━━━━━━━━━━━━━━━━━┳━━━━━━━━━━━━━━━┓\n",
       "┃<span style=\"font-weight: bold\"> Layer (type)                    </span>┃<span style=\"font-weight: bold\"> Output Shape           </span>┃<span style=\"font-weight: bold\">       Param # </span>┃\n",
       "┡━━━━━━━━━━━━━━━━━━━━━━━━━━━━━━━━━╇━━━━━━━━━━━━━━━━━━━━━━━━╇━━━━━━━━━━━━━━━┩\n",
       "│ conv2d_16 (<span style=\"color: #0087ff; text-decoration-color: #0087ff\">Conv2D</span>)              │ (<span style=\"color: #00d7ff; text-decoration-color: #00d7ff\">None</span>, <span style=\"color: #00af00; text-decoration-color: #00af00\">64</span>, <span style=\"color: #00af00; text-decoration-color: #00af00\">64</span>, <span style=\"color: #00af00; text-decoration-color: #00af00\">128</span>)    │         <span style=\"color: #00af00; text-decoration-color: #00af00\">6,272</span> │\n",
       "├─────────────────────────────────┼────────────────────────┼───────────────┤\n",
       "│ max_pooling2d_16 (<span style=\"color: #0087ff; text-decoration-color: #0087ff\">MaxPooling2D</span>) │ (<span style=\"color: #00d7ff; text-decoration-color: #00d7ff\">None</span>, <span style=\"color: #00af00; text-decoration-color: #00af00\">32</span>, <span style=\"color: #00af00; text-decoration-color: #00af00\">32</span>, <span style=\"color: #00af00; text-decoration-color: #00af00\">128</span>)    │             <span style=\"color: #00af00; text-decoration-color: #00af00\">0</span> │\n",
       "├─────────────────────────────────┼────────────────────────┼───────────────┤\n",
       "│ conv2d_17 (<span style=\"color: #0087ff; text-decoration-color: #0087ff\">Conv2D</span>)              │ (<span style=\"color: #00d7ff; text-decoration-color: #00d7ff\">None</span>, <span style=\"color: #00af00; text-decoration-color: #00af00\">32</span>, <span style=\"color: #00af00; text-decoration-color: #00af00\">32</span>, <span style=\"color: #00af00; text-decoration-color: #00af00\">64</span>)     │       <span style=\"color: #00af00; text-decoration-color: #00af00\">131,136</span> │\n",
       "├─────────────────────────────────┼────────────────────────┼───────────────┤\n",
       "│ max_pooling2d_17 (<span style=\"color: #0087ff; text-decoration-color: #0087ff\">MaxPooling2D</span>) │ (<span style=\"color: #00d7ff; text-decoration-color: #00d7ff\">None</span>, <span style=\"color: #00af00; text-decoration-color: #00af00\">16</span>, <span style=\"color: #00af00; text-decoration-color: #00af00\">16</span>, <span style=\"color: #00af00; text-decoration-color: #00af00\">64</span>)     │             <span style=\"color: #00af00; text-decoration-color: #00af00\">0</span> │\n",
       "├─────────────────────────────────┼────────────────────────┼───────────────┤\n",
       "│ conv2d_18 (<span style=\"color: #0087ff; text-decoration-color: #0087ff\">Conv2D</span>)              │ (<span style=\"color: #00d7ff; text-decoration-color: #00d7ff\">None</span>, <span style=\"color: #00af00; text-decoration-color: #00af00\">16</span>, <span style=\"color: #00af00; text-decoration-color: #00af00\">16</span>, <span style=\"color: #00af00; text-decoration-color: #00af00\">32</span>)     │        <span style=\"color: #00af00; text-decoration-color: #00af00\">32,800</span> │\n",
       "├─────────────────────────────────┼────────────────────────┼───────────────┤\n",
       "│ max_pooling2d_18 (<span style=\"color: #0087ff; text-decoration-color: #0087ff\">MaxPooling2D</span>) │ (<span style=\"color: #00d7ff; text-decoration-color: #00d7ff\">None</span>, <span style=\"color: #00af00; text-decoration-color: #00af00\">8</span>, <span style=\"color: #00af00; text-decoration-color: #00af00\">8</span>, <span style=\"color: #00af00; text-decoration-color: #00af00\">32</span>)       │             <span style=\"color: #00af00; text-decoration-color: #00af00\">0</span> │\n",
       "├─────────────────────────────────┼────────────────────────┼───────────────┤\n",
       "│ conv2d_19 (<span style=\"color: #0087ff; text-decoration-color: #0087ff\">Conv2D</span>)              │ (<span style=\"color: #00d7ff; text-decoration-color: #00d7ff\">None</span>, <span style=\"color: #00af00; text-decoration-color: #00af00\">8</span>, <span style=\"color: #00af00; text-decoration-color: #00af00\">8</span>, <span style=\"color: #00af00; text-decoration-color: #00af00\">16</span>)       │         <span style=\"color: #00af00; text-decoration-color: #00af00\">8,208</span> │\n",
       "├─────────────────────────────────┼────────────────────────┼───────────────┤\n",
       "│ max_pooling2d_19 (<span style=\"color: #0087ff; text-decoration-color: #0087ff\">MaxPooling2D</span>) │ (<span style=\"color: #00d7ff; text-decoration-color: #00d7ff\">None</span>, <span style=\"color: #00af00; text-decoration-color: #00af00\">4</span>, <span style=\"color: #00af00; text-decoration-color: #00af00\">4</span>, <span style=\"color: #00af00; text-decoration-color: #00af00\">16</span>)       │             <span style=\"color: #00af00; text-decoration-color: #00af00\">0</span> │\n",
       "├─────────────────────────────────┼────────────────────────┼───────────────┤\n",
       "│ flatten_4 (<span style=\"color: #0087ff; text-decoration-color: #0087ff\">Flatten</span>)             │ (<span style=\"color: #00d7ff; text-decoration-color: #00d7ff\">None</span>, <span style=\"color: #00af00; text-decoration-color: #00af00\">256</span>)            │             <span style=\"color: #00af00; text-decoration-color: #00af00\">0</span> │\n",
       "├─────────────────────────────────┼────────────────────────┼───────────────┤\n",
       "│ dense_8 (<span style=\"color: #0087ff; text-decoration-color: #0087ff\">Dense</span>)                 │ (<span style=\"color: #00d7ff; text-decoration-color: #00d7ff\">None</span>, <span style=\"color: #00af00; text-decoration-color: #00af00\">128</span>)            │        <span style=\"color: #00af00; text-decoration-color: #00af00\">32,896</span> │\n",
       "├─────────────────────────────────┼────────────────────────┼───────────────┤\n",
       "│ dropout_4 (<span style=\"color: #0087ff; text-decoration-color: #0087ff\">Dropout</span>)             │ (<span style=\"color: #00d7ff; text-decoration-color: #00d7ff\">None</span>, <span style=\"color: #00af00; text-decoration-color: #00af00\">128</span>)            │             <span style=\"color: #00af00; text-decoration-color: #00af00\">0</span> │\n",
       "├─────────────────────────────────┼────────────────────────┼───────────────┤\n",
       "│ dense_9 (<span style=\"color: #0087ff; text-decoration-color: #0087ff\">Dense</span>)                 │ (<span style=\"color: #00d7ff; text-decoration-color: #00d7ff\">None</span>, <span style=\"color: #00af00; text-decoration-color: #00af00\">32</span>)             │         <span style=\"color: #00af00; text-decoration-color: #00af00\">4,128</span> │\n",
       "└─────────────────────────────────┴────────────────────────┴───────────────┘\n",
       "</pre>\n"
      ],
      "text/plain": [
       "┏━━━━━━━━━━━━━━━━━━━━━━━━━━━━━━━━━┳━━━━━━━━━━━━━━━━━━━━━━━━┳━━━━━━━━━━━━━━━┓\n",
       "┃\u001b[1m \u001b[0m\u001b[1mLayer (type)                   \u001b[0m\u001b[1m \u001b[0m┃\u001b[1m \u001b[0m\u001b[1mOutput Shape          \u001b[0m\u001b[1m \u001b[0m┃\u001b[1m \u001b[0m\u001b[1m      Param #\u001b[0m\u001b[1m \u001b[0m┃\n",
       "┡━━━━━━━━━━━━━━━━━━━━━━━━━━━━━━━━━╇━━━━━━━━━━━━━━━━━━━━━━━━╇━━━━━━━━━━━━━━━┩\n",
       "│ conv2d_16 (\u001b[38;5;33mConv2D\u001b[0m)              │ (\u001b[38;5;45mNone\u001b[0m, \u001b[38;5;34m64\u001b[0m, \u001b[38;5;34m64\u001b[0m, \u001b[38;5;34m128\u001b[0m)    │         \u001b[38;5;34m6,272\u001b[0m │\n",
       "├─────────────────────────────────┼────────────────────────┼───────────────┤\n",
       "│ max_pooling2d_16 (\u001b[38;5;33mMaxPooling2D\u001b[0m) │ (\u001b[38;5;45mNone\u001b[0m, \u001b[38;5;34m32\u001b[0m, \u001b[38;5;34m32\u001b[0m, \u001b[38;5;34m128\u001b[0m)    │             \u001b[38;5;34m0\u001b[0m │\n",
       "├─────────────────────────────────┼────────────────────────┼───────────────┤\n",
       "│ conv2d_17 (\u001b[38;5;33mConv2D\u001b[0m)              │ (\u001b[38;5;45mNone\u001b[0m, \u001b[38;5;34m32\u001b[0m, \u001b[38;5;34m32\u001b[0m, \u001b[38;5;34m64\u001b[0m)     │       \u001b[38;5;34m131,136\u001b[0m │\n",
       "├─────────────────────────────────┼────────────────────────┼───────────────┤\n",
       "│ max_pooling2d_17 (\u001b[38;5;33mMaxPooling2D\u001b[0m) │ (\u001b[38;5;45mNone\u001b[0m, \u001b[38;5;34m16\u001b[0m, \u001b[38;5;34m16\u001b[0m, \u001b[38;5;34m64\u001b[0m)     │             \u001b[38;5;34m0\u001b[0m │\n",
       "├─────────────────────────────────┼────────────────────────┼───────────────┤\n",
       "│ conv2d_18 (\u001b[38;5;33mConv2D\u001b[0m)              │ (\u001b[38;5;45mNone\u001b[0m, \u001b[38;5;34m16\u001b[0m, \u001b[38;5;34m16\u001b[0m, \u001b[38;5;34m32\u001b[0m)     │        \u001b[38;5;34m32,800\u001b[0m │\n",
       "├─────────────────────────────────┼────────────────────────┼───────────────┤\n",
       "│ max_pooling2d_18 (\u001b[38;5;33mMaxPooling2D\u001b[0m) │ (\u001b[38;5;45mNone\u001b[0m, \u001b[38;5;34m8\u001b[0m, \u001b[38;5;34m8\u001b[0m, \u001b[38;5;34m32\u001b[0m)       │             \u001b[38;5;34m0\u001b[0m │\n",
       "├─────────────────────────────────┼────────────────────────┼───────────────┤\n",
       "│ conv2d_19 (\u001b[38;5;33mConv2D\u001b[0m)              │ (\u001b[38;5;45mNone\u001b[0m, \u001b[38;5;34m8\u001b[0m, \u001b[38;5;34m8\u001b[0m, \u001b[38;5;34m16\u001b[0m)       │         \u001b[38;5;34m8,208\u001b[0m │\n",
       "├─────────────────────────────────┼────────────────────────┼───────────────┤\n",
       "│ max_pooling2d_19 (\u001b[38;5;33mMaxPooling2D\u001b[0m) │ (\u001b[38;5;45mNone\u001b[0m, \u001b[38;5;34m4\u001b[0m, \u001b[38;5;34m4\u001b[0m, \u001b[38;5;34m16\u001b[0m)       │             \u001b[38;5;34m0\u001b[0m │\n",
       "├─────────────────────────────────┼────────────────────────┼───────────────┤\n",
       "│ flatten_4 (\u001b[38;5;33mFlatten\u001b[0m)             │ (\u001b[38;5;45mNone\u001b[0m, \u001b[38;5;34m256\u001b[0m)            │             \u001b[38;5;34m0\u001b[0m │\n",
       "├─────────────────────────────────┼────────────────────────┼───────────────┤\n",
       "│ dense_8 (\u001b[38;5;33mDense\u001b[0m)                 │ (\u001b[38;5;45mNone\u001b[0m, \u001b[38;5;34m128\u001b[0m)            │        \u001b[38;5;34m32,896\u001b[0m │\n",
       "├─────────────────────────────────┼────────────────────────┼───────────────┤\n",
       "│ dropout_4 (\u001b[38;5;33mDropout\u001b[0m)             │ (\u001b[38;5;45mNone\u001b[0m, \u001b[38;5;34m128\u001b[0m)            │             \u001b[38;5;34m0\u001b[0m │\n",
       "├─────────────────────────────────┼────────────────────────┼───────────────┤\n",
       "│ dense_9 (\u001b[38;5;33mDense\u001b[0m)                 │ (\u001b[38;5;45mNone\u001b[0m, \u001b[38;5;34m32\u001b[0m)             │         \u001b[38;5;34m4,128\u001b[0m │\n",
       "└─────────────────────────────────┴────────────────────────┴───────────────┘\n"
      ]
     },
     "metadata": {},
     "output_type": "display_data"
    },
    {
     "data": {
      "text/html": [
       "<pre style=\"white-space:pre;overflow-x:auto;line-height:normal;font-family:Menlo,'DejaVu Sans Mono',consolas,'Courier New',monospace\"><span style=\"font-weight: bold\"> Total params: </span><span style=\"color: #00af00; text-decoration-color: #00af00\">215,440</span> (841.56 KB)\n",
       "</pre>\n"
      ],
      "text/plain": [
       "\u001b[1m Total params: \u001b[0m\u001b[38;5;34m215,440\u001b[0m (841.56 KB)\n"
      ]
     },
     "metadata": {},
     "output_type": "display_data"
    },
    {
     "data": {
      "text/html": [
       "<pre style=\"white-space:pre;overflow-x:auto;line-height:normal;font-family:Menlo,'DejaVu Sans Mono',consolas,'Courier New',monospace\"><span style=\"font-weight: bold\"> Trainable params: </span><span style=\"color: #00af00; text-decoration-color: #00af00\">215,440</span> (841.56 KB)\n",
       "</pre>\n"
      ],
      "text/plain": [
       "\u001b[1m Trainable params: \u001b[0m\u001b[38;5;34m215,440\u001b[0m (841.56 KB)\n"
      ]
     },
     "metadata": {},
     "output_type": "display_data"
    },
    {
     "data": {
      "text/html": [
       "<pre style=\"white-space:pre;overflow-x:auto;line-height:normal;font-family:Menlo,'DejaVu Sans Mono',consolas,'Courier New',monospace\"><span style=\"font-weight: bold\"> Non-trainable params: </span><span style=\"color: #00af00; text-decoration-color: #00af00\">0</span> (0.00 B)\n",
       "</pre>\n"
      ],
      "text/plain": [
       "\u001b[1m Non-trainable params: \u001b[0m\u001b[38;5;34m0\u001b[0m (0.00 B)\n"
      ]
     },
     "metadata": {},
     "output_type": "display_data"
    }
   ],
   "source": [
    "# Define the color model\n",
    "model_RMS = Sequential()\n",
    "\n",
    "# Add InputLayer with input shape\n",
    "model_RMS.add(InputLayer(shape=X_color.shape[1:]))\n",
    "\n",
    "# 1st Convolutional Layer\n",
    "model_RMS.add(Conv2D(128, (4, 4), padding='same', activation='relu'))\n",
    "\n",
    "# Max Pooling Layer\n",
    "model_RMS.add(MaxPool2D(pool_size=(2, 2)))\n",
    "\n",
    "# 2nd Convolutional Layer\n",
    "model_RMS.add(Conv2D(64, (4, 4), padding='same', activation='relu'))\n",
    "\n",
    "# Max Pooling Layer\n",
    "model_RMS.add(MaxPool2D(pool_size=(2, 2)))\n",
    "\n",
    "# 3rd Convolutional Layer\n",
    "model_RMS.add(Conv2D(32, (4, 4), padding='same', activation='relu'))\n",
    "\n",
    "# Max Pooling Layer\n",
    "model_RMS.add(MaxPool2D(pool_size=(2, 2)))\n",
    "\n",
    "# 4th Convolutional Layer\n",
    "model_RMS.add(Conv2D(16, (4, 4), padding='same', activation='relu'))\n",
    "\n",
    "# Max Pooling Layer\n",
    "model_RMS.add(MaxPool2D(pool_size=(2, 2)))\n",
    "\n",
    "# Flatten layer\n",
    "model_RMS.add(Flatten())\n",
    "\n",
    "# Fully Connected Dense Layer\n",
    "model_RMS.add(Dense(128, activation='relu'))\n",
    "\n",
    "# Dropout Layer\n",
    "model_RMS.add(Dropout(0.5))\n",
    "\n",
    "# Output Layer\n",
    "model_RMS.add(Dense(32, activation='softmax'))\n",
    "\n",
    "# Compile the model\n",
    "# tf.keras.optimizers.SGD(learning_rate=0.01, momentum=0.9)\n",
    "model_RMS.compile(optimizer= 'rmsprop',\n",
    "              loss='sparse_categorical_crossentropy',\n",
    "              metrics=['accuracy'])\n",
    "\n",
    "# Print the model summary\n",
    "model_RMS.summary()"
   ]
  },
  {
   "cell_type": "code",
   "execution_count": 30,
   "id": "b946059c",
   "metadata": {
    "scrolled": true
   },
   "outputs": [
    {
     "name": "stdout",
     "output_type": "stream",
     "text": [
      "Epoch 1/30\n",
      "\u001b[1m87/87\u001b[0m \u001b[32m━━━━━━━━━━━━━━━━━━━━\u001b[0m\u001b[37m\u001b[0m \u001b[1m9s\u001b[0m 93ms/step - accuracy: 0.0753 - loss: 3.3676 - val_accuracy: 0.2695 - val_loss: 2.6068\n",
      "Epoch 2/30\n",
      "\u001b[1m87/87\u001b[0m \u001b[32m━━━━━━━━━━━━━━━━━━━━\u001b[0m\u001b[37m\u001b[0m \u001b[1m8s\u001b[0m 91ms/step - accuracy: 0.2983 - loss: 2.5071 - val_accuracy: 0.6461 - val_loss: 1.5007\n",
      "Epoch 3/30\n",
      "\u001b[1m87/87\u001b[0m \u001b[32m━━━━━━━━━━━━━━━━━━━━\u001b[0m\u001b[37m\u001b[0m \u001b[1m8s\u001b[0m 90ms/step - accuracy: 0.5728 - loss: 1.5919 - val_accuracy: 0.7890 - val_loss: 0.7896\n",
      "Epoch 4/30\n",
      "\u001b[1m87/87\u001b[0m \u001b[32m━━━━━━━━━━━━━━━━━━━━\u001b[0m\u001b[37m\u001b[0m \u001b[1m8s\u001b[0m 93ms/step - accuracy: 0.6959 - loss: 1.0595 - val_accuracy: 0.8571 - val_loss: 0.4876\n",
      "Epoch 5/30\n",
      "\u001b[1m87/87\u001b[0m \u001b[32m━━━━━━━━━━━━━━━━━━━━\u001b[0m\u001b[37m\u001b[0m \u001b[1m8s\u001b[0m 92ms/step - accuracy: 0.7626 - loss: 0.7746 - val_accuracy: 0.9026 - val_loss: 0.3887\n",
      "Epoch 6/30\n",
      "\u001b[1m87/87\u001b[0m \u001b[32m━━━━━━━━━━━━━━━━━━━━\u001b[0m\u001b[37m\u001b[0m \u001b[1m8s\u001b[0m 91ms/step - accuracy: 0.8075 - loss: 0.6223 - val_accuracy: 0.9123 - val_loss: 0.2969\n",
      "Epoch 7/30\n",
      "\u001b[1m87/87\u001b[0m \u001b[32m━━━━━━━━━━━━━━━━━━━━\u001b[0m\u001b[37m\u001b[0m \u001b[1m8s\u001b[0m 88ms/step - accuracy: 0.8600 - loss: 0.4550 - val_accuracy: 0.9188 - val_loss: 0.3006\n",
      "Epoch 8/30\n",
      "\u001b[1m87/87\u001b[0m \u001b[32m━━━━━━━━━━━━━━━━━━━━\u001b[0m\u001b[37m\u001b[0m \u001b[1m8s\u001b[0m 91ms/step - accuracy: 0.8707 - loss: 0.4005 - val_accuracy: 0.9351 - val_loss: 0.2497\n",
      "Epoch 9/30\n",
      "\u001b[1m87/87\u001b[0m \u001b[32m━━━━━━━━━━━━━━━━━━━━\u001b[0m\u001b[37m\u001b[0m \u001b[1m8s\u001b[0m 89ms/step - accuracy: 0.8977 - loss: 0.3045 - val_accuracy: 0.9545 - val_loss: 0.1648\n",
      "Epoch 10/30\n",
      "\u001b[1m87/87\u001b[0m \u001b[32m━━━━━━━━━━━━━━━━━━━━\u001b[0m\u001b[37m\u001b[0m \u001b[1m8s\u001b[0m 94ms/step - accuracy: 0.9217 - loss: 0.2521 - val_accuracy: 0.9545 - val_loss: 0.1581\n",
      "Epoch 11/30\n",
      "\u001b[1m87/87\u001b[0m \u001b[32m━━━━━━━━━━━━━━━━━━━━\u001b[0m\u001b[37m\u001b[0m \u001b[1m8s\u001b[0m 90ms/step - accuracy: 0.9301 - loss: 0.2329 - val_accuracy: 0.9740 - val_loss: 0.0892\n",
      "Epoch 12/30\n",
      "\u001b[1m87/87\u001b[0m \u001b[32m━━━━━━━━━━━━━━━━━━━━\u001b[0m\u001b[37m\u001b[0m \u001b[1m8s\u001b[0m 91ms/step - accuracy: 0.9492 - loss: 0.1716 - val_accuracy: 0.9773 - val_loss: 0.0915\n",
      "Epoch 13/30\n",
      "\u001b[1m87/87\u001b[0m \u001b[32m━━━━━━━━━━━━━━━━━━━━\u001b[0m\u001b[37m\u001b[0m \u001b[1m8s\u001b[0m 90ms/step - accuracy: 0.9566 - loss: 0.1295 - val_accuracy: 0.9870 - val_loss: 0.0728\n",
      "Epoch 14/30\n",
      "\u001b[1m87/87\u001b[0m \u001b[32m━━━━━━━━━━━━━━━━━━━━\u001b[0m\u001b[37m\u001b[0m \u001b[1m8s\u001b[0m 92ms/step - accuracy: 0.9703 - loss: 0.1041 - val_accuracy: 0.9870 - val_loss: 0.0598\n",
      "Epoch 15/30\n",
      "\u001b[1m87/87\u001b[0m \u001b[32m━━━━━━━━━━━━━━━━━━━━\u001b[0m\u001b[37m\u001b[0m \u001b[1m8s\u001b[0m 92ms/step - accuracy: 0.9621 - loss: 0.1176 - val_accuracy: 0.9870 - val_loss: 0.0552\n",
      "Epoch 16/30\n",
      "\u001b[1m87/87\u001b[0m \u001b[32m━━━━━━━━━━━━━━━━━━━━\u001b[0m\u001b[37m\u001b[0m \u001b[1m8s\u001b[0m 91ms/step - accuracy: 0.9734 - loss: 0.0786 - val_accuracy: 0.9805 - val_loss: 0.0947\n",
      "Epoch 17/30\n",
      "\u001b[1m87/87\u001b[0m \u001b[32m━━━━━━━━━━━━━━━━━━━━\u001b[0m\u001b[37m\u001b[0m \u001b[1m8s\u001b[0m 88ms/step - accuracy: 0.9673 - loss: 0.0849 - val_accuracy: 0.9903 - val_loss: 0.0602\n",
      "Epoch 18/30\n",
      "\u001b[1m87/87\u001b[0m \u001b[32m━━━━━━━━━━━━━━━━━━━━\u001b[0m\u001b[37m\u001b[0m \u001b[1m8s\u001b[0m 91ms/step - accuracy: 0.9836 - loss: 0.0543 - val_accuracy: 0.9870 - val_loss: 0.0688\n",
      "Epoch 19/30\n",
      "\u001b[1m87/87\u001b[0m \u001b[32m━━━━━━━━━━━━━━━━━━━━\u001b[0m\u001b[37m\u001b[0m \u001b[1m8s\u001b[0m 89ms/step - accuracy: 0.9817 - loss: 0.0570 - val_accuracy: 0.9903 - val_loss: 0.0533\n",
      "Epoch 20/30\n",
      "\u001b[1m87/87\u001b[0m \u001b[32m━━━━━━━━━━━━━━━━━━━━\u001b[0m\u001b[37m\u001b[0m \u001b[1m8s\u001b[0m 92ms/step - accuracy: 0.9806 - loss: 0.0606 - val_accuracy: 0.9838 - val_loss: 0.0806\n",
      "Epoch 21/30\n",
      "\u001b[1m87/87\u001b[0m \u001b[32m━━━━━━━━━━━━━━━━━━━━\u001b[0m\u001b[37m\u001b[0m \u001b[1m8s\u001b[0m 91ms/step - accuracy: 0.9875 - loss: 0.0428 - val_accuracy: 0.9838 - val_loss: 0.0601\n",
      "Epoch 22/30\n",
      "\u001b[1m87/87\u001b[0m \u001b[32m━━━━━━━━━━━━━━━━━━━━\u001b[0m\u001b[37m\u001b[0m \u001b[1m8s\u001b[0m 94ms/step - accuracy: 0.9874 - loss: 0.0458 - val_accuracy: 0.9708 - val_loss: 0.1431\n",
      "Epoch 23/30\n",
      "\u001b[1m87/87\u001b[0m \u001b[32m━━━━━━━━━━━━━━━━━━━━\u001b[0m\u001b[37m\u001b[0m \u001b[1m8s\u001b[0m 90ms/step - accuracy: 0.9862 - loss: 0.0456 - val_accuracy: 0.9870 - val_loss: 0.0763\n",
      "Epoch 24/30\n",
      "\u001b[1m87/87\u001b[0m \u001b[32m━━━━━━━━━━━━━━━━━━━━\u001b[0m\u001b[37m\u001b[0m \u001b[1m8s\u001b[0m 93ms/step - accuracy: 0.9896 - loss: 0.0390 - val_accuracy: 0.9870 - val_loss: 0.0923\n",
      "Epoch 25/30\n",
      "\u001b[1m87/87\u001b[0m \u001b[32m━━━━━━━━━━━━━━━━━━━━\u001b[0m\u001b[37m\u001b[0m \u001b[1m8s\u001b[0m 91ms/step - accuracy: 0.9876 - loss: 0.0364 - val_accuracy: 0.9870 - val_loss: 0.1265\n",
      "Epoch 26/30\n",
      "\u001b[1m87/87\u001b[0m \u001b[32m━━━━━━━━━━━━━━━━━━━━\u001b[0m\u001b[37m\u001b[0m \u001b[1m8s\u001b[0m 94ms/step - accuracy: 0.9901 - loss: 0.0344 - val_accuracy: 0.9805 - val_loss: 0.1744\n",
      "Epoch 27/30\n",
      "\u001b[1m87/87\u001b[0m \u001b[32m━━━━━━━━━━━━━━━━━━━━\u001b[0m\u001b[37m\u001b[0m \u001b[1m8s\u001b[0m 91ms/step - accuracy: 0.9866 - loss: 0.0551 - val_accuracy: 0.9740 - val_loss: 0.1539\n",
      "Epoch 28/30\n",
      "\u001b[1m87/87\u001b[0m \u001b[32m━━━━━━━━━━━━━━━━━━━━\u001b[0m\u001b[37m\u001b[0m \u001b[1m8s\u001b[0m 95ms/step - accuracy: 0.9902 - loss: 0.0312 - val_accuracy: 0.9838 - val_loss: 0.1028\n",
      "Epoch 29/30\n",
      "\u001b[1m87/87\u001b[0m \u001b[32m━━━━━━━━━━━━━━━━━━━━\u001b[0m\u001b[37m\u001b[0m \u001b[1m8s\u001b[0m 92ms/step - accuracy: 0.9934 - loss: 0.0384 - val_accuracy: 0.9870 - val_loss: 0.0954\n",
      "Epoch 30/30\n",
      "\u001b[1m87/87\u001b[0m \u001b[32m━━━━━━━━━━━━━━━━━━━━\u001b[0m\u001b[37m\u001b[0m \u001b[1m8s\u001b[0m 92ms/step - accuracy: 0.9932 - loss: 0.0231 - val_accuracy: 0.9838 - val_loss: 0.1199\n"
     ]
    }
   ],
   "source": [
    "# Train the model\n",
    "history = model_RMS.fit(X_color, y_color, epochs=30, validation_split=0.10,batch_size=32) "
   ]
  },
  {
   "cell_type": "code",
   "execution_count": 31,
   "id": "acf06400",
   "metadata": {
    "scrolled": true
   },
   "outputs": [
    {
     "data": {
      "image/png": "[encoded data removed]",
      "text/plain": [
       "<Figure size 640x480 with 1 Axes>"
      ]
     },
     "metadata": {},
     "output_type": "display_data"
    },
    {
     "data": {
      "image/png": "[encoded data removed]",
      "text/plain": [
       "<Figure size 640x480 with 1 Axes>"
      ]
     },
     "metadata": {},
     "output_type": "display_data"
    }
   ],
   "source": [
    "# Plot training & validation loss values\n",
    "plt.plot(history.history['loss'])\n",
    "plt.plot(history.history['val_loss'])\n",
    "plt.title('Model Loss')\n",
    "plt.ylabel('Loss')\n",
    "plt.xlabel('Epoch')\n",
    "plt.legend(['Train', 'Validation'], loc='upper left')\n",
    "plt.show()\n",
    "\n",
    "# Plot training & validation accuracy values\n",
    "plt.plot(history.history['accuracy'])\n",
    "plt.plot(history.history['val_accuracy'])\n",
    "plt.title('Model Accuracy')\n",
    "plt.ylabel('Accuracy')\n",
    "plt.xlabel('Epoch')\n",
    "plt.legend(['Train', 'Validation'], loc='upper left')\n",
    "plt.show()"
   ]
  },
  {
   "cell_type": "code",
   "execution_count": 32,
   "id": "24dff6a4",
   "metadata": {},
   "outputs": [
    {
     "name": "stdout",
     "output_type": "stream",
     "text": [
      "\u001b[1m11/11\u001b[0m \u001b[32m━━━━━━━━━━━━━━━━━━━━\u001b[0m\u001b[37m\u001b[0m \u001b[1m0s\u001b[0m 34ms/step - accuracy: 0.7817 - loss: 1.9083\n",
      "Test Loss: 2.0258629322052\n",
      "Test Accuracy: 0.78125\n"
     ]
    }
   ],
   "source": [
    "# Evaluate the model on the test dataset\n",
    "loss, accuracy = model_RMS.evaluate(X_test_color, y_test_color)\n",
    "\n",
    "# Print the test loss and accuracy\n",
    "print(\"Test Loss:\", loss)\n",
    "print(\"Test Accuracy:\", accuracy)"
   ]
  },
  {
   "cell_type": "markdown",
   "id": "f317cb4e",
   "metadata": {},
   "source": [
    "### Transfer Learning using Adam Optimizer"
   ]
  },
  {
   "cell_type": "code",
   "execution_count": 33,
   "id": "285b94c5",
   "metadata": {},
   "outputs": [
    {
     "name": "stderr",
     "output_type": "stream",
     "text": [
      "C:\\Users\\hein_\\anaconda3\\lib\\site-packages\\keras\\src\\layers\\core\\input_layer.py:25: UserWarning: Argument `input_shape` is deprecated. Use `shape` instead.\n",
      "  warnings.warn(\n"
     ]
    },
    {
     "data": {
      "text/html": [
       "<pre style=\"white-space:pre;overflow-x:auto;line-height:normal;font-family:Menlo,'DejaVu Sans Mono',consolas,'Courier New',monospace\"><span style=\"font-weight: bold\">Model: \"sequential_5\"</span>\n",
       "</pre>\n"
      ],
      "text/plain": [
       "\u001b[1mModel: \"sequential_5\"\u001b[0m\n"
      ]
     },
     "metadata": {},
     "output_type": "display_data"
    },
    {
     "data": {
      "text/html": [
       "<pre style=\"white-space:pre;overflow-x:auto;line-height:normal;font-family:Menlo,'DejaVu Sans Mono',consolas,'Courier New',monospace\">┏━━━━━━━━━━━━━━━━━━━━━━━━━━━━━━━━━┳━━━━━━━━━━━━━━━━━━━━━━━━┳━━━━━━━━━━━━━━━┓\n",
       "┃<span style=\"font-weight: bold\"> Layer (type)                    </span>┃<span style=\"font-weight: bold\"> Output Shape           </span>┃<span style=\"font-weight: bold\">       Param # </span>┃\n",
       "┡━━━━━━━━━━━━━━━━━━━━━━━━━━━━━━━━━╇━━━━━━━━━━━━━━━━━━━━━━━━╇━━━━━━━━━━━━━━━┩\n",
       "│ vgg16 (<span style=\"color: #0087ff; text-decoration-color: #0087ff\">Functional</span>)              │ (<span style=\"color: #00d7ff; text-decoration-color: #00d7ff\">None</span>, <span style=\"color: #00af00; text-decoration-color: #00af00\">2</span>, <span style=\"color: #00af00; text-decoration-color: #00af00\">2</span>, <span style=\"color: #00af00; text-decoration-color: #00af00\">512</span>)      │    <span style=\"color: #00af00; text-decoration-color: #00af00\">14,714,688</span> │\n",
       "├─────────────────────────────────┼────────────────────────┼───────────────┤\n",
       "│ flatten_5 (<span style=\"color: #0087ff; text-decoration-color: #0087ff\">Flatten</span>)             │ (<span style=\"color: #00d7ff; text-decoration-color: #00d7ff\">None</span>, <span style=\"color: #00af00; text-decoration-color: #00af00\">2048</span>)           │             <span style=\"color: #00af00; text-decoration-color: #00af00\">0</span> │\n",
       "├─────────────────────────────────┼────────────────────────┼───────────────┤\n",
       "│ dense_11 (<span style=\"color: #0087ff; text-decoration-color: #0087ff\">Dense</span>)                │ (<span style=\"color: #00d7ff; text-decoration-color: #00d7ff\">None</span>, <span style=\"color: #00af00; text-decoration-color: #00af00\">128</span>)            │       <span style=\"color: #00af00; text-decoration-color: #00af00\">262,272</span> │\n",
       "├─────────────────────────────────┼────────────────────────┼───────────────┤\n",
       "│ dropout_5 (<span style=\"color: #0087ff; text-decoration-color: #0087ff\">Dropout</span>)             │ (<span style=\"color: #00d7ff; text-decoration-color: #00d7ff\">None</span>, <span style=\"color: #00af00; text-decoration-color: #00af00\">128</span>)            │             <span style=\"color: #00af00; text-decoration-color: #00af00\">0</span> │\n",
       "├─────────────────────────────────┼────────────────────────┼───────────────┤\n",
       "│ dense_10 (<span style=\"color: #0087ff; text-decoration-color: #0087ff\">Dense</span>)                │ (<span style=\"color: #00d7ff; text-decoration-color: #00d7ff\">None</span>, <span style=\"color: #00af00; text-decoration-color: #00af00\">32</span>)             │         <span style=\"color: #00af00; text-decoration-color: #00af00\">4,128</span> │\n",
       "└─────────────────────────────────┴────────────────────────┴───────────────┘\n",
       "</pre>\n"
      ],
      "text/plain": [
       "┏━━━━━━━━━━━━━━━━━━━━━━━━━━━━━━━━━┳━━━━━━━━━━━━━━━━━━━━━━━━┳━━━━━━━━━━━━━━━┓\n",
       "┃\u001b[1m \u001b[0m\u001b[1mLayer (type)                   \u001b[0m\u001b[1m \u001b[0m┃\u001b[1m \u001b[0m\u001b[1mOutput Shape          \u001b[0m\u001b[1m \u001b[0m┃\u001b[1m \u001b[0m\u001b[1m      Param #\u001b[0m\u001b[1m \u001b[0m┃\n",
       "┡━━━━━━━━━━━━━━━━━━━━━━━━━━━━━━━━━╇━━━━━━━━━━━━━━━━━━━━━━━━╇━━━━━━━━━━━━━━━┩\n",
       "│ vgg16 (\u001b[38;5;33mFunctional\u001b[0m)              │ (\u001b[38;5;45mNone\u001b[0m, \u001b[38;5;34m2\u001b[0m, \u001b[38;5;34m2\u001b[0m, \u001b[38;5;34m512\u001b[0m)      │    \u001b[38;5;34m14,714,688\u001b[0m │\n",
       "├─────────────────────────────────┼────────────────────────┼───────────────┤\n",
       "│ flatten_5 (\u001b[38;5;33mFlatten\u001b[0m)             │ (\u001b[38;5;45mNone\u001b[0m, \u001b[38;5;34m2048\u001b[0m)           │             \u001b[38;5;34m0\u001b[0m │\n",
       "├─────────────────────────────────┼────────────────────────┼───────────────┤\n",
       "│ dense_11 (\u001b[38;5;33mDense\u001b[0m)                │ (\u001b[38;5;45mNone\u001b[0m, \u001b[38;5;34m128\u001b[0m)            │       \u001b[38;5;34m262,272\u001b[0m │\n",
       "├─────────────────────────────────┼────────────────────────┼───────────────┤\n",
       "│ dropout_5 (\u001b[38;5;33mDropout\u001b[0m)             │ (\u001b[38;5;45mNone\u001b[0m, \u001b[38;5;34m128\u001b[0m)            │             \u001b[38;5;34m0\u001b[0m │\n",
       "├─────────────────────────────────┼────────────────────────┼───────────────┤\n",
       "│ dense_10 (\u001b[38;5;33mDense\u001b[0m)                │ (\u001b[38;5;45mNone\u001b[0m, \u001b[38;5;34m32\u001b[0m)             │         \u001b[38;5;34m4,128\u001b[0m │\n",
       "└─────────────────────────────────┴────────────────────────┴───────────────┘\n"
      ]
     },
     "metadata": {},
     "output_type": "display_data"
    },
    {
     "data": {
      "text/html": [
       "<pre style=\"white-space:pre;overflow-x:auto;line-height:normal;font-family:Menlo,'DejaVu Sans Mono',consolas,'Courier New',monospace\"><span style=\"font-weight: bold\"> Total params: </span><span style=\"color: #00af00; text-decoration-color: #00af00\">14,981,088</span> (57.15 MB)\n",
       "</pre>\n"
      ],
      "text/plain": [
       "\u001b[1m Total params: \u001b[0m\u001b[38;5;34m14,981,088\u001b[0m (57.15 MB)\n"
      ]
     },
     "metadata": {},
     "output_type": "display_data"
    },
    {
     "data": {
      "text/html": [
       "<pre style=\"white-space:pre;overflow-x:auto;line-height:normal;font-family:Menlo,'DejaVu Sans Mono',consolas,'Courier New',monospace\"><span style=\"font-weight: bold\"> Trainable params: </span><span style=\"color: #00af00; text-decoration-color: #00af00\">266,400</span> (1.02 MB)\n",
       "</pre>\n"
      ],
      "text/plain": [
       "\u001b[1m Trainable params: \u001b[0m\u001b[38;5;34m266,400\u001b[0m (1.02 MB)\n"
      ]
     },
     "metadata": {},
     "output_type": "display_data"
    },
    {
     "data": {
      "text/html": [
       "<pre style=\"white-space:pre;overflow-x:auto;line-height:normal;font-family:Menlo,'DejaVu Sans Mono',consolas,'Courier New',monospace\"><span style=\"font-weight: bold\"> Non-trainable params: </span><span style=\"color: #00af00; text-decoration-color: #00af00\">14,714,688</span> (56.13 MB)\n",
       "</pre>\n"
      ],
      "text/plain": [
       "\u001b[1m Non-trainable params: \u001b[0m\u001b[38;5;34m14,714,688\u001b[0m (56.13 MB)\n"
      ]
     },
     "metadata": {},
     "output_type": "display_data"
    }
   ],
   "source": [
    "# Add an InputLayer to explicitly define the input shape\n",
    "input_layer = InputLayer(input_shape=X_color.shape[1:])\n",
    "\n",
    "# Load pre-trained MobileNetV2 model without top (fully connected) layers\n",
    "base_model = VGG16(input_shape=X_color.shape[1:], include_top=False, weights='imagenet')\n",
    "\n",
    "# Set base model layers as non-trainable\n",
    "for layer in base_model.layers:\n",
    "    layer.trainable = False\n",
    "\n",
    "# Define output layer with 32 units for 32 labels\n",
    "output_layer = Dense(32, activation='softmax')\n",
    "\n",
    "# Add output layer on top of MobileNetV2\n",
    "model_transfer = tf.keras.Sequential([\n",
    "    input_layer,  # InputLayer\n",
    "    base_model, # Include MobileNetV2 as base model\n",
    "    Flatten(),\n",
    "    Dense(128, activation='relu'),\n",
    "    Dropout(0.5),\n",
    "    output_layer  # Add output layer directly\n",
    "])\n",
    "\n",
    "# Compile the model\n",
    "model_transfer.compile(optimizer='adam', loss='sparse_categorical_crossentropy', metrics=['accuracy'])\n",
    "\n",
    "# Print the model summary\n",
    "model_transfer.summary()"
   ]
  },
  {
   "cell_type": "code",
   "execution_count": 34,
   "id": "9e44bc52",
   "metadata": {
    "scrolled": true
   },
   "outputs": [
    {
     "name": "stdout",
     "output_type": "stream",
     "text": [
      "Epoch 1/30\n",
      "\u001b[1m87/87\u001b[0m \u001b[32m━━━━━━━━━━━━━━━━━━━━\u001b[0m\u001b[37m\u001b[0m \u001b[1m15s\u001b[0m 166ms/step - accuracy: 0.3731 - loss: 2.4471 - val_accuracy: 0.8701 - val_loss: 0.5868\n",
      "Epoch 2/30\n",
      "\u001b[1m87/87\u001b[0m \u001b[32m━━━━━━━━━━━━━━━━━━━━\u001b[0m\u001b[37m\u001b[0m \u001b[1m14s\u001b[0m 160ms/step - accuracy: 0.8188 - loss: 0.7254 - val_accuracy: 0.9188 - val_loss: 0.3265\n",
      "Epoch 3/30\n",
      "\u001b[1m87/87\u001b[0m \u001b[32m━━━━━━━━━━━━━━━━━━━━\u001b[0m\u001b[37m\u001b[0m \u001b[1m15s\u001b[0m 167ms/step - accuracy: 0.8677 - loss: 0.4510 - val_accuracy: 0.9416 - val_loss: 0.2187\n",
      "Epoch 4/30\n",
      "\u001b[1m87/87\u001b[0m \u001b[32m━━━━━━━━━━━━━━━━━━━━\u001b[0m\u001b[37m\u001b[0m \u001b[1m14s\u001b[0m 164ms/step - accuracy: 0.8993 - loss: 0.3403 - val_accuracy: 0.9383 - val_loss: 0.1829\n",
      "Epoch 5/30\n",
      "\u001b[1m87/87\u001b[0m \u001b[32m━━━━━━━━━━━━━━━━━━━━\u001b[0m\u001b[37m\u001b[0m \u001b[1m15s\u001b[0m 167ms/step - accuracy: 0.9097 - loss: 0.2829 - val_accuracy: 0.9416 - val_loss: 0.1652\n",
      "Epoch 6/30\n",
      "\u001b[1m87/87\u001b[0m \u001b[32m━━━━━━━━━━━━━━━━━━━━\u001b[0m\u001b[37m\u001b[0m \u001b[1m14s\u001b[0m 159ms/step - accuracy: 0.9253 - loss: 0.2304 - val_accuracy: 0.9643 - val_loss: 0.1409\n",
      "Epoch 7/30\n",
      "\u001b[1m87/87\u001b[0m \u001b[32m━━━━━━━━━━━━━━━━━━━━\u001b[0m\u001b[37m\u001b[0m \u001b[1m15s\u001b[0m 172ms/step - accuracy: 0.9496 - loss: 0.1941 - val_accuracy: 0.9740 - val_loss: 0.1178\n",
      "Epoch 8/30\n",
      "\u001b[1m87/87\u001b[0m \u001b[32m━━━━━━━━━━━━━━━━━━━━\u001b[0m\u001b[37m\u001b[0m \u001b[1m14s\u001b[0m 158ms/step - accuracy: 0.9476 - loss: 0.1840 - val_accuracy: 0.9740 - val_loss: 0.1070\n",
      "Epoch 9/30\n",
      "\u001b[1m87/87\u001b[0m \u001b[32m━━━━━━━━━━━━━━━━━━━━\u001b[0m\u001b[37m\u001b[0m \u001b[1m15s\u001b[0m 169ms/step - accuracy: 0.9587 - loss: 0.1400 - val_accuracy: 0.9838 - val_loss: 0.0958\n",
      "Epoch 10/30\n",
      "\u001b[1m87/87\u001b[0m \u001b[32m━━━━━━━━━━━━━━━━━━━━\u001b[0m\u001b[37m\u001b[0m \u001b[1m14s\u001b[0m 159ms/step - accuracy: 0.9635 - loss: 0.1316 - val_accuracy: 0.9708 - val_loss: 0.0887\n",
      "Epoch 11/30\n",
      "\u001b[1m87/87\u001b[0m \u001b[32m━━━━━━━━━━━━━━━━━━━━\u001b[0m\u001b[37m\u001b[0m \u001b[1m15s\u001b[0m 168ms/step - accuracy: 0.9625 - loss: 0.1188 - val_accuracy: 0.9773 - val_loss: 0.0823\n",
      "Epoch 12/30\n",
      "\u001b[1m87/87\u001b[0m \u001b[32m━━━━━━━━━━━━━━━━━━━━\u001b[0m\u001b[37m\u001b[0m \u001b[1m15s\u001b[0m 167ms/step - accuracy: 0.9710 - loss: 0.1033 - val_accuracy: 0.9708 - val_loss: 0.0786\n",
      "Epoch 13/30\n",
      "\u001b[1m87/87\u001b[0m \u001b[32m━━━━━━━━━━━━━━━━━━━━\u001b[0m\u001b[37m\u001b[0m \u001b[1m14s\u001b[0m 160ms/step - accuracy: 0.9719 - loss: 0.0952 - val_accuracy: 0.9773 - val_loss: 0.0734\n",
      "Epoch 14/30\n",
      "\u001b[1m87/87\u001b[0m \u001b[32m━━━━━━━━━━━━━━━━━━━━\u001b[0m\u001b[37m\u001b[0m \u001b[1m14s\u001b[0m 158ms/step - accuracy: 0.9730 - loss: 0.1038 - val_accuracy: 0.9805 - val_loss: 0.0679\n",
      "Epoch 15/30\n",
      "\u001b[1m87/87\u001b[0m \u001b[32m━━━━━━━━━━━━━━━━━━━━\u001b[0m\u001b[37m\u001b[0m \u001b[1m14s\u001b[0m 164ms/step - accuracy: 0.9805 - loss: 0.0688 - val_accuracy: 0.9903 - val_loss: 0.0546\n",
      "Epoch 16/30\n",
      "\u001b[1m87/87\u001b[0m \u001b[32m━━━━━━━━━━━━━━━━━━━━\u001b[0m\u001b[37m\u001b[0m \u001b[1m14s\u001b[0m 161ms/step - accuracy: 0.9799 - loss: 0.0723 - val_accuracy: 0.9805 - val_loss: 0.0620\n",
      "Epoch 17/30\n",
      "\u001b[1m87/87\u001b[0m \u001b[32m━━━━━━━━━━━━━━━━━━━━\u001b[0m\u001b[37m\u001b[0m \u001b[1m14s\u001b[0m 157ms/step - accuracy: 0.9858 - loss: 0.0648 - val_accuracy: 0.9870 - val_loss: 0.0513\n",
      "Epoch 18/30\n",
      "\u001b[1m87/87\u001b[0m \u001b[32m━━━━━━━━━━━━━━━━━━━━\u001b[0m\u001b[37m\u001b[0m \u001b[1m14s\u001b[0m 157ms/step - accuracy: 0.9803 - loss: 0.0661 - val_accuracy: 0.9740 - val_loss: 0.0567\n",
      "Epoch 19/30\n",
      "\u001b[1m87/87\u001b[0m \u001b[32m━━━━━━━━━━━━━━━━━━━━\u001b[0m\u001b[37m\u001b[0m \u001b[1m14s\u001b[0m 158ms/step - accuracy: 0.9880 - loss: 0.0560 - val_accuracy: 0.9805 - val_loss: 0.0542\n",
      "Epoch 20/30\n",
      "\u001b[1m87/87\u001b[0m \u001b[32m━━━━━━━━━━━━━━━━━━━━\u001b[0m\u001b[37m\u001b[0m \u001b[1m14s\u001b[0m 156ms/step - accuracy: 0.9854 - loss: 0.0580 - val_accuracy: 0.9935 - val_loss: 0.0404\n",
      "Epoch 21/30\n",
      "\u001b[1m87/87\u001b[0m \u001b[32m━━━━━━━━━━━━━━━━━━━━\u001b[0m\u001b[37m\u001b[0m \u001b[1m14s\u001b[0m 161ms/step - accuracy: 0.9898 - loss: 0.0511 - val_accuracy: 0.9903 - val_loss: 0.0440\n",
      "Epoch 22/30\n",
      "\u001b[1m87/87\u001b[0m \u001b[32m━━━━━━━━━━━━━━━━━━━━\u001b[0m\u001b[37m\u001b[0m \u001b[1m14s\u001b[0m 159ms/step - accuracy: 0.9847 - loss: 0.0597 - val_accuracy: 0.9805 - val_loss: 0.0444\n",
      "Epoch 23/30\n",
      "\u001b[1m87/87\u001b[0m \u001b[32m━━━━━━━━━━━━━━━━━━━━\u001b[0m\u001b[37m\u001b[0m \u001b[1m14s\u001b[0m 160ms/step - accuracy: 0.9900 - loss: 0.0413 - val_accuracy: 0.9870 - val_loss: 0.0419\n",
      "Epoch 24/30\n",
      "\u001b[1m87/87\u001b[0m \u001b[32m━━━━━━━━━━━━━━━━━━━━\u001b[0m\u001b[37m\u001b[0m \u001b[1m14s\u001b[0m 164ms/step - accuracy: 0.9902 - loss: 0.0447 - val_accuracy: 0.9903 - val_loss: 0.0293\n",
      "Epoch 25/30\n",
      "\u001b[1m87/87\u001b[0m \u001b[32m━━━━━━━━━━━━━━━━━━━━\u001b[0m\u001b[37m\u001b[0m \u001b[1m14s\u001b[0m 165ms/step - accuracy: 0.9917 - loss: 0.0319 - val_accuracy: 0.9935 - val_loss: 0.0351\n",
      "Epoch 26/30\n",
      "\u001b[1m87/87\u001b[0m \u001b[32m━━━━━━━━━━━━━━━━━━━━\u001b[0m\u001b[37m\u001b[0m \u001b[1m14s\u001b[0m 164ms/step - accuracy: 0.9926 - loss: 0.0329 - val_accuracy: 0.9903 - val_loss: 0.0360\n",
      "Epoch 27/30\n",
      "\u001b[1m87/87\u001b[0m \u001b[32m━━━━━━━━━━━━━━━━━━━━\u001b[0m\u001b[37m\u001b[0m \u001b[1m14s\u001b[0m 159ms/step - accuracy: 0.9913 - loss: 0.0364 - val_accuracy: 0.9838 - val_loss: 0.0348\n",
      "Epoch 28/30\n",
      "\u001b[1m87/87\u001b[0m \u001b[32m━━━━━━━━━━━━━━━━━━━━\u001b[0m\u001b[37m\u001b[0m \u001b[1m14s\u001b[0m 162ms/step - accuracy: 0.9919 - loss: 0.0334 - val_accuracy: 0.9903 - val_loss: 0.0268\n",
      "Epoch 29/30\n",
      "\u001b[1m87/87\u001b[0m \u001b[32m━━━━━━━━━━━━━━━━━━━━\u001b[0m\u001b[37m\u001b[0m \u001b[1m15s\u001b[0m 167ms/step - accuracy: 0.9924 - loss: 0.0321 - val_accuracy: 0.9838 - val_loss: 0.0357\n",
      "Epoch 30/30\n",
      "\u001b[1m87/87\u001b[0m \u001b[32m━━━━━━━━━━━━━━━━━━━━\u001b[0m\u001b[37m\u001b[0m \u001b[1m14s\u001b[0m 161ms/step - accuracy: 0.9911 - loss: 0.0352 - val_accuracy: 0.9838 - val_loss: 0.0395\n"
     ]
    }
   ],
   "source": [
    "# Train the model\n",
    "history = model_transfer.fit(X_color, y_color, epochs=30, validation_split=0.10,batch_size=32) "
   ]
  },
  {
   "cell_type": "code",
   "execution_count": 35,
   "id": "675701ad",
   "metadata": {},
   "outputs": [
    {
     "data": {
      "image/png": "[encoded data removed]",
      "text/plain": [
       "<Figure size 640x480 with 1 Axes>"
      ]
     },
     "metadata": {},
     "output_type": "display_data"
    },
    {
     "data": {
      "image/png": "[encoded data removed]",
      "text/plain": [
       "<Figure size 640x480 with 1 Axes>"
      ]
     },
     "metadata": {},
     "output_type": "display_data"
    }
   ],
   "source": [
    "# Plot training & validation loss values\n",
    "plt.plot(history.history['loss'])\n",
    "plt.plot(history.history['val_loss'])\n",
    "plt.title('Model Loss')\n",
    "plt.ylabel('Loss')\n",
    "plt.xlabel('Epoch')\n",
    "plt.legend(['Train', 'Validation'], loc='upper left')\n",
    "plt.show()\n",
    "\n",
    "# Plot training & validation accuracy values\n",
    "plt.plot(history.history['accuracy'])\n",
    "plt.plot(history.history['val_accuracy'])\n",
    "plt.title('Model Accuracy')\n",
    "plt.ylabel('Accuracy')\n",
    "plt.xlabel('Epoch')\n",
    "plt.legend(['Train', 'Validation'], loc='upper left')\n",
    "plt.show()"
   ]
  },
  {
   "cell_type": "code",
   "execution_count": 36,
   "id": "cf2d1173",
   "metadata": {},
   "outputs": [
    {
     "name": "stdout",
     "output_type": "stream",
     "text": [
      "\u001b[1m11/11\u001b[0m \u001b[32m━━━━━━━━━━━━━━━━━━━━\u001b[0m\u001b[37m\u001b[0m \u001b[1m2s\u001b[0m 172ms/step - accuracy: 0.8394 - loss: 0.4409\n",
      "Test Loss: 0.45077791810035706\n",
      "Test Accuracy: 0.8494318127632141\n"
     ]
    }
   ],
   "source": [
    "# Evaluate the model on the test dataset\n",
    "loss, accuracy = model_transfer.evaluate(X_test_color, y_test_color)\n",
    "\n",
    "# Print the test loss and accuracy\n",
    "print(\"Test Loss:\", loss)\n",
    "print(\"Test Accuracy:\", accuracy)"
   ]
  },
  {
   "cell_type": "markdown",
   "id": "8fdaa9f0",
   "metadata": {},
   "source": [
    "### Transfer learning with RMSProp Optimizer"
   ]
  },
  {
   "cell_type": "code",
   "execution_count": 37,
   "id": "a1b8dacf",
   "metadata": {},
   "outputs": [
    {
     "data": {
      "text/html": [
       "<pre style=\"white-space:pre;overflow-x:auto;line-height:normal;font-family:Menlo,'DejaVu Sans Mono',consolas,'Courier New',monospace\"><span style=\"font-weight: bold\">Model: \"sequential_6\"</span>\n",
       "</pre>\n"
      ],
      "text/plain": [
       "\u001b[1mModel: \"sequential_6\"\u001b[0m\n"
      ]
     },
     "metadata": {},
     "output_type": "display_data"
    },
    {
     "data": {
      "text/html": [
       "<pre style=\"white-space:pre;overflow-x:auto;line-height:normal;font-family:Menlo,'DejaVu Sans Mono',consolas,'Courier New',monospace\">┏━━━━━━━━━━━━━━━━━━━━━━━━━━━━━━━━━┳━━━━━━━━━━━━━━━━━━━━━━━━┳━━━━━━━━━━━━━━━┓\n",
       "┃<span style=\"font-weight: bold\"> Layer (type)                    </span>┃<span style=\"font-weight: bold\"> Output Shape           </span>┃<span style=\"font-weight: bold\">       Param # </span>┃\n",
       "┡━━━━━━━━━━━━━━━━━━━━━━━━━━━━━━━━━╇━━━━━━━━━━━━━━━━━━━━━━━━╇━━━━━━━━━━━━━━━┩\n",
       "│ vgg16 (<span style=\"color: #0087ff; text-decoration-color: #0087ff\">Functional</span>)              │ (<span style=\"color: #00d7ff; text-decoration-color: #00d7ff\">None</span>, <span style=\"color: #00af00; text-decoration-color: #00af00\">2</span>, <span style=\"color: #00af00; text-decoration-color: #00af00\">2</span>, <span style=\"color: #00af00; text-decoration-color: #00af00\">512</span>)      │    <span style=\"color: #00af00; text-decoration-color: #00af00\">14,714,688</span> │\n",
       "├─────────────────────────────────┼────────────────────────┼───────────────┤\n",
       "│ flatten_6 (<span style=\"color: #0087ff; text-decoration-color: #0087ff\">Flatten</span>)             │ (<span style=\"color: #00d7ff; text-decoration-color: #00d7ff\">None</span>, <span style=\"color: #00af00; text-decoration-color: #00af00\">2048</span>)           │             <span style=\"color: #00af00; text-decoration-color: #00af00\">0</span> │\n",
       "├─────────────────────────────────┼────────────────────────┼───────────────┤\n",
       "│ dense_13 (<span style=\"color: #0087ff; text-decoration-color: #0087ff\">Dense</span>)                │ (<span style=\"color: #00d7ff; text-decoration-color: #00d7ff\">None</span>, <span style=\"color: #00af00; text-decoration-color: #00af00\">128</span>)            │       <span style=\"color: #00af00; text-decoration-color: #00af00\">262,272</span> │\n",
       "├─────────────────────────────────┼────────────────────────┼───────────────┤\n",
       "│ dropout_6 (<span style=\"color: #0087ff; text-decoration-color: #0087ff\">Dropout</span>)             │ (<span style=\"color: #00d7ff; text-decoration-color: #00d7ff\">None</span>, <span style=\"color: #00af00; text-decoration-color: #00af00\">128</span>)            │             <span style=\"color: #00af00; text-decoration-color: #00af00\">0</span> │\n",
       "├─────────────────────────────────┼────────────────────────┼───────────────┤\n",
       "│ dense_12 (<span style=\"color: #0087ff; text-decoration-color: #0087ff\">Dense</span>)                │ (<span style=\"color: #00d7ff; text-decoration-color: #00d7ff\">None</span>, <span style=\"color: #00af00; text-decoration-color: #00af00\">32</span>)             │         <span style=\"color: #00af00; text-decoration-color: #00af00\">4,128</span> │\n",
       "└─────────────────────────────────┴────────────────────────┴───────────────┘\n",
       "</pre>\n"
      ],
      "text/plain": [
       "┏━━━━━━━━━━━━━━━━━━━━━━━━━━━━━━━━━┳━━━━━━━━━━━━━━━━━━━━━━━━┳━━━━━━━━━━━━━━━┓\n",
       "┃\u001b[1m \u001b[0m\u001b[1mLayer (type)                   \u001b[0m\u001b[1m \u001b[0m┃\u001b[1m \u001b[0m\u001b[1mOutput Shape          \u001b[0m\u001b[1m \u001b[0m┃\u001b[1m \u001b[0m\u001b[1m      Param #\u001b[0m\u001b[1m \u001b[0m┃\n",
       "┡━━━━━━━━━━━━━━━━━━━━━━━━━━━━━━━━━╇━━━━━━━━━━━━━━━━━━━━━━━━╇━━━━━━━━━━━━━━━┩\n",
       "│ vgg16 (\u001b[38;5;33mFunctional\u001b[0m)              │ (\u001b[38;5;45mNone\u001b[0m, \u001b[38;5;34m2\u001b[0m, \u001b[38;5;34m2\u001b[0m, \u001b[38;5;34m512\u001b[0m)      │    \u001b[38;5;34m14,714,688\u001b[0m │\n",
       "├─────────────────────────────────┼────────────────────────┼───────────────┤\n",
       "│ flatten_6 (\u001b[38;5;33mFlatten\u001b[0m)             │ (\u001b[38;5;45mNone\u001b[0m, \u001b[38;5;34m2048\u001b[0m)           │             \u001b[38;5;34m0\u001b[0m │\n",
       "├─────────────────────────────────┼────────────────────────┼───────────────┤\n",
       "│ dense_13 (\u001b[38;5;33mDense\u001b[0m)                │ (\u001b[38;5;45mNone\u001b[0m, \u001b[38;5;34m128\u001b[0m)            │       \u001b[38;5;34m262,272\u001b[0m │\n",
       "├─────────────────────────────────┼────────────────────────┼───────────────┤\n",
       "│ dropout_6 (\u001b[38;5;33mDropout\u001b[0m)             │ (\u001b[38;5;45mNone\u001b[0m, \u001b[38;5;34m128\u001b[0m)            │             \u001b[38;5;34m0\u001b[0m │\n",
       "├─────────────────────────────────┼────────────────────────┼───────────────┤\n",
       "│ dense_12 (\u001b[38;5;33mDense\u001b[0m)                │ (\u001b[38;5;45mNone\u001b[0m, \u001b[38;5;34m32\u001b[0m)             │         \u001b[38;5;34m4,128\u001b[0m │\n",
       "└─────────────────────────────────┴────────────────────────┴───────────────┘\n"
      ]
     },
     "metadata": {},
     "output_type": "display_data"
    },
    {
     "data": {
      "text/html": [
       "<pre style=\"white-space:pre;overflow-x:auto;line-height:normal;font-family:Menlo,'DejaVu Sans Mono',consolas,'Courier New',monospace\"><span style=\"font-weight: bold\"> Total params: </span><span style=\"color: #00af00; text-decoration-color: #00af00\">14,981,088</span> (57.15 MB)\n",
       "</pre>\n"
      ],
      "text/plain": [
       "\u001b[1m Total params: \u001b[0m\u001b[38;5;34m14,981,088\u001b[0m (57.15 MB)\n"
      ]
     },
     "metadata": {},
     "output_type": "display_data"
    },
    {
     "data": {
      "text/html": [
       "<pre style=\"white-space:pre;overflow-x:auto;line-height:normal;font-family:Menlo,'DejaVu Sans Mono',consolas,'Courier New',monospace\"><span style=\"font-weight: bold\"> Trainable params: </span><span style=\"color: #00af00; text-decoration-color: #00af00\">266,400</span> (1.02 MB)\n",
       "</pre>\n"
      ],
      "text/plain": [
       "\u001b[1m Trainable params: \u001b[0m\u001b[38;5;34m266,400\u001b[0m (1.02 MB)\n"
      ]
     },
     "metadata": {},
     "output_type": "display_data"
    },
    {
     "data": {
      "text/html": [
       "<pre style=\"white-space:pre;overflow-x:auto;line-height:normal;font-family:Menlo,'DejaVu Sans Mono',consolas,'Courier New',monospace\"><span style=\"font-weight: bold\"> Non-trainable params: </span><span style=\"color: #00af00; text-decoration-color: #00af00\">14,714,688</span> (56.13 MB)\n",
       "</pre>\n"
      ],
      "text/plain": [
       "\u001b[1m Non-trainable params: \u001b[0m\u001b[38;5;34m14,714,688\u001b[0m (56.13 MB)\n"
      ]
     },
     "metadata": {},
     "output_type": "display_data"
    }
   ],
   "source": [
    "# Add an InputLayer to explicitly define the input shape\n",
    "input_layer = InputLayer(input_shape=X_color.shape[1:])\n",
    "\n",
    "# Load pre-trained MobileNetV2 model without top (fully connected) layers\n",
    "base_model = VGG16(input_shape=X_color.shape[1:], include_top=False, weights='imagenet')\n",
    "\n",
    "# Set base model layers as non-trainable\n",
    "for layer in base_model.layers:\n",
    "    layer.trainable = False\n",
    "\n",
    "# Define output layer with 32 units for 32 labels\n",
    "output_layer = Dense(32, activation='softmax')\n",
    "\n",
    "# Add output layer on top of MobileNetV2\n",
    "model_transfer_rms = tf.keras.Sequential([\n",
    "    input_layer,  # InputLayer\n",
    "    base_model, # Include MobileNetV2 as base model\n",
    "    Flatten(),\n",
    "    Dense(128, activation='relu'),\n",
    "    Dropout(0.5),\n",
    "    output_layer  # Add output layer directly\n",
    "])\n",
    "\n",
    "# Compile the model\n",
    "model_transfer_rms.compile(optimizer='rmsprop', loss='sparse_categorical_crossentropy', metrics=['accuracy'])\n",
    "\n",
    "# Print the model summary\n",
    "model_transfer_rms.summary()"
   ]
  },
  {
   "cell_type": "code",
   "execution_count": 38,
   "id": "d1f5f763",
   "metadata": {
    "scrolled": true
   },
   "outputs": [
    {
     "name": "stdout",
     "output_type": "stream",
     "text": [
      "Epoch 1/30\n",
      "\u001b[1m87/87\u001b[0m \u001b[32m━━━━━━━━━━━━━━━━━━━━\u001b[0m\u001b[37m\u001b[0m \u001b[1m15s\u001b[0m 161ms/step - accuracy: 0.4325 - loss: 2.2650 - val_accuracy: 0.8799 - val_loss: 0.6196\n",
      "Epoch 2/30\n",
      "\u001b[1m87/87\u001b[0m \u001b[32m━━━━━━━━━━━━━━━━━━━━\u001b[0m\u001b[37m\u001b[0m \u001b[1m14s\u001b[0m 164ms/step - accuracy: 0.8095 - loss: 0.7428 - val_accuracy: 0.8896 - val_loss: 0.3435\n",
      "Epoch 3/30\n",
      "\u001b[1m87/87\u001b[0m \u001b[32m━━━━━━━━━━━━━━━━━━━━\u001b[0m\u001b[37m\u001b[0m \u001b[1m14s\u001b[0m 157ms/step - accuracy: 0.8651 - loss: 0.4442 - val_accuracy: 0.9383 - val_loss: 0.2315\n",
      "Epoch 4/30\n",
      "\u001b[1m87/87\u001b[0m \u001b[32m━━━━━━━━━━━━━━━━━━━━\u001b[0m\u001b[37m\u001b[0m \u001b[1m14s\u001b[0m 159ms/step - accuracy: 0.9001 - loss: 0.3259 - val_accuracy: 0.9481 - val_loss: 0.1915\n",
      "Epoch 5/30\n",
      "\u001b[1m87/87\u001b[0m \u001b[32m━━━━━━━━━━━━━━━━━━━━\u001b[0m\u001b[37m\u001b[0m \u001b[1m14s\u001b[0m 160ms/step - accuracy: 0.9261 - loss: 0.2497 - val_accuracy: 0.9708 - val_loss: 0.1423\n",
      "Epoch 6/30\n",
      "\u001b[1m87/87\u001b[0m \u001b[32m━━━━━━━━━━━━━━━━━━━━\u001b[0m\u001b[37m\u001b[0m \u001b[1m14s\u001b[0m 158ms/step - accuracy: 0.9381 - loss: 0.2193 - val_accuracy: 0.9416 - val_loss: 0.1616\n",
      "Epoch 7/30\n",
      "\u001b[1m87/87\u001b[0m \u001b[32m━━━━━━━━━━━━━━━━━━━━\u001b[0m\u001b[37m\u001b[0m \u001b[1m14s\u001b[0m 165ms/step - accuracy: 0.9428 - loss: 0.1733 - val_accuracy: 0.9675 - val_loss: 0.1086\n",
      "Epoch 8/30\n",
      "\u001b[1m87/87\u001b[0m \u001b[32m━━━━━━━━━━━━━━━━━━━━\u001b[0m\u001b[37m\u001b[0m \u001b[1m14s\u001b[0m 158ms/step - accuracy: 0.9534 - loss: 0.1610 - val_accuracy: 0.9643 - val_loss: 0.0987\n",
      "Epoch 9/30\n",
      "\u001b[1m87/87\u001b[0m \u001b[32m━━━━━━━━━━━━━━━━━━━━\u001b[0m\u001b[37m\u001b[0m \u001b[1m13s\u001b[0m 153ms/step - accuracy: 0.9589 - loss: 0.1327 - val_accuracy: 0.9545 - val_loss: 0.1164\n",
      "Epoch 10/30\n",
      "\u001b[1m87/87\u001b[0m \u001b[32m━━━━━━━━━━━━━━━━━━━━\u001b[0m\u001b[37m\u001b[0m \u001b[1m14s\u001b[0m 160ms/step - accuracy: 0.9567 - loss: 0.1309 - val_accuracy: 0.9416 - val_loss: 0.1314\n",
      "Epoch 11/30\n",
      "\u001b[1m87/87\u001b[0m \u001b[32m━━━━━━━━━━━━━━━━━━━━\u001b[0m\u001b[37m\u001b[0m \u001b[1m14s\u001b[0m 159ms/step - accuracy: 0.9665 - loss: 0.1095 - val_accuracy: 0.9578 - val_loss: 0.1001\n",
      "Epoch 12/30\n",
      "\u001b[1m87/87\u001b[0m \u001b[32m━━━━━━━━━━━━━━━━━━━━\u001b[0m\u001b[37m\u001b[0m \u001b[1m14s\u001b[0m 158ms/step - accuracy: 0.9651 - loss: 0.1110 - val_accuracy: 0.9740 - val_loss: 0.0732\n",
      "Epoch 13/30\n",
      "\u001b[1m87/87\u001b[0m \u001b[32m━━━━━━━━━━━━━━━━━━━━\u001b[0m\u001b[37m\u001b[0m \u001b[1m14s\u001b[0m 158ms/step - accuracy: 0.9644 - loss: 0.1042 - val_accuracy: 0.9870 - val_loss: 0.0666\n",
      "Epoch 14/30\n",
      "\u001b[1m87/87\u001b[0m \u001b[32m━━━━━━━━━━━━━━━━━━━━\u001b[0m\u001b[37m\u001b[0m \u001b[1m14s\u001b[0m 158ms/step - accuracy: 0.9721 - loss: 0.0826 - val_accuracy: 0.9870 - val_loss: 0.0610\n",
      "Epoch 15/30\n",
      "\u001b[1m87/87\u001b[0m \u001b[32m━━━━━━━━━━━━━━━━━━━━\u001b[0m\u001b[37m\u001b[0m \u001b[1m14s\u001b[0m 160ms/step - accuracy: 0.9800 - loss: 0.0659 - val_accuracy: 0.9675 - val_loss: 0.0694\n",
      "Epoch 16/30\n",
      "\u001b[1m87/87\u001b[0m \u001b[32m━━━━━━━━━━━━━━━━━━━━\u001b[0m\u001b[37m\u001b[0m \u001b[1m14s\u001b[0m 163ms/step - accuracy: 0.9749 - loss: 0.0734 - val_accuracy: 0.9838 - val_loss: 0.0471\n",
      "Epoch 17/30\n",
      "\u001b[1m87/87\u001b[0m \u001b[32m━━━━━━━━━━━━━━━━━━━━\u001b[0m\u001b[37m\u001b[0m \u001b[1m14s\u001b[0m 158ms/step - accuracy: 0.9751 - loss: 0.0702 - val_accuracy: 0.9903 - val_loss: 0.0516\n",
      "Epoch 18/30\n",
      "\u001b[1m87/87\u001b[0m \u001b[32m━━━━━━━━━━━━━━━━━━━━\u001b[0m\u001b[37m\u001b[0m \u001b[1m16s\u001b[0m 182ms/step - accuracy: 0.9824 - loss: 0.0544 - val_accuracy: 0.9838 - val_loss: 0.0579\n",
      "Epoch 19/30\n",
      "\u001b[1m87/87\u001b[0m \u001b[32m━━━━━━━━━━━━━━━━━━━━\u001b[0m\u001b[37m\u001b[0m \u001b[1m14s\u001b[0m 162ms/step - accuracy: 0.9810 - loss: 0.0566 - val_accuracy: 0.9870 - val_loss: 0.0440\n",
      "Epoch 20/30\n",
      "\u001b[1m87/87\u001b[0m \u001b[32m━━━━━━━━━━━━━━━━━━━━\u001b[0m\u001b[37m\u001b[0m \u001b[1m14s\u001b[0m 161ms/step - accuracy: 0.9855 - loss: 0.0531 - val_accuracy: 0.9870 - val_loss: 0.0502\n",
      "Epoch 21/30\n",
      "\u001b[1m87/87\u001b[0m \u001b[32m━━━━━━━━━━━━━━━━━━━━\u001b[0m\u001b[37m\u001b[0m \u001b[1m14s\u001b[0m 161ms/step - accuracy: 0.9878 - loss: 0.0441 - val_accuracy: 0.9740 - val_loss: 0.0612\n",
      "Epoch 22/30\n",
      "\u001b[1m87/87\u001b[0m \u001b[32m━━━━━━━━━━━━━━━━━━━━\u001b[0m\u001b[37m\u001b[0m \u001b[1m14s\u001b[0m 161ms/step - accuracy: 0.9847 - loss: 0.0533 - val_accuracy: 0.9805 - val_loss: 0.0520\n",
      "Epoch 23/30\n",
      "\u001b[1m87/87\u001b[0m \u001b[32m━━━━━━━━━━━━━━━━━━━━\u001b[0m\u001b[37m\u001b[0m \u001b[1m14s\u001b[0m 160ms/step - accuracy: 0.9852 - loss: 0.0462 - val_accuracy: 0.9903 - val_loss: 0.0383\n",
      "Epoch 24/30\n",
      "\u001b[1m87/87\u001b[0m \u001b[32m━━━━━━━━━━━━━━━━━━━━\u001b[0m\u001b[37m\u001b[0m \u001b[1m15s\u001b[0m 169ms/step - accuracy: 0.9884 - loss: 0.0428 - val_accuracy: 0.9870 - val_loss: 0.0336\n",
      "Epoch 25/30\n",
      "\u001b[1m87/87\u001b[0m \u001b[32m━━━━━━━━━━━━━━━━━━━━\u001b[0m\u001b[37m\u001b[0m \u001b[1m14s\u001b[0m 159ms/step - accuracy: 0.9887 - loss: 0.0420 - val_accuracy: 0.9935 - val_loss: 0.0379\n",
      "Epoch 26/30\n",
      "\u001b[1m87/87\u001b[0m \u001b[32m━━━━━━━━━━━━━━━━━━━━\u001b[0m\u001b[37m\u001b[0m \u001b[1m14s\u001b[0m 157ms/step - accuracy: 0.9864 - loss: 0.0395 - val_accuracy: 0.9773 - val_loss: 0.0465\n",
      "Epoch 27/30\n",
      "\u001b[1m87/87\u001b[0m \u001b[32m━━━━━━━━━━━━━━━━━━━━\u001b[0m\u001b[37m\u001b[0m \u001b[1m14s\u001b[0m 160ms/step - accuracy: 0.9898 - loss: 0.0306 - val_accuracy: 0.9903 - val_loss: 0.0328\n",
      "Epoch 28/30\n",
      "\u001b[1m87/87\u001b[0m \u001b[32m━━━━━━━━━━━━━━━━━━━━\u001b[0m\u001b[37m\u001b[0m \u001b[1m14s\u001b[0m 161ms/step - accuracy: 0.9921 - loss: 0.0290 - val_accuracy: 0.9870 - val_loss: 0.0302\n",
      "Epoch 29/30\n",
      "\u001b[1m87/87\u001b[0m \u001b[32m━━━━━━━━━━━━━━━━━━━━\u001b[0m\u001b[37m\u001b[0m \u001b[1m14s\u001b[0m 160ms/step - accuracy: 0.9891 - loss: 0.0345 - val_accuracy: 0.9935 - val_loss: 0.0236\n",
      "Epoch 30/30\n",
      "\u001b[1m87/87\u001b[0m \u001b[32m━━━━━━━━━━━━━━━━━━━━\u001b[0m\u001b[37m\u001b[0m \u001b[1m14s\u001b[0m 160ms/step - accuracy: 0.9939 - loss: 0.0271 - val_accuracy: 0.9870 - val_loss: 0.0367\n"
     ]
    }
   ],
   "source": [
    "# Train the model\n",
    "history = model_transfer_rms.fit(X_color, y_color, epochs=30, validation_split=0.10,batch_size=32) "
   ]
  },
  {
   "cell_type": "code",
   "execution_count": 39,
   "id": "6e052f0f",
   "metadata": {},
   "outputs": [
    {
     "data": {
      "image/png": "[encoded data removed]",
      "text/plain": [
       "<Figure size 640x480 with 1 Axes>"
      ]
     },
     "metadata": {},
     "output_type": "display_data"
    },
    {
     "data": {
      "image/png": "[encoded data removed]",
      "text/plain": [
       "<Figure size 640x480 with 1 Axes>"
      ]
     },
     "metadata": {},
     "output_type": "display_data"
    }
   ],
   "source": [
    "# Plot training & validation loss values\n",
    "plt.plot(history.history['loss'])\n",
    "plt.plot(history.history['val_loss'])\n",
    "plt.title('Model Loss')\n",
    "plt.ylabel('Loss')\n",
    "plt.xlabel('Epoch')\n",
    "plt.legend(['Train', 'Validation'], loc='upper left')\n",
    "plt.show()\n",
    "\n",
    "# Plot training & validation accuracy values\n",
    "plt.plot(history.history['accuracy'])\n",
    "plt.plot(history.history['val_accuracy'])\n",
    "plt.title('Model Accuracy')\n",
    "plt.ylabel('Accuracy')\n",
    "plt.xlabel('Epoch')\n",
    "plt.legend(['Train', 'Validation'], loc='upper left')\n",
    "plt.show()"
   ]
  },
  {
   "cell_type": "code",
   "execution_count": 40,
   "id": "276feceb",
   "metadata": {},
   "outputs": [
    {
     "name": "stdout",
     "output_type": "stream",
     "text": [
      "\u001b[1m11/11\u001b[0m \u001b[32m━━━━━━━━━━━━━━━━━━━━\u001b[0m\u001b[37m\u001b[0m \u001b[1m2s\u001b[0m 158ms/step - accuracy: 0.8559 - loss: 0.4887\n",
      "Test Loss: 0.4770212173461914\n",
      "Test Accuracy: 0.8551136255264282\n"
     ]
    }
   ],
   "source": [
    "# Evaluate the model on the test dataset\n",
    "loss, accuracy = model_transfer_rms.evaluate(X_test_color, y_test_color)\n",
    "\n",
    "# Print the test loss and accuracy\n",
    "print(\"Test Loss:\", loss)\n",
    "print(\"Test Accuracy:\", accuracy)"
   ]
  },
  {
   "cell_type": "markdown",
   "id": "090858f9",
   "metadata": {},
   "source": [
    "## Saving the models"
   ]
  },
  {
   "cell_type": "code",
   "execution_count": 41,
   "id": "368aad92",
   "metadata": {},
   "outputs": [],
   "source": [
    "model_color.save('Adam_Model.keras')\n",
    "model_RMS.save('RMS_Model.keras')"
   ]
  },
  {
   "cell_type": "code",
   "execution_count": 50,
   "id": "d286199a",
   "metadata": {},
   "outputs": [],
   "source": [
    "model_transfer.save('VGG16_adam.keras')"
   ]
  },
  {
   "cell_type": "code",
   "execution_count": 48,
   "id": "7702b021",
   "metadata": {},
   "outputs": [],
   "source": [
    "model_transfer_rms.save('VGG16_RMS.keras')"
   ]
  },
  {
   "cell_type": "code",
   "execution_count": null,
   "id": "7d68e178",
   "metadata": {},
   "outputs": [],
   "source": []
  }
 ],
 "metadata": {
  "kernelspec": {
   "display_name": "Python 3 (ipykernel)",
   "language": "python",
   "name": "python3"
  },
  "language_info": {
   "codemirror_mode": {
    "name": "ipython",
    "version": 3
   },
   "file_extension": ".py",
   "mimetype": "text/x-python",
   "name": "python",
   "nbconvert_exporter": "python",
   "pygments_lexer": "ipython3",
   "version": "3.10.9"
  }
 },
 "nbformat": 4,
 "nbformat_minor": 5
}
