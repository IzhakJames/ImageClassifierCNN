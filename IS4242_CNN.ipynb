{
 "cells": [
  {
   "cell_type": "code",
   "execution_count": 1,
   "id": "94570c07",
   "metadata": {},
   "outputs": [],
   "source": [
    "#Importing Libraries\n",
    "import pandas as pd\n",
    "import random\n",
    "import pickle\n",
    "import tensorflow as tf\n",
    "import keras\n",
    "from keras.models import Sequential\n",
    "from keras.layers import Dense, Flatten,BatchNormalization, Dropout, Lambda, Conv2D, MaxPool2D, InputLayer\n",
    "from tensorflow.keras.utils import plot_model\n",
    "from tensorflow.keras.applications import VGG16\n",
    "import numpy as np\n",
    "import matplotlib.pyplot as plt\n",
    "import cv2\n",
    "import os\n",
    "from sklearn.preprocessing import LabelEncoder\n",
    "import random \n",
    "\n",
    "random.seed(19)"
   ]
  },
  {
   "cell_type": "code",
   "execution_count": 2,
   "id": "e5ecbfca",
   "metadata": {},
   "outputs": [],
   "source": [
    "pickle_in = open('X.pickle',\"rb\")\n",
    "X = pickle.load(pickle_in)\n",
    "pickle_in.close()\n",
    "\n",
    "pickle_in = open('y.pickle',\"rb\")\n",
    "y = pickle.load(pickle_in)\n",
    "pickle_in.close()"
   ]
  },
  {
   "cell_type": "code",
   "execution_count": 3,
   "id": "5bdab14e",
   "metadata": {},
   "outputs": [
    {
     "data": {
      "text/plain": [
       "(64, 64, 1)"
      ]
     },
     "execution_count": 3,
     "metadata": {},
     "output_type": "execute_result"
    }
   ],
   "source": [
    "X.shape[1:]"
   ]
  },
  {
   "cell_type": "markdown",
   "id": "89e1882f",
   "metadata": {},
   "source": [
    "## Creating a model to be trained on gray-scaled, unnormalised data"
   ]
  },
  {
   "cell_type": "code",
   "execution_count": 4,
   "id": "a551c788",
   "metadata": {},
   "outputs": [
    {
     "data": {
      "text/html": [
       "<pre style=\"white-space:pre;overflow-x:auto;line-height:normal;font-family:Menlo,'DejaVu Sans Mono',consolas,'Courier New',monospace\"><span style=\"font-weight: bold\">Model: \"sequential\"</span>\n",
       "</pre>\n"
      ],
      "text/plain": [
       "\u001b[1mModel: \"sequential\"\u001b[0m\n"
      ]
     },
     "metadata": {},
     "output_type": "display_data"
    },
    {
     "data": {
      "text/html": [
       "<pre style=\"white-space:pre;overflow-x:auto;line-height:normal;font-family:Menlo,'DejaVu Sans Mono',consolas,'Courier New',monospace\">┏━━━━━━━━━━━━━━━━━━━━━━━━━━━━━━━━━┳━━━━━━━━━━━━━━━━━━━━━━━━┳━━━━━━━━━━━━━━━┓\n",
       "┃<span style=\"font-weight: bold\"> Layer (type)                    </span>┃<span style=\"font-weight: bold\"> Output Shape           </span>┃<span style=\"font-weight: bold\">       Param # </span>┃\n",
       "┡━━━━━━━━━━━━━━━━━━━━━━━━━━━━━━━━━╇━━━━━━━━━━━━━━━━━━━━━━━━╇━━━━━━━━━━━━━━━┩\n",
       "│ conv2d (<span style=\"color: #0087ff; text-decoration-color: #0087ff\">Conv2D</span>)                 │ (<span style=\"color: #00d7ff; text-decoration-color: #00d7ff\">None</span>, <span style=\"color: #00af00; text-decoration-color: #00af00\">64</span>, <span style=\"color: #00af00; text-decoration-color: #00af00\">64</span>, <span style=\"color: #00af00; text-decoration-color: #00af00\">128</span>)    │         <span style=\"color: #00af00; text-decoration-color: #00af00\">2,176</span> │\n",
       "├─────────────────────────────────┼────────────────────────┼───────────────┤\n",
       "│ max_pooling2d (<span style=\"color: #0087ff; text-decoration-color: #0087ff\">MaxPooling2D</span>)    │ (<span style=\"color: #00d7ff; text-decoration-color: #00d7ff\">None</span>, <span style=\"color: #00af00; text-decoration-color: #00af00\">32</span>, <span style=\"color: #00af00; text-decoration-color: #00af00\">32</span>, <span style=\"color: #00af00; text-decoration-color: #00af00\">128</span>)    │             <span style=\"color: #00af00; text-decoration-color: #00af00\">0</span> │\n",
       "├─────────────────────────────────┼────────────────────────┼───────────────┤\n",
       "│ conv2d_1 (<span style=\"color: #0087ff; text-decoration-color: #0087ff\">Conv2D</span>)               │ (<span style=\"color: #00d7ff; text-decoration-color: #00d7ff\">None</span>, <span style=\"color: #00af00; text-decoration-color: #00af00\">32</span>, <span style=\"color: #00af00; text-decoration-color: #00af00\">32</span>, <span style=\"color: #00af00; text-decoration-color: #00af00\">64</span>)     │       <span style=\"color: #00af00; text-decoration-color: #00af00\">131,136</span> │\n",
       "├─────────────────────────────────┼────────────────────────┼───────────────┤\n",
       "│ max_pooling2d_1 (<span style=\"color: #0087ff; text-decoration-color: #0087ff\">MaxPooling2D</span>)  │ (<span style=\"color: #00d7ff; text-decoration-color: #00d7ff\">None</span>, <span style=\"color: #00af00; text-decoration-color: #00af00\">16</span>, <span style=\"color: #00af00; text-decoration-color: #00af00\">16</span>, <span style=\"color: #00af00; text-decoration-color: #00af00\">64</span>)     │             <span style=\"color: #00af00; text-decoration-color: #00af00\">0</span> │\n",
       "├─────────────────────────────────┼────────────────────────┼───────────────┤\n",
       "│ conv2d_2 (<span style=\"color: #0087ff; text-decoration-color: #0087ff\">Conv2D</span>)               │ (<span style=\"color: #00d7ff; text-decoration-color: #00d7ff\">None</span>, <span style=\"color: #00af00; text-decoration-color: #00af00\">16</span>, <span style=\"color: #00af00; text-decoration-color: #00af00\">16</span>, <span style=\"color: #00af00; text-decoration-color: #00af00\">32</span>)     │        <span style=\"color: #00af00; text-decoration-color: #00af00\">32,800</span> │\n",
       "├─────────────────────────────────┼────────────────────────┼───────────────┤\n",
       "│ max_pooling2d_2 (<span style=\"color: #0087ff; text-decoration-color: #0087ff\">MaxPooling2D</span>)  │ (<span style=\"color: #00d7ff; text-decoration-color: #00d7ff\">None</span>, <span style=\"color: #00af00; text-decoration-color: #00af00\">8</span>, <span style=\"color: #00af00; text-decoration-color: #00af00\">8</span>, <span style=\"color: #00af00; text-decoration-color: #00af00\">32</span>)       │             <span style=\"color: #00af00; text-decoration-color: #00af00\">0</span> │\n",
       "├─────────────────────────────────┼────────────────────────┼───────────────┤\n",
       "│ conv2d_3 (<span style=\"color: #0087ff; text-decoration-color: #0087ff\">Conv2D</span>)               │ (<span style=\"color: #00d7ff; text-decoration-color: #00d7ff\">None</span>, <span style=\"color: #00af00; text-decoration-color: #00af00\">8</span>, <span style=\"color: #00af00; text-decoration-color: #00af00\">8</span>, <span style=\"color: #00af00; text-decoration-color: #00af00\">16</span>)       │         <span style=\"color: #00af00; text-decoration-color: #00af00\">8,208</span> │\n",
       "├─────────────────────────────────┼────────────────────────┼───────────────┤\n",
       "│ max_pooling2d_3 (<span style=\"color: #0087ff; text-decoration-color: #0087ff\">MaxPooling2D</span>)  │ (<span style=\"color: #00d7ff; text-decoration-color: #00d7ff\">None</span>, <span style=\"color: #00af00; text-decoration-color: #00af00\">4</span>, <span style=\"color: #00af00; text-decoration-color: #00af00\">4</span>, <span style=\"color: #00af00; text-decoration-color: #00af00\">16</span>)       │             <span style=\"color: #00af00; text-decoration-color: #00af00\">0</span> │\n",
       "├─────────────────────────────────┼────────────────────────┼───────────────┤\n",
       "│ flatten (<span style=\"color: #0087ff; text-decoration-color: #0087ff\">Flatten</span>)               │ (<span style=\"color: #00d7ff; text-decoration-color: #00d7ff\">None</span>, <span style=\"color: #00af00; text-decoration-color: #00af00\">256</span>)            │             <span style=\"color: #00af00; text-decoration-color: #00af00\">0</span> │\n",
       "├─────────────────────────────────┼────────────────────────┼───────────────┤\n",
       "│ dense (<span style=\"color: #0087ff; text-decoration-color: #0087ff\">Dense</span>)                   │ (<span style=\"color: #00d7ff; text-decoration-color: #00d7ff\">None</span>, <span style=\"color: #00af00; text-decoration-color: #00af00\">128</span>)            │        <span style=\"color: #00af00; text-decoration-color: #00af00\">32,896</span> │\n",
       "├─────────────────────────────────┼────────────────────────┼───────────────┤\n",
       "│ dropout (<span style=\"color: #0087ff; text-decoration-color: #0087ff\">Dropout</span>)               │ (<span style=\"color: #00d7ff; text-decoration-color: #00d7ff\">None</span>, <span style=\"color: #00af00; text-decoration-color: #00af00\">128</span>)            │             <span style=\"color: #00af00; text-decoration-color: #00af00\">0</span> │\n",
       "├─────────────────────────────────┼────────────────────────┼───────────────┤\n",
       "│ dense_1 (<span style=\"color: #0087ff; text-decoration-color: #0087ff\">Dense</span>)                 │ (<span style=\"color: #00d7ff; text-decoration-color: #00d7ff\">None</span>, <span style=\"color: #00af00; text-decoration-color: #00af00\">32</span>)             │         <span style=\"color: #00af00; text-decoration-color: #00af00\">4,128</span> │\n",
       "└─────────────────────────────────┴────────────────────────┴───────────────┘\n",
       "</pre>\n"
      ],
      "text/plain": [
       "┏━━━━━━━━━━━━━━━━━━━━━━━━━━━━━━━━━┳━━━━━━━━━━━━━━━━━━━━━━━━┳━━━━━━━━━━━━━━━┓\n",
       "┃\u001b[1m \u001b[0m\u001b[1mLayer (type)                   \u001b[0m\u001b[1m \u001b[0m┃\u001b[1m \u001b[0m\u001b[1mOutput Shape          \u001b[0m\u001b[1m \u001b[0m┃\u001b[1m \u001b[0m\u001b[1m      Param #\u001b[0m\u001b[1m \u001b[0m┃\n",
       "┡━━━━━━━━━━━━━━━━━━━━━━━━━━━━━━━━━╇━━━━━━━━━━━━━━━━━━━━━━━━╇━━━━━━━━━━━━━━━┩\n",
       "│ conv2d (\u001b[38;5;33mConv2D\u001b[0m)                 │ (\u001b[38;5;45mNone\u001b[0m, \u001b[38;5;34m64\u001b[0m, \u001b[38;5;34m64\u001b[0m, \u001b[38;5;34m128\u001b[0m)    │         \u001b[38;5;34m2,176\u001b[0m │\n",
       "├─────────────────────────────────┼────────────────────────┼───────────────┤\n",
       "│ max_pooling2d (\u001b[38;5;33mMaxPooling2D\u001b[0m)    │ (\u001b[38;5;45mNone\u001b[0m, \u001b[38;5;34m32\u001b[0m, \u001b[38;5;34m32\u001b[0m, \u001b[38;5;34m128\u001b[0m)    │             \u001b[38;5;34m0\u001b[0m │\n",
       "├─────────────────────────────────┼────────────────────────┼───────────────┤\n",
       "│ conv2d_1 (\u001b[38;5;33mConv2D\u001b[0m)               │ (\u001b[38;5;45mNone\u001b[0m, \u001b[38;5;34m32\u001b[0m, \u001b[38;5;34m32\u001b[0m, \u001b[38;5;34m64\u001b[0m)     │       \u001b[38;5;34m131,136\u001b[0m │\n",
       "├─────────────────────────────────┼────────────────────────┼───────────────┤\n",
       "│ max_pooling2d_1 (\u001b[38;5;33mMaxPooling2D\u001b[0m)  │ (\u001b[38;5;45mNone\u001b[0m, \u001b[38;5;34m16\u001b[0m, \u001b[38;5;34m16\u001b[0m, \u001b[38;5;34m64\u001b[0m)     │             \u001b[38;5;34m0\u001b[0m │\n",
       "├─────────────────────────────────┼────────────────────────┼───────────────┤\n",
       "│ conv2d_2 (\u001b[38;5;33mConv2D\u001b[0m)               │ (\u001b[38;5;45mNone\u001b[0m, \u001b[38;5;34m16\u001b[0m, \u001b[38;5;34m16\u001b[0m, \u001b[38;5;34m32\u001b[0m)     │        \u001b[38;5;34m32,800\u001b[0m │\n",
       "├─────────────────────────────────┼────────────────────────┼───────────────┤\n",
       "│ max_pooling2d_2 (\u001b[38;5;33mMaxPooling2D\u001b[0m)  │ (\u001b[38;5;45mNone\u001b[0m, \u001b[38;5;34m8\u001b[0m, \u001b[38;5;34m8\u001b[0m, \u001b[38;5;34m32\u001b[0m)       │             \u001b[38;5;34m0\u001b[0m │\n",
       "├─────────────────────────────────┼────────────────────────┼───────────────┤\n",
       "│ conv2d_3 (\u001b[38;5;33mConv2D\u001b[0m)               │ (\u001b[38;5;45mNone\u001b[0m, \u001b[38;5;34m8\u001b[0m, \u001b[38;5;34m8\u001b[0m, \u001b[38;5;34m16\u001b[0m)       │         \u001b[38;5;34m8,208\u001b[0m │\n",
       "├─────────────────────────────────┼────────────────────────┼───────────────┤\n",
       "│ max_pooling2d_3 (\u001b[38;5;33mMaxPooling2D\u001b[0m)  │ (\u001b[38;5;45mNone\u001b[0m, \u001b[38;5;34m4\u001b[0m, \u001b[38;5;34m4\u001b[0m, \u001b[38;5;34m16\u001b[0m)       │             \u001b[38;5;34m0\u001b[0m │\n",
       "├─────────────────────────────────┼────────────────────────┼───────────────┤\n",
       "│ flatten (\u001b[38;5;33mFlatten\u001b[0m)               │ (\u001b[38;5;45mNone\u001b[0m, \u001b[38;5;34m256\u001b[0m)            │             \u001b[38;5;34m0\u001b[0m │\n",
       "├─────────────────────────────────┼────────────────────────┼───────────────┤\n",
       "│ dense (\u001b[38;5;33mDense\u001b[0m)                   │ (\u001b[38;5;45mNone\u001b[0m, \u001b[38;5;34m128\u001b[0m)            │        \u001b[38;5;34m32,896\u001b[0m │\n",
       "├─────────────────────────────────┼────────────────────────┼───────────────┤\n",
       "│ dropout (\u001b[38;5;33mDropout\u001b[0m)               │ (\u001b[38;5;45mNone\u001b[0m, \u001b[38;5;34m128\u001b[0m)            │             \u001b[38;5;34m0\u001b[0m │\n",
       "├─────────────────────────────────┼────────────────────────┼───────────────┤\n",
       "│ dense_1 (\u001b[38;5;33mDense\u001b[0m)                 │ (\u001b[38;5;45mNone\u001b[0m, \u001b[38;5;34m32\u001b[0m)             │         \u001b[38;5;34m4,128\u001b[0m │\n",
       "└─────────────────────────────────┴────────────────────────┴───────────────┘\n"
      ]
     },
     "metadata": {},
     "output_type": "display_data"
    },
    {
     "data": {
      "text/html": [
       "<pre style=\"white-space:pre;overflow-x:auto;line-height:normal;font-family:Menlo,'DejaVu Sans Mono',consolas,'Courier New',monospace\"><span style=\"font-weight: bold\"> Total params: </span><span style=\"color: #00af00; text-decoration-color: #00af00\">211,344</span> (825.56 KB)\n",
       "</pre>\n"
      ],
      "text/plain": [
       "\u001b[1m Total params: \u001b[0m\u001b[38;5;34m211,344\u001b[0m (825.56 KB)\n"
      ]
     },
     "metadata": {},
     "output_type": "display_data"
    },
    {
     "data": {
      "text/html": [
       "<pre style=\"white-space:pre;overflow-x:auto;line-height:normal;font-family:Menlo,'DejaVu Sans Mono',consolas,'Courier New',monospace\"><span style=\"font-weight: bold\"> Trainable params: </span><span style=\"color: #00af00; text-decoration-color: #00af00\">211,344</span> (825.56 KB)\n",
       "</pre>\n"
      ],
      "text/plain": [
       "\u001b[1m Trainable params: \u001b[0m\u001b[38;5;34m211,344\u001b[0m (825.56 KB)\n"
      ]
     },
     "metadata": {},
     "output_type": "display_data"
    },
    {
     "data": {
      "text/html": [
       "<pre style=\"white-space:pre;overflow-x:auto;line-height:normal;font-family:Menlo,'DejaVu Sans Mono',consolas,'Courier New',monospace\"><span style=\"font-weight: bold\"> Non-trainable params: </span><span style=\"color: #00af00; text-decoration-color: #00af00\">0</span> (0.00 B)\n",
       "</pre>\n"
      ],
      "text/plain": [
       "\u001b[1m Non-trainable params: \u001b[0m\u001b[38;5;34m0\u001b[0m (0.00 B)\n"
      ]
     },
     "metadata": {},
     "output_type": "display_data"
    }
   ],
   "source": [
    "# Define the model\n",
    "model = Sequential()\n",
    "\n",
    "# Add InputLayer with input shape\n",
    "model.add(InputLayer(shape=X.shape[1:]))\n",
    "\n",
    "# 1st Convolutional Layer\n",
    "model.add(Conv2D(128, (4, 4), padding='same', activation='relu'))\n",
    "\n",
    "# Max Pooling Layer\n",
    "model.add(MaxPool2D(pool_size=(2, 2)))\n",
    "\n",
    "# 2nd Convolutional Layer\n",
    "model.add(Conv2D(64, (4, 4), padding='same', activation='relu'))\n",
    "\n",
    "# Max Pooling Layer\n",
    "model.add(MaxPool2D(pool_size=(2, 2)))\n",
    "\n",
    "# 3rd Convolutional Layer\n",
    "model.add(Conv2D(32, (4, 4), padding='same', activation='relu'))\n",
    "\n",
    "# Max Pooling Layer\n",
    "model.add(MaxPool2D(pool_size=(2, 2)))\n",
    "\n",
    "# 4th Convolutional Layer\n",
    "model.add(Conv2D(16, (4, 4), padding='same', activation='relu'))\n",
    "\n",
    "# Max Pooling Layer\n",
    "model.add(MaxPool2D(pool_size=(2, 2)))\n",
    "\n",
    "# Flatten layer\n",
    "model.add(Flatten())\n",
    "\n",
    "# Fully Connected Dense Layer\n",
    "model.add(Dense(128, activation='relu'))\n",
    "\n",
    "# Dropout Layer\n",
    "model.add(Dropout(0.5))\n",
    "\n",
    "# Output Layer\n",
    "model.add(Dense(32, activation='softmax'))\n",
    "\n",
    "# Compile the model\n",
    "# tf.keras.optimizers.SGD(learning_rate=0.01, momentum=0.9)\n",
    "model.compile(optimizer=\"Adam\",\n",
    "              loss='sparse_categorical_crossentropy',\n",
    "              metrics=['accuracy'])\n",
    "\n",
    "# Print the model summary\n",
    "model.summary()"
   ]
  },
  {
   "cell_type": "code",
   "execution_count": 5,
   "id": "177ec582",
   "metadata": {
    "scrolled": true
   },
   "outputs": [
    {
     "name": "stdout",
     "output_type": "stream",
     "text": [
      "Epoch 1/30\n",
      "\u001b[1m82/82\u001b[0m \u001b[32m━━━━━━━━━━━━━━━━━━━━\u001b[0m\u001b[37m\u001b[0m \u001b[1m9s\u001b[0m 93ms/step - accuracy: 0.0443 - loss: 7.3071 - val_accuracy: 0.2103 - val_loss: 3.1659\n",
      "Epoch 2/30\n",
      "\u001b[1m82/82\u001b[0m \u001b[32m━━━━━━━━━━━━━━━━━━━━\u001b[0m\u001b[37m\u001b[0m \u001b[1m7s\u001b[0m 86ms/step - accuracy: 0.1575 - loss: 3.1087 - val_accuracy: 0.5483 - val_loss: 1.8277\n",
      "Epoch 3/30\n",
      "\u001b[1m82/82\u001b[0m \u001b[32m━━━━━━━━━━━━━━━━━━━━\u001b[0m\u001b[37m\u001b[0m \u001b[1m8s\u001b[0m 92ms/step - accuracy: 0.4623 - loss: 1.9582 - val_accuracy: 0.7655 - val_loss: 0.8658\n",
      "Epoch 4/30\n",
      "\u001b[1m82/82\u001b[0m \u001b[32m━━━━━━━━━━━━━━━━━━━━\u001b[0m\u001b[37m\u001b[0m \u001b[1m7s\u001b[0m 87ms/step - accuracy: 0.6569 - loss: 1.2389 - val_accuracy: 0.8448 - val_loss: 0.6075\n",
      "Epoch 5/30\n",
      "\u001b[1m82/82\u001b[0m \u001b[32m━━━━━━━━━━━━━━━━━━━━\u001b[0m\u001b[37m\u001b[0m \u001b[1m7s\u001b[0m 88ms/step - accuracy: 0.7152 - loss: 1.0159 - val_accuracy: 0.8724 - val_loss: 0.4470\n",
      "Epoch 6/30\n",
      "\u001b[1m82/82\u001b[0m \u001b[32m━━━━━━━━━━━━━━━━━━━━\u001b[0m\u001b[37m\u001b[0m \u001b[1m7s\u001b[0m 88ms/step - accuracy: 0.8040 - loss: 0.7061 - val_accuracy: 0.8966 - val_loss: 0.4098\n",
      "Epoch 7/30\n",
      "\u001b[1m82/82\u001b[0m \u001b[32m━━━━━━━━━━━━━━━━━━━━\u001b[0m\u001b[37m\u001b[0m \u001b[1m7s\u001b[0m 91ms/step - accuracy: 0.8177 - loss: 0.6051 - val_accuracy: 0.9000 - val_loss: 0.3307\n",
      "Epoch 8/30\n",
      "\u001b[1m82/82\u001b[0m \u001b[32m━━━━━━━━━━━━━━━━━━━━\u001b[0m\u001b[37m\u001b[0m \u001b[1m7s\u001b[0m 89ms/step - accuracy: 0.8461 - loss: 0.5040 - val_accuracy: 0.9138 - val_loss: 0.2891\n",
      "Epoch 9/30\n",
      "\u001b[1m82/82\u001b[0m \u001b[32m━━━━━━━━━━━━━━━━━━━━\u001b[0m\u001b[37m\u001b[0m \u001b[1m7s\u001b[0m 87ms/step - accuracy: 0.8814 - loss: 0.4069 - val_accuracy: 0.9345 - val_loss: 0.2988\n",
      "Epoch 10/30\n",
      "\u001b[1m82/82\u001b[0m \u001b[32m━━━━━━━━━━━━━━━━━━━━\u001b[0m\u001b[37m\u001b[0m \u001b[1m7s\u001b[0m 84ms/step - accuracy: 0.8653 - loss: 0.4031 - val_accuracy: 0.9069 - val_loss: 0.3248\n",
      "Epoch 11/30\n",
      "\u001b[1m82/82\u001b[0m \u001b[32m━━━━━━━━━━━━━━━━━━━━\u001b[0m\u001b[37m\u001b[0m \u001b[1m7s\u001b[0m 85ms/step - accuracy: 0.8857 - loss: 0.3497 - val_accuracy: 0.9448 - val_loss: 0.2946\n",
      "Epoch 12/30\n",
      "\u001b[1m82/82\u001b[0m \u001b[32m━━━━━━━━━━━━━━━━━━━━\u001b[0m\u001b[37m\u001b[0m \u001b[1m7s\u001b[0m 86ms/step - accuracy: 0.9234 - loss: 0.2766 - val_accuracy: 0.9414 - val_loss: 0.3004\n",
      "Epoch 13/30\n",
      "\u001b[1m82/82\u001b[0m \u001b[32m━━━━━━━━━━━━━━━━━━━━\u001b[0m\u001b[37m\u001b[0m \u001b[1m7s\u001b[0m 83ms/step - accuracy: 0.9190 - loss: 0.2754 - val_accuracy: 0.9586 - val_loss: 0.2375\n",
      "Epoch 14/30\n",
      "\u001b[1m82/82\u001b[0m \u001b[32m━━━━━━━━━━━━━━━━━━━━\u001b[0m\u001b[37m\u001b[0m \u001b[1m7s\u001b[0m 86ms/step - accuracy: 0.9268 - loss: 0.2382 - val_accuracy: 0.9310 - val_loss: 0.2744\n",
      "Epoch 15/30\n",
      "\u001b[1m82/82\u001b[0m \u001b[32m━━━━━━━━━━━━━━━━━━━━\u001b[0m\u001b[37m\u001b[0m \u001b[1m7s\u001b[0m 84ms/step - accuracy: 0.9379 - loss: 0.2200 - val_accuracy: 0.9552 - val_loss: 0.2120\n",
      "Epoch 16/30\n",
      "\u001b[1m82/82\u001b[0m \u001b[32m━━━━━━━━━━━━━━━━━━━━\u001b[0m\u001b[37m\u001b[0m \u001b[1m7s\u001b[0m 87ms/step - accuracy: 0.9370 - loss: 0.2017 - val_accuracy: 0.9483 - val_loss: 0.2384\n",
      "Epoch 17/30\n",
      "\u001b[1m82/82\u001b[0m \u001b[32m━━━━━━━━━━━━━━━━━━━━\u001b[0m\u001b[37m\u001b[0m \u001b[1m7s\u001b[0m 90ms/step - accuracy: 0.9360 - loss: 0.1970 - val_accuracy: 0.9517 - val_loss: 0.2462\n",
      "Epoch 18/30\n",
      "\u001b[1m82/82\u001b[0m \u001b[32m━━━━━━━━━━━━━━━━━━━━\u001b[0m\u001b[37m\u001b[0m \u001b[1m8s\u001b[0m 93ms/step - accuracy: 0.9392 - loss: 0.1748 - val_accuracy: 0.9552 - val_loss: 0.2402\n",
      "Epoch 19/30\n",
      "\u001b[1m82/82\u001b[0m \u001b[32m━━━━━━━━━━━━━━━━━━━━\u001b[0m\u001b[37m\u001b[0m \u001b[1m7s\u001b[0m 87ms/step - accuracy: 0.9478 - loss: 0.1640 - val_accuracy: 0.9552 - val_loss: 0.2886\n",
      "Epoch 20/30\n",
      "\u001b[1m82/82\u001b[0m \u001b[32m━━━━━━━━━━━━━━━━━━━━\u001b[0m\u001b[37m\u001b[0m \u001b[1m7s\u001b[0m 85ms/step - accuracy: 0.9322 - loss: 0.2034 - val_accuracy: 0.9483 - val_loss: 0.2573\n",
      "Epoch 21/30\n",
      "\u001b[1m82/82\u001b[0m \u001b[32m━━━━━━━━━━━━━━━━━━━━\u001b[0m\u001b[37m\u001b[0m \u001b[1m7s\u001b[0m 85ms/step - accuracy: 0.9417 - loss: 0.1689 - val_accuracy: 0.9552 - val_loss: 0.2530\n",
      "Epoch 22/30\n",
      "\u001b[1m82/82\u001b[0m \u001b[32m━━━━━━━━━━━━━━━━━━━━\u001b[0m\u001b[37m\u001b[0m \u001b[1m7s\u001b[0m 88ms/step - accuracy: 0.9589 - loss: 0.1298 - val_accuracy: 0.9483 - val_loss: 0.2562\n",
      "Epoch 23/30\n",
      "\u001b[1m82/82\u001b[0m \u001b[32m━━━━━━━━━━━━━━━━━━━━\u001b[0m\u001b[37m\u001b[0m \u001b[1m8s\u001b[0m 97ms/step - accuracy: 0.9655 - loss: 0.1172 - val_accuracy: 0.9517 - val_loss: 0.3260\n",
      "Epoch 24/30\n",
      "\u001b[1m82/82\u001b[0m \u001b[32m━━━━━━━━━━━━━━━━━━━━\u001b[0m\u001b[37m\u001b[0m \u001b[1m7s\u001b[0m 85ms/step - accuracy: 0.9522 - loss: 0.1483 - val_accuracy: 0.9517 - val_loss: 0.2681\n",
      "Epoch 25/30\n",
      "\u001b[1m82/82\u001b[0m \u001b[32m━━━━━━━━━━━━━━━━━━━━\u001b[0m\u001b[37m\u001b[0m \u001b[1m7s\u001b[0m 87ms/step - accuracy: 0.9502 - loss: 0.1595 - val_accuracy: 0.9483 - val_loss: 0.2931\n",
      "Epoch 26/30\n",
      "\u001b[1m82/82\u001b[0m \u001b[32m━━━━━━━━━━━━━━━━━━━━\u001b[0m\u001b[37m\u001b[0m \u001b[1m7s\u001b[0m 86ms/step - accuracy: 0.9664 - loss: 0.0971 - val_accuracy: 0.9517 - val_loss: 0.3380\n",
      "Epoch 27/30\n",
      "\u001b[1m82/82\u001b[0m \u001b[32m━━━━━━━━━━━━━━━━━━━━\u001b[0m\u001b[37m\u001b[0m \u001b[1m7s\u001b[0m 87ms/step - accuracy: 0.9625 - loss: 0.1281 - val_accuracy: 0.9517 - val_loss: 0.3512\n",
      "Epoch 28/30\n",
      "\u001b[1m82/82\u001b[0m \u001b[32m━━━━━━━━━━━━━━━━━━━━\u001b[0m\u001b[37m\u001b[0m \u001b[1m7s\u001b[0m 85ms/step - accuracy: 0.9573 - loss: 0.1058 - val_accuracy: 0.9379 - val_loss: 0.3767\n",
      "Epoch 29/30\n",
      "\u001b[1m82/82\u001b[0m \u001b[32m━━━━━━━━━━━━━━━━━━━━\u001b[0m\u001b[37m\u001b[0m \u001b[1m7s\u001b[0m 86ms/step - accuracy: 0.9569 - loss: 0.1287 - val_accuracy: 0.9586 - val_loss: 0.3102\n",
      "Epoch 30/30\n",
      "\u001b[1m82/82\u001b[0m \u001b[32m━━━━━━━━━━━━━━━━━━━━\u001b[0m\u001b[37m\u001b[0m \u001b[1m7s\u001b[0m 85ms/step - accuracy: 0.9652 - loss: 0.0979 - val_accuracy: 0.9552 - val_loss: 0.2678\n"
     ]
    }
   ],
   "source": [
    "# Train the model\n",
    "history = model.fit(X, y, epochs=30, validation_split=0.10, batch_size=32) "
   ]
  },
  {
   "cell_type": "code",
   "execution_count": 6,
   "id": "7ba44968",
   "metadata": {
    "scrolled": true
   },
   "outputs": [
    {
     "data": {
      "image/png": "[encoded data removed]",
      "text/plain": [
       "<Figure size 640x480 with 1 Axes>"
      ]
     },
     "metadata": {},
     "output_type": "display_data"
    },
    {
     "data": {
      "image/png": "[encoded data removed]",
      "text/plain": [
       "<Figure size 640x480 with 1 Axes>"
      ]
     },
     "metadata": {},
     "output_type": "display_data"
    }
   ],
   "source": [
    "# Plot training & validation loss values\n",
    "plt.plot(history.history['loss'])\n",
    "plt.plot(history.history['val_loss'])\n",
    "plt.title('Model Loss')\n",
    "plt.ylabel('Loss')\n",
    "plt.xlabel('Epoch')\n",
    "plt.legend(['Train', 'Validation'], loc='upper left')\n",
    "plt.show()\n",
    "\n",
    "# Plot training & validation accuracy values\n",
    "plt.plot(history.history['accuracy'])\n",
    "plt.plot(history.history['val_accuracy'])\n",
    "plt.title('Model Accuracy')\n",
    "plt.ylabel('Accuracy')\n",
    "plt.xlabel('Epoch')\n",
    "plt.legend(['Train', 'Validation'], loc='upper left')\n",
    "plt.show()"
   ]
  },
  {
   "cell_type": "code",
   "execution_count": 7,
   "id": "54be50a5",
   "metadata": {},
   "outputs": [],
   "source": [
    "pickle_in = open('X_test.pickle',\"rb\")\n",
    "X_test = pickle.load(pickle_in)\n",
    "pickle_in.close()\n",
    "\n",
    "pickle_in = open('y_test.pickle',\"rb\")\n",
    "y_test = pickle.load(pickle_in)\n",
    "pickle_in.close()"
   ]
  },
  {
   "cell_type": "code",
   "execution_count": 8,
   "id": "5b2f2dda",
   "metadata": {},
   "outputs": [
    {
     "name": "stdout",
     "output_type": "stream",
     "text": [
      "\u001b[1m11/11\u001b[0m \u001b[32m━━━━━━━━━━━━━━━━━━━━\u001b[0m\u001b[37m\u001b[0m \u001b[1m0s\u001b[0m 26ms/step - accuracy: 0.5923 - loss: 2.7241\n",
      "Test Loss: 2.777344226837158\n",
      "Test Accuracy: 0.5994318127632141\n"
     ]
    }
   ],
   "source": [
    "# Evaluate the model on the test dataset\n",
    "loss, accuracy = model.evaluate(X_test, y_test)\n",
    "\n",
    "# Print the test loss and accuracy\n",
    "print(\"Test Loss:\", loss)\n",
    "print(\"Test Accuracy:\", accuracy)"
   ]
  },
  {
   "cell_type": "markdown",
   "id": "460135cb",
   "metadata": {},
   "source": [
    "### Training the same Model on Normalised, gray-scaled Images"
   ]
  },
  {
   "cell_type": "markdown",
   "id": "9a9a6c72",
   "metadata": {},
   "source": [
    "Using simple rescaling of Images.\n",
    "\n",
    "This method involves rescaling pixel values to a new range, typically between 0 and 1. By dividing each pixel by the maximum possible value (usually 255), we can achieve this form of normalization which helps in scaling down the pixel intensity for various computing purposes."
   ]
  },
  {
   "cell_type": "code",
   "execution_count": 9,
   "id": "8d1c4d07",
   "metadata": {},
   "outputs": [
    {
     "data": {
      "text/plain": [
       "array([[[[0.11372549],\n",
       "         [0.11764706],\n",
       "         [0.11372549],\n",
       "         ...,\n",
       "         [0.07058824],\n",
       "         [0.07058824],\n",
       "         [0.0745098 ]],\n",
       "\n",
       "        [[0.10588235],\n",
       "         [0.10980392],\n",
       "         [0.10196078],\n",
       "         ...,\n",
       "         [0.03921569],\n",
       "         [0.05098039],\n",
       "         [0.07058824]],\n",
       "\n",
       "        [[0.10980392],\n",
       "         [0.09803922],\n",
       "         [0.09803922],\n",
       "         ...,\n",
       "         [0.12156863],\n",
       "         [0.03137255],\n",
       "         [0.07058824]],\n",
       "\n",
       "        ...,\n",
       "\n",
       "        [[0.10196078],\n",
       "         [0.29019608],\n",
       "         [0.3372549 ],\n",
       "         ...,\n",
       "         [0.11764706],\n",
       "         [0.14901961],\n",
       "         [0.14901961]],\n",
       "\n",
       "        [[0.12941176],\n",
       "         [0.08235294],\n",
       "         [0.10588235],\n",
       "         ...,\n",
       "         [0.12941176],\n",
       "         [0.14117647],\n",
       "         [0.14117647]],\n",
       "\n",
       "        [[0.14509804],\n",
       "         [0.12941176],\n",
       "         [0.12156863],\n",
       "         ...,\n",
       "         [0.14509804],\n",
       "         [0.14117647],\n",
       "         [0.13333333]]],\n",
       "\n",
       "\n",
       "       [[[0.62352941],\n",
       "         [0.61568627],\n",
       "         [0.63137255],\n",
       "         ...,\n",
       "         [0.60392157],\n",
       "         [0.69411765],\n",
       "         [0.47058824]],\n",
       "\n",
       "        [[0.62352941],\n",
       "         [0.61960784],\n",
       "         [0.63137255],\n",
       "         ...,\n",
       "         [0.61960784],\n",
       "         [0.70980392],\n",
       "         [0.48235294]],\n",
       "\n",
       "        [[0.62352941],\n",
       "         [0.61568627],\n",
       "         [0.63137255],\n",
       "         ...,\n",
       "         [0.69411765],\n",
       "         [0.76470588],\n",
       "         [0.51372549]],\n",
       "\n",
       "        ...,\n",
       "\n",
       "        [[0.63921569],\n",
       "         [0.63921569],\n",
       "         [0.63921569],\n",
       "         ...,\n",
       "         [0.41568627],\n",
       "         [0.41568627],\n",
       "         [0.41568627]],\n",
       "\n",
       "        [[0.63921569],\n",
       "         [0.63921569],\n",
       "         [0.63921569],\n",
       "         ...,\n",
       "         [0.41568627],\n",
       "         [0.41568627],\n",
       "         [0.41568627]],\n",
       "\n",
       "        [[0.63921569],\n",
       "         [0.63921569],\n",
       "         [0.63921569],\n",
       "         ...,\n",
       "         [0.41568627],\n",
       "         [0.41568627],\n",
       "         [0.41568627]]],\n",
       "\n",
       "\n",
       "       [[[0.23921569],\n",
       "         [0.18823529],\n",
       "         [0.19607843],\n",
       "         ...,\n",
       "         [0.54509804],\n",
       "         [0.2745098 ],\n",
       "         [0.23137255]],\n",
       "\n",
       "        [[0.24313725],\n",
       "         [0.18823529],\n",
       "         [0.18431373],\n",
       "         ...,\n",
       "         [0.28627451],\n",
       "         [0.19215686],\n",
       "         [0.27058824]],\n",
       "\n",
       "        [[0.24313725],\n",
       "         [0.14901961],\n",
       "         [0.16078431],\n",
       "         ...,\n",
       "         [0.1254902 ],\n",
       "         [0.20784314],\n",
       "         [0.2627451 ]],\n",
       "\n",
       "        ...,\n",
       "\n",
       "        [[0.3372549 ],\n",
       "         [0.18431373],\n",
       "         [0.20392157],\n",
       "         ...,\n",
       "         [0.20392157],\n",
       "         [0.29019608],\n",
       "         [0.34509804]],\n",
       "\n",
       "        [[0.32941176],\n",
       "         [0.20392157],\n",
       "         [0.24313725],\n",
       "         ...,\n",
       "         [0.2745098 ],\n",
       "         [0.36470588],\n",
       "         [0.37647059]],\n",
       "\n",
       "        [[0.27058824],\n",
       "         [0.20784314],\n",
       "         [0.29411765],\n",
       "         ...,\n",
       "         [0.31764706],\n",
       "         [0.34901961],\n",
       "         [0.39215686]]],\n",
       "\n",
       "\n",
       "       ...,\n",
       "\n",
       "\n",
       "       [[[0.09019608],\n",
       "         [0.09019608],\n",
       "         [0.09019608],\n",
       "         ...,\n",
       "         [0.11372549],\n",
       "         [0.10980392],\n",
       "         [0.09803922]],\n",
       "\n",
       "        [[0.09019608],\n",
       "         [0.09019608],\n",
       "         [0.09411765],\n",
       "         ...,\n",
       "         [0.16078431],\n",
       "         [0.3372549 ],\n",
       "         [0.37647059]],\n",
       "\n",
       "        [[0.09019608],\n",
       "         [0.09411765],\n",
       "         [0.09411765],\n",
       "         ...,\n",
       "         [0.18039216],\n",
       "         [0.24313725],\n",
       "         [0.34901961]],\n",
       "\n",
       "        ...,\n",
       "\n",
       "        [[0.1372549 ],\n",
       "         [0.12941176],\n",
       "         [0.12156863],\n",
       "         ...,\n",
       "         [0.09411765],\n",
       "         [0.09019608],\n",
       "         [0.08627451]],\n",
       "\n",
       "        [[0.09411765],\n",
       "         [0.09803922],\n",
       "         [0.10196078],\n",
       "         ...,\n",
       "         [0.09411765],\n",
       "         [0.09803922],\n",
       "         [0.09803922]],\n",
       "\n",
       "        [[0.0745098 ],\n",
       "         [0.08235294],\n",
       "         [0.08627451],\n",
       "         ...,\n",
       "         [0.10980392],\n",
       "         [0.10980392],\n",
       "         [0.10980392]]],\n",
       "\n",
       "\n",
       "       [[[0.14901961],\n",
       "         [0.15294118],\n",
       "         [0.15294118],\n",
       "         ...,\n",
       "         [0.24705882],\n",
       "         [0.24313725],\n",
       "         [0.24313725]],\n",
       "\n",
       "        [[0.14901961],\n",
       "         [0.14901961],\n",
       "         [0.14901961],\n",
       "         ...,\n",
       "         [0.23921569],\n",
       "         [0.24705882],\n",
       "         [0.25490196]],\n",
       "\n",
       "        [[0.14901961],\n",
       "         [0.14901961],\n",
       "         [0.14901961],\n",
       "         ...,\n",
       "         [0.23921569],\n",
       "         [0.24313725],\n",
       "         [0.24313725]],\n",
       "\n",
       "        ...,\n",
       "\n",
       "        [[0.21176471],\n",
       "         [0.15686275],\n",
       "         [0.14901961],\n",
       "         ...,\n",
       "         [0.25098039],\n",
       "         [0.25098039],\n",
       "         [0.25098039]],\n",
       "\n",
       "        [[0.20392157],\n",
       "         [0.18823529],\n",
       "         [0.17647059],\n",
       "         ...,\n",
       "         [0.25098039],\n",
       "         [0.25098039],\n",
       "         [0.25098039]],\n",
       "\n",
       "        [[0.20784314],\n",
       "         [0.18431373],\n",
       "         [0.17647059],\n",
       "         ...,\n",
       "         [0.25098039],\n",
       "         [0.25098039],\n",
       "         [0.25098039]]],\n",
       "\n",
       "\n",
       "       [[[0.59607843],\n",
       "         [0.58431373],\n",
       "         [0.58431373],\n",
       "         ...,\n",
       "         [0.42352941],\n",
       "         [0.4       ],\n",
       "         [0.40392157]],\n",
       "\n",
       "        [[0.55294118],\n",
       "         [0.6       ],\n",
       "         [0.58431373],\n",
       "         ...,\n",
       "         [0.40784314],\n",
       "         [0.40392157],\n",
       "         [0.41568627]],\n",
       "\n",
       "        [[0.34117647],\n",
       "         [0.56470588],\n",
       "         [0.62352941],\n",
       "         ...,\n",
       "         [0.42352941],\n",
       "         [0.41568627],\n",
       "         [0.44705882]],\n",
       "\n",
       "        ...,\n",
       "\n",
       "        [[0.2745098 ],\n",
       "         [0.28235294],\n",
       "         [0.30588235],\n",
       "         ...,\n",
       "         [0.40784314],\n",
       "         [0.39215686],\n",
       "         [0.40392157]],\n",
       "\n",
       "        [[0.52941176],\n",
       "         [0.35294118],\n",
       "         [0.29411765],\n",
       "         ...,\n",
       "         [0.41960784],\n",
       "         [0.40784314],\n",
       "         [0.41960784]],\n",
       "\n",
       "        [[0.63137255],\n",
       "         [0.65882353],\n",
       "         [0.51372549],\n",
       "         ...,\n",
       "         [0.41960784],\n",
       "         [0.41176471],\n",
       "         [0.42352941]]]])"
      ]
     },
     "execution_count": 9,
     "metadata": {},
     "output_type": "execute_result"
    }
   ],
   "source": [
    "X = X/255.0\n",
    "X"
   ]
  },
  {
   "cell_type": "code",
   "execution_count": 10,
   "id": "56aca753",
   "metadata": {},
   "outputs": [
    {
     "data": {
      "text/plain": [
       "array([[[[0.64313725],\n",
       "         [0.64313725],\n",
       "         [0.63921569],\n",
       "         ...,\n",
       "         [0.30588235],\n",
       "         [0.34901961],\n",
       "         [0.56470588]],\n",
       "\n",
       "        [[0.64313725],\n",
       "         [0.64313725],\n",
       "         [0.64705882],\n",
       "         ...,\n",
       "         [0.31764706],\n",
       "         [0.3372549 ],\n",
       "         [0.55686275]],\n",
       "\n",
       "        [[0.63921569],\n",
       "         [0.64313725],\n",
       "         [0.64313725],\n",
       "         ...,\n",
       "         [0.31764706],\n",
       "         [0.32156863],\n",
       "         [0.54509804]],\n",
       "\n",
       "        ...,\n",
       "\n",
       "        [[0.09019608],\n",
       "         [0.09019608],\n",
       "         [0.09019608],\n",
       "         ...,\n",
       "         [0.29019608],\n",
       "         [0.10196078],\n",
       "         [0.16470588]],\n",
       "\n",
       "        [[0.09411765],\n",
       "         [0.09019608],\n",
       "         [0.08627451],\n",
       "         ...,\n",
       "         [0.2745098 ],\n",
       "         [0.11764706],\n",
       "         [0.16078431]],\n",
       "\n",
       "        [[0.09411765],\n",
       "         [0.08627451],\n",
       "         [0.09411765],\n",
       "         ...,\n",
       "         [0.23921569],\n",
       "         [0.11372549],\n",
       "         [0.1372549 ]]],\n",
       "\n",
       "\n",
       "       [[[0.17254902],\n",
       "         [0.17254902],\n",
       "         [0.17254902],\n",
       "         ...,\n",
       "         [0.16862745],\n",
       "         [0.16862745],\n",
       "         [0.16862745]],\n",
       "\n",
       "        [[0.17254902],\n",
       "         [0.17254902],\n",
       "         [0.16862745],\n",
       "         ...,\n",
       "         [0.16862745],\n",
       "         [0.16862745],\n",
       "         [0.16862745]],\n",
       "\n",
       "        [[0.16862745],\n",
       "         [0.16862745],\n",
       "         [0.16862745],\n",
       "         ...,\n",
       "         [0.16862745],\n",
       "         [0.16862745],\n",
       "         [0.16862745]],\n",
       "\n",
       "        ...,\n",
       "\n",
       "        [[0.15294118],\n",
       "         [0.15686275],\n",
       "         [0.16470588],\n",
       "         ...,\n",
       "         [0.15294118],\n",
       "         [0.15294118],\n",
       "         [0.15294118]],\n",
       "\n",
       "        [[0.15686275],\n",
       "         [0.15686275],\n",
       "         [0.16470588],\n",
       "         ...,\n",
       "         [0.15294118],\n",
       "         [0.15294118],\n",
       "         [0.15294118]],\n",
       "\n",
       "        [[0.15686275],\n",
       "         [0.16078431],\n",
       "         [0.16470588],\n",
       "         ...,\n",
       "         [0.15294118],\n",
       "         [0.15294118],\n",
       "         [0.15294118]]],\n",
       "\n",
       "\n",
       "       [[[0.44705882],\n",
       "         [0.38039216],\n",
       "         [0.64705882],\n",
       "         ...,\n",
       "         [0.47058824],\n",
       "         [0.47843137],\n",
       "         [0.44313725]],\n",
       "\n",
       "        [[0.32156863],\n",
       "         [0.29411765],\n",
       "         [0.23137255],\n",
       "         ...,\n",
       "         [0.49019608],\n",
       "         [0.4745098 ],\n",
       "         [0.45098039]],\n",
       "\n",
       "        [[0.31764706],\n",
       "         [0.29019608],\n",
       "         [0.25098039],\n",
       "         ...,\n",
       "         [0.42352941],\n",
       "         [0.35294118],\n",
       "         [0.35294118]],\n",
       "\n",
       "        ...,\n",
       "\n",
       "        [[0.94117647],\n",
       "         [0.27843137],\n",
       "         [0.88235294],\n",
       "         ...,\n",
       "         [0.29019608],\n",
       "         [0.32941176],\n",
       "         [0.2745098 ]],\n",
       "\n",
       "        [[0.79215686],\n",
       "         [0.65098039],\n",
       "         [0.79215686],\n",
       "         ...,\n",
       "         [0.23921569],\n",
       "         [0.24705882],\n",
       "         [0.26666667]],\n",
       "\n",
       "        [[0.68627451],\n",
       "         [0.63921569],\n",
       "         [0.21960784],\n",
       "         ...,\n",
       "         [0.22352941],\n",
       "         [0.23529412],\n",
       "         [0.22352941]]],\n",
       "\n",
       "\n",
       "       ...,\n",
       "\n",
       "\n",
       "       [[[0.65490196],\n",
       "         [0.44313725],\n",
       "         [0.72941176],\n",
       "         ...,\n",
       "         [0.64313725],\n",
       "         [0.59215686],\n",
       "         [0.38039216]],\n",
       "\n",
       "        [[0.74509804],\n",
       "         [0.60392157],\n",
       "         [0.81176471],\n",
       "         ...,\n",
       "         [0.56470588],\n",
       "         [0.45490196],\n",
       "         [0.21568627]],\n",
       "\n",
       "        [[0.58823529],\n",
       "         [0.64705882],\n",
       "         [0.78039216],\n",
       "         ...,\n",
       "         [0.39607843],\n",
       "         [0.32941176],\n",
       "         [0.23137255]],\n",
       "\n",
       "        ...,\n",
       "\n",
       "        [[0.25882353],\n",
       "         [0.26666667],\n",
       "         [0.31372549],\n",
       "         ...,\n",
       "         [0.97254902],\n",
       "         [0.96470588],\n",
       "         [0.97254902]],\n",
       "\n",
       "        [[0.25098039],\n",
       "         [0.2627451 ],\n",
       "         [0.3254902 ],\n",
       "         ...,\n",
       "         [0.96862745],\n",
       "         [0.97254902],\n",
       "         [0.97254902]],\n",
       "\n",
       "        [[0.14117647],\n",
       "         [0.24313725],\n",
       "         [0.33333333],\n",
       "         ...,\n",
       "         [0.96862745],\n",
       "         [0.96470588],\n",
       "         [0.96862745]]],\n",
       "\n",
       "\n",
       "       [[[0.22745098],\n",
       "         [0.21176471],\n",
       "         [0.22745098],\n",
       "         ...,\n",
       "         [0.35686275],\n",
       "         [0.27843137],\n",
       "         [0.27058824]],\n",
       "\n",
       "        [[0.21176471],\n",
       "         [0.23137255],\n",
       "         [0.22745098],\n",
       "         ...,\n",
       "         [0.38431373],\n",
       "         [0.24705882],\n",
       "         [0.23137255]],\n",
       "\n",
       "        [[0.22352941],\n",
       "         [0.23529412],\n",
       "         [0.22352941],\n",
       "         ...,\n",
       "         [0.29803922],\n",
       "         [0.22352941],\n",
       "         [0.28235294]],\n",
       "\n",
       "        ...,\n",
       "\n",
       "        [[0.17254902],\n",
       "         [0.15686275],\n",
       "         [0.1254902 ],\n",
       "         ...,\n",
       "         [0.16862745],\n",
       "         [0.19215686],\n",
       "         [0.20392157]],\n",
       "\n",
       "        [[0.2       ],\n",
       "         [0.18039216],\n",
       "         [0.17647059],\n",
       "         ...,\n",
       "         [0.16078431],\n",
       "         [0.17647059],\n",
       "         [0.18039216]],\n",
       "\n",
       "        [[0.17254902],\n",
       "         [0.18039216],\n",
       "         [0.17254902],\n",
       "         ...,\n",
       "         [0.14901961],\n",
       "         [0.17254902],\n",
       "         [0.20392157]]],\n",
       "\n",
       "\n",
       "       [[[0.58823529],\n",
       "         [0.58823529],\n",
       "         [0.58823529],\n",
       "         ...,\n",
       "         [0.50980392],\n",
       "         [0.49803922],\n",
       "         [0.47843137]],\n",
       "\n",
       "        [[0.58823529],\n",
       "         [0.58823529],\n",
       "         [0.58823529],\n",
       "         ...,\n",
       "         [0.50980392],\n",
       "         [0.50196078],\n",
       "         [0.48235294]],\n",
       "\n",
       "        [[0.59215686],\n",
       "         [0.59215686],\n",
       "         [0.59215686],\n",
       "         ...,\n",
       "         [0.50980392],\n",
       "         [0.50588235],\n",
       "         [0.47843137]],\n",
       "\n",
       "        ...,\n",
       "\n",
       "        [[0.34509804],\n",
       "         [0.38039216],\n",
       "         [0.42745098],\n",
       "         ...,\n",
       "         [0.38039216],\n",
       "         [0.43137255],\n",
       "         [0.43921569]],\n",
       "\n",
       "        [[0.3372549 ],\n",
       "         [0.31764706],\n",
       "         [0.32156863],\n",
       "         ...,\n",
       "         [0.35294118],\n",
       "         [0.34117647],\n",
       "         [0.32941176]],\n",
       "\n",
       "        [[0.29411765],\n",
       "         [0.36862745],\n",
       "         [0.32941176],\n",
       "         ...,\n",
       "         [0.38823529],\n",
       "         [0.29803922],\n",
       "         [0.48235294]]]])"
      ]
     },
     "execution_count": 10,
     "metadata": {},
     "output_type": "execute_result"
    }
   ],
   "source": [
    "X_test = X_test/255.0\n",
    "X_test"
   ]
  },
  {
   "cell_type": "code",
   "execution_count": 11,
   "id": "2df9ee19",
   "metadata": {},
   "outputs": [
    {
     "data": {
      "text/html": [
       "<pre style=\"white-space:pre;overflow-x:auto;line-height:normal;font-family:Menlo,'DejaVu Sans Mono',consolas,'Courier New',monospace\"><span style=\"font-weight: bold\">Model: \"sequential_1\"</span>\n",
       "</pre>\n"
      ],
      "text/plain": [
       "\u001b[1mModel: \"sequential_1\"\u001b[0m\n"
      ]
     },
     "metadata": {},
     "output_type": "display_data"
    },
    {
     "data": {
      "text/html": [
       "<pre style=\"white-space:pre;overflow-x:auto;line-height:normal;font-family:Menlo,'DejaVu Sans Mono',consolas,'Courier New',monospace\">┏━━━━━━━━━━━━━━━━━━━━━━━━━━━━━━━━━┳━━━━━━━━━━━━━━━━━━━━━━━━┳━━━━━━━━━━━━━━━┓\n",
       "┃<span style=\"font-weight: bold\"> Layer (type)                    </span>┃<span style=\"font-weight: bold\"> Output Shape           </span>┃<span style=\"font-weight: bold\">       Param # </span>┃\n",
       "┡━━━━━━━━━━━━━━━━━━━━━━━━━━━━━━━━━╇━━━━━━━━━━━━━━━━━━━━━━━━╇━━━━━━━━━━━━━━━┩\n",
       "│ conv2d_4 (<span style=\"color: #0087ff; text-decoration-color: #0087ff\">Conv2D</span>)               │ (<span style=\"color: #00d7ff; text-decoration-color: #00d7ff\">None</span>, <span style=\"color: #00af00; text-decoration-color: #00af00\">64</span>, <span style=\"color: #00af00; text-decoration-color: #00af00\">64</span>, <span style=\"color: #00af00; text-decoration-color: #00af00\">128</span>)    │         <span style=\"color: #00af00; text-decoration-color: #00af00\">2,176</span> │\n",
       "├─────────────────────────────────┼────────────────────────┼───────────────┤\n",
       "│ max_pooling2d_4 (<span style=\"color: #0087ff; text-decoration-color: #0087ff\">MaxPooling2D</span>)  │ (<span style=\"color: #00d7ff; text-decoration-color: #00d7ff\">None</span>, <span style=\"color: #00af00; text-decoration-color: #00af00\">32</span>, <span style=\"color: #00af00; text-decoration-color: #00af00\">32</span>, <span style=\"color: #00af00; text-decoration-color: #00af00\">128</span>)    │             <span style=\"color: #00af00; text-decoration-color: #00af00\">0</span> │\n",
       "├─────────────────────────────────┼────────────────────────┼───────────────┤\n",
       "│ conv2d_5 (<span style=\"color: #0087ff; text-decoration-color: #0087ff\">Conv2D</span>)               │ (<span style=\"color: #00d7ff; text-decoration-color: #00d7ff\">None</span>, <span style=\"color: #00af00; text-decoration-color: #00af00\">32</span>, <span style=\"color: #00af00; text-decoration-color: #00af00\">32</span>, <span style=\"color: #00af00; text-decoration-color: #00af00\">64</span>)     │       <span style=\"color: #00af00; text-decoration-color: #00af00\">131,136</span> │\n",
       "├─────────────────────────────────┼────────────────────────┼───────────────┤\n",
       "│ max_pooling2d_5 (<span style=\"color: #0087ff; text-decoration-color: #0087ff\">MaxPooling2D</span>)  │ (<span style=\"color: #00d7ff; text-decoration-color: #00d7ff\">None</span>, <span style=\"color: #00af00; text-decoration-color: #00af00\">16</span>, <span style=\"color: #00af00; text-decoration-color: #00af00\">16</span>, <span style=\"color: #00af00; text-decoration-color: #00af00\">64</span>)     │             <span style=\"color: #00af00; text-decoration-color: #00af00\">0</span> │\n",
       "├─────────────────────────────────┼────────────────────────┼───────────────┤\n",
       "│ conv2d_6 (<span style=\"color: #0087ff; text-decoration-color: #0087ff\">Conv2D</span>)               │ (<span style=\"color: #00d7ff; text-decoration-color: #00d7ff\">None</span>, <span style=\"color: #00af00; text-decoration-color: #00af00\">16</span>, <span style=\"color: #00af00; text-decoration-color: #00af00\">16</span>, <span style=\"color: #00af00; text-decoration-color: #00af00\">32</span>)     │        <span style=\"color: #00af00; text-decoration-color: #00af00\">32,800</span> │\n",
       "├─────────────────────────────────┼────────────────────────┼───────────────┤\n",
       "│ max_pooling2d_6 (<span style=\"color: #0087ff; text-decoration-color: #0087ff\">MaxPooling2D</span>)  │ (<span style=\"color: #00d7ff; text-decoration-color: #00d7ff\">None</span>, <span style=\"color: #00af00; text-decoration-color: #00af00\">8</span>, <span style=\"color: #00af00; text-decoration-color: #00af00\">8</span>, <span style=\"color: #00af00; text-decoration-color: #00af00\">32</span>)       │             <span style=\"color: #00af00; text-decoration-color: #00af00\">0</span> │\n",
       "├─────────────────────────────────┼────────────────────────┼───────────────┤\n",
       "│ conv2d_7 (<span style=\"color: #0087ff; text-decoration-color: #0087ff\">Conv2D</span>)               │ (<span style=\"color: #00d7ff; text-decoration-color: #00d7ff\">None</span>, <span style=\"color: #00af00; text-decoration-color: #00af00\">8</span>, <span style=\"color: #00af00; text-decoration-color: #00af00\">8</span>, <span style=\"color: #00af00; text-decoration-color: #00af00\">16</span>)       │         <span style=\"color: #00af00; text-decoration-color: #00af00\">8,208</span> │\n",
       "├─────────────────────────────────┼────────────────────────┼───────────────┤\n",
       "│ max_pooling2d_7 (<span style=\"color: #0087ff; text-decoration-color: #0087ff\">MaxPooling2D</span>)  │ (<span style=\"color: #00d7ff; text-decoration-color: #00d7ff\">None</span>, <span style=\"color: #00af00; text-decoration-color: #00af00\">4</span>, <span style=\"color: #00af00; text-decoration-color: #00af00\">4</span>, <span style=\"color: #00af00; text-decoration-color: #00af00\">16</span>)       │             <span style=\"color: #00af00; text-decoration-color: #00af00\">0</span> │\n",
       "├─────────────────────────────────┼────────────────────────┼───────────────┤\n",
       "│ flatten_1 (<span style=\"color: #0087ff; text-decoration-color: #0087ff\">Flatten</span>)             │ (<span style=\"color: #00d7ff; text-decoration-color: #00d7ff\">None</span>, <span style=\"color: #00af00; text-decoration-color: #00af00\">256</span>)            │             <span style=\"color: #00af00; text-decoration-color: #00af00\">0</span> │\n",
       "├─────────────────────────────────┼────────────────────────┼───────────────┤\n",
       "│ dense_2 (<span style=\"color: #0087ff; text-decoration-color: #0087ff\">Dense</span>)                 │ (<span style=\"color: #00d7ff; text-decoration-color: #00d7ff\">None</span>, <span style=\"color: #00af00; text-decoration-color: #00af00\">128</span>)            │        <span style=\"color: #00af00; text-decoration-color: #00af00\">32,896</span> │\n",
       "├─────────────────────────────────┼────────────────────────┼───────────────┤\n",
       "│ dropout_1 (<span style=\"color: #0087ff; text-decoration-color: #0087ff\">Dropout</span>)             │ (<span style=\"color: #00d7ff; text-decoration-color: #00d7ff\">None</span>, <span style=\"color: #00af00; text-decoration-color: #00af00\">128</span>)            │             <span style=\"color: #00af00; text-decoration-color: #00af00\">0</span> │\n",
       "├─────────────────────────────────┼────────────────────────┼───────────────┤\n",
       "│ dense_3 (<span style=\"color: #0087ff; text-decoration-color: #0087ff\">Dense</span>)                 │ (<span style=\"color: #00d7ff; text-decoration-color: #00d7ff\">None</span>, <span style=\"color: #00af00; text-decoration-color: #00af00\">32</span>)             │         <span style=\"color: #00af00; text-decoration-color: #00af00\">4,128</span> │\n",
       "└─────────────────────────────────┴────────────────────────┴───────────────┘\n",
       "</pre>\n"
      ],
      "text/plain": [
       "┏━━━━━━━━━━━━━━━━━━━━━━━━━━━━━━━━━┳━━━━━━━━━━━━━━━━━━━━━━━━┳━━━━━━━━━━━━━━━┓\n",
       "┃\u001b[1m \u001b[0m\u001b[1mLayer (type)                   \u001b[0m\u001b[1m \u001b[0m┃\u001b[1m \u001b[0m\u001b[1mOutput Shape          \u001b[0m\u001b[1m \u001b[0m┃\u001b[1m \u001b[0m\u001b[1m      Param #\u001b[0m\u001b[1m \u001b[0m┃\n",
       "┡━━━━━━━━━━━━━━━━━━━━━━━━━━━━━━━━━╇━━━━━━━━━━━━━━━━━━━━━━━━╇━━━━━━━━━━━━━━━┩\n",
       "│ conv2d_4 (\u001b[38;5;33mConv2D\u001b[0m)               │ (\u001b[38;5;45mNone\u001b[0m, \u001b[38;5;34m64\u001b[0m, \u001b[38;5;34m64\u001b[0m, \u001b[38;5;34m128\u001b[0m)    │         \u001b[38;5;34m2,176\u001b[0m │\n",
       "├─────────────────────────────────┼────────────────────────┼───────────────┤\n",
       "│ max_pooling2d_4 (\u001b[38;5;33mMaxPooling2D\u001b[0m)  │ (\u001b[38;5;45mNone\u001b[0m, \u001b[38;5;34m32\u001b[0m, \u001b[38;5;34m32\u001b[0m, \u001b[38;5;34m128\u001b[0m)    │             \u001b[38;5;34m0\u001b[0m │\n",
       "├─────────────────────────────────┼────────────────────────┼───────────────┤\n",
       "│ conv2d_5 (\u001b[38;5;33mConv2D\u001b[0m)               │ (\u001b[38;5;45mNone\u001b[0m, \u001b[38;5;34m32\u001b[0m, \u001b[38;5;34m32\u001b[0m, \u001b[38;5;34m64\u001b[0m)     │       \u001b[38;5;34m131,136\u001b[0m │\n",
       "├─────────────────────────────────┼────────────────────────┼───────────────┤\n",
       "│ max_pooling2d_5 (\u001b[38;5;33mMaxPooling2D\u001b[0m)  │ (\u001b[38;5;45mNone\u001b[0m, \u001b[38;5;34m16\u001b[0m, \u001b[38;5;34m16\u001b[0m, \u001b[38;5;34m64\u001b[0m)     │             \u001b[38;5;34m0\u001b[0m │\n",
       "├─────────────────────────────────┼────────────────────────┼───────────────┤\n",
       "│ conv2d_6 (\u001b[38;5;33mConv2D\u001b[0m)               │ (\u001b[38;5;45mNone\u001b[0m, \u001b[38;5;34m16\u001b[0m, \u001b[38;5;34m16\u001b[0m, \u001b[38;5;34m32\u001b[0m)     │        \u001b[38;5;34m32,800\u001b[0m │\n",
       "├─────────────────────────────────┼────────────────────────┼───────────────┤\n",
       "│ max_pooling2d_6 (\u001b[38;5;33mMaxPooling2D\u001b[0m)  │ (\u001b[38;5;45mNone\u001b[0m, \u001b[38;5;34m8\u001b[0m, \u001b[38;5;34m8\u001b[0m, \u001b[38;5;34m32\u001b[0m)       │             \u001b[38;5;34m0\u001b[0m │\n",
       "├─────────────────────────────────┼────────────────────────┼───────────────┤\n",
       "│ conv2d_7 (\u001b[38;5;33mConv2D\u001b[0m)               │ (\u001b[38;5;45mNone\u001b[0m, \u001b[38;5;34m8\u001b[0m, \u001b[38;5;34m8\u001b[0m, \u001b[38;5;34m16\u001b[0m)       │         \u001b[38;5;34m8,208\u001b[0m │\n",
       "├─────────────────────────────────┼────────────────────────┼───────────────┤\n",
       "│ max_pooling2d_7 (\u001b[38;5;33mMaxPooling2D\u001b[0m)  │ (\u001b[38;5;45mNone\u001b[0m, \u001b[38;5;34m4\u001b[0m, \u001b[38;5;34m4\u001b[0m, \u001b[38;5;34m16\u001b[0m)       │             \u001b[38;5;34m0\u001b[0m │\n",
       "├─────────────────────────────────┼────────────────────────┼───────────────┤\n",
       "│ flatten_1 (\u001b[38;5;33mFlatten\u001b[0m)             │ (\u001b[38;5;45mNone\u001b[0m, \u001b[38;5;34m256\u001b[0m)            │             \u001b[38;5;34m0\u001b[0m │\n",
       "├─────────────────────────────────┼────────────────────────┼───────────────┤\n",
       "│ dense_2 (\u001b[38;5;33mDense\u001b[0m)                 │ (\u001b[38;5;45mNone\u001b[0m, \u001b[38;5;34m128\u001b[0m)            │        \u001b[38;5;34m32,896\u001b[0m │\n",
       "├─────────────────────────────────┼────────────────────────┼───────────────┤\n",
       "│ dropout_1 (\u001b[38;5;33mDropout\u001b[0m)             │ (\u001b[38;5;45mNone\u001b[0m, \u001b[38;5;34m128\u001b[0m)            │             \u001b[38;5;34m0\u001b[0m │\n",
       "├─────────────────────────────────┼────────────────────────┼───────────────┤\n",
       "│ dense_3 (\u001b[38;5;33mDense\u001b[0m)                 │ (\u001b[38;5;45mNone\u001b[0m, \u001b[38;5;34m32\u001b[0m)             │         \u001b[38;5;34m4,128\u001b[0m │\n",
       "└─────────────────────────────────┴────────────────────────┴───────────────┘\n"
      ]
     },
     "metadata": {},
     "output_type": "display_data"
    },
    {
     "data": {
      "text/html": [
       "<pre style=\"white-space:pre;overflow-x:auto;line-height:normal;font-family:Menlo,'DejaVu Sans Mono',consolas,'Courier New',monospace\"><span style=\"font-weight: bold\"> Total params: </span><span style=\"color: #00af00; text-decoration-color: #00af00\">211,344</span> (825.56 KB)\n",
       "</pre>\n"
      ],
      "text/plain": [
       "\u001b[1m Total params: \u001b[0m\u001b[38;5;34m211,344\u001b[0m (825.56 KB)\n"
      ]
     },
     "metadata": {},
     "output_type": "display_data"
    },
    {
     "data": {
      "text/html": [
       "<pre style=\"white-space:pre;overflow-x:auto;line-height:normal;font-family:Menlo,'DejaVu Sans Mono',consolas,'Courier New',monospace\"><span style=\"font-weight: bold\"> Trainable params: </span><span style=\"color: #00af00; text-decoration-color: #00af00\">211,344</span> (825.56 KB)\n",
       "</pre>\n"
      ],
      "text/plain": [
       "\u001b[1m Trainable params: \u001b[0m\u001b[38;5;34m211,344\u001b[0m (825.56 KB)\n"
      ]
     },
     "metadata": {},
     "output_type": "display_data"
    },
    {
     "data": {
      "text/html": [
       "<pre style=\"white-space:pre;overflow-x:auto;line-height:normal;font-family:Menlo,'DejaVu Sans Mono',consolas,'Courier New',monospace\"><span style=\"font-weight: bold\"> Non-trainable params: </span><span style=\"color: #00af00; text-decoration-color: #00af00\">0</span> (0.00 B)\n",
       "</pre>\n"
      ],
      "text/plain": [
       "\u001b[1m Non-trainable params: \u001b[0m\u001b[38;5;34m0\u001b[0m (0.00 B)\n"
      ]
     },
     "metadata": {},
     "output_type": "display_data"
    }
   ],
   "source": [
    "# Define the model\n",
    "model = Sequential()\n",
    "\n",
    "# Add InputLayer with input shape\n",
    "model.add(InputLayer(shape=X.shape[1:]))\n",
    "\n",
    "# 1st Convolutional Layer\n",
    "model.add(Conv2D(128, (4, 4), padding='same', activation='relu'))\n",
    "\n",
    "# Max Pooling Layer\n",
    "model.add(MaxPool2D(pool_size=(2, 2)))\n",
    "\n",
    "# 2nd Convolutional Layer\n",
    "model.add(Conv2D(64, (4, 4), padding='same', activation='relu'))\n",
    "\n",
    "# Max Pooling Layer\n",
    "model.add(MaxPool2D(pool_size=(2, 2)))\n",
    "\n",
    "# 3rd Convolutional Layer\n",
    "model.add(Conv2D(32, (4, 4), padding='same', activation='relu'))\n",
    "\n",
    "# Max Pooling Layer\n",
    "model.add(MaxPool2D(pool_size=(2, 2)))\n",
    "\n",
    "# 4th Convolutional Layer\n",
    "model.add(Conv2D(16, (4, 4), padding='same', activation='relu'))\n",
    "\n",
    "# Max Pooling Layer\n",
    "model.add(MaxPool2D(pool_size=(2, 2)))\n",
    "\n",
    "# Flatten layer\n",
    "model.add(Flatten())\n",
    "\n",
    "# Fully Connected Dense Layer\n",
    "model.add(Dense(128, activation='relu'))\n",
    "\n",
    "# Dropout Layer\n",
    "model.add(Dropout(0.5))\n",
    "\n",
    "# Output Layer\n",
    "model.add(Dense(32, activation='softmax'))\n",
    "\n",
    "# Compile the model\n",
    "model.compile(optimizer=\"Adam\",\n",
    "              loss='sparse_categorical_crossentropy',\n",
    "              metrics=['accuracy'])\n",
    "\n",
    "# Print the model summary\n",
    "model.summary()"
   ]
  },
  {
   "cell_type": "code",
   "execution_count": 12,
   "id": "e03f8ab4",
   "metadata": {
    "scrolled": true
   },
   "outputs": [
    {
     "name": "stdout",
     "output_type": "stream",
     "text": [
      "Epoch 1/30\n",
      "\u001b[1m82/82\u001b[0m \u001b[32m━━━━━━━━━━━━━━━━━━━━\u001b[0m\u001b[37m\u001b[0m \u001b[1m8s\u001b[0m 92ms/step - accuracy: 0.0610 - loss: 3.4161 - val_accuracy: 0.1241 - val_loss: 3.3304\n",
      "Epoch 2/30\n",
      "\u001b[1m82/82\u001b[0m \u001b[32m━━━━━━━━━━━━━━━━━━━━\u001b[0m\u001b[37m\u001b[0m \u001b[1m7s\u001b[0m 84ms/step - accuracy: 0.1565 - loss: 3.1516 - val_accuracy: 0.6034 - val_loss: 1.5973\n",
      "Epoch 3/30\n",
      "\u001b[1m82/82\u001b[0m \u001b[32m━━━━━━━━━━━━━━━━━━━━\u001b[0m\u001b[37m\u001b[0m \u001b[1m7s\u001b[0m 84ms/step - accuracy: 0.6179 - loss: 1.4118 - val_accuracy: 0.8690 - val_loss: 0.5765\n",
      "Epoch 4/30\n",
      "\u001b[1m82/82\u001b[0m \u001b[32m━━━━━━━━━━━━━━━━━━━━\u001b[0m\u001b[37m\u001b[0m \u001b[1m7s\u001b[0m 88ms/step - accuracy: 0.7933 - loss: 0.7979 - val_accuracy: 0.9000 - val_loss: 0.3211\n",
      "Epoch 5/30\n",
      "\u001b[1m82/82\u001b[0m \u001b[32m━━━━━━━━━━━━━━━━━━━━\u001b[0m\u001b[37m\u001b[0m \u001b[1m7s\u001b[0m 86ms/step - accuracy: 0.8614 - loss: 0.4997 - val_accuracy: 0.9207 - val_loss: 0.2662\n",
      "Epoch 6/30\n",
      "\u001b[1m82/82\u001b[0m \u001b[32m━━━━━━━━━━━━━━━━━━━━\u001b[0m\u001b[37m\u001b[0m \u001b[1m7s\u001b[0m 88ms/step - accuracy: 0.8950 - loss: 0.3656 - val_accuracy: 0.9345 - val_loss: 0.2247\n",
      "Epoch 7/30\n",
      "\u001b[1m82/82\u001b[0m \u001b[32m━━━━━━━━━━━━━━━━━━━━\u001b[0m\u001b[37m\u001b[0m \u001b[1m7s\u001b[0m 88ms/step - accuracy: 0.9167 - loss: 0.2705 - val_accuracy: 0.9276 - val_loss: 0.2432\n",
      "Epoch 8/30\n",
      "\u001b[1m82/82\u001b[0m \u001b[32m━━━━━━━━━━━━━━━━━━━━\u001b[0m\u001b[37m\u001b[0m \u001b[1m8s\u001b[0m 93ms/step - accuracy: 0.9312 - loss: 0.2333 - val_accuracy: 0.9276 - val_loss: 0.2201\n",
      "Epoch 9/30\n",
      "\u001b[1m82/82\u001b[0m \u001b[32m━━━━━━━━━━━━━━━━━━━━\u001b[0m\u001b[37m\u001b[0m \u001b[1m8s\u001b[0m 93ms/step - accuracy: 0.9188 - loss: 0.2710 - val_accuracy: 0.9414 - val_loss: 0.2150\n",
      "Epoch 10/30\n",
      "\u001b[1m82/82\u001b[0m \u001b[32m━━━━━━━━━━━━━━━━━━━━\u001b[0m\u001b[37m\u001b[0m \u001b[1m8s\u001b[0m 103ms/step - accuracy: 0.9531 - loss: 0.1506 - val_accuracy: 0.9483 - val_loss: 0.2232\n",
      "Epoch 11/30\n",
      "\u001b[1m82/82\u001b[0m \u001b[32m━━━━━━━━━━━━━━━━━━━━\u001b[0m\u001b[37m\u001b[0m \u001b[1m8s\u001b[0m 99ms/step - accuracy: 0.9625 - loss: 0.1334 - val_accuracy: 0.9517 - val_loss: 0.2221\n",
      "Epoch 12/30\n",
      "\u001b[1m82/82\u001b[0m \u001b[32m━━━━━━━━━━━━━━━━━━━━\u001b[0m\u001b[37m\u001b[0m \u001b[1m8s\u001b[0m 100ms/step - accuracy: 0.9609 - loss: 0.1289 - val_accuracy: 0.9621 - val_loss: 0.2075\n",
      "Epoch 13/30\n",
      "\u001b[1m82/82\u001b[0m \u001b[32m━━━━━━━━━━━━━━━━━━━━\u001b[0m\u001b[37m\u001b[0m \u001b[1m8s\u001b[0m 100ms/step - accuracy: 0.9701 - loss: 0.0928 - val_accuracy: 0.9517 - val_loss: 0.2271\n",
      "Epoch 14/30\n",
      "\u001b[1m82/82\u001b[0m \u001b[32m━━━━━━━━━━━━━━━━━━━━\u001b[0m\u001b[37m\u001b[0m \u001b[1m8s\u001b[0m 102ms/step - accuracy: 0.9794 - loss: 0.0718 - val_accuracy: 0.9517 - val_loss: 0.2219\n",
      "Epoch 15/30\n",
      "\u001b[1m82/82\u001b[0m \u001b[32m━━━━━━━━━━━━━━━━━━━━\u001b[0m\u001b[37m\u001b[0m \u001b[1m8s\u001b[0m 97ms/step - accuracy: 0.9688 - loss: 0.0944 - val_accuracy: 0.9517 - val_loss: 0.2457\n",
      "Epoch 16/30\n",
      "\u001b[1m82/82\u001b[0m \u001b[32m━━━━━━━━━━━━━━━━━━━━\u001b[0m\u001b[37m\u001b[0m \u001b[1m8s\u001b[0m 95ms/step - accuracy: 0.9803 - loss: 0.0600 - val_accuracy: 0.9207 - val_loss: 0.3858\n",
      "Epoch 17/30\n",
      "\u001b[1m82/82\u001b[0m \u001b[32m━━━━━━━━━━━━━━━━━━━━\u001b[0m\u001b[37m\u001b[0m \u001b[1m8s\u001b[0m 92ms/step - accuracy: 0.9729 - loss: 0.0946 - val_accuracy: 0.9621 - val_loss: 0.2076\n",
      "Epoch 18/30\n",
      "\u001b[1m82/82\u001b[0m \u001b[32m━━━━━━━━━━━━━━━━━━━━\u001b[0m\u001b[37m\u001b[0m \u001b[1m8s\u001b[0m 95ms/step - accuracy: 0.9837 - loss: 0.0497 - val_accuracy: 0.9586 - val_loss: 0.2335\n",
      "Epoch 19/30\n",
      "\u001b[1m82/82\u001b[0m \u001b[32m━━━━━━━━━━━━━━━━━━━━\u001b[0m\u001b[37m\u001b[0m \u001b[1m7s\u001b[0m 90ms/step - accuracy: 0.9856 - loss: 0.0408 - val_accuracy: 0.9552 - val_loss: 0.1983\n",
      "Epoch 20/30\n",
      "\u001b[1m82/82\u001b[0m \u001b[32m━━━━━━━━━━━━━━━━━━━━\u001b[0m\u001b[37m\u001b[0m \u001b[1m8s\u001b[0m 92ms/step - accuracy: 0.9786 - loss: 0.0532 - val_accuracy: 0.9586 - val_loss: 0.2365\n",
      "Epoch 21/30\n",
      "\u001b[1m82/82\u001b[0m \u001b[32m━━━━━━━━━━━━━━━━━━━━\u001b[0m\u001b[37m\u001b[0m \u001b[1m7s\u001b[0m 86ms/step - accuracy: 0.9907 - loss: 0.0405 - val_accuracy: 0.9586 - val_loss: 0.2421\n",
      "Epoch 22/30\n",
      "\u001b[1m82/82\u001b[0m \u001b[32m━━━━━━━━━━━━━━━━━━━━\u001b[0m\u001b[37m\u001b[0m \u001b[1m8s\u001b[0m 92ms/step - accuracy: 0.9830 - loss: 0.0485 - val_accuracy: 0.9621 - val_loss: 0.2546\n",
      "Epoch 23/30\n",
      "\u001b[1m82/82\u001b[0m \u001b[32m━━━━━━━━━━━━━━━━━━━━\u001b[0m\u001b[37m\u001b[0m \u001b[1m8s\u001b[0m 92ms/step - accuracy: 0.9902 - loss: 0.0447 - val_accuracy: 0.9483 - val_loss: 0.2523\n",
      "Epoch 24/30\n",
      "\u001b[1m82/82\u001b[0m \u001b[32m━━━━━━━━━━━━━━━━━━━━\u001b[0m\u001b[37m\u001b[0m \u001b[1m7s\u001b[0m 89ms/step - accuracy: 0.9803 - loss: 0.0543 - val_accuracy: 0.9414 - val_loss: 0.2636\n",
      "Epoch 25/30\n",
      "\u001b[1m82/82\u001b[0m \u001b[32m━━━━━━━━━━━━━━━━━━━━\u001b[0m\u001b[37m\u001b[0m \u001b[1m7s\u001b[0m 90ms/step - accuracy: 0.9820 - loss: 0.0631 - val_accuracy: 0.9483 - val_loss: 0.2370\n",
      "Epoch 26/30\n",
      "\u001b[1m82/82\u001b[0m \u001b[32m━━━━━━━━━━━━━━━━━━━━\u001b[0m\u001b[37m\u001b[0m \u001b[1m8s\u001b[0m 95ms/step - accuracy: 0.9909 - loss: 0.0307 - val_accuracy: 0.9552 - val_loss: 0.2560\n",
      "Epoch 27/30\n",
      "\u001b[1m82/82\u001b[0m \u001b[32m━━━━━━━━━━━━━━━━━━━━\u001b[0m\u001b[37m\u001b[0m \u001b[1m8s\u001b[0m 92ms/step - accuracy: 0.9898 - loss: 0.0363 - val_accuracy: 0.9552 - val_loss: 0.2888\n",
      "Epoch 28/30\n",
      "\u001b[1m82/82\u001b[0m \u001b[32m━━━━━━━━━━━━━━━━━━━━\u001b[0m\u001b[37m\u001b[0m \u001b[1m8s\u001b[0m 94ms/step - accuracy: 0.9854 - loss: 0.0513 - val_accuracy: 0.9552 - val_loss: 0.3170\n",
      "Epoch 29/30\n",
      "\u001b[1m82/82\u001b[0m \u001b[32m━━━━━━━━━━━━━━━━━━━━\u001b[0m\u001b[37m\u001b[0m \u001b[1m7s\u001b[0m 89ms/step - accuracy: 0.9918 - loss: 0.0297 - val_accuracy: 0.9621 - val_loss: 0.2724\n",
      "Epoch 30/30\n",
      "\u001b[1m82/82\u001b[0m \u001b[32m━━━━━━━━━━━━━━━━━━━━\u001b[0m\u001b[37m\u001b[0m \u001b[1m7s\u001b[0m 88ms/step - accuracy: 0.9939 - loss: 0.0269 - val_accuracy: 0.9586 - val_loss: 0.2784\n"
     ]
    }
   ],
   "source": [
    "# Train the model\n",
    "history = model.fit(X, y, epochs=30, validation_split=0.10, batch_size=32) "
   ]
  },
  {
   "cell_type": "code",
   "execution_count": 13,
   "id": "db398f42",
   "metadata": {
    "scrolled": true
   },
   "outputs": [
    {
     "data": {
      "image/png": "[encoded data removed]",
      "text/plain": [
       "<Figure size 640x480 with 1 Axes>"
      ]
     },
     "metadata": {},
     "output_type": "display_data"
    },
    {
     "data": {
      "image/png": "[encoded data removed]",
      "text/plain": [
       "<Figure size 640x480 with 1 Axes>"
      ]
     },
     "metadata": {},
     "output_type": "display_data"
    }
   ],
   "source": [
    "# Plot training & validation loss values\n",
    "plt.plot(history.history['loss'])\n",
    "plt.plot(history.history['val_loss'])\n",
    "plt.title('Model Loss')\n",
    "plt.ylabel('Loss')\n",
    "plt.xlabel('Epoch')\n",
    "plt.legend(['Train', 'Validation'], loc='upper left')\n",
    "plt.show()\n",
    "\n",
    "# Plot training & validation accuracy values\n",
    "plt.plot(history.history['accuracy'])\n",
    "plt.plot(history.history['val_accuracy'])\n",
    "plt.title('Model Accuracy')\n",
    "plt.ylabel('Accuracy')\n",
    "plt.xlabel('Epoch')\n",
    "plt.legend(['Train', 'Validation'], loc='upper left')\n",
    "plt.show()"
   ]
  },
  {
   "cell_type": "code",
   "execution_count": 14,
   "id": "5650a8c4",
   "metadata": {},
   "outputs": [],
   "source": [
    "pickle_in = open('X_test.pickle',\"rb\")\n",
    "X_test = pickle.load(pickle_in)\n",
    "pickle_in.close()\n",
    "\n",
    "pickle_in = open('y_test.pickle',\"rb\")\n",
    "y_test = pickle.load(pickle_in)\n",
    "pickle_in.close()"
   ]
  },
  {
   "cell_type": "code",
   "execution_count": 15,
   "id": "0b0ec082",
   "metadata": {},
   "outputs": [
    {
     "name": "stdout",
     "output_type": "stream",
     "text": [
      "\u001b[1m11/11\u001b[0m \u001b[32m━━━━━━━━━━━━━━━━━━━━\u001b[0m\u001b[37m\u001b[0m \u001b[1m0s\u001b[0m 32ms/step - accuracy: 0.7229 - loss: 412.6988\n",
      "Test Loss: 416.61065673828125\n",
      "Test Accuracy: 0.7102272510528564\n"
     ]
    }
   ],
   "source": [
    "# Evaluate the model on the test dataset\n",
    "loss, accuracy = model.evaluate(X_test, y_test)\n",
    "\n",
    "# Print the test loss and accuracy\n",
    "print(\"Test Loss:\", loss)\n",
    "print(\"Test Accuracy:\", accuracy)"
   ]
  },
  {
   "cell_type": "markdown",
   "id": "e1f2e5b9",
   "metadata": {},
   "source": [
    "### Colored, normalised Image data."
   ]
  },
  {
   "cell_type": "code",
   "execution_count": 16,
   "id": "999f994b",
   "metadata": {},
   "outputs": [],
   "source": [
    "pickle_in = open('X_color.pickle',\"rb\")\n",
    "X_color = pickle.load(pickle_in)\n",
    "pickle_in.close()\n",
    "\n",
    "pickle_in = open('y_color.pickle',\"rb\")\n",
    "y_color = pickle.load(pickle_in)\n",
    "pickle_in.close()"
   ]
  },
  {
   "cell_type": "code",
   "execution_count": 17,
   "id": "4c4c9728",
   "metadata": {},
   "outputs": [],
   "source": [
    "pickle_in = open('X_test_color.pickle',\"rb\")\n",
    "X_test_color = pickle.load(pickle_in)\n",
    "pickle_in.close()\n",
    "\n",
    "pickle_in = open('y_test_color.pickle',\"rb\")\n",
    "y_test_color = pickle.load(pickle_in)\n",
    "pickle_in.close()"
   ]
  },
  {
   "cell_type": "code",
   "execution_count": 18,
   "id": "47f232c0",
   "metadata": {},
   "outputs": [
    {
     "data": {
      "text/plain": [
       "(64, 64, 3)"
      ]
     },
     "execution_count": 18,
     "metadata": {},
     "output_type": "execute_result"
    }
   ],
   "source": [
    "X_color.shape[1:]"
   ]
  },
  {
   "cell_type": "code",
   "execution_count": 19,
   "id": "2686e1b6",
   "metadata": {},
   "outputs": [
    {
     "data": {
      "text/plain": [
       "array([[[[0.11372549, 0.10980392, 0.1254902 ],\n",
       "         [0.12156863, 0.11372549, 0.13333333],\n",
       "         [0.11764706, 0.10980392, 0.12156863],\n",
       "         ...,\n",
       "         [0.07058824, 0.06666667, 0.07843137],\n",
       "         [0.0745098 , 0.06666667, 0.08235294],\n",
       "         [0.07843137, 0.07058824, 0.07843137]],\n",
       "\n",
       "        [[0.10980392, 0.10196078, 0.11764706],\n",
       "         [0.10980392, 0.10588235, 0.1254902 ],\n",
       "         [0.10196078, 0.09803922, 0.11372549],\n",
       "         ...,\n",
       "         [0.04313725, 0.03529412, 0.05098039],\n",
       "         [0.05490196, 0.04705882, 0.0627451 ],\n",
       "         [0.0745098 , 0.06666667, 0.08235294]],\n",
       "\n",
       "        [[0.11372549, 0.10588235, 0.12156863],\n",
       "         [0.10196078, 0.09411765, 0.11372549],\n",
       "         [0.09803922, 0.09411765, 0.11372549],\n",
       "         ...,\n",
       "         [0.12156863, 0.11764706, 0.14117647],\n",
       "         [0.03137255, 0.02745098, 0.04705882],\n",
       "         [0.07058824, 0.06666667, 0.08627451]],\n",
       "\n",
       "        ...,\n",
       "\n",
       "        [[0.07843137, 0.10588235, 0.14117647],\n",
       "         [0.24705882, 0.29803922, 0.34509804],\n",
       "         [0.29019608, 0.34509804, 0.41176471],\n",
       "         ...,\n",
       "         [0.11764706, 0.11372549, 0.16470588],\n",
       "         [0.14901961, 0.14117647, 0.18823529],\n",
       "         [0.14901961, 0.14117647, 0.18823529]],\n",
       "\n",
       "        [[0.11372549, 0.1372549 , 0.14901961],\n",
       "         [0.05490196, 0.08627451, 0.11764706],\n",
       "         [0.08235294, 0.10588235, 0.14117647],\n",
       "         ...,\n",
       "         [0.1254902 , 0.1254902 , 0.14901961],\n",
       "         [0.14117647, 0.13333333, 0.16862745],\n",
       "         [0.14117647, 0.1372549 , 0.17254902]],\n",
       "\n",
       "        [[0.1372549 , 0.14509804, 0.15686275],\n",
       "         [0.11764706, 0.13333333, 0.14509804],\n",
       "         [0.11372549, 0.1254902 , 0.1372549 ],\n",
       "         ...,\n",
       "         [0.14509804, 0.14509804, 0.15294118],\n",
       "         [0.1372549 , 0.1372549 , 0.15294118],\n",
       "         [0.13333333, 0.12941176, 0.15294118]]],\n",
       "\n",
       "\n",
       "       [[[0.61960784, 0.62745098, 0.60392157],\n",
       "         [0.61176471, 0.61960784, 0.6       ],\n",
       "         [0.61960784, 0.63921569, 0.61568627],\n",
       "         ...,\n",
       "         [0.57647059, 0.61568627, 0.61960784],\n",
       "         [0.66666667, 0.70588235, 0.70980392],\n",
       "         [0.45098039, 0.47843137, 0.48627451]],\n",
       "\n",
       "        [[0.61960784, 0.62745098, 0.60784314],\n",
       "         [0.61568627, 0.62352941, 0.60392157],\n",
       "         [0.61960784, 0.63921569, 0.61568627],\n",
       "         ...,\n",
       "         [0.58823529, 0.63529412, 0.63529412],\n",
       "         [0.68235294, 0.72156863, 0.7254902 ],\n",
       "         [0.4627451 , 0.49019608, 0.49803922]],\n",
       "\n",
       "        [[0.61960784, 0.62745098, 0.60784314],\n",
       "         [0.61568627, 0.61960784, 0.6       ],\n",
       "         [0.62745098, 0.63529412, 0.61960784],\n",
       "         ...,\n",
       "         [0.65882353, 0.70588235, 0.70980392],\n",
       "         [0.73333333, 0.78039216, 0.78039216],\n",
       "         [0.49803922, 0.52156863, 0.52156863]],\n",
       "\n",
       "        ...,\n",
       "\n",
       "        [[0.62352941, 0.64705882, 0.63137255],\n",
       "         [0.62745098, 0.64705882, 0.63137255],\n",
       "         [0.63921569, 0.63921569, 0.63137255],\n",
       "         ...,\n",
       "         [0.40392157, 0.41960784, 0.41568627],\n",
       "         [0.40392157, 0.41960784, 0.41568627],\n",
       "         [0.40392157, 0.41960784, 0.41568627]],\n",
       "\n",
       "        [[0.63921569, 0.64705882, 0.63529412],\n",
       "         [0.63529412, 0.64313725, 0.63137255],\n",
       "         [0.62745098, 0.64705882, 0.63137255],\n",
       "         ...,\n",
       "         [0.40784314, 0.41960784, 0.41568627],\n",
       "         [0.40392157, 0.41960784, 0.41568627],\n",
       "         [0.40392157, 0.41960784, 0.41568627]],\n",
       "\n",
       "        [[0.63529412, 0.64313725, 0.63137255],\n",
       "         [0.63529412, 0.64313725, 0.63137255],\n",
       "         [0.62352941, 0.64705882, 0.63137255],\n",
       "         ...,\n",
       "         [0.40392157, 0.41960784, 0.41568627],\n",
       "         [0.40392157, 0.41960784, 0.41568627],\n",
       "         [0.40392157, 0.41960784, 0.41568627]]],\n",
       "\n",
       "\n",
       "       [[[0.23921569, 0.25882353, 0.13333333],\n",
       "         [0.18431373, 0.21176471, 0.08235294],\n",
       "         [0.19607843, 0.21960784, 0.09019608],\n",
       "         ...,\n",
       "         [0.55294118, 0.54901961, 0.48235294],\n",
       "         [0.28627451, 0.28235294, 0.20392157],\n",
       "         [0.23529412, 0.24705882, 0.15294118]],\n",
       "\n",
       "        [[0.23921569, 0.26666667, 0.1372549 ],\n",
       "         [0.17647059, 0.21568627, 0.08235294],\n",
       "         [0.17647059, 0.20784314, 0.07843137],\n",
       "         ...,\n",
       "         [0.30980392, 0.29019608, 0.21568627],\n",
       "         [0.21960784, 0.19607843, 0.10980392],\n",
       "         [0.29411765, 0.27843137, 0.18039216]],\n",
       "\n",
       "        [[0.23921569, 0.26666667, 0.1372549 ],\n",
       "         [0.1372549 , 0.17647059, 0.04313725],\n",
       "         [0.15294118, 0.18823529, 0.05490196],\n",
       "         ...,\n",
       "         [0.14117647, 0.1372549 , 0.05490196],\n",
       "         [0.22352941, 0.21568627, 0.11764706],\n",
       "         [0.27843137, 0.27843137, 0.16862745]],\n",
       "\n",
       "        ...,\n",
       "\n",
       "        [[0.3254902 , 0.38039216, 0.14117647],\n",
       "         [0.16862745, 0.23137255, 0.        ],\n",
       "         [0.18039216, 0.25098039, 0.01176471],\n",
       "         ...,\n",
       "         [0.22745098, 0.20784314, 0.12941176],\n",
       "         [0.31372549, 0.29411765, 0.21568627],\n",
       "         [0.36078431, 0.35294118, 0.2627451 ]],\n",
       "\n",
       "        [[0.31764706, 0.37254902, 0.13333333],\n",
       "         [0.18823529, 0.25098039, 0.00784314],\n",
       "         [0.21960784, 0.29019608, 0.04705882],\n",
       "         ...,\n",
       "         [0.29803922, 0.27843137, 0.20392157],\n",
       "         [0.38823529, 0.36862745, 0.29411765],\n",
       "         [0.38823529, 0.38431373, 0.30196078]],\n",
       "\n",
       "        [[0.25882353, 0.31372549, 0.0745098 ],\n",
       "         [0.19215686, 0.25490196, 0.01176471],\n",
       "         [0.27058824, 0.34117647, 0.10196078],\n",
       "         ...,\n",
       "         [0.34117647, 0.32156863, 0.24705882],\n",
       "         [0.37254902, 0.35294118, 0.27843137],\n",
       "         [0.40784314, 0.4       , 0.31764706]]],\n",
       "\n",
       "\n",
       "       ...,\n",
       "\n",
       "\n",
       "       [[[0.07843137, 0.09411765, 0.10588235],\n",
       "         [0.07843137, 0.09411765, 0.10588235],\n",
       "         [0.07843137, 0.09411765, 0.10588235],\n",
       "         ...,\n",
       "         [0.10196078, 0.1254902 , 0.07843137],\n",
       "         [0.09803922, 0.11764706, 0.07058824],\n",
       "         [0.08627451, 0.10980392, 0.05490196]],\n",
       "\n",
       "        [[0.07843137, 0.09411765, 0.10588235],\n",
       "         [0.07843137, 0.09411765, 0.10588235],\n",
       "         [0.08235294, 0.09803922, 0.10980392],\n",
       "         ...,\n",
       "         [0.15686275, 0.16862745, 0.1254902 ],\n",
       "         [0.33333333, 0.34901961, 0.28627451],\n",
       "         [0.37254902, 0.39215686, 0.31764706]],\n",
       "\n",
       "        [[0.07843137, 0.09411765, 0.10588235],\n",
       "         [0.08235294, 0.09803922, 0.10980392],\n",
       "         [0.08235294, 0.09803922, 0.10980392],\n",
       "         ...,\n",
       "         [0.17647059, 0.19215686, 0.1372549 ],\n",
       "         [0.23921569, 0.25490196, 0.19215686],\n",
       "         [0.34509804, 0.36470588, 0.29019608]],\n",
       "\n",
       "        ...,\n",
       "\n",
       "        [[0.1254902 , 0.14117647, 0.15294118],\n",
       "         [0.11764706, 0.13333333, 0.14509804],\n",
       "         [0.10980392, 0.1254902 , 0.1372549 ],\n",
       "         ...,\n",
       "         [0.08235294, 0.10196078, 0.08627451],\n",
       "         [0.07843137, 0.09803922, 0.08235294],\n",
       "         [0.0745098 , 0.09411765, 0.07843137]],\n",
       "\n",
       "        [[0.08235294, 0.09803922, 0.10588235],\n",
       "         [0.08627451, 0.10196078, 0.11372549],\n",
       "         [0.09019608, 0.10588235, 0.11764706],\n",
       "         ...,\n",
       "         [0.08235294, 0.10196078, 0.08627451],\n",
       "         [0.08627451, 0.10588235, 0.09019608],\n",
       "         [0.08235294, 0.10196078, 0.09019608]],\n",
       "\n",
       "        [[0.0627451 , 0.07843137, 0.09019608],\n",
       "         [0.07058824, 0.08627451, 0.09803922],\n",
       "         [0.0745098 , 0.09019608, 0.10196078],\n",
       "         ...,\n",
       "         [0.09411765, 0.11372549, 0.10196078],\n",
       "         [0.09803922, 0.11764706, 0.10196078],\n",
       "         [0.09803922, 0.11764706, 0.10196078]]],\n",
       "\n",
       "\n",
       "       [[[0.1372549 , 0.15686275, 0.12941176],\n",
       "         [0.14117647, 0.16078431, 0.13333333],\n",
       "         [0.14117647, 0.16078431, 0.13333333],\n",
       "         ...,\n",
       "         [0.23137255, 0.25490196, 0.24705882],\n",
       "         [0.22745098, 0.25098039, 0.24313725],\n",
       "         [0.22745098, 0.25098039, 0.24313725]],\n",
       "\n",
       "        [[0.1372549 , 0.15686275, 0.12941176],\n",
       "         [0.1372549 , 0.15686275, 0.12941176],\n",
       "         [0.1372549 , 0.15686275, 0.12941176],\n",
       "         ...,\n",
       "         [0.22352941, 0.24705882, 0.23921569],\n",
       "         [0.23137255, 0.25490196, 0.24705882],\n",
       "         [0.23921569, 0.2627451 , 0.25490196]],\n",
       "\n",
       "        [[0.1372549 , 0.15686275, 0.12941176],\n",
       "         [0.1372549 , 0.15686275, 0.12941176],\n",
       "         [0.1372549 , 0.15686275, 0.1254902 ],\n",
       "         ...,\n",
       "         [0.22352941, 0.24705882, 0.23921569],\n",
       "         [0.22745098, 0.25098039, 0.24313725],\n",
       "         [0.22745098, 0.25098039, 0.24313725]],\n",
       "\n",
       "        ...,\n",
       "\n",
       "        [[0.2       , 0.22352941, 0.17647059],\n",
       "         [0.14509804, 0.17647059, 0.09411765],\n",
       "         [0.1372549 , 0.16470588, 0.09411765],\n",
       "         ...,\n",
       "         [0.23529412, 0.25490196, 0.26666667],\n",
       "         [0.23529412, 0.25490196, 0.26666667],\n",
       "         [0.22745098, 0.25882353, 0.26666667]],\n",
       "\n",
       "        [[0.19607843, 0.21960784, 0.15294118],\n",
       "         [0.17647059, 0.20392157, 0.13333333],\n",
       "         [0.16470588, 0.19215686, 0.13333333],\n",
       "         ...,\n",
       "         [0.23529412, 0.25490196, 0.26666667],\n",
       "         [0.23529412, 0.25490196, 0.26666667],\n",
       "         [0.23137255, 0.25882353, 0.26666667]],\n",
       "\n",
       "        [[0.19607843, 0.22352941, 0.15294118],\n",
       "         [0.17254902, 0.2       , 0.12941176],\n",
       "         [0.16470588, 0.18823529, 0.12941176],\n",
       "         ...,\n",
       "         [0.23529412, 0.25490196, 0.26666667],\n",
       "         [0.23529412, 0.25490196, 0.26666667],\n",
       "         [0.23529412, 0.25882353, 0.26666667]]],\n",
       "\n",
       "\n",
       "       [[[0.58823529, 0.61176471, 0.54509804],\n",
       "         [0.58431373, 0.59607843, 0.52941176],\n",
       "         [0.58039216, 0.59215686, 0.5254902 ],\n",
       "         ...,\n",
       "         [0.43921569, 0.42745098, 0.36862745],\n",
       "         [0.41176471, 0.40392157, 0.34509804],\n",
       "         [0.41176471, 0.41176471, 0.34901961]],\n",
       "\n",
       "        [[0.54509804, 0.56470588, 0.50588235],\n",
       "         [0.59607843, 0.60784314, 0.55294118],\n",
       "         [0.58431373, 0.59607843, 0.52941176],\n",
       "         ...,\n",
       "         [0.42745098, 0.41176471, 0.35294118],\n",
       "         [0.42352941, 0.41176471, 0.35294118],\n",
       "         [0.42745098, 0.41960784, 0.36078431]],\n",
       "\n",
       "        [[0.33333333, 0.35294118, 0.29803922],\n",
       "         [0.56470588, 0.57647059, 0.52156863],\n",
       "         [0.62745098, 0.63529412, 0.56862745],\n",
       "         ...,\n",
       "         [0.45098039, 0.42352941, 0.37647059],\n",
       "         [0.43921569, 0.41568627, 0.36470588],\n",
       "         [0.45882353, 0.45098039, 0.39215686]],\n",
       "\n",
       "        ...,\n",
       "\n",
       "        [[0.27058824, 0.29019608, 0.21568627],\n",
       "         [0.28235294, 0.29411765, 0.22352941],\n",
       "         [0.30588235, 0.31764706, 0.25098039],\n",
       "         ...,\n",
       "         [0.41176471, 0.42745098, 0.29803922],\n",
       "         [0.4       , 0.41568627, 0.27843137],\n",
       "         [0.40392157, 0.42352941, 0.28627451]],\n",
       "\n",
       "        [[0.5254902 , 0.55686275, 0.4       ],\n",
       "         [0.35294118, 0.38039216, 0.22745098],\n",
       "         [0.29411765, 0.31372549, 0.19215686],\n",
       "         ...,\n",
       "         [0.41960784, 0.44313725, 0.30980392],\n",
       "         [0.40392157, 0.43137255, 0.29411765],\n",
       "         [0.41960784, 0.44313725, 0.31372549]],\n",
       "\n",
       "        [[0.62745098, 0.66666667, 0.46666667],\n",
       "         [0.65882353, 0.68627451, 0.51764706],\n",
       "         [0.51372549, 0.5372549 , 0.40392157],\n",
       "         ...,\n",
       "         [0.41568627, 0.44313725, 0.31764706],\n",
       "         [0.40784314, 0.43529412, 0.30980392],\n",
       "         [0.41960784, 0.44705882, 0.3254902 ]]]])"
      ]
     },
     "execution_count": 19,
     "metadata": {},
     "output_type": "execute_result"
    }
   ],
   "source": [
    "X_color = X_color/255.0\n",
    "X_color"
   ]
  },
  {
   "cell_type": "code",
   "execution_count": 20,
   "id": "5efc0774",
   "metadata": {},
   "outputs": [
    {
     "data": {
      "text/plain": [
       "array([[[[0.62745098, 0.64705882, 0.65882353],\n",
       "         [0.62745098, 0.64705882, 0.65882353],\n",
       "         [0.62352941, 0.64313725, 0.65490196],\n",
       "         ...,\n",
       "         [0.28235294, 0.30980392, 0.34117647],\n",
       "         [0.3372549 , 0.34901961, 0.37647059],\n",
       "         [0.56078431, 0.56470588, 0.58039216]],\n",
       "\n",
       "        [[0.62745098, 0.64705882, 0.65882353],\n",
       "         [0.62745098, 0.64705882, 0.65882353],\n",
       "         [0.63137255, 0.65098039, 0.6627451 ],\n",
       "         ...,\n",
       "         [0.29019608, 0.3254902 , 0.35686275],\n",
       "         [0.32941176, 0.3372549 , 0.36078431],\n",
       "         [0.54901961, 0.55686275, 0.57254902]],\n",
       "\n",
       "        [[0.62352941, 0.64313725, 0.65490196],\n",
       "         [0.62745098, 0.64705882, 0.65882353],\n",
       "         [0.62745098, 0.64705882, 0.65882353],\n",
       "         ...,\n",
       "         [0.29019608, 0.3254902 , 0.36078431],\n",
       "         [0.30980392, 0.3254902 , 0.34117647],\n",
       "         [0.52941176, 0.54901961, 0.56470588]],\n",
       "\n",
       "        ...,\n",
       "\n",
       "        [[0.0745098 , 0.09411765, 0.09019608],\n",
       "         [0.05882353, 0.10196078, 0.09019608],\n",
       "         [0.0627451 , 0.10588235, 0.09019608],\n",
       "         ...,\n",
       "         [0.2745098 , 0.29803922, 0.29019608],\n",
       "         [0.08627451, 0.10980392, 0.10196078],\n",
       "         [0.14901961, 0.17254902, 0.16470588]],\n",
       "\n",
       "        [[0.07843137, 0.10196078, 0.09411765],\n",
       "         [0.0627451 , 0.10196078, 0.09019608],\n",
       "         [0.05882353, 0.10196078, 0.08627451],\n",
       "         ...,\n",
       "         [0.25882353, 0.28235294, 0.2745098 ],\n",
       "         [0.10196078, 0.1254902 , 0.11764706],\n",
       "         [0.14509804, 0.16862745, 0.16078431]],\n",
       "\n",
       "        [[0.07843137, 0.10196078, 0.09411765],\n",
       "         [0.06666667, 0.09803922, 0.08627451],\n",
       "         [0.06666667, 0.10980392, 0.09411765],\n",
       "         ...,\n",
       "         [0.22352941, 0.24705882, 0.23921569],\n",
       "         [0.09803922, 0.12156863, 0.11372549],\n",
       "         [0.12156863, 0.14509804, 0.1372549 ]]],\n",
       "\n",
       "\n",
       "       [[[0.15686275, 0.18823529, 0.14509804],\n",
       "         [0.15686275, 0.18823529, 0.14509804],\n",
       "         [0.15686275, 0.18823529, 0.14509804],\n",
       "         ...,\n",
       "         [0.16862745, 0.17254902, 0.14117647],\n",
       "         [0.16862745, 0.17254902, 0.14117647],\n",
       "         [0.16862745, 0.17254902, 0.14117647]],\n",
       "\n",
       "        [[0.15686275, 0.18823529, 0.14509804],\n",
       "         [0.15686275, 0.18823529, 0.14509804],\n",
       "         [0.15686275, 0.18431373, 0.14117647],\n",
       "         ...,\n",
       "         [0.16862745, 0.17254902, 0.14117647],\n",
       "         [0.16862745, 0.17254902, 0.14117647],\n",
       "         [0.16862745, 0.17254902, 0.14509804]],\n",
       "\n",
       "        [[0.15294118, 0.18431373, 0.14117647],\n",
       "         [0.15294118, 0.18431373, 0.14117647],\n",
       "         [0.15294118, 0.18431373, 0.14117647],\n",
       "         ...,\n",
       "         [0.16862745, 0.17254902, 0.14117647],\n",
       "         [0.16862745, 0.17254902, 0.14509804],\n",
       "         [0.16862745, 0.17254902, 0.14901961]],\n",
       "\n",
       "        ...,\n",
       "\n",
       "        [[0.1372549 , 0.16470588, 0.13333333],\n",
       "         [0.1372549 , 0.17254902, 0.13333333],\n",
       "         [0.14117647, 0.18039216, 0.1372549 ],\n",
       "         ...,\n",
       "         [0.1254902 , 0.17254902, 0.11764706],\n",
       "         [0.1254902 , 0.17254902, 0.11764706],\n",
       "         [0.1254902 , 0.17254902, 0.11764706]],\n",
       "\n",
       "        [[0.13333333, 0.16862745, 0.13333333],\n",
       "         [0.1372549 , 0.17254902, 0.1372549 ],\n",
       "         [0.14117647, 0.18039216, 0.1372549 ],\n",
       "         ...,\n",
       "         [0.1254902 , 0.17254902, 0.11764706],\n",
       "         [0.1254902 , 0.17254902, 0.11764706],\n",
       "         [0.12941176, 0.17254902, 0.11764706]],\n",
       "\n",
       "        [[0.13333333, 0.17254902, 0.1372549 ],\n",
       "         [0.1372549 , 0.17647059, 0.1372549 ],\n",
       "         [0.14117647, 0.18039216, 0.1372549 ],\n",
       "         ...,\n",
       "         [0.1254902 , 0.17254902, 0.11764706],\n",
       "         [0.1254902 , 0.17254902, 0.11764706],\n",
       "         [0.12941176, 0.17254902, 0.11764706]]],\n",
       "\n",
       "\n",
       "       [[[0.45098039, 0.50196078, 0.18823529],\n",
       "         [0.38431373, 0.43137255, 0.09411765],\n",
       "         [0.6627451 , 0.71372549, 0.2627451 ],\n",
       "         ...,\n",
       "         [0.41960784, 0.55294118, 0.18039216],\n",
       "         [0.42352941, 0.56470588, 0.17254902],\n",
       "         [0.39215686, 0.5254902 , 0.15294118]],\n",
       "\n",
       "        [[0.3254902 , 0.35686275, 0.1254902 ],\n",
       "         [0.29411765, 0.32941176, 0.11372549],\n",
       "         [0.23137255, 0.2745098 , 0.00392157],\n",
       "         ...,\n",
       "         [0.43921569, 0.57254902, 0.19215686],\n",
       "         [0.42352941, 0.55686275, 0.17647059],\n",
       "         [0.4       , 0.53333333, 0.16078431]],\n",
       "\n",
       "        [[0.31372549, 0.34901961, 0.17254902],\n",
       "         [0.27843137, 0.3254902 , 0.1372549 ],\n",
       "         [0.23921569, 0.29411765, 0.07058824],\n",
       "         ...,\n",
       "         [0.37254902, 0.50588235, 0.13333333],\n",
       "         [0.30196078, 0.43529412, 0.06666667],\n",
       "         [0.31372549, 0.42745098, 0.06666667]],\n",
       "\n",
       "        ...,\n",
       "\n",
       "        [[0.88627451, 0.98039216, 0.87843137],\n",
       "         [0.22352941, 0.31372549, 0.28235294],\n",
       "         [0.81960784, 0.91764706, 0.90196078],\n",
       "         ...,\n",
       "         [0.26666667, 0.31764706, 0.21176471],\n",
       "         [0.30588235, 0.34509804, 0.30588235],\n",
       "         [0.2627451 , 0.28627451, 0.23137255]],\n",
       "\n",
       "        [[0.7372549 , 0.82745098, 0.74901961],\n",
       "         [0.58823529, 0.6745098 , 0.66666667],\n",
       "         [0.71764706, 0.82745098, 0.80784314],\n",
       "         ...,\n",
       "         [0.21568627, 0.2627451 , 0.17647059],\n",
       "         [0.21960784, 0.26666667, 0.21960784],\n",
       "         [0.24313725, 0.28627451, 0.23137255]],\n",
       "\n",
       "        [[0.63137255, 0.71372549, 0.68627451],\n",
       "         [0.58039216, 0.67058824, 0.63921569],\n",
       "         [0.16078431, 0.25490196, 0.19215686],\n",
       "         ...,\n",
       "         [0.19607843, 0.24705882, 0.18039216],\n",
       "         [0.20784314, 0.25490196, 0.20784314],\n",
       "         [0.2       , 0.24705882, 0.16078431]]],\n",
       "\n",
       "\n",
       "       ...,\n",
       "\n",
       "\n",
       "       [[[0.63921569, 0.67058824, 0.62352941],\n",
       "         [0.38431373, 0.4745098 , 0.42745098],\n",
       "         [0.61176471, 0.78431373, 0.74509804],\n",
       "         ...,\n",
       "         [0.75294118, 0.60392157, 0.54901961],\n",
       "         [0.73333333, 0.54117647, 0.48627451],\n",
       "         [0.52941176, 0.3254902 , 0.2745098 ]],\n",
       "\n",
       "        [[0.72156863, 0.76470588, 0.70980392],\n",
       "         [0.54117647, 0.64705882, 0.55686275],\n",
       "         [0.72941176, 0.85098039, 0.81176471],\n",
       "         ...,\n",
       "         [0.66666667, 0.5254902 , 0.48235294],\n",
       "         [0.58431373, 0.41176471, 0.36078431],\n",
       "         [0.3372549 , 0.16862745, 0.1254902 ]],\n",
       "\n",
       "        [[0.58431373, 0.6       , 0.54901961],\n",
       "         [0.61176471, 0.67058824, 0.59607843],\n",
       "         [0.74117647, 0.80392157, 0.75686275],\n",
       "         ...,\n",
       "         [0.49411765, 0.36078431, 0.32941176],\n",
       "         [0.43137255, 0.29411765, 0.25098039],\n",
       "         [0.3254902 , 0.19607843, 0.15686275]],\n",
       "\n",
       "        ...,\n",
       "\n",
       "        [[0.27843137, 0.25882353, 0.22352941],\n",
       "         [0.27843137, 0.27058824, 0.22352941],\n",
       "         [0.31764706, 0.32156863, 0.27058824],\n",
       "         ...,\n",
       "         [0.99607843, 0.97254902, 0.90980392],\n",
       "         [0.99215686, 0.96078431, 0.90588235],\n",
       "         [1.        , 0.97254902, 0.90980392]],\n",
       "\n",
       "        [[0.26666667, 0.25098039, 0.21568627],\n",
       "         [0.27843137, 0.2627451 , 0.21568627],\n",
       "         [0.3372549 , 0.32941176, 0.27843137],\n",
       "         ...,\n",
       "         [0.99607843, 0.96862745, 0.90588235],\n",
       "         [0.99607843, 0.97254902, 0.90980392],\n",
       "         [0.99607843, 0.97254902, 0.90588235]],\n",
       "\n",
       "        [[0.15686275, 0.14117647, 0.10588235],\n",
       "         [0.25882353, 0.24705882, 0.2       ],\n",
       "         [0.34117647, 0.33333333, 0.28627451],\n",
       "         ...,\n",
       "         [0.99607843, 0.96862745, 0.90588235],\n",
       "         [0.99215686, 0.96470588, 0.90196078],\n",
       "         [0.99215686, 0.97254902, 0.90196078]]],\n",
       "\n",
       "\n",
       "       [[[0.20784314, 0.25098039, 0.1372549 ],\n",
       "         [0.19607843, 0.23921569, 0.12156863],\n",
       "         [0.21176471, 0.25490196, 0.1372549 ],\n",
       "         ...,\n",
       "         [0.33333333, 0.38823529, 0.25882353],\n",
       "         [0.25490196, 0.30980392, 0.17647059],\n",
       "         [0.24313725, 0.30196078, 0.15686275]],\n",
       "\n",
       "        [[0.18823529, 0.24313725, 0.11372549],\n",
       "         [0.20784314, 0.25882353, 0.14117647],\n",
       "         [0.20392157, 0.25490196, 0.1372549 ],\n",
       "         ...,\n",
       "         [0.36078431, 0.41960784, 0.26666667],\n",
       "         [0.22352941, 0.28235294, 0.12156863],\n",
       "         [0.20392157, 0.27058824, 0.09803922]],\n",
       "\n",
       "        [[0.19607843, 0.25490196, 0.13333333],\n",
       "         [0.20784314, 0.26666667, 0.14509804],\n",
       "         [0.19607843, 0.25490196, 0.13333333],\n",
       "         ...,\n",
       "         [0.2745098 , 0.33333333, 0.17647059],\n",
       "         [0.2       , 0.25882353, 0.09019608],\n",
       "         [0.25490196, 0.3254902 , 0.14117647]],\n",
       "\n",
       "        ...,\n",
       "\n",
       "        [[0.15686275, 0.18823529, 0.12941176],\n",
       "         [0.14117647, 0.17254902, 0.11372549],\n",
       "         [0.10980392, 0.14117647, 0.08235294],\n",
       "         ...,\n",
       "         [0.14117647, 0.19215686, 0.1254902 ],\n",
       "         [0.16078431, 0.21960784, 0.14901961],\n",
       "         [0.17254902, 0.23137255, 0.15294118]],\n",
       "\n",
       "        [[0.18431373, 0.21568627, 0.15686275],\n",
       "         [0.16470588, 0.19607843, 0.1372549 ],\n",
       "         [0.16078431, 0.19215686, 0.13333333],\n",
       "         ...,\n",
       "         [0.13333333, 0.18431373, 0.11764706],\n",
       "         [0.14901961, 0.2       , 0.13333333],\n",
       "         [0.15294118, 0.20392157, 0.12941176]],\n",
       "\n",
       "        [[0.15686275, 0.18823529, 0.12941176],\n",
       "         [0.16470588, 0.19607843, 0.1372549 ],\n",
       "         [0.15686275, 0.18823529, 0.12941176],\n",
       "         ...,\n",
       "         [0.11764706, 0.16862745, 0.10588235],\n",
       "         [0.14509804, 0.19607843, 0.12941176],\n",
       "         [0.17647059, 0.22745098, 0.15294118]]],\n",
       "\n",
       "\n",
       "       [[[0.59215686, 0.59215686, 0.56078431],\n",
       "         [0.58823529, 0.59215686, 0.56078431],\n",
       "         [0.59215686, 0.59215686, 0.56078431],\n",
       "         ...,\n",
       "         [0.59215686, 0.49019608, 0.4       ],\n",
       "         [0.58431373, 0.4745098 , 0.38823529],\n",
       "         [0.56470588, 0.45490196, 0.36078431]],\n",
       "\n",
       "        [[0.59215686, 0.59215686, 0.56078431],\n",
       "         [0.6       , 0.58823529, 0.56078431],\n",
       "         [0.6       , 0.58823529, 0.56078431],\n",
       "         ...,\n",
       "         [0.59215686, 0.49019608, 0.4       ],\n",
       "         [0.58823529, 0.47843137, 0.38431373],\n",
       "         [0.56862745, 0.45882353, 0.36470588]],\n",
       "\n",
       "        [[0.60392157, 0.59215686, 0.56470588],\n",
       "         [0.60392157, 0.59215686, 0.56470588],\n",
       "         [0.60392157, 0.59215686, 0.56470588],\n",
       "         ...,\n",
       "         [0.59215686, 0.49019608, 0.4       ],\n",
       "         [0.59215686, 0.48235294, 0.39607843],\n",
       "         [0.56470588, 0.45490196, 0.36078431]],\n",
       "\n",
       "        ...,\n",
       "\n",
       "        [[0.36078431, 0.35686275, 0.24313725],\n",
       "         [0.39607843, 0.38431373, 0.29019608],\n",
       "         [0.44705882, 0.43529412, 0.34901961],\n",
       "         ...,\n",
       "         [0.38431373, 0.4       , 0.2627451 ],\n",
       "         [0.43529412, 0.45098039, 0.31372549],\n",
       "         [0.45098039, 0.45490196, 0.32156863]],\n",
       "\n",
       "        [[0.35294118, 0.34901961, 0.23921569],\n",
       "         [0.33333333, 0.3254902 , 0.22745098],\n",
       "         [0.33333333, 0.32941176, 0.24705882],\n",
       "         ...,\n",
       "         [0.35686275, 0.37254902, 0.23529412],\n",
       "         [0.34901961, 0.36078431, 0.22745098],\n",
       "         [0.34509804, 0.34901961, 0.21176471]],\n",
       "\n",
       "        [[0.31764706, 0.30980392, 0.18823529],\n",
       "         [0.38431373, 0.37647059, 0.27843137],\n",
       "         [0.34509804, 0.3372549 , 0.24705882],\n",
       "         ...,\n",
       "         [0.39215686, 0.40784314, 0.27058824],\n",
       "         [0.30196078, 0.31764706, 0.18823529],\n",
       "         [0.49411765, 0.49803922, 0.37254902]]]])"
      ]
     },
     "execution_count": 20,
     "metadata": {},
     "output_type": "execute_result"
    }
   ],
   "source": [
    "X_test_color = X_test_color/255.0\n",
    "X_test_color"
   ]
  },
  {
   "cell_type": "code",
   "execution_count": 21,
   "id": "5f581845",
   "metadata": {},
   "outputs": [
    {
     "data": {
      "text/html": [
       "<pre style=\"white-space:pre;overflow-x:auto;line-height:normal;font-family:Menlo,'DejaVu Sans Mono',consolas,'Courier New',monospace\"><span style=\"font-weight: bold\">Model: \"sequential_2\"</span>\n",
       "</pre>\n"
      ],
      "text/plain": [
       "\u001b[1mModel: \"sequential_2\"\u001b[0m\n"
      ]
     },
     "metadata": {},
     "output_type": "display_data"
    },
    {
     "data": {
      "text/html": [
       "<pre style=\"white-space:pre;overflow-x:auto;line-height:normal;font-family:Menlo,'DejaVu Sans Mono',consolas,'Courier New',monospace\">┏━━━━━━━━━━━━━━━━━━━━━━━━━━━━━━━━━┳━━━━━━━━━━━━━━━━━━━━━━━━┳━━━━━━━━━━━━━━━┓\n",
       "┃<span style=\"font-weight: bold\"> Layer (type)                    </span>┃<span style=\"font-weight: bold\"> Output Shape           </span>┃<span style=\"font-weight: bold\">       Param # </span>┃\n",
       "┡━━━━━━━━━━━━━━━━━━━━━━━━━━━━━━━━━╇━━━━━━━━━━━━━━━━━━━━━━━━╇━━━━━━━━━━━━━━━┩\n",
       "│ conv2d_8 (<span style=\"color: #0087ff; text-decoration-color: #0087ff\">Conv2D</span>)               │ (<span style=\"color: #00d7ff; text-decoration-color: #00d7ff\">None</span>, <span style=\"color: #00af00; text-decoration-color: #00af00\">64</span>, <span style=\"color: #00af00; text-decoration-color: #00af00\">64</span>, <span style=\"color: #00af00; text-decoration-color: #00af00\">128</span>)    │         <span style=\"color: #00af00; text-decoration-color: #00af00\">6,272</span> │\n",
       "├─────────────────────────────────┼────────────────────────┼───────────────┤\n",
       "│ max_pooling2d_8 (<span style=\"color: #0087ff; text-decoration-color: #0087ff\">MaxPooling2D</span>)  │ (<span style=\"color: #00d7ff; text-decoration-color: #00d7ff\">None</span>, <span style=\"color: #00af00; text-decoration-color: #00af00\">32</span>, <span style=\"color: #00af00; text-decoration-color: #00af00\">32</span>, <span style=\"color: #00af00; text-decoration-color: #00af00\">128</span>)    │             <span style=\"color: #00af00; text-decoration-color: #00af00\">0</span> │\n",
       "├─────────────────────────────────┼────────────────────────┼───────────────┤\n",
       "│ conv2d_9 (<span style=\"color: #0087ff; text-decoration-color: #0087ff\">Conv2D</span>)               │ (<span style=\"color: #00d7ff; text-decoration-color: #00d7ff\">None</span>, <span style=\"color: #00af00; text-decoration-color: #00af00\">32</span>, <span style=\"color: #00af00; text-decoration-color: #00af00\">32</span>, <span style=\"color: #00af00; text-decoration-color: #00af00\">64</span>)     │       <span style=\"color: #00af00; text-decoration-color: #00af00\">131,136</span> │\n",
       "├─────────────────────────────────┼────────────────────────┼───────────────┤\n",
       "│ max_pooling2d_9 (<span style=\"color: #0087ff; text-decoration-color: #0087ff\">MaxPooling2D</span>)  │ (<span style=\"color: #00d7ff; text-decoration-color: #00d7ff\">None</span>, <span style=\"color: #00af00; text-decoration-color: #00af00\">16</span>, <span style=\"color: #00af00; text-decoration-color: #00af00\">16</span>, <span style=\"color: #00af00; text-decoration-color: #00af00\">64</span>)     │             <span style=\"color: #00af00; text-decoration-color: #00af00\">0</span> │\n",
       "├─────────────────────────────────┼────────────────────────┼───────────────┤\n",
       "│ conv2d_10 (<span style=\"color: #0087ff; text-decoration-color: #0087ff\">Conv2D</span>)              │ (<span style=\"color: #00d7ff; text-decoration-color: #00d7ff\">None</span>, <span style=\"color: #00af00; text-decoration-color: #00af00\">16</span>, <span style=\"color: #00af00; text-decoration-color: #00af00\">16</span>, <span style=\"color: #00af00; text-decoration-color: #00af00\">32</span>)     │        <span style=\"color: #00af00; text-decoration-color: #00af00\">32,800</span> │\n",
       "├─────────────────────────────────┼────────────────────────┼───────────────┤\n",
       "│ max_pooling2d_10 (<span style=\"color: #0087ff; text-decoration-color: #0087ff\">MaxPooling2D</span>) │ (<span style=\"color: #00d7ff; text-decoration-color: #00d7ff\">None</span>, <span style=\"color: #00af00; text-decoration-color: #00af00\">8</span>, <span style=\"color: #00af00; text-decoration-color: #00af00\">8</span>, <span style=\"color: #00af00; text-decoration-color: #00af00\">32</span>)       │             <span style=\"color: #00af00; text-decoration-color: #00af00\">0</span> │\n",
       "├─────────────────────────────────┼────────────────────────┼───────────────┤\n",
       "│ conv2d_11 (<span style=\"color: #0087ff; text-decoration-color: #0087ff\">Conv2D</span>)              │ (<span style=\"color: #00d7ff; text-decoration-color: #00d7ff\">None</span>, <span style=\"color: #00af00; text-decoration-color: #00af00\">8</span>, <span style=\"color: #00af00; text-decoration-color: #00af00\">8</span>, <span style=\"color: #00af00; text-decoration-color: #00af00\">16</span>)       │         <span style=\"color: #00af00; text-decoration-color: #00af00\">8,208</span> │\n",
       "├─────────────────────────────────┼────────────────────────┼───────────────┤\n",
       "│ max_pooling2d_11 (<span style=\"color: #0087ff; text-decoration-color: #0087ff\">MaxPooling2D</span>) │ (<span style=\"color: #00d7ff; text-decoration-color: #00d7ff\">None</span>, <span style=\"color: #00af00; text-decoration-color: #00af00\">4</span>, <span style=\"color: #00af00; text-decoration-color: #00af00\">4</span>, <span style=\"color: #00af00; text-decoration-color: #00af00\">16</span>)       │             <span style=\"color: #00af00; text-decoration-color: #00af00\">0</span> │\n",
       "├─────────────────────────────────┼────────────────────────┼───────────────┤\n",
       "│ flatten_2 (<span style=\"color: #0087ff; text-decoration-color: #0087ff\">Flatten</span>)             │ (<span style=\"color: #00d7ff; text-decoration-color: #00d7ff\">None</span>, <span style=\"color: #00af00; text-decoration-color: #00af00\">256</span>)            │             <span style=\"color: #00af00; text-decoration-color: #00af00\">0</span> │\n",
       "├─────────────────────────────────┼────────────────────────┼───────────────┤\n",
       "│ dense_4 (<span style=\"color: #0087ff; text-decoration-color: #0087ff\">Dense</span>)                 │ (<span style=\"color: #00d7ff; text-decoration-color: #00d7ff\">None</span>, <span style=\"color: #00af00; text-decoration-color: #00af00\">128</span>)            │        <span style=\"color: #00af00; text-decoration-color: #00af00\">32,896</span> │\n",
       "├─────────────────────────────────┼────────────────────────┼───────────────┤\n",
       "│ dropout_2 (<span style=\"color: #0087ff; text-decoration-color: #0087ff\">Dropout</span>)             │ (<span style=\"color: #00d7ff; text-decoration-color: #00d7ff\">None</span>, <span style=\"color: #00af00; text-decoration-color: #00af00\">128</span>)            │             <span style=\"color: #00af00; text-decoration-color: #00af00\">0</span> │\n",
       "├─────────────────────────────────┼────────────────────────┼───────────────┤\n",
       "│ dense_5 (<span style=\"color: #0087ff; text-decoration-color: #0087ff\">Dense</span>)                 │ (<span style=\"color: #00d7ff; text-decoration-color: #00d7ff\">None</span>, <span style=\"color: #00af00; text-decoration-color: #00af00\">32</span>)             │         <span style=\"color: #00af00; text-decoration-color: #00af00\">4,128</span> │\n",
       "└─────────────────────────────────┴────────────────────────┴───────────────┘\n",
       "</pre>\n"
      ],
      "text/plain": [
       "┏━━━━━━━━━━━━━━━━━━━━━━━━━━━━━━━━━┳━━━━━━━━━━━━━━━━━━━━━━━━┳━━━━━━━━━━━━━━━┓\n",
       "┃\u001b[1m \u001b[0m\u001b[1mLayer (type)                   \u001b[0m\u001b[1m \u001b[0m┃\u001b[1m \u001b[0m\u001b[1mOutput Shape          \u001b[0m\u001b[1m \u001b[0m┃\u001b[1m \u001b[0m\u001b[1m      Param #\u001b[0m\u001b[1m \u001b[0m┃\n",
       "┡━━━━━━━━━━━━━━━━━━━━━━━━━━━━━━━━━╇━━━━━━━━━━━━━━━━━━━━━━━━╇━━━━━━━━━━━━━━━┩\n",
       "│ conv2d_8 (\u001b[38;5;33mConv2D\u001b[0m)               │ (\u001b[38;5;45mNone\u001b[0m, \u001b[38;5;34m64\u001b[0m, \u001b[38;5;34m64\u001b[0m, \u001b[38;5;34m128\u001b[0m)    │         \u001b[38;5;34m6,272\u001b[0m │\n",
       "├─────────────────────────────────┼────────────────────────┼───────────────┤\n",
       "│ max_pooling2d_8 (\u001b[38;5;33mMaxPooling2D\u001b[0m)  │ (\u001b[38;5;45mNone\u001b[0m, \u001b[38;5;34m32\u001b[0m, \u001b[38;5;34m32\u001b[0m, \u001b[38;5;34m128\u001b[0m)    │             \u001b[38;5;34m0\u001b[0m │\n",
       "├─────────────────────────────────┼────────────────────────┼───────────────┤\n",
       "│ conv2d_9 (\u001b[38;5;33mConv2D\u001b[0m)               │ (\u001b[38;5;45mNone\u001b[0m, \u001b[38;5;34m32\u001b[0m, \u001b[38;5;34m32\u001b[0m, \u001b[38;5;34m64\u001b[0m)     │       \u001b[38;5;34m131,136\u001b[0m │\n",
       "├─────────────────────────────────┼────────────────────────┼───────────────┤\n",
       "│ max_pooling2d_9 (\u001b[38;5;33mMaxPooling2D\u001b[0m)  │ (\u001b[38;5;45mNone\u001b[0m, \u001b[38;5;34m16\u001b[0m, \u001b[38;5;34m16\u001b[0m, \u001b[38;5;34m64\u001b[0m)     │             \u001b[38;5;34m0\u001b[0m │\n",
       "├─────────────────────────────────┼────────────────────────┼───────────────┤\n",
       "│ conv2d_10 (\u001b[38;5;33mConv2D\u001b[0m)              │ (\u001b[38;5;45mNone\u001b[0m, \u001b[38;5;34m16\u001b[0m, \u001b[38;5;34m16\u001b[0m, \u001b[38;5;34m32\u001b[0m)     │        \u001b[38;5;34m32,800\u001b[0m │\n",
       "├─────────────────────────────────┼────────────────────────┼───────────────┤\n",
       "│ max_pooling2d_10 (\u001b[38;5;33mMaxPooling2D\u001b[0m) │ (\u001b[38;5;45mNone\u001b[0m, \u001b[38;5;34m8\u001b[0m, \u001b[38;5;34m8\u001b[0m, \u001b[38;5;34m32\u001b[0m)       │             \u001b[38;5;34m0\u001b[0m │\n",
       "├─────────────────────────────────┼────────────────────────┼───────────────┤\n",
       "│ conv2d_11 (\u001b[38;5;33mConv2D\u001b[0m)              │ (\u001b[38;5;45mNone\u001b[0m, \u001b[38;5;34m8\u001b[0m, \u001b[38;5;34m8\u001b[0m, \u001b[38;5;34m16\u001b[0m)       │         \u001b[38;5;34m8,208\u001b[0m │\n",
       "├─────────────────────────────────┼────────────────────────┼───────────────┤\n",
       "│ max_pooling2d_11 (\u001b[38;5;33mMaxPooling2D\u001b[0m) │ (\u001b[38;5;45mNone\u001b[0m, \u001b[38;5;34m4\u001b[0m, \u001b[38;5;34m4\u001b[0m, \u001b[38;5;34m16\u001b[0m)       │             \u001b[38;5;34m0\u001b[0m │\n",
       "├─────────────────────────────────┼────────────────────────┼───────────────┤\n",
       "│ flatten_2 (\u001b[38;5;33mFlatten\u001b[0m)             │ (\u001b[38;5;45mNone\u001b[0m, \u001b[38;5;34m256\u001b[0m)            │             \u001b[38;5;34m0\u001b[0m │\n",
       "├─────────────────────────────────┼────────────────────────┼───────────────┤\n",
       "│ dense_4 (\u001b[38;5;33mDense\u001b[0m)                 │ (\u001b[38;5;45mNone\u001b[0m, \u001b[38;5;34m128\u001b[0m)            │        \u001b[38;5;34m32,896\u001b[0m │\n",
       "├─────────────────────────────────┼────────────────────────┼───────────────┤\n",
       "│ dropout_2 (\u001b[38;5;33mDropout\u001b[0m)             │ (\u001b[38;5;45mNone\u001b[0m, \u001b[38;5;34m128\u001b[0m)            │             \u001b[38;5;34m0\u001b[0m │\n",
       "├─────────────────────────────────┼────────────────────────┼───────────────┤\n",
       "│ dense_5 (\u001b[38;5;33mDense\u001b[0m)                 │ (\u001b[38;5;45mNone\u001b[0m, \u001b[38;5;34m32\u001b[0m)             │         \u001b[38;5;34m4,128\u001b[0m │\n",
       "└─────────────────────────────────┴────────────────────────┴───────────────┘\n"
      ]
     },
     "metadata": {},
     "output_type": "display_data"
    },
    {
     "data": {
      "text/html": [
       "<pre style=\"white-space:pre;overflow-x:auto;line-height:normal;font-family:Menlo,'DejaVu Sans Mono',consolas,'Courier New',monospace\"><span style=\"font-weight: bold\"> Total params: </span><span style=\"color: #00af00; text-decoration-color: #00af00\">215,440</span> (841.56 KB)\n",
       "</pre>\n"
      ],
      "text/plain": [
       "\u001b[1m Total params: \u001b[0m\u001b[38;5;34m215,440\u001b[0m (841.56 KB)\n"
      ]
     },
     "metadata": {},
     "output_type": "display_data"
    },
    {
     "data": {
      "text/html": [
       "<pre style=\"white-space:pre;overflow-x:auto;line-height:normal;font-family:Menlo,'DejaVu Sans Mono',consolas,'Courier New',monospace\"><span style=\"font-weight: bold\"> Trainable params: </span><span style=\"color: #00af00; text-decoration-color: #00af00\">215,440</span> (841.56 KB)\n",
       "</pre>\n"
      ],
      "text/plain": [
       "\u001b[1m Trainable params: \u001b[0m\u001b[38;5;34m215,440\u001b[0m (841.56 KB)\n"
      ]
     },
     "metadata": {},
     "output_type": "display_data"
    },
    {
     "data": {
      "text/html": [
       "<pre style=\"white-space:pre;overflow-x:auto;line-height:normal;font-family:Menlo,'DejaVu Sans Mono',consolas,'Courier New',monospace\"><span style=\"font-weight: bold\"> Non-trainable params: </span><span style=\"color: #00af00; text-decoration-color: #00af00\">0</span> (0.00 B)\n",
       "</pre>\n"
      ],
      "text/plain": [
       "\u001b[1m Non-trainable params: \u001b[0m\u001b[38;5;34m0\u001b[0m (0.00 B)\n"
      ]
     },
     "metadata": {},
     "output_type": "display_data"
    }
   ],
   "source": [
    "# Define the color model\n",
    "model_color = Sequential()\n",
    "\n",
    "# Add InputLayer with input shape\n",
    "model_color.add(InputLayer(shape=X_color.shape[1:]))\n",
    "\n",
    "# 1st Convolutional Layer\n",
    "model_color.add(Conv2D(128, (4, 4), padding='same', activation='relu'))\n",
    "\n",
    "# Max Pooling Layer\n",
    "model_color.add(MaxPool2D(pool_size=(2, 2)))\n",
    "\n",
    "# 2nd Convolutional Layer\n",
    "model_color.add(Conv2D(64, (4, 4), padding='same', activation='relu'))\n",
    "\n",
    "# Max Pooling Layer\n",
    "model_color.add(MaxPool2D(pool_size=(2, 2)))\n",
    "\n",
    "# 3rd Convolutional Layer\n",
    "model_color.add(Conv2D(32, (4, 4), padding='same', activation='relu'))\n",
    "\n",
    "# Max Pooling Layer\n",
    "model_color.add(MaxPool2D(pool_size=(2, 2)))\n",
    "\n",
    "# 4th Convolutional Layer\n",
    "model_color.add(Conv2D(16, (4, 4), padding='same', activation='relu'))\n",
    "\n",
    "# Max Pooling Layer\n",
    "model_color.add(MaxPool2D(pool_size=(2, 2)))\n",
    "\n",
    "# Flatten layer\n",
    "model_color.add(Flatten())\n",
    "\n",
    "# Fully Connected Dense Layer\n",
    "model_color.add(Dense(128, activation='relu'))\n",
    "\n",
    "# Dropout Layer\n",
    "model_color.add(Dropout(0.5))\n",
    "\n",
    "# Output Layer\n",
    "model_color.add(Dense(32, activation='softmax'))\n",
    "\n",
    "\n",
    "# Compile the model\n",
    "model_color.compile(optimizer=\"Adam\",\n",
    "              loss='sparse_categorical_crossentropy',\n",
    "              metrics=['accuracy'])\n",
    "\n",
    "# Print the model summary\n",
    "model_color.summary()"
   ]
  },
  {
   "cell_type": "code",
   "execution_count": 22,
   "id": "478c26e2",
   "metadata": {
    "scrolled": true
   },
   "outputs": [
    {
     "name": "stdout",
     "output_type": "stream",
     "text": [
      "Epoch 1/30\n",
      "\u001b[1m82/82\u001b[0m \u001b[32m━━━━━━━━━━━━━━━━━━━━\u001b[0m\u001b[37m\u001b[0m \u001b[1m9s\u001b[0m 96ms/step - accuracy: 0.0814 - loss: 3.3473 - val_accuracy: 0.2966 - val_loss: 2.5141\n",
      "Epoch 2/30\n",
      "\u001b[1m82/82\u001b[0m \u001b[32m━━━━━━━━━━━━━━━━━━━━\u001b[0m\u001b[37m\u001b[0m \u001b[1m7s\u001b[0m 91ms/step - accuracy: 0.3160 - loss: 2.3961 - val_accuracy: 0.6379 - val_loss: 1.2203\n",
      "Epoch 3/30\n",
      "\u001b[1m82/82\u001b[0m \u001b[32m━━━━━━━━━━━━━━━━━━━━\u001b[0m\u001b[37m\u001b[0m \u001b[1m7s\u001b[0m 89ms/step - accuracy: 0.6380 - loss: 1.2393 - val_accuracy: 0.8483 - val_loss: 0.4638\n",
      "Epoch 4/30\n",
      "\u001b[1m82/82\u001b[0m \u001b[32m━━━━━━━━━━━━━━━━━━━━\u001b[0m\u001b[37m\u001b[0m \u001b[1m7s\u001b[0m 91ms/step - accuracy: 0.8264 - loss: 0.6414 - val_accuracy: 0.9138 - val_loss: 0.2879\n",
      "Epoch 5/30\n",
      "\u001b[1m82/82\u001b[0m \u001b[32m━━━━━━━━━━━━━━━━━━━━\u001b[0m\u001b[37m\u001b[0m \u001b[1m7s\u001b[0m 90ms/step - accuracy: 0.8766 - loss: 0.4096 - val_accuracy: 0.9517 - val_loss: 0.2164\n",
      "Epoch 6/30\n",
      "\u001b[1m82/82\u001b[0m \u001b[32m━━━━━━━━━━━━━━━━━━━━\u001b[0m\u001b[37m\u001b[0m \u001b[1m8s\u001b[0m 103ms/step - accuracy: 0.9058 - loss: 0.3279 - val_accuracy: 0.9448 - val_loss: 0.1735\n",
      "Epoch 7/30\n",
      "\u001b[1m82/82\u001b[0m \u001b[32m━━━━━━━━━━━━━━━━━━━━\u001b[0m\u001b[37m\u001b[0m \u001b[1m8s\u001b[0m 94ms/step - accuracy: 0.9154 - loss: 0.2757 - val_accuracy: 0.9276 - val_loss: 0.2369\n",
      "Epoch 8/30\n",
      "\u001b[1m82/82\u001b[0m \u001b[32m━━━━━━━━━━━━━━━━━━━━\u001b[0m\u001b[37m\u001b[0m \u001b[1m8s\u001b[0m 96ms/step - accuracy: 0.9282 - loss: 0.2379 - val_accuracy: 0.9655 - val_loss: 0.1355\n",
      "Epoch 9/30\n",
      "\u001b[1m82/82\u001b[0m \u001b[32m━━━━━━━━━━━━━━━━━━━━\u001b[0m\u001b[37m\u001b[0m \u001b[1m8s\u001b[0m 93ms/step - accuracy: 0.9478 - loss: 0.1765 - val_accuracy: 0.9586 - val_loss: 0.1521\n",
      "Epoch 10/30\n",
      "\u001b[1m82/82\u001b[0m \u001b[32m━━━━━━━━━━━━━━━━━━━━\u001b[0m\u001b[37m\u001b[0m \u001b[1m7s\u001b[0m 90ms/step - accuracy: 0.9555 - loss: 0.1618 - val_accuracy: 0.9621 - val_loss: 0.1276\n",
      "Epoch 11/30\n",
      "\u001b[1m82/82\u001b[0m \u001b[32m━━━━━━━━━━━━━━━━━━━━\u001b[0m\u001b[37m\u001b[0m \u001b[1m8s\u001b[0m 96ms/step - accuracy: 0.9623 - loss: 0.1182 - val_accuracy: 0.9793 - val_loss: 0.1109\n",
      "Epoch 12/30\n",
      "\u001b[1m82/82\u001b[0m \u001b[32m━━━━━━━━━━━━━━━━━━━━\u001b[0m\u001b[37m\u001b[0m \u001b[1m8s\u001b[0m 93ms/step - accuracy: 0.9668 - loss: 0.1174 - val_accuracy: 0.9690 - val_loss: 0.1215\n",
      "Epoch 13/30\n",
      "\u001b[1m82/82\u001b[0m \u001b[32m━━━━━━━━━━━━━━━━━━━━\u001b[0m\u001b[37m\u001b[0m \u001b[1m8s\u001b[0m 93ms/step - accuracy: 0.9639 - loss: 0.1055 - val_accuracy: 0.9793 - val_loss: 0.1253\n",
      "Epoch 14/30\n",
      "\u001b[1m82/82\u001b[0m \u001b[32m━━━━━━━━━━━━━━━━━━━━\u001b[0m\u001b[37m\u001b[0m \u001b[1m8s\u001b[0m 94ms/step - accuracy: 0.9640 - loss: 0.1157 - val_accuracy: 0.9793 - val_loss: 0.1286\n",
      "Epoch 15/30\n",
      "\u001b[1m82/82\u001b[0m \u001b[32m━━━━━━━━━━━━━━━━━━━━\u001b[0m\u001b[37m\u001b[0m \u001b[1m8s\u001b[0m 94ms/step - accuracy: 0.9762 - loss: 0.0683 - val_accuracy: 0.9759 - val_loss: 0.1250\n",
      "Epoch 16/30\n",
      "\u001b[1m82/82\u001b[0m \u001b[32m━━━━━━━━━━━━━━━━━━━━\u001b[0m\u001b[37m\u001b[0m \u001b[1m8s\u001b[0m 101ms/step - accuracy: 0.9854 - loss: 0.0676 - val_accuracy: 0.9552 - val_loss: 0.1341\n",
      "Epoch 17/30\n",
      "\u001b[1m82/82\u001b[0m \u001b[32m━━━━━━━━━━━━━━━━━━━━\u001b[0m\u001b[37m\u001b[0m \u001b[1m9s\u001b[0m 104ms/step - accuracy: 0.9831 - loss: 0.0540 - val_accuracy: 0.9724 - val_loss: 0.1187\n",
      "Epoch 18/30\n",
      "\u001b[1m82/82\u001b[0m \u001b[32m━━━━━━━━━━━━━━━━━━━━\u001b[0m\u001b[37m\u001b[0m \u001b[1m8s\u001b[0m 95ms/step - accuracy: 0.9830 - loss: 0.0533 - val_accuracy: 0.9655 - val_loss: 0.1845\n",
      "Epoch 19/30\n",
      "\u001b[1m82/82\u001b[0m \u001b[32m━━━━━━━━━━━━━━━━━━━━\u001b[0m\u001b[37m\u001b[0m \u001b[1m8s\u001b[0m 94ms/step - accuracy: 0.9787 - loss: 0.0635 - val_accuracy: 0.9793 - val_loss: 0.1358\n",
      "Epoch 20/30\n",
      "\u001b[1m82/82\u001b[0m \u001b[32m━━━━━━━━━━━━━━━━━━━━\u001b[0m\u001b[37m\u001b[0m \u001b[1m8s\u001b[0m 97ms/step - accuracy: 0.9832 - loss: 0.0482 - val_accuracy: 0.9759 - val_loss: 0.1347\n",
      "Epoch 21/30\n",
      "\u001b[1m82/82\u001b[0m \u001b[32m━━━━━━━━━━━━━━━━━━━━\u001b[0m\u001b[37m\u001b[0m \u001b[1m8s\u001b[0m 101ms/step - accuracy: 0.9804 - loss: 0.0572 - val_accuracy: 0.9793 - val_loss: 0.1338\n",
      "Epoch 22/30\n",
      "\u001b[1m82/82\u001b[0m \u001b[32m━━━━━━━━━━━━━━━━━━━━\u001b[0m\u001b[37m\u001b[0m \u001b[1m7s\u001b[0m 90ms/step - accuracy: 0.9882 - loss: 0.0341 - val_accuracy: 0.9828 - val_loss: 0.1097\n",
      "Epoch 23/30\n",
      "\u001b[1m82/82\u001b[0m \u001b[32m━━━━━━━━━━━━━━━━━━━━\u001b[0m\u001b[37m\u001b[0m \u001b[1m8s\u001b[0m 99ms/step - accuracy: 0.9935 - loss: 0.0195 - val_accuracy: 0.9793 - val_loss: 0.1232\n",
      "Epoch 24/30\n",
      "\u001b[1m82/82\u001b[0m \u001b[32m━━━━━━━━━━━━━━━━━━━━\u001b[0m\u001b[37m\u001b[0m \u001b[1m8s\u001b[0m 99ms/step - accuracy: 0.9892 - loss: 0.0405 - val_accuracy: 0.9759 - val_loss: 0.1404\n",
      "Epoch 25/30\n",
      "\u001b[1m82/82\u001b[0m \u001b[32m━━━━━━━━━━━━━━━━━━━━\u001b[0m\u001b[37m\u001b[0m \u001b[1m8s\u001b[0m 95ms/step - accuracy: 0.9820 - loss: 0.0593 - val_accuracy: 0.9828 - val_loss: 0.1391\n",
      "Epoch 26/30\n",
      "\u001b[1m82/82\u001b[0m \u001b[32m━━━━━━━━━━━━━━━━━━━━\u001b[0m\u001b[37m\u001b[0m \u001b[1m7s\u001b[0m 88ms/step - accuracy: 0.9865 - loss: 0.0490 - val_accuracy: 0.9828 - val_loss: 0.1884\n",
      "Epoch 27/30\n",
      "\u001b[1m82/82\u001b[0m \u001b[32m━━━━━━━━━━━━━━━━━━━━\u001b[0m\u001b[37m\u001b[0m \u001b[1m7s\u001b[0m 91ms/step - accuracy: 0.9877 - loss: 0.0359 - val_accuracy: 0.9759 - val_loss: 0.1623\n",
      "Epoch 28/30\n",
      "\u001b[1m82/82\u001b[0m \u001b[32m━━━━━━━━━━━━━━━━━━━━\u001b[0m\u001b[37m\u001b[0m \u001b[1m8s\u001b[0m 96ms/step - accuracy: 0.9959 - loss: 0.0165 - val_accuracy: 0.9724 - val_loss: 0.1672\n",
      "Epoch 29/30\n",
      "\u001b[1m82/82\u001b[0m \u001b[32m━━━━━━━━━━━━━━━━━━━━\u001b[0m\u001b[37m\u001b[0m \u001b[1m9s\u001b[0m 108ms/step - accuracy: 0.9949 - loss: 0.0176 - val_accuracy: 0.9759 - val_loss: 0.1872\n",
      "Epoch 30/30\n",
      "\u001b[1m82/82\u001b[0m \u001b[32m━━━━━━━━━━━━━━━━━━━━\u001b[0m\u001b[37m\u001b[0m \u001b[1m8s\u001b[0m 101ms/step - accuracy: 0.9886 - loss: 0.0475 - val_accuracy: 0.9759 - val_loss: 0.1790\n"
     ]
    }
   ],
   "source": [
    "# Train the model\n",
    "history = model_color.fit(X_color, y_color, epochs=30, validation_split=0.10,batch_size=32) "
   ]
  },
  {
   "cell_type": "code",
   "execution_count": 23,
   "id": "2e835e7d",
   "metadata": {
    "scrolled": true
   },
   "outputs": [
    {
     "data": {
      "image/png": "[encoded data removed]",
      "text/plain": [
       "<Figure size 640x480 with 1 Axes>"
      ]
     },
     "metadata": {},
     "output_type": "display_data"
    },
    {
     "data": {
      "image/png": "[encoded data removed]",
      "text/plain": [
       "<Figure size 640x480 with 1 Axes>"
      ]
     },
     "metadata": {},
     "output_type": "display_data"
    }
   ],
   "source": [
    "# Plot training & validation loss values\n",
    "plt.plot(history.history['loss'])\n",
    "plt.plot(history.history['val_loss'])\n",
    "plt.title('Model Loss')\n",
    "plt.ylabel('Loss')\n",
    "plt.xlabel('Epoch')\n",
    "plt.legend(['Train', 'Validation'], loc='upper left')\n",
    "plt.show()\n",
    "\n",
    "# Plot training & validation accuracy values\n",
    "plt.plot(history.history['accuracy'])\n",
    "plt.plot(history.history['val_accuracy'])\n",
    "plt.title('Model Accuracy')\n",
    "plt.ylabel('Accuracy')\n",
    "plt.xlabel('Epoch')\n",
    "plt.legend(['Train', 'Validation'], loc='upper left')\n",
    "plt.show()"
   ]
  },
  {
   "cell_type": "code",
   "execution_count": 24,
   "id": "a8d38214",
   "metadata": {},
   "outputs": [
    {
     "name": "stdout",
     "output_type": "stream",
     "text": [
      "\u001b[1m11/11\u001b[0m \u001b[32m━━━━━━━━━━━━━━━━━━━━\u001b[0m\u001b[37m\u001b[0m \u001b[1m0s\u001b[0m 31ms/step - accuracy: 0.7364 - loss: 1.6138\n",
      "Test Loss: 1.581375241279602\n",
      "Test Accuracy: 0.7471590638160706\n"
     ]
    }
   ],
   "source": [
    "# Evaluate the model on the test dataset\n",
    "loss, accuracy = model_color.evaluate(X_test_color, y_test_color)\n",
    "\n",
    "# Print the test loss and accuracy\n",
    "print(\"Test Loss:\", loss)\n",
    "print(\"Test Accuracy:\", accuracy)"
   ]
  },
  {
   "cell_type": "markdown",
   "id": "c8833703",
   "metadata": {},
   "source": [
    "### Imrpoving performance with different optimisers"
   ]
  },
  {
   "cell_type": "code",
   "execution_count": 25,
   "id": "ea9916f6",
   "metadata": {},
   "outputs": [
    {
     "data": {
      "text/html": [
       "<pre style=\"white-space:pre;overflow-x:auto;line-height:normal;font-family:Menlo,'DejaVu Sans Mono',consolas,'Courier New',monospace\"><span style=\"font-weight: bold\">Model: \"sequential_3\"</span>\n",
       "</pre>\n"
      ],
      "text/plain": [
       "\u001b[1mModel: \"sequential_3\"\u001b[0m\n"
      ]
     },
     "metadata": {},
     "output_type": "display_data"
    },
    {
     "data": {
      "text/html": [
       "<pre style=\"white-space:pre;overflow-x:auto;line-height:normal;font-family:Menlo,'DejaVu Sans Mono',consolas,'Courier New',monospace\">┏━━━━━━━━━━━━━━━━━━━━━━━━━━━━━━━━━┳━━━━━━━━━━━━━━━━━━━━━━━━┳━━━━━━━━━━━━━━━┓\n",
       "┃<span style=\"font-weight: bold\"> Layer (type)                    </span>┃<span style=\"font-weight: bold\"> Output Shape           </span>┃<span style=\"font-weight: bold\">       Param # </span>┃\n",
       "┡━━━━━━━━━━━━━━━━━━━━━━━━━━━━━━━━━╇━━━━━━━━━━━━━━━━━━━━━━━━╇━━━━━━━━━━━━━━━┩\n",
       "│ conv2d_12 (<span style=\"color: #0087ff; text-decoration-color: #0087ff\">Conv2D</span>)              │ (<span style=\"color: #00d7ff; text-decoration-color: #00d7ff\">None</span>, <span style=\"color: #00af00; text-decoration-color: #00af00\">64</span>, <span style=\"color: #00af00; text-decoration-color: #00af00\">64</span>, <span style=\"color: #00af00; text-decoration-color: #00af00\">128</span>)    │         <span style=\"color: #00af00; text-decoration-color: #00af00\">6,272</span> │\n",
       "├─────────────────────────────────┼────────────────────────┼───────────────┤\n",
       "│ max_pooling2d_12 (<span style=\"color: #0087ff; text-decoration-color: #0087ff\">MaxPooling2D</span>) │ (<span style=\"color: #00d7ff; text-decoration-color: #00d7ff\">None</span>, <span style=\"color: #00af00; text-decoration-color: #00af00\">32</span>, <span style=\"color: #00af00; text-decoration-color: #00af00\">32</span>, <span style=\"color: #00af00; text-decoration-color: #00af00\">128</span>)    │             <span style=\"color: #00af00; text-decoration-color: #00af00\">0</span> │\n",
       "├─────────────────────────────────┼────────────────────────┼───────────────┤\n",
       "│ conv2d_13 (<span style=\"color: #0087ff; text-decoration-color: #0087ff\">Conv2D</span>)              │ (<span style=\"color: #00d7ff; text-decoration-color: #00d7ff\">None</span>, <span style=\"color: #00af00; text-decoration-color: #00af00\">32</span>, <span style=\"color: #00af00; text-decoration-color: #00af00\">32</span>, <span style=\"color: #00af00; text-decoration-color: #00af00\">64</span>)     │       <span style=\"color: #00af00; text-decoration-color: #00af00\">131,136</span> │\n",
       "├─────────────────────────────────┼────────────────────────┼───────────────┤\n",
       "│ max_pooling2d_13 (<span style=\"color: #0087ff; text-decoration-color: #0087ff\">MaxPooling2D</span>) │ (<span style=\"color: #00d7ff; text-decoration-color: #00d7ff\">None</span>, <span style=\"color: #00af00; text-decoration-color: #00af00\">16</span>, <span style=\"color: #00af00; text-decoration-color: #00af00\">16</span>, <span style=\"color: #00af00; text-decoration-color: #00af00\">64</span>)     │             <span style=\"color: #00af00; text-decoration-color: #00af00\">0</span> │\n",
       "├─────────────────────────────────┼────────────────────────┼───────────────┤\n",
       "│ conv2d_14 (<span style=\"color: #0087ff; text-decoration-color: #0087ff\">Conv2D</span>)              │ (<span style=\"color: #00d7ff; text-decoration-color: #00d7ff\">None</span>, <span style=\"color: #00af00; text-decoration-color: #00af00\">16</span>, <span style=\"color: #00af00; text-decoration-color: #00af00\">16</span>, <span style=\"color: #00af00; text-decoration-color: #00af00\">32</span>)     │        <span style=\"color: #00af00; text-decoration-color: #00af00\">32,800</span> │\n",
       "├─────────────────────────────────┼────────────────────────┼───────────────┤\n",
       "│ max_pooling2d_14 (<span style=\"color: #0087ff; text-decoration-color: #0087ff\">MaxPooling2D</span>) │ (<span style=\"color: #00d7ff; text-decoration-color: #00d7ff\">None</span>, <span style=\"color: #00af00; text-decoration-color: #00af00\">8</span>, <span style=\"color: #00af00; text-decoration-color: #00af00\">8</span>, <span style=\"color: #00af00; text-decoration-color: #00af00\">32</span>)       │             <span style=\"color: #00af00; text-decoration-color: #00af00\">0</span> │\n",
       "├─────────────────────────────────┼────────────────────────┼───────────────┤\n",
       "│ conv2d_15 (<span style=\"color: #0087ff; text-decoration-color: #0087ff\">Conv2D</span>)              │ (<span style=\"color: #00d7ff; text-decoration-color: #00d7ff\">None</span>, <span style=\"color: #00af00; text-decoration-color: #00af00\">8</span>, <span style=\"color: #00af00; text-decoration-color: #00af00\">8</span>, <span style=\"color: #00af00; text-decoration-color: #00af00\">16</span>)       │         <span style=\"color: #00af00; text-decoration-color: #00af00\">8,208</span> │\n",
       "├─────────────────────────────────┼────────────────────────┼───────────────┤\n",
       "│ max_pooling2d_15 (<span style=\"color: #0087ff; text-decoration-color: #0087ff\">MaxPooling2D</span>) │ (<span style=\"color: #00d7ff; text-decoration-color: #00d7ff\">None</span>, <span style=\"color: #00af00; text-decoration-color: #00af00\">4</span>, <span style=\"color: #00af00; text-decoration-color: #00af00\">4</span>, <span style=\"color: #00af00; text-decoration-color: #00af00\">16</span>)       │             <span style=\"color: #00af00; text-decoration-color: #00af00\">0</span> │\n",
       "├─────────────────────────────────┼────────────────────────┼───────────────┤\n",
       "│ flatten_3 (<span style=\"color: #0087ff; text-decoration-color: #0087ff\">Flatten</span>)             │ (<span style=\"color: #00d7ff; text-decoration-color: #00d7ff\">None</span>, <span style=\"color: #00af00; text-decoration-color: #00af00\">256</span>)            │             <span style=\"color: #00af00; text-decoration-color: #00af00\">0</span> │\n",
       "├─────────────────────────────────┼────────────────────────┼───────────────┤\n",
       "│ dense_6 (<span style=\"color: #0087ff; text-decoration-color: #0087ff\">Dense</span>)                 │ (<span style=\"color: #00d7ff; text-decoration-color: #00d7ff\">None</span>, <span style=\"color: #00af00; text-decoration-color: #00af00\">128</span>)            │        <span style=\"color: #00af00; text-decoration-color: #00af00\">32,896</span> │\n",
       "├─────────────────────────────────┼────────────────────────┼───────────────┤\n",
       "│ dropout_3 (<span style=\"color: #0087ff; text-decoration-color: #0087ff\">Dropout</span>)             │ (<span style=\"color: #00d7ff; text-decoration-color: #00d7ff\">None</span>, <span style=\"color: #00af00; text-decoration-color: #00af00\">128</span>)            │             <span style=\"color: #00af00; text-decoration-color: #00af00\">0</span> │\n",
       "├─────────────────────────────────┼────────────────────────┼───────────────┤\n",
       "│ dense_7 (<span style=\"color: #0087ff; text-decoration-color: #0087ff\">Dense</span>)                 │ (<span style=\"color: #00d7ff; text-decoration-color: #00d7ff\">None</span>, <span style=\"color: #00af00; text-decoration-color: #00af00\">32</span>)             │         <span style=\"color: #00af00; text-decoration-color: #00af00\">4,128</span> │\n",
       "└─────────────────────────────────┴────────────────────────┴───────────────┘\n",
       "</pre>\n"
      ],
      "text/plain": [
       "┏━━━━━━━━━━━━━━━━━━━━━━━━━━━━━━━━━┳━━━━━━━━━━━━━━━━━━━━━━━━┳━━━━━━━━━━━━━━━┓\n",
       "┃\u001b[1m \u001b[0m\u001b[1mLayer (type)                   \u001b[0m\u001b[1m \u001b[0m┃\u001b[1m \u001b[0m\u001b[1mOutput Shape          \u001b[0m\u001b[1m \u001b[0m┃\u001b[1m \u001b[0m\u001b[1m      Param #\u001b[0m\u001b[1m \u001b[0m┃\n",
       "┡━━━━━━━━━━━━━━━━━━━━━━━━━━━━━━━━━╇━━━━━━━━━━━━━━━━━━━━━━━━╇━━━━━━━━━━━━━━━┩\n",
       "│ conv2d_12 (\u001b[38;5;33mConv2D\u001b[0m)              │ (\u001b[38;5;45mNone\u001b[0m, \u001b[38;5;34m64\u001b[0m, \u001b[38;5;34m64\u001b[0m, \u001b[38;5;34m128\u001b[0m)    │         \u001b[38;5;34m6,272\u001b[0m │\n",
       "├─────────────────────────────────┼────────────────────────┼───────────────┤\n",
       "│ max_pooling2d_12 (\u001b[38;5;33mMaxPooling2D\u001b[0m) │ (\u001b[38;5;45mNone\u001b[0m, \u001b[38;5;34m32\u001b[0m, \u001b[38;5;34m32\u001b[0m, \u001b[38;5;34m128\u001b[0m)    │             \u001b[38;5;34m0\u001b[0m │\n",
       "├─────────────────────────────────┼────────────────────────┼───────────────┤\n",
       "│ conv2d_13 (\u001b[38;5;33mConv2D\u001b[0m)              │ (\u001b[38;5;45mNone\u001b[0m, \u001b[38;5;34m32\u001b[0m, \u001b[38;5;34m32\u001b[0m, \u001b[38;5;34m64\u001b[0m)     │       \u001b[38;5;34m131,136\u001b[0m │\n",
       "├─────────────────────────────────┼────────────────────────┼───────────────┤\n",
       "│ max_pooling2d_13 (\u001b[38;5;33mMaxPooling2D\u001b[0m) │ (\u001b[38;5;45mNone\u001b[0m, \u001b[38;5;34m16\u001b[0m, \u001b[38;5;34m16\u001b[0m, \u001b[38;5;34m64\u001b[0m)     │             \u001b[38;5;34m0\u001b[0m │\n",
       "├─────────────────────────────────┼────────────────────────┼───────────────┤\n",
       "│ conv2d_14 (\u001b[38;5;33mConv2D\u001b[0m)              │ (\u001b[38;5;45mNone\u001b[0m, \u001b[38;5;34m16\u001b[0m, \u001b[38;5;34m16\u001b[0m, \u001b[38;5;34m32\u001b[0m)     │        \u001b[38;5;34m32,800\u001b[0m │\n",
       "├─────────────────────────────────┼────────────────────────┼───────────────┤\n",
       "│ max_pooling2d_14 (\u001b[38;5;33mMaxPooling2D\u001b[0m) │ (\u001b[38;5;45mNone\u001b[0m, \u001b[38;5;34m8\u001b[0m, \u001b[38;5;34m8\u001b[0m, \u001b[38;5;34m32\u001b[0m)       │             \u001b[38;5;34m0\u001b[0m │\n",
       "├─────────────────────────────────┼────────────────────────┼───────────────┤\n",
       "│ conv2d_15 (\u001b[38;5;33mConv2D\u001b[0m)              │ (\u001b[38;5;45mNone\u001b[0m, \u001b[38;5;34m8\u001b[0m, \u001b[38;5;34m8\u001b[0m, \u001b[38;5;34m16\u001b[0m)       │         \u001b[38;5;34m8,208\u001b[0m │\n",
       "├─────────────────────────────────┼────────────────────────┼───────────────┤\n",
       "│ max_pooling2d_15 (\u001b[38;5;33mMaxPooling2D\u001b[0m) │ (\u001b[38;5;45mNone\u001b[0m, \u001b[38;5;34m4\u001b[0m, \u001b[38;5;34m4\u001b[0m, \u001b[38;5;34m16\u001b[0m)       │             \u001b[38;5;34m0\u001b[0m │\n",
       "├─────────────────────────────────┼────────────────────────┼───────────────┤\n",
       "│ flatten_3 (\u001b[38;5;33mFlatten\u001b[0m)             │ (\u001b[38;5;45mNone\u001b[0m, \u001b[38;5;34m256\u001b[0m)            │             \u001b[38;5;34m0\u001b[0m │\n",
       "├─────────────────────────────────┼────────────────────────┼───────────────┤\n",
       "│ dense_6 (\u001b[38;5;33mDense\u001b[0m)                 │ (\u001b[38;5;45mNone\u001b[0m, \u001b[38;5;34m128\u001b[0m)            │        \u001b[38;5;34m32,896\u001b[0m │\n",
       "├─────────────────────────────────┼────────────────────────┼───────────────┤\n",
       "│ dropout_3 (\u001b[38;5;33mDropout\u001b[0m)             │ (\u001b[38;5;45mNone\u001b[0m, \u001b[38;5;34m128\u001b[0m)            │             \u001b[38;5;34m0\u001b[0m │\n",
       "├─────────────────────────────────┼────────────────────────┼───────────────┤\n",
       "│ dense_7 (\u001b[38;5;33mDense\u001b[0m)                 │ (\u001b[38;5;45mNone\u001b[0m, \u001b[38;5;34m32\u001b[0m)             │         \u001b[38;5;34m4,128\u001b[0m │\n",
       "└─────────────────────────────────┴────────────────────────┴───────────────┘\n"
      ]
     },
     "metadata": {},
     "output_type": "display_data"
    },
    {
     "data": {
      "text/html": [
       "<pre style=\"white-space:pre;overflow-x:auto;line-height:normal;font-family:Menlo,'DejaVu Sans Mono',consolas,'Courier New',monospace\"><span style=\"font-weight: bold\"> Total params: </span><span style=\"color: #00af00; text-decoration-color: #00af00\">215,440</span> (841.56 KB)\n",
       "</pre>\n"
      ],
      "text/plain": [
       "\u001b[1m Total params: \u001b[0m\u001b[38;5;34m215,440\u001b[0m (841.56 KB)\n"
      ]
     },
     "metadata": {},
     "output_type": "display_data"
    },
    {
     "data": {
      "text/html": [
       "<pre style=\"white-space:pre;overflow-x:auto;line-height:normal;font-family:Menlo,'DejaVu Sans Mono',consolas,'Courier New',monospace\"><span style=\"font-weight: bold\"> Trainable params: </span><span style=\"color: #00af00; text-decoration-color: #00af00\">215,440</span> (841.56 KB)\n",
       "</pre>\n"
      ],
      "text/plain": [
       "\u001b[1m Trainable params: \u001b[0m\u001b[38;5;34m215,440\u001b[0m (841.56 KB)\n"
      ]
     },
     "metadata": {},
     "output_type": "display_data"
    },
    {
     "data": {
      "text/html": [
       "<pre style=\"white-space:pre;overflow-x:auto;line-height:normal;font-family:Menlo,'DejaVu Sans Mono',consolas,'Courier New',monospace\"><span style=\"font-weight: bold\"> Non-trainable params: </span><span style=\"color: #00af00; text-decoration-color: #00af00\">0</span> (0.00 B)\n",
       "</pre>\n"
      ],
      "text/plain": [
       "\u001b[1m Non-trainable params: \u001b[0m\u001b[38;5;34m0\u001b[0m (0.00 B)\n"
      ]
     },
     "metadata": {},
     "output_type": "display_data"
    }
   ],
   "source": [
    "# Define the color model\n",
    "model_SGD = Sequential()\n",
    "\n",
    "# Add InputLayer with input shape\n",
    "model_SGD.add(InputLayer(shape=X_color.shape[1:]))\n",
    "\n",
    "# 1st Convolutional Layer\n",
    "model_SGD.add(Conv2D(128, (4, 4), padding='same', activation='relu'))\n",
    "\n",
    "# Max Pooling Layer\n",
    "model_SGD.add(MaxPool2D(pool_size=(2, 2)))\n",
    "\n",
    "# 2nd Convolutional Layer\n",
    "model_SGD.add(Conv2D(64, (4, 4), padding='same', activation='relu'))\n",
    "\n",
    "# Max Pooling Layer\n",
    "model_SGD.add(MaxPool2D(pool_size=(2, 2)))\n",
    "\n",
    "# 3rd Convolutional Layer\n",
    "model_SGD.add(Conv2D(32, (4, 4), padding='same', activation='relu'))\n",
    "\n",
    "# Max Pooling Layer\n",
    "model_SGD.add(MaxPool2D(pool_size=(2, 2)))\n",
    "\n",
    "# 4th Convolutional Layer\n",
    "model_SGD.add(Conv2D(16, (4, 4), padding='same', activation='relu'))\n",
    "\n",
    "# Max Pooling Layer\n",
    "model_SGD.add(MaxPool2D(pool_size=(2, 2)))\n",
    "\n",
    "# Flatten layer\n",
    "model_SGD.add(Flatten())\n",
    "\n",
    "# Fully Connected Dense Layer\n",
    "model_SGD.add(Dense(128, activation='relu'))\n",
    "\n",
    "# Dropout Layer\n",
    "model_SGD.add(Dropout(0.5))\n",
    "\n",
    "# Output Layer\n",
    "model_SGD.add(Dense(32, activation='softmax'))\n",
    "\n",
    "# Compile the model\n",
    "model_SGD.compile(optimizer= tf.keras.optimizers.SGD(learning_rate=0.01, momentum=0.9),\n",
    "              loss='sparse_categorical_crossentropy',\n",
    "              metrics=['accuracy'])\n",
    "\n",
    "# Print the model summary\n",
    "model_SGD.summary()"
   ]
  },
  {
   "cell_type": "code",
   "execution_count": 26,
   "id": "6d720a7f",
   "metadata": {
    "scrolled": true
   },
   "outputs": [
    {
     "name": "stdout",
     "output_type": "stream",
     "text": [
      "Epoch 1/30\n",
      "\u001b[1m82/82\u001b[0m \u001b[32m━━━━━━━━━━━━━━━━━━━━\u001b[0m\u001b[37m\u001b[0m \u001b[1m9s\u001b[0m 100ms/step - accuracy: 0.0449 - loss: 3.4334 - val_accuracy: 0.1897 - val_loss: 3.0239\n",
      "Epoch 2/30\n",
      "\u001b[1m82/82\u001b[0m \u001b[32m━━━━━━━━━━━━━━━━━━━━\u001b[0m\u001b[37m\u001b[0m \u001b[1m7s\u001b[0m 88ms/step - accuracy: 0.1931 - loss: 2.9572 - val_accuracy: 0.4586 - val_loss: 1.7136\n",
      "Epoch 3/30\n",
      "\u001b[1m82/82\u001b[0m \u001b[32m━━━━━━━━━━━━━━━━━━━━\u001b[0m\u001b[37m\u001b[0m \u001b[1m7s\u001b[0m 89ms/step - accuracy: 0.4585 - loss: 1.8694 - val_accuracy: 0.7310 - val_loss: 0.8102\n",
      "Epoch 4/30\n",
      "\u001b[1m82/82\u001b[0m \u001b[32m━━━━━━━━━━━━━━━━━━━━\u001b[0m\u001b[37m\u001b[0m \u001b[1m7s\u001b[0m 88ms/step - accuracy: 0.6433 - loss: 1.1199 - val_accuracy: 0.7621 - val_loss: 0.5845\n",
      "Epoch 5/30\n",
      "\u001b[1m82/82\u001b[0m \u001b[32m━━━━━━━━━━━━━━━━━━━━\u001b[0m\u001b[37m\u001b[0m \u001b[1m7s\u001b[0m 91ms/step - accuracy: 0.7463 - loss: 0.7920 - val_accuracy: 0.8621 - val_loss: 0.4643\n",
      "Epoch 6/30\n",
      "\u001b[1m82/82\u001b[0m \u001b[32m━━━━━━━━━━━━━━━━━━━━\u001b[0m\u001b[37m\u001b[0m \u001b[1m7s\u001b[0m 90ms/step - accuracy: 0.8011 - loss: 0.5879 - val_accuracy: 0.9000 - val_loss: 0.2920\n",
      "Epoch 7/30\n",
      "\u001b[1m82/82\u001b[0m \u001b[32m━━━━━━━━━━━━━━━━━━━━\u001b[0m\u001b[37m\u001b[0m \u001b[1m8s\u001b[0m 91ms/step - accuracy: 0.8624 - loss: 0.4502 - val_accuracy: 0.9414 - val_loss: 0.1827\n",
      "Epoch 8/30\n",
      "\u001b[1m82/82\u001b[0m \u001b[32m━━━━━━━━━━━━━━━━━━━━\u001b[0m\u001b[37m\u001b[0m \u001b[1m7s\u001b[0m 90ms/step - accuracy: 0.8767 - loss: 0.3572 - val_accuracy: 0.9034 - val_loss: 0.2815\n",
      "Epoch 9/30\n",
      "\u001b[1m82/82\u001b[0m \u001b[32m━━━━━━━━━━━━━━━━━━━━\u001b[0m\u001b[37m\u001b[0m \u001b[1m7s\u001b[0m 86ms/step - accuracy: 0.8971 - loss: 0.3147 - val_accuracy: 0.9310 - val_loss: 0.1956\n",
      "Epoch 10/30\n",
      "\u001b[1m82/82\u001b[0m \u001b[32m━━━━━━━━━━━━━━━━━━━━\u001b[0m\u001b[37m\u001b[0m \u001b[1m7s\u001b[0m 88ms/step - accuracy: 0.8957 - loss: 0.2941 - val_accuracy: 0.9379 - val_loss: 0.1677\n",
      "Epoch 11/30\n",
      "\u001b[1m82/82\u001b[0m \u001b[32m━━━━━━━━━━━━━━━━━━━━\u001b[0m\u001b[37m\u001b[0m \u001b[1m7s\u001b[0m 84ms/step - accuracy: 0.9131 - loss: 0.2668 - val_accuracy: 0.9621 - val_loss: 0.1100\n",
      "Epoch 12/30\n",
      "\u001b[1m82/82\u001b[0m \u001b[32m━━━━━━━━━━━━━━━━━━━━\u001b[0m\u001b[37m\u001b[0m \u001b[1m7s\u001b[0m 88ms/step - accuracy: 0.9165 - loss: 0.2665 - val_accuracy: 0.9379 - val_loss: 0.1729\n",
      "Epoch 13/30\n",
      "\u001b[1m82/82\u001b[0m \u001b[32m━━━━━━━━━━━━━━━━━━━━\u001b[0m\u001b[37m\u001b[0m \u001b[1m8s\u001b[0m 92ms/step - accuracy: 0.9227 - loss: 0.2504 - val_accuracy: 0.9655 - val_loss: 0.1201\n",
      "Epoch 14/30\n",
      "\u001b[1m82/82\u001b[0m \u001b[32m━━━━━━━━━━━━━━━━━━━━\u001b[0m\u001b[37m\u001b[0m \u001b[1m7s\u001b[0m 91ms/step - accuracy: 0.9512 - loss: 0.1627 - val_accuracy: 0.9690 - val_loss: 0.1062\n",
      "Epoch 15/30\n",
      "\u001b[1m82/82\u001b[0m \u001b[32m━━━━━━━━━━━━━━━━━━━━\u001b[0m\u001b[37m\u001b[0m \u001b[1m9s\u001b[0m 110ms/step - accuracy: 0.9634 - loss: 0.1125 - val_accuracy: 0.9862 - val_loss: 0.0776\n",
      "Epoch 16/30\n",
      "\u001b[1m82/82\u001b[0m \u001b[32m━━━━━━━━━━━━━━━━━━━━\u001b[0m\u001b[37m\u001b[0m \u001b[1m9s\u001b[0m 114ms/step - accuracy: 0.9579 - loss: 0.1263 - val_accuracy: 0.9759 - val_loss: 0.0932\n",
      "Epoch 17/30\n",
      "\u001b[1m82/82\u001b[0m \u001b[32m━━━━━━━━━━━━━━━━━━━━\u001b[0m\u001b[37m\u001b[0m \u001b[1m8s\u001b[0m 101ms/step - accuracy: 0.9651 - loss: 0.1158 - val_accuracy: 0.9759 - val_loss: 0.1096\n",
      "Epoch 18/30\n",
      "\u001b[1m82/82\u001b[0m \u001b[32m━━━━━━━━━━━━━━━━━━━━\u001b[0m\u001b[37m\u001b[0m \u001b[1m8s\u001b[0m 94ms/step - accuracy: 0.9600 - loss: 0.1350 - val_accuracy: 0.9793 - val_loss: 0.0819\n",
      "Epoch 19/30\n",
      "\u001b[1m82/82\u001b[0m \u001b[32m━━━━━━━━━━━━━━━━━━━━\u001b[0m\u001b[37m\u001b[0m \u001b[1m8s\u001b[0m 93ms/step - accuracy: 0.9615 - loss: 0.1095 - val_accuracy: 0.9793 - val_loss: 0.1177\n",
      "Epoch 20/30\n",
      "\u001b[1m82/82\u001b[0m \u001b[32m━━━━━━━━━━━━━━━━━━━━\u001b[0m\u001b[37m\u001b[0m \u001b[1m8s\u001b[0m 98ms/step - accuracy: 0.9734 - loss: 0.0818 - val_accuracy: 0.9793 - val_loss: 0.0775\n",
      "Epoch 21/30\n",
      "\u001b[1m82/82\u001b[0m \u001b[32m━━━━━━━━━━━━━━━━━━━━\u001b[0m\u001b[37m\u001b[0m \u001b[1m9s\u001b[0m 106ms/step - accuracy: 0.9710 - loss: 0.0935 - val_accuracy: 0.9828 - val_loss: 0.0726\n",
      "Epoch 22/30\n",
      "\u001b[1m82/82\u001b[0m \u001b[32m━━━━━━━━━━━━━━━━━━━━\u001b[0m\u001b[37m\u001b[0m \u001b[1m8s\u001b[0m 95ms/step - accuracy: 0.9738 - loss: 0.0836 - val_accuracy: 0.9828 - val_loss: 0.0624\n",
      "Epoch 23/30\n",
      "\u001b[1m82/82\u001b[0m \u001b[32m━━━━━━━━━━━━━━━━━━━━\u001b[0m\u001b[37m\u001b[0m \u001b[1m7s\u001b[0m 89ms/step - accuracy: 0.9745 - loss: 0.0741 - val_accuracy: 0.9793 - val_loss: 0.0778\n",
      "Epoch 24/30\n",
      "\u001b[1m82/82\u001b[0m \u001b[32m━━━━━━━━━━━━━━━━━━━━\u001b[0m\u001b[37m\u001b[0m \u001b[1m7s\u001b[0m 90ms/step - accuracy: 0.9852 - loss: 0.0531 - val_accuracy: 0.9759 - val_loss: 0.0769\n",
      "Epoch 25/30\n",
      "\u001b[1m82/82\u001b[0m \u001b[32m━━━━━━━━━━━━━━━━━━━━\u001b[0m\u001b[37m\u001b[0m \u001b[1m7s\u001b[0m 88ms/step - accuracy: 0.9793 - loss: 0.0687 - val_accuracy: 0.9724 - val_loss: 0.0694\n",
      "Epoch 26/30\n",
      "\u001b[1m82/82\u001b[0m \u001b[32m━━━━━━━━━━━━━━━━━━━━\u001b[0m\u001b[37m\u001b[0m \u001b[1m8s\u001b[0m 92ms/step - accuracy: 0.9729 - loss: 0.1091 - val_accuracy: 0.9759 - val_loss: 0.0678\n",
      "Epoch 27/30\n",
      "\u001b[1m82/82\u001b[0m \u001b[32m━━━━━━━━━━━━━━━━━━━━\u001b[0m\u001b[37m\u001b[0m \u001b[1m7s\u001b[0m 88ms/step - accuracy: 0.9839 - loss: 0.0464 - val_accuracy: 0.9897 - val_loss: 0.0636\n",
      "Epoch 28/30\n",
      "\u001b[1m82/82\u001b[0m \u001b[32m━━━━━━━━━━━━━━━━━━━━\u001b[0m\u001b[37m\u001b[0m \u001b[1m8s\u001b[0m 92ms/step - accuracy: 0.9752 - loss: 0.0784 - val_accuracy: 0.9862 - val_loss: 0.0550\n",
      "Epoch 29/30\n",
      "\u001b[1m82/82\u001b[0m \u001b[32m━━━━━━━━━━━━━━━━━━━━\u001b[0m\u001b[37m\u001b[0m \u001b[1m7s\u001b[0m 90ms/step - accuracy: 0.9721 - loss: 0.0678 - val_accuracy: 0.9793 - val_loss: 0.0873\n",
      "Epoch 30/30\n",
      "\u001b[1m82/82\u001b[0m \u001b[32m━━━━━━━━━━━━━━━━━━━━\u001b[0m\u001b[37m\u001b[0m \u001b[1m8s\u001b[0m 92ms/step - accuracy: 0.9810 - loss: 0.0616 - val_accuracy: 0.9655 - val_loss: 0.1230\n"
     ]
    }
   ],
   "source": [
    "# Train the model\n",
    "history = model_SGD.fit(X_color, y_color, epochs=30, validation_split=0.10,batch_size=32) "
   ]
  },
  {
   "cell_type": "code",
   "execution_count": 27,
   "id": "2c366435",
   "metadata": {
    "scrolled": true
   },
   "outputs": [
    {
     "data": {
      "image/png": "[encoded data removed]",
      "text/plain": [
       "<Figure size 640x480 with 1 Axes>"
      ]
     },
     "metadata": {},
     "output_type": "display_data"
    },
    {
     "data": {
      "image/png": "[encoded data removed]",
      "text/plain": [
       "<Figure size 640x480 with 1 Axes>"
      ]
     },
     "metadata": {},
     "output_type": "display_data"
    }
   ],
   "source": [
    "# Plot training & validation loss values\n",
    "plt.plot(history.history['loss'])\n",
    "plt.plot(history.history['val_loss'])\n",
    "plt.title('Model Loss')\n",
    "plt.ylabel('Loss')\n",
    "plt.xlabel('Epoch')\n",
    "plt.legend(['Train', 'Validation'], loc='upper left')\n",
    "plt.show()\n",
    "\n",
    "# Plot training & validation accuracy values\n",
    "plt.plot(history.history['accuracy'])\n",
    "plt.plot(history.history['val_accuracy'])\n",
    "plt.title('Model Accuracy')\n",
    "plt.ylabel('Accuracy')\n",
    "plt.xlabel('Epoch')\n",
    "plt.legend(['Train', 'Validation'], loc='upper left')\n",
    "plt.show()"
   ]
  },
  {
   "cell_type": "code",
   "execution_count": 28,
   "id": "052ba023",
   "metadata": {},
   "outputs": [
    {
     "name": "stdout",
     "output_type": "stream",
     "text": [
      "\u001b[1m11/11\u001b[0m \u001b[32m━━━━━━━━━━━━━━━━━━━━\u001b[0m\u001b[37m\u001b[0m \u001b[1m0s\u001b[0m 34ms/step - accuracy: 0.6760 - loss: 2.1500\n",
      "Test Loss: 2.008596181869507\n",
      "Test Accuracy: 0.6789772510528564\n"
     ]
    }
   ],
   "source": [
    "# Evaluate the model on the test dataset\n",
    "loss, accuracy = model_SGD.evaluate(X_test_color, y_test_color)\n",
    "\n",
    "# Print the test loss and accuracy\n",
    "print(\"Test Loss:\", loss)\n",
    "print(\"Test Accuracy:\", accuracy)"
   ]
  },
  {
   "cell_type": "markdown",
   "id": "2d5b6781",
   "metadata": {},
   "source": [
    "## RMSPROP Optimiser"
   ]
  },
  {
   "cell_type": "code",
   "execution_count": 29,
   "id": "000ae8d8",
   "metadata": {},
   "outputs": [
    {
     "data": {
      "text/html": [
       "<pre style=\"white-space:pre;overflow-x:auto;line-height:normal;font-family:Menlo,'DejaVu Sans Mono',consolas,'Courier New',monospace\"><span style=\"font-weight: bold\">Model: \"sequential_4\"</span>\n",
       "</pre>\n"
      ],
      "text/plain": [
       "\u001b[1mModel: \"sequential_4\"\u001b[0m\n"
      ]
     },
     "metadata": {},
     "output_type": "display_data"
    },
    {
     "data": {
      "text/html": [
       "<pre style=\"white-space:pre;overflow-x:auto;line-height:normal;font-family:Menlo,'DejaVu Sans Mono',consolas,'Courier New',monospace\">┏━━━━━━━━━━━━━━━━━━━━━━━━━━━━━━━━━┳━━━━━━━━━━━━━━━━━━━━━━━━┳━━━━━━━━━━━━━━━┓\n",
       "┃<span style=\"font-weight: bold\"> Layer (type)                    </span>┃<span style=\"font-weight: bold\"> Output Shape           </span>┃<span style=\"font-weight: bold\">       Param # </span>┃\n",
       "┡━━━━━━━━━━━━━━━━━━━━━━━━━━━━━━━━━╇━━━━━━━━━━━━━━━━━━━━━━━━╇━━━━━━━━━━━━━━━┩\n",
       "│ conv2d_16 (<span style=\"color: #0087ff; text-decoration-color: #0087ff\">Conv2D</span>)              │ (<span style=\"color: #00d7ff; text-decoration-color: #00d7ff\">None</span>, <span style=\"color: #00af00; text-decoration-color: #00af00\">64</span>, <span style=\"color: #00af00; text-decoration-color: #00af00\">64</span>, <span style=\"color: #00af00; text-decoration-color: #00af00\">128</span>)    │         <span style=\"color: #00af00; text-decoration-color: #00af00\">6,272</span> │\n",
       "├─────────────────────────────────┼────────────────────────┼───────────────┤\n",
       "│ max_pooling2d_16 (<span style=\"color: #0087ff; text-decoration-color: #0087ff\">MaxPooling2D</span>) │ (<span style=\"color: #00d7ff; text-decoration-color: #00d7ff\">None</span>, <span style=\"color: #00af00; text-decoration-color: #00af00\">32</span>, <span style=\"color: #00af00; text-decoration-color: #00af00\">32</span>, <span style=\"color: #00af00; text-decoration-color: #00af00\">128</span>)    │             <span style=\"color: #00af00; text-decoration-color: #00af00\">0</span> │\n",
       "├─────────────────────────────────┼────────────────────────┼───────────────┤\n",
       "│ conv2d_17 (<span style=\"color: #0087ff; text-decoration-color: #0087ff\">Conv2D</span>)              │ (<span style=\"color: #00d7ff; text-decoration-color: #00d7ff\">None</span>, <span style=\"color: #00af00; text-decoration-color: #00af00\">32</span>, <span style=\"color: #00af00; text-decoration-color: #00af00\">32</span>, <span style=\"color: #00af00; text-decoration-color: #00af00\">64</span>)     │       <span style=\"color: #00af00; text-decoration-color: #00af00\">131,136</span> │\n",
       "├─────────────────────────────────┼────────────────────────┼───────────────┤\n",
       "│ max_pooling2d_17 (<span style=\"color: #0087ff; text-decoration-color: #0087ff\">MaxPooling2D</span>) │ (<span style=\"color: #00d7ff; text-decoration-color: #00d7ff\">None</span>, <span style=\"color: #00af00; text-decoration-color: #00af00\">16</span>, <span style=\"color: #00af00; text-decoration-color: #00af00\">16</span>, <span style=\"color: #00af00; text-decoration-color: #00af00\">64</span>)     │             <span style=\"color: #00af00; text-decoration-color: #00af00\">0</span> │\n",
       "├─────────────────────────────────┼────────────────────────┼───────────────┤\n",
       "│ conv2d_18 (<span style=\"color: #0087ff; text-decoration-color: #0087ff\">Conv2D</span>)              │ (<span style=\"color: #00d7ff; text-decoration-color: #00d7ff\">None</span>, <span style=\"color: #00af00; text-decoration-color: #00af00\">16</span>, <span style=\"color: #00af00; text-decoration-color: #00af00\">16</span>, <span style=\"color: #00af00; text-decoration-color: #00af00\">32</span>)     │        <span style=\"color: #00af00; text-decoration-color: #00af00\">32,800</span> │\n",
       "├─────────────────────────────────┼────────────────────────┼───────────────┤\n",
       "│ max_pooling2d_18 (<span style=\"color: #0087ff; text-decoration-color: #0087ff\">MaxPooling2D</span>) │ (<span style=\"color: #00d7ff; text-decoration-color: #00d7ff\">None</span>, <span style=\"color: #00af00; text-decoration-color: #00af00\">8</span>, <span style=\"color: #00af00; text-decoration-color: #00af00\">8</span>, <span style=\"color: #00af00; text-decoration-color: #00af00\">32</span>)       │             <span style=\"color: #00af00; text-decoration-color: #00af00\">0</span> │\n",
       "├─────────────────────────────────┼────────────────────────┼───────────────┤\n",
       "│ conv2d_19 (<span style=\"color: #0087ff; text-decoration-color: #0087ff\">Conv2D</span>)              │ (<span style=\"color: #00d7ff; text-decoration-color: #00d7ff\">None</span>, <span style=\"color: #00af00; text-decoration-color: #00af00\">8</span>, <span style=\"color: #00af00; text-decoration-color: #00af00\">8</span>, <span style=\"color: #00af00; text-decoration-color: #00af00\">16</span>)       │         <span style=\"color: #00af00; text-decoration-color: #00af00\">8,208</span> │\n",
       "├─────────────────────────────────┼────────────────────────┼───────────────┤\n",
       "│ max_pooling2d_19 (<span style=\"color: #0087ff; text-decoration-color: #0087ff\">MaxPooling2D</span>) │ (<span style=\"color: #00d7ff; text-decoration-color: #00d7ff\">None</span>, <span style=\"color: #00af00; text-decoration-color: #00af00\">4</span>, <span style=\"color: #00af00; text-decoration-color: #00af00\">4</span>, <span style=\"color: #00af00; text-decoration-color: #00af00\">16</span>)       │             <span style=\"color: #00af00; text-decoration-color: #00af00\">0</span> │\n",
       "├─────────────────────────────────┼────────────────────────┼───────────────┤\n",
       "│ flatten_4 (<span style=\"color: #0087ff; text-decoration-color: #0087ff\">Flatten</span>)             │ (<span style=\"color: #00d7ff; text-decoration-color: #00d7ff\">None</span>, <span style=\"color: #00af00; text-decoration-color: #00af00\">256</span>)            │             <span style=\"color: #00af00; text-decoration-color: #00af00\">0</span> │\n",
       "├─────────────────────────────────┼────────────────────────┼───────────────┤\n",
       "│ dense_8 (<span style=\"color: #0087ff; text-decoration-color: #0087ff\">Dense</span>)                 │ (<span style=\"color: #00d7ff; text-decoration-color: #00d7ff\">None</span>, <span style=\"color: #00af00; text-decoration-color: #00af00\">128</span>)            │        <span style=\"color: #00af00; text-decoration-color: #00af00\">32,896</span> │\n",
       "├─────────────────────────────────┼────────────────────────┼───────────────┤\n",
       "│ dropout_4 (<span style=\"color: #0087ff; text-decoration-color: #0087ff\">Dropout</span>)             │ (<span style=\"color: #00d7ff; text-decoration-color: #00d7ff\">None</span>, <span style=\"color: #00af00; text-decoration-color: #00af00\">128</span>)            │             <span style=\"color: #00af00; text-decoration-color: #00af00\">0</span> │\n",
       "├─────────────────────────────────┼────────────────────────┼───────────────┤\n",
       "│ dense_9 (<span style=\"color: #0087ff; text-decoration-color: #0087ff\">Dense</span>)                 │ (<span style=\"color: #00d7ff; text-decoration-color: #00d7ff\">None</span>, <span style=\"color: #00af00; text-decoration-color: #00af00\">32</span>)             │         <span style=\"color: #00af00; text-decoration-color: #00af00\">4,128</span> │\n",
       "└─────────────────────────────────┴────────────────────────┴───────────────┘\n",
       "</pre>\n"
      ],
      "text/plain": [
       "┏━━━━━━━━━━━━━━━━━━━━━━━━━━━━━━━━━┳━━━━━━━━━━━━━━━━━━━━━━━━┳━━━━━━━━━━━━━━━┓\n",
       "┃\u001b[1m \u001b[0m\u001b[1mLayer (type)                   \u001b[0m\u001b[1m \u001b[0m┃\u001b[1m \u001b[0m\u001b[1mOutput Shape          \u001b[0m\u001b[1m \u001b[0m┃\u001b[1m \u001b[0m\u001b[1m      Param #\u001b[0m\u001b[1m \u001b[0m┃\n",
       "┡━━━━━━━━━━━━━━━━━━━━━━━━━━━━━━━━━╇━━━━━━━━━━━━━━━━━━━━━━━━╇━━━━━━━━━━━━━━━┩\n",
       "│ conv2d_16 (\u001b[38;5;33mConv2D\u001b[0m)              │ (\u001b[38;5;45mNone\u001b[0m, \u001b[38;5;34m64\u001b[0m, \u001b[38;5;34m64\u001b[0m, \u001b[38;5;34m128\u001b[0m)    │         \u001b[38;5;34m6,272\u001b[0m │\n",
       "├─────────────────────────────────┼────────────────────────┼───────────────┤\n",
       "│ max_pooling2d_16 (\u001b[38;5;33mMaxPooling2D\u001b[0m) │ (\u001b[38;5;45mNone\u001b[0m, \u001b[38;5;34m32\u001b[0m, \u001b[38;5;34m32\u001b[0m, \u001b[38;5;34m128\u001b[0m)    │             \u001b[38;5;34m0\u001b[0m │\n",
       "├─────────────────────────────────┼────────────────────────┼───────────────┤\n",
       "│ conv2d_17 (\u001b[38;5;33mConv2D\u001b[0m)              │ (\u001b[38;5;45mNone\u001b[0m, \u001b[38;5;34m32\u001b[0m, \u001b[38;5;34m32\u001b[0m, \u001b[38;5;34m64\u001b[0m)     │       \u001b[38;5;34m131,136\u001b[0m │\n",
       "├─────────────────────────────────┼────────────────────────┼───────────────┤\n",
       "│ max_pooling2d_17 (\u001b[38;5;33mMaxPooling2D\u001b[0m) │ (\u001b[38;5;45mNone\u001b[0m, \u001b[38;5;34m16\u001b[0m, \u001b[38;5;34m16\u001b[0m, \u001b[38;5;34m64\u001b[0m)     │             \u001b[38;5;34m0\u001b[0m │\n",
       "├─────────────────────────────────┼────────────────────────┼───────────────┤\n",
       "│ conv2d_18 (\u001b[38;5;33mConv2D\u001b[0m)              │ (\u001b[38;5;45mNone\u001b[0m, \u001b[38;5;34m16\u001b[0m, \u001b[38;5;34m16\u001b[0m, \u001b[38;5;34m32\u001b[0m)     │        \u001b[38;5;34m32,800\u001b[0m │\n",
       "├─────────────────────────────────┼────────────────────────┼───────────────┤\n",
       "│ max_pooling2d_18 (\u001b[38;5;33mMaxPooling2D\u001b[0m) │ (\u001b[38;5;45mNone\u001b[0m, \u001b[38;5;34m8\u001b[0m, \u001b[38;5;34m8\u001b[0m, \u001b[38;5;34m32\u001b[0m)       │             \u001b[38;5;34m0\u001b[0m │\n",
       "├─────────────────────────────────┼────────────────────────┼───────────────┤\n",
       "│ conv2d_19 (\u001b[38;5;33mConv2D\u001b[0m)              │ (\u001b[38;5;45mNone\u001b[0m, \u001b[38;5;34m8\u001b[0m, \u001b[38;5;34m8\u001b[0m, \u001b[38;5;34m16\u001b[0m)       │         \u001b[38;5;34m8,208\u001b[0m │\n",
       "├─────────────────────────────────┼────────────────────────┼───────────────┤\n",
       "│ max_pooling2d_19 (\u001b[38;5;33mMaxPooling2D\u001b[0m) │ (\u001b[38;5;45mNone\u001b[0m, \u001b[38;5;34m4\u001b[0m, \u001b[38;5;34m4\u001b[0m, \u001b[38;5;34m16\u001b[0m)       │             \u001b[38;5;34m0\u001b[0m │\n",
       "├─────────────────────────────────┼────────────────────────┼───────────────┤\n",
       "│ flatten_4 (\u001b[38;5;33mFlatten\u001b[0m)             │ (\u001b[38;5;45mNone\u001b[0m, \u001b[38;5;34m256\u001b[0m)            │             \u001b[38;5;34m0\u001b[0m │\n",
       "├─────────────────────────────────┼────────────────────────┼───────────────┤\n",
       "│ dense_8 (\u001b[38;5;33mDense\u001b[0m)                 │ (\u001b[38;5;45mNone\u001b[0m, \u001b[38;5;34m128\u001b[0m)            │        \u001b[38;5;34m32,896\u001b[0m │\n",
       "├─────────────────────────────────┼────────────────────────┼───────────────┤\n",
       "│ dropout_4 (\u001b[38;5;33mDropout\u001b[0m)             │ (\u001b[38;5;45mNone\u001b[0m, \u001b[38;5;34m128\u001b[0m)            │             \u001b[38;5;34m0\u001b[0m │\n",
       "├─────────────────────────────────┼────────────────────────┼───────────────┤\n",
       "│ dense_9 (\u001b[38;5;33mDense\u001b[0m)                 │ (\u001b[38;5;45mNone\u001b[0m, \u001b[38;5;34m32\u001b[0m)             │         \u001b[38;5;34m4,128\u001b[0m │\n",
       "└─────────────────────────────────┴────────────────────────┴───────────────┘\n"
      ]
     },
     "metadata": {},
     "output_type": "display_data"
    },
    {
     "data": {
      "text/html": [
       "<pre style=\"white-space:pre;overflow-x:auto;line-height:normal;font-family:Menlo,'DejaVu Sans Mono',consolas,'Courier New',monospace\"><span style=\"font-weight: bold\"> Total params: </span><span style=\"color: #00af00; text-decoration-color: #00af00\">215,440</span> (841.56 KB)\n",
       "</pre>\n"
      ],
      "text/plain": [
       "\u001b[1m Total params: \u001b[0m\u001b[38;5;34m215,440\u001b[0m (841.56 KB)\n"
      ]
     },
     "metadata": {},
     "output_type": "display_data"
    },
    {
     "data": {
      "text/html": [
       "<pre style=\"white-space:pre;overflow-x:auto;line-height:normal;font-family:Menlo,'DejaVu Sans Mono',consolas,'Courier New',monospace\"><span style=\"font-weight: bold\"> Trainable params: </span><span style=\"color: #00af00; text-decoration-color: #00af00\">215,440</span> (841.56 KB)\n",
       "</pre>\n"
      ],
      "text/plain": [
       "\u001b[1m Trainable params: \u001b[0m\u001b[38;5;34m215,440\u001b[0m (841.56 KB)\n"
      ]
     },
     "metadata": {},
     "output_type": "display_data"
    },
    {
     "data": {
      "text/html": [
       "<pre style=\"white-space:pre;overflow-x:auto;line-height:normal;font-family:Menlo,'DejaVu Sans Mono',consolas,'Courier New',monospace\"><span style=\"font-weight: bold\"> Non-trainable params: </span><span style=\"color: #00af00; text-decoration-color: #00af00\">0</span> (0.00 B)\n",
       "</pre>\n"
      ],
      "text/plain": [
       "\u001b[1m Non-trainable params: \u001b[0m\u001b[38;5;34m0\u001b[0m (0.00 B)\n"
      ]
     },
     "metadata": {},
     "output_type": "display_data"
    }
   ],
   "source": [
    "# Define the color model\n",
    "model_RMS = Sequential()\n",
    "\n",
    "# Add InputLayer with input shape\n",
    "model_RMS.add(InputLayer(shape=X_color.shape[1:]))\n",
    "\n",
    "# 1st Convolutional Layer\n",
    "model_RMS.add(Conv2D(128, (4, 4), padding='same', activation='relu'))\n",
    "\n",
    "# Max Pooling Layer\n",
    "model_RMS.add(MaxPool2D(pool_size=(2, 2)))\n",
    "\n",
    "# 2nd Convolutional Layer\n",
    "model_RMS.add(Conv2D(64, (4, 4), padding='same', activation='relu'))\n",
    "\n",
    "# Max Pooling Layer\n",
    "model_RMS.add(MaxPool2D(pool_size=(2, 2)))\n",
    "\n",
    "# 3rd Convolutional Layer\n",
    "model_RMS.add(Conv2D(32, (4, 4), padding='same', activation='relu'))\n",
    "\n",
    "# Max Pooling Layer\n",
    "model_RMS.add(MaxPool2D(pool_size=(2, 2)))\n",
    "\n",
    "# 4th Convolutional Layer\n",
    "model_RMS.add(Conv2D(16, (4, 4), padding='same', activation='relu'))\n",
    "\n",
    "# Max Pooling Layer\n",
    "model_RMS.add(MaxPool2D(pool_size=(2, 2)))\n",
    "\n",
    "# Flatten layer\n",
    "model_RMS.add(Flatten())\n",
    "\n",
    "# Fully Connected Dense Layer\n",
    "model_RMS.add(Dense(128, activation='relu'))\n",
    "\n",
    "# Dropout Layer\n",
    "model_RMS.add(Dropout(0.5))\n",
    "\n",
    "# Output Layer\n",
    "model_RMS.add(Dense(32, activation='softmax'))\n",
    "\n",
    "# Compile the model\n",
    "# tf.keras.optimizers.SGD(learning_rate=0.01, momentum=0.9)\n",
    "model_RMS.compile(optimizer= 'rmsprop',\n",
    "              loss='sparse_categorical_crossentropy',\n",
    "              metrics=['accuracy'])\n",
    "\n",
    "# Print the model summary\n",
    "model_RMS.summary()"
   ]
  },
  {
   "cell_type": "code",
   "execution_count": 30,
   "id": "b946059c",
   "metadata": {
    "scrolled": true
   },
   "outputs": [
    {
     "name": "stdout",
     "output_type": "stream",
     "text": [
      "Epoch 1/30\n",
      "\u001b[1m82/82\u001b[0m \u001b[32m━━━━━━━━━━━━━━━━━━━━\u001b[0m\u001b[37m\u001b[0m \u001b[1m9s\u001b[0m 96ms/step - accuracy: 0.0888 - loss: 3.3555 - val_accuracy: 0.3138 - val_loss: 2.4216\n",
      "Epoch 2/30\n",
      "\u001b[1m82/82\u001b[0m \u001b[32m━━━━━━━━━━━━━━━━━━━━\u001b[0m\u001b[37m\u001b[0m \u001b[1m8s\u001b[0m 92ms/step - accuracy: 0.3552 - loss: 2.2986 - val_accuracy: 0.6138 - val_loss: 1.1051\n",
      "Epoch 3/30\n",
      "\u001b[1m82/82\u001b[0m \u001b[32m━━━━━━━━━━━━━━━━━━━━\u001b[0m\u001b[37m\u001b[0m \u001b[1m7s\u001b[0m 89ms/step - accuracy: 0.5861 - loss: 1.3841 - val_accuracy: 0.7414 - val_loss: 0.7121\n",
      "Epoch 4/30\n",
      "\u001b[1m82/82\u001b[0m \u001b[32m━━━━━━━━━━━━━━━━━━━━\u001b[0m\u001b[37m\u001b[0m \u001b[1m8s\u001b[0m 97ms/step - accuracy: 0.7193 - loss: 0.9081 - val_accuracy: 0.8552 - val_loss: 0.3911\n",
      "Epoch 5/30\n",
      "\u001b[1m82/82\u001b[0m \u001b[32m━━━━━━━━━━━━━━━━━━━━\u001b[0m\u001b[37m\u001b[0m \u001b[1m8s\u001b[0m 96ms/step - accuracy: 0.8237 - loss: 0.5792 - val_accuracy: 0.9276 - val_loss: 0.2397\n",
      "Epoch 6/30\n",
      "\u001b[1m82/82\u001b[0m \u001b[32m━━━━━━━━━━━━━━━━━━━━\u001b[0m\u001b[37m\u001b[0m \u001b[1m7s\u001b[0m 88ms/step - accuracy: 0.8759 - loss: 0.4069 - val_accuracy: 0.9552 - val_loss: 0.1493\n",
      "Epoch 7/30\n",
      "\u001b[1m82/82\u001b[0m \u001b[32m━━━━━━━━━━━━━━━━━━━━\u001b[0m\u001b[37m\u001b[0m \u001b[1m7s\u001b[0m 89ms/step - accuracy: 0.9126 - loss: 0.2769 - val_accuracy: 0.9379 - val_loss: 0.1523\n",
      "Epoch 8/30\n",
      "\u001b[1m82/82\u001b[0m \u001b[32m━━━━━━━━━━━━━━━━━━━━\u001b[0m\u001b[37m\u001b[0m \u001b[1m7s\u001b[0m 86ms/step - accuracy: 0.9337 - loss: 0.2165 - val_accuracy: 0.9621 - val_loss: 0.1115\n",
      "Epoch 9/30\n",
      "\u001b[1m82/82\u001b[0m \u001b[32m━━━━━━━━━━━━━━━━━━━━\u001b[0m\u001b[37m\u001b[0m \u001b[1m8s\u001b[0m 92ms/step - accuracy: 0.9477 - loss: 0.1785 - val_accuracy: 0.9759 - val_loss: 0.0744\n",
      "Epoch 10/30\n",
      "\u001b[1m82/82\u001b[0m \u001b[32m━━━━━━━━━━━━━━━━━━━━\u001b[0m\u001b[37m\u001b[0m \u001b[1m7s\u001b[0m 88ms/step - accuracy: 0.9590 - loss: 0.1350 - val_accuracy: 0.9552 - val_loss: 0.1036\n",
      "Epoch 11/30\n",
      "\u001b[1m82/82\u001b[0m \u001b[32m━━━━━━━━━━━━━━━━━━━━\u001b[0m\u001b[37m\u001b[0m \u001b[1m7s\u001b[0m 90ms/step - accuracy: 0.9633 - loss: 0.1144 - val_accuracy: 0.9759 - val_loss: 0.0700\n",
      "Epoch 12/30\n",
      "\u001b[1m82/82\u001b[0m \u001b[32m━━━━━━━━━━━━━━━━━━━━\u001b[0m\u001b[37m\u001b[0m \u001b[1m8s\u001b[0m 96ms/step - accuracy: 0.9661 - loss: 0.1263 - val_accuracy: 0.9759 - val_loss: 0.0758\n",
      "Epoch 13/30\n",
      "\u001b[1m82/82\u001b[0m \u001b[32m━━━━━━━━━━━━━━━━━━━━\u001b[0m\u001b[37m\u001b[0m \u001b[1m8s\u001b[0m 95ms/step - accuracy: 0.9703 - loss: 0.0905 - val_accuracy: 0.9793 - val_loss: 0.0716\n",
      "Epoch 14/30\n",
      "\u001b[1m82/82\u001b[0m \u001b[32m━━━━━━━━━━━━━━━━━━━━\u001b[0m\u001b[37m\u001b[0m \u001b[1m8s\u001b[0m 97ms/step - accuracy: 0.9747 - loss: 0.0824 - val_accuracy: 0.9862 - val_loss: 0.0719\n",
      "Epoch 15/30\n",
      "\u001b[1m82/82\u001b[0m \u001b[32m━━━━━━━━━━━━━━━━━━━━\u001b[0m\u001b[37m\u001b[0m \u001b[1m8s\u001b[0m 96ms/step - accuracy: 0.9718 - loss: 0.0902 - val_accuracy: 0.9724 - val_loss: 0.1215\n",
      "Epoch 16/30\n",
      "\u001b[1m82/82\u001b[0m \u001b[32m━━━━━━━━━━━━━━━━━━━━\u001b[0m\u001b[37m\u001b[0m \u001b[1m8s\u001b[0m 96ms/step - accuracy: 0.9709 - loss: 0.1073 - val_accuracy: 0.9828 - val_loss: 0.0812\n",
      "Epoch 17/30\n",
      "\u001b[1m82/82\u001b[0m \u001b[32m━━━━━━━━━━━━━━━━━━━━\u001b[0m\u001b[37m\u001b[0m \u001b[1m8s\u001b[0m 100ms/step - accuracy: 0.9804 - loss: 0.0545 - val_accuracy: 0.9759 - val_loss: 0.1062\n",
      "Epoch 18/30\n",
      "\u001b[1m82/82\u001b[0m \u001b[32m━━━━━━━━━━━━━━━━━━━━\u001b[0m\u001b[37m\u001b[0m \u001b[1m8s\u001b[0m 99ms/step - accuracy: 0.9833 - loss: 0.0604 - val_accuracy: 0.9828 - val_loss: 0.1019\n",
      "Epoch 19/30\n",
      "\u001b[1m82/82\u001b[0m \u001b[32m━━━━━━━━━━━━━━━━━━━━\u001b[0m\u001b[37m\u001b[0m \u001b[1m8s\u001b[0m 101ms/step - accuracy: 0.9935 - loss: 0.0282 - val_accuracy: 0.9690 - val_loss: 0.1143\n",
      "Epoch 20/30\n",
      "\u001b[1m82/82\u001b[0m \u001b[32m━━━━━━━━━━━━━━━━━━━━\u001b[0m\u001b[37m\u001b[0m \u001b[1m8s\u001b[0m 102ms/step - accuracy: 0.9889 - loss: 0.0425 - val_accuracy: 0.9759 - val_loss: 0.1052\n",
      "Epoch 21/30\n",
      "\u001b[1m82/82\u001b[0m \u001b[32m━━━━━━━━━━━━━━━━━━━━\u001b[0m\u001b[37m\u001b[0m \u001b[1m8s\u001b[0m 99ms/step - accuracy: 0.9909 - loss: 0.0296 - val_accuracy: 0.9586 - val_loss: 0.1649\n",
      "Epoch 22/30\n",
      "\u001b[1m82/82\u001b[0m \u001b[32m━━━━━━━━━━━━━━━━━━━━\u001b[0m\u001b[37m\u001b[0m \u001b[1m8s\u001b[0m 100ms/step - accuracy: 0.9845 - loss: 0.0515 - val_accuracy: 0.9793 - val_loss: 0.0925\n",
      "Epoch 23/30\n",
      "\u001b[1m82/82\u001b[0m \u001b[32m━━━━━━━━━━━━━━━━━━━━\u001b[0m\u001b[37m\u001b[0m \u001b[1m7s\u001b[0m 90ms/step - accuracy: 0.9920 - loss: 0.0337 - val_accuracy: 0.9759 - val_loss: 0.1007\n",
      "Epoch 24/30\n",
      "\u001b[1m82/82\u001b[0m \u001b[32m━━━━━━━━━━━━━━━━━━━━\u001b[0m\u001b[37m\u001b[0m \u001b[1m7s\u001b[0m 87ms/step - accuracy: 0.9931 - loss: 0.0213 - val_accuracy: 0.9793 - val_loss: 0.0810\n",
      "Epoch 25/30\n",
      "\u001b[1m82/82\u001b[0m \u001b[32m━━━━━━━━━━━━━━━━━━━━\u001b[0m\u001b[37m\u001b[0m \u001b[1m8s\u001b[0m 92ms/step - accuracy: 0.9870 - loss: 0.0371 - val_accuracy: 0.9759 - val_loss: 0.1287\n",
      "Epoch 26/30\n",
      "\u001b[1m82/82\u001b[0m \u001b[32m━━━━━━━━━━━━━━━━━━━━\u001b[0m\u001b[37m\u001b[0m \u001b[1m8s\u001b[0m 95ms/step - accuracy: 0.9922 - loss: 0.0212 - val_accuracy: 0.9759 - val_loss: 0.1437\n",
      "Epoch 27/30\n",
      "\u001b[1m82/82\u001b[0m \u001b[32m━━━━━━━━━━━━━━━━━━━━\u001b[0m\u001b[37m\u001b[0m \u001b[1m7s\u001b[0m 91ms/step - accuracy: 0.9930 - loss: 0.0286 - val_accuracy: 0.9828 - val_loss: 0.1004\n",
      "Epoch 28/30\n",
      "\u001b[1m82/82\u001b[0m \u001b[32m━━━━━━━━━━━━━━━━━━━━\u001b[0m\u001b[37m\u001b[0m \u001b[1m7s\u001b[0m 89ms/step - accuracy: 0.9912 - loss: 0.0337 - val_accuracy: 0.9759 - val_loss: 0.1530\n",
      "Epoch 29/30\n",
      "\u001b[1m82/82\u001b[0m \u001b[32m━━━━━━━━━━━━━━━━━━━━\u001b[0m\u001b[37m\u001b[0m \u001b[1m8s\u001b[0m 96ms/step - accuracy: 0.9923 - loss: 0.0395 - val_accuracy: 0.9759 - val_loss: 0.1252\n",
      "Epoch 30/30\n",
      "\u001b[1m82/82\u001b[0m \u001b[32m━━━━━━━━━━━━━━━━━━━━\u001b[0m\u001b[37m\u001b[0m \u001b[1m8s\u001b[0m 97ms/step - accuracy: 0.9918 - loss: 0.0219 - val_accuracy: 0.9828 - val_loss: 0.0978\n"
     ]
    }
   ],
   "source": [
    "# Train the model\n",
    "history = model_RMS.fit(X_color, y_color, epochs=30, validation_split=0.10,batch_size=32) "
   ]
  },
  {
   "cell_type": "code",
   "execution_count": 31,
   "id": "acf06400",
   "metadata": {
    "scrolled": true
   },
   "outputs": [
    {
     "data": {
      "image/png": "[encoded data removed]",
      "text/plain": [
       "<Figure size 640x480 with 1 Axes>"
      ]
     },
     "metadata": {},
     "output_type": "display_data"
    },
    {
     "data": {
      "image/png": "[encoded data removed]",
      "text/plain": [
       "<Figure size 640x480 with 1 Axes>"
      ]
     },
     "metadata": {},
     "output_type": "display_data"
    }
   ],
   "source": [
    "# Plot training & validation loss values\n",
    "plt.plot(history.history['loss'])\n",
    "plt.plot(history.history['val_loss'])\n",
    "plt.title('Model Loss')\n",
    "plt.ylabel('Loss')\n",
    "plt.xlabel('Epoch')\n",
    "plt.legend(['Train', 'Validation'], loc='upper left')\n",
    "plt.show()\n",
    "\n",
    "# Plot training & validation accuracy values\n",
    "plt.plot(history.history['accuracy'])\n",
    "plt.plot(history.history['val_accuracy'])\n",
    "plt.title('Model Accuracy')\n",
    "plt.ylabel('Accuracy')\n",
    "plt.xlabel('Epoch')\n",
    "plt.legend(['Train', 'Validation'], loc='upper left')\n",
    "plt.show()"
   ]
  },
  {
   "cell_type": "code",
   "execution_count": 32,
   "id": "24dff6a4",
   "metadata": {},
   "outputs": [
    {
     "name": "stdout",
     "output_type": "stream",
     "text": [
      "\u001b[1m11/11\u001b[0m \u001b[32m━━━━━━━━━━━━━━━━━━━━\u001b[0m\u001b[37m\u001b[0m \u001b[1m0s\u001b[0m 31ms/step - accuracy: 0.7885 - loss: 1.6731\n",
      "Test Loss: 1.5479950904846191\n",
      "Test Accuracy: 0.7869318127632141\n"
     ]
    }
   ],
   "source": [
    "# Evaluate the model on the test dataset\n",
    "loss, accuracy = model_RMS.evaluate(X_test_color, y_test_color)\n",
    "\n",
    "# Print the test loss and accuracy\n",
    "print(\"Test Loss:\", loss)\n",
    "print(\"Test Accuracy:\", accuracy)"
   ]
  },
  {
   "cell_type": "markdown",
   "id": "f317cb4e",
   "metadata": {},
   "source": [
    "### Transfer Learning using Adam Optimizer"
   ]
  },
  {
   "cell_type": "code",
   "execution_count": 33,
   "id": "285b94c5",
   "metadata": {},
   "outputs": [
    {
     "name": "stderr",
     "output_type": "stream",
     "text": [
      "C:\\Users\\hein_\\anaconda3\\lib\\site-packages\\keras\\src\\layers\\core\\input_layer.py:25: UserWarning: Argument `input_shape` is deprecated. Use `shape` instead.\n",
      "  warnings.warn(\n"
     ]
    },
    {
     "data": {
      "text/html": [
       "<pre style=\"white-space:pre;overflow-x:auto;line-height:normal;font-family:Menlo,'DejaVu Sans Mono',consolas,'Courier New',monospace\"><span style=\"font-weight: bold\">Model: \"sequential_5\"</span>\n",
       "</pre>\n"
      ],
      "text/plain": [
       "\u001b[1mModel: \"sequential_5\"\u001b[0m\n"
      ]
     },
     "metadata": {},
     "output_type": "display_data"
    },
    {
     "data": {
      "text/html": [
       "<pre style=\"white-space:pre;overflow-x:auto;line-height:normal;font-family:Menlo,'DejaVu Sans Mono',consolas,'Courier New',monospace\">┏━━━━━━━━━━━━━━━━━━━━━━━━━━━━━━━━━┳━━━━━━━━━━━━━━━━━━━━━━━━┳━━━━━━━━━━━━━━━┓\n",
       "┃<span style=\"font-weight: bold\"> Layer (type)                    </span>┃<span style=\"font-weight: bold\"> Output Shape           </span>┃<span style=\"font-weight: bold\">       Param # </span>┃\n",
       "┡━━━━━━━━━━━━━━━━━━━━━━━━━━━━━━━━━╇━━━━━━━━━━━━━━━━━━━━━━━━╇━━━━━━━━━━━━━━━┩\n",
       "│ vgg16 (<span style=\"color: #0087ff; text-decoration-color: #0087ff\">Functional</span>)              │ (<span style=\"color: #00d7ff; text-decoration-color: #00d7ff\">None</span>, <span style=\"color: #00af00; text-decoration-color: #00af00\">2</span>, <span style=\"color: #00af00; text-decoration-color: #00af00\">2</span>, <span style=\"color: #00af00; text-decoration-color: #00af00\">512</span>)      │    <span style=\"color: #00af00; text-decoration-color: #00af00\">14,714,688</span> │\n",
       "├─────────────────────────────────┼────────────────────────┼───────────────┤\n",
       "│ flatten_5 (<span style=\"color: #0087ff; text-decoration-color: #0087ff\">Flatten</span>)             │ (<span style=\"color: #00d7ff; text-decoration-color: #00d7ff\">None</span>, <span style=\"color: #00af00; text-decoration-color: #00af00\">2048</span>)           │             <span style=\"color: #00af00; text-decoration-color: #00af00\">0</span> │\n",
       "├─────────────────────────────────┼────────────────────────┼───────────────┤\n",
       "│ dense_11 (<span style=\"color: #0087ff; text-decoration-color: #0087ff\">Dense</span>)                │ (<span style=\"color: #00d7ff; text-decoration-color: #00d7ff\">None</span>, <span style=\"color: #00af00; text-decoration-color: #00af00\">128</span>)            │       <span style=\"color: #00af00; text-decoration-color: #00af00\">262,272</span> │\n",
       "├─────────────────────────────────┼────────────────────────┼───────────────┤\n",
       "│ dropout_5 (<span style=\"color: #0087ff; text-decoration-color: #0087ff\">Dropout</span>)             │ (<span style=\"color: #00d7ff; text-decoration-color: #00d7ff\">None</span>, <span style=\"color: #00af00; text-decoration-color: #00af00\">128</span>)            │             <span style=\"color: #00af00; text-decoration-color: #00af00\">0</span> │\n",
       "├─────────────────────────────────┼────────────────────────┼───────────────┤\n",
       "│ dense_10 (<span style=\"color: #0087ff; text-decoration-color: #0087ff\">Dense</span>)                │ (<span style=\"color: #00d7ff; text-decoration-color: #00d7ff\">None</span>, <span style=\"color: #00af00; text-decoration-color: #00af00\">32</span>)             │         <span style=\"color: #00af00; text-decoration-color: #00af00\">4,128</span> │\n",
       "└─────────────────────────────────┴────────────────────────┴───────────────┘\n",
       "</pre>\n"
      ],
      "text/plain": [
       "┏━━━━━━━━━━━━━━━━━━━━━━━━━━━━━━━━━┳━━━━━━━━━━━━━━━━━━━━━━━━┳━━━━━━━━━━━━━━━┓\n",
       "┃\u001b[1m \u001b[0m\u001b[1mLayer (type)                   \u001b[0m\u001b[1m \u001b[0m┃\u001b[1m \u001b[0m\u001b[1mOutput Shape          \u001b[0m\u001b[1m \u001b[0m┃\u001b[1m \u001b[0m\u001b[1m      Param #\u001b[0m\u001b[1m \u001b[0m┃\n",
       "┡━━━━━━━━━━━━━━━━━━━━━━━━━━━━━━━━━╇━━━━━━━━━━━━━━━━━━━━━━━━╇━━━━━━━━━━━━━━━┩\n",
       "│ vgg16 (\u001b[38;5;33mFunctional\u001b[0m)              │ (\u001b[38;5;45mNone\u001b[0m, \u001b[38;5;34m2\u001b[0m, \u001b[38;5;34m2\u001b[0m, \u001b[38;5;34m512\u001b[0m)      │    \u001b[38;5;34m14,714,688\u001b[0m │\n",
       "├─────────────────────────────────┼────────────────────────┼───────────────┤\n",
       "│ flatten_5 (\u001b[38;5;33mFlatten\u001b[0m)             │ (\u001b[38;5;45mNone\u001b[0m, \u001b[38;5;34m2048\u001b[0m)           │             \u001b[38;5;34m0\u001b[0m │\n",
       "├─────────────────────────────────┼────────────────────────┼───────────────┤\n",
       "│ dense_11 (\u001b[38;5;33mDense\u001b[0m)                │ (\u001b[38;5;45mNone\u001b[0m, \u001b[38;5;34m128\u001b[0m)            │       \u001b[38;5;34m262,272\u001b[0m │\n",
       "├─────────────────────────────────┼────────────────────────┼───────────────┤\n",
       "│ dropout_5 (\u001b[38;5;33mDropout\u001b[0m)             │ (\u001b[38;5;45mNone\u001b[0m, \u001b[38;5;34m128\u001b[0m)            │             \u001b[38;5;34m0\u001b[0m │\n",
       "├─────────────────────────────────┼────────────────────────┼───────────────┤\n",
       "│ dense_10 (\u001b[38;5;33mDense\u001b[0m)                │ (\u001b[38;5;45mNone\u001b[0m, \u001b[38;5;34m32\u001b[0m)             │         \u001b[38;5;34m4,128\u001b[0m │\n",
       "└─────────────────────────────────┴────────────────────────┴───────────────┘\n"
      ]
     },
     "metadata": {},
     "output_type": "display_data"
    },
    {
     "data": {
      "text/html": [
       "<pre style=\"white-space:pre;overflow-x:auto;line-height:normal;font-family:Menlo,'DejaVu Sans Mono',consolas,'Courier New',monospace\"><span style=\"font-weight: bold\"> Total params: </span><span style=\"color: #00af00; text-decoration-color: #00af00\">14,981,088</span> (57.15 MB)\n",
       "</pre>\n"
      ],
      "text/plain": [
       "\u001b[1m Total params: \u001b[0m\u001b[38;5;34m14,981,088\u001b[0m (57.15 MB)\n"
      ]
     },
     "metadata": {},
     "output_type": "display_data"
    },
    {
     "data": {
      "text/html": [
       "<pre style=\"white-space:pre;overflow-x:auto;line-height:normal;font-family:Menlo,'DejaVu Sans Mono',consolas,'Courier New',monospace\"><span style=\"font-weight: bold\"> Trainable params: </span><span style=\"color: #00af00; text-decoration-color: #00af00\">266,400</span> (1.02 MB)\n",
       "</pre>\n"
      ],
      "text/plain": [
       "\u001b[1m Trainable params: \u001b[0m\u001b[38;5;34m266,400\u001b[0m (1.02 MB)\n"
      ]
     },
     "metadata": {},
     "output_type": "display_data"
    },
    {
     "data": {
      "text/html": [
       "<pre style=\"white-space:pre;overflow-x:auto;line-height:normal;font-family:Menlo,'DejaVu Sans Mono',consolas,'Courier New',monospace\"><span style=\"font-weight: bold\"> Non-trainable params: </span><span style=\"color: #00af00; text-decoration-color: #00af00\">14,714,688</span> (56.13 MB)\n",
       "</pre>\n"
      ],
      "text/plain": [
       "\u001b[1m Non-trainable params: \u001b[0m\u001b[38;5;34m14,714,688\u001b[0m (56.13 MB)\n"
      ]
     },
     "metadata": {},
     "output_type": "display_data"
    }
   ],
   "source": [
    "# Add an InputLayer to explicitly define the input shape\n",
    "input_layer = InputLayer(input_shape=X_color.shape[1:])\n",
    "\n",
    "# Load pre-trained MobileNetV2 model without top (fully connected) layers\n",
    "base_model = VGG16(input_shape=X_color.shape[1:], include_top=False, weights='imagenet')\n",
    "\n",
    "# Set base model layers as non-trainable\n",
    "for layer in base_model.layers:\n",
    "    layer.trainable = False\n",
    "\n",
    "# Define output layer with 32 units for 32 labels\n",
    "output_layer = Dense(32, activation='softmax')\n",
    "\n",
    "# Add output layer on top of MobileNetV2\n",
    "model_transfer = tf.keras.Sequential([\n",
    "    input_layer,  # InputLayer\n",
    "    base_model, # Include MobileNetV2 as base model\n",
    "    Flatten(),\n",
    "    Dense(128, activation='relu'),\n",
    "    Dropout(0.5),\n",
    "    output_layer  # Add output layer directly\n",
    "])\n",
    "\n",
    "# Compile the model\n",
    "model_transfer.compile(optimizer='adam', loss='sparse_categorical_crossentropy', metrics=['accuracy'])\n",
    "\n",
    "# Print the model summary\n",
    "model_transfer.summary()"
   ]
  },
  {
   "cell_type": "code",
   "execution_count": 34,
   "id": "9e44bc52",
   "metadata": {
    "scrolled": true
   },
   "outputs": [
    {
     "name": "stdout",
     "output_type": "stream",
     "text": [
      "Epoch 1/30\n",
      "\u001b[1m82/82\u001b[0m \u001b[32m━━━━━━━━━━━━━━━━━━━━\u001b[0m\u001b[37m\u001b[0m \u001b[1m15s\u001b[0m 168ms/step - accuracy: 0.3718 - loss: 2.4955 - val_accuracy: 0.8793 - val_loss: 0.5493\n",
      "Epoch 2/30\n",
      "\u001b[1m82/82\u001b[0m \u001b[32m━━━━━━━━━━━━━━━━━━━━\u001b[0m\u001b[37m\u001b[0m \u001b[1m14s\u001b[0m 169ms/step - accuracy: 0.8163 - loss: 0.7491 - val_accuracy: 0.8862 - val_loss: 0.3279\n",
      "Epoch 3/30\n",
      "\u001b[1m82/82\u001b[0m \u001b[32m━━━━━━━━━━━━━━━━━━━━\u001b[0m\u001b[37m\u001b[0m \u001b[1m14s\u001b[0m 166ms/step - accuracy: 0.8654 - loss: 0.4984 - val_accuracy: 0.9483 - val_loss: 0.1896\n",
      "Epoch 4/30\n",
      "\u001b[1m82/82\u001b[0m \u001b[32m━━━━━━━━━━━━━━━━━━━━\u001b[0m\u001b[37m\u001b[0m \u001b[1m14s\u001b[0m 165ms/step - accuracy: 0.9131 - loss: 0.3281 - val_accuracy: 0.9207 - val_loss: 0.1780\n",
      "Epoch 5/30\n",
      "\u001b[1m82/82\u001b[0m \u001b[32m━━━━━━━━━━━━━━━━━━━━\u001b[0m\u001b[37m\u001b[0m \u001b[1m13s\u001b[0m 161ms/step - accuracy: 0.9094 - loss: 0.2812 - val_accuracy: 0.9621 - val_loss: 0.1260\n",
      "Epoch 6/30\n",
      "\u001b[1m82/82\u001b[0m \u001b[32m━━━━━━━━━━━━━━━━━━━━\u001b[0m\u001b[37m\u001b[0m \u001b[1m13s\u001b[0m 159ms/step - accuracy: 0.9246 - loss: 0.2483 - val_accuracy: 0.9483 - val_loss: 0.1178\n",
      "Epoch 7/30\n",
      "\u001b[1m82/82\u001b[0m \u001b[32m━━━━━━━━━━━━━━━━━━━━\u001b[0m\u001b[37m\u001b[0m \u001b[1m13s\u001b[0m 158ms/step - accuracy: 0.9418 - loss: 0.1992 - val_accuracy: 0.9828 - val_loss: 0.0961\n",
      "Epoch 8/30\n",
      "\u001b[1m82/82\u001b[0m \u001b[32m━━━━━━━━━━━━━━━━━━━━\u001b[0m\u001b[37m\u001b[0m \u001b[1m13s\u001b[0m 162ms/step - accuracy: 0.9545 - loss: 0.1680 - val_accuracy: 0.9759 - val_loss: 0.0918\n",
      "Epoch 9/30\n",
      "\u001b[1m82/82\u001b[0m \u001b[32m━━━━━━━━━━━━━━━━━━━━\u001b[0m\u001b[37m\u001b[0m \u001b[1m14s\u001b[0m 173ms/step - accuracy: 0.9526 - loss: 0.1549 - val_accuracy: 0.9828 - val_loss: 0.0694\n",
      "Epoch 10/30\n",
      "\u001b[1m82/82\u001b[0m \u001b[32m━━━━━━━━━━━━━━━━━━━━\u001b[0m\u001b[37m\u001b[0m \u001b[1m15s\u001b[0m 183ms/step - accuracy: 0.9548 - loss: 0.1402 - val_accuracy: 0.9862 - val_loss: 0.0663\n",
      "Epoch 11/30\n",
      "\u001b[1m82/82\u001b[0m \u001b[32m━━━━━━━━━━━━━━━━━━━━\u001b[0m\u001b[37m\u001b[0m \u001b[1m14s\u001b[0m 171ms/step - accuracy: 0.9768 - loss: 0.1030 - val_accuracy: 0.9828 - val_loss: 0.0757\n",
      "Epoch 12/30\n",
      "\u001b[1m82/82\u001b[0m \u001b[32m━━━━━━━━━━━━━━━━━━━━\u001b[0m\u001b[37m\u001b[0m \u001b[1m13s\u001b[0m 164ms/step - accuracy: 0.9692 - loss: 0.1268 - val_accuracy: 0.9862 - val_loss: 0.0583\n",
      "Epoch 13/30\n",
      "\u001b[1m82/82\u001b[0m \u001b[32m━━━━━━━━━━━━━━━━━━━━\u001b[0m\u001b[37m\u001b[0m \u001b[1m13s\u001b[0m 161ms/step - accuracy: 0.9724 - loss: 0.0992 - val_accuracy: 0.9759 - val_loss: 0.0627\n",
      "Epoch 14/30\n",
      "\u001b[1m82/82\u001b[0m \u001b[32m━━━━━━━━━━━━━━━━━━━━\u001b[0m\u001b[37m\u001b[0m \u001b[1m13s\u001b[0m 161ms/step - accuracy: 0.9806 - loss: 0.0822 - val_accuracy: 0.9793 - val_loss: 0.0562\n",
      "Epoch 15/30\n",
      "\u001b[1m82/82\u001b[0m \u001b[32m━━━━━━━━━━━━━━━━━━━━\u001b[0m\u001b[37m\u001b[0m \u001b[1m13s\u001b[0m 164ms/step - accuracy: 0.9770 - loss: 0.0833 - val_accuracy: 0.9828 - val_loss: 0.0490\n",
      "Epoch 16/30\n",
      "\u001b[1m82/82\u001b[0m \u001b[32m━━━━━━━━━━━━━━━━━━━━\u001b[0m\u001b[37m\u001b[0m \u001b[1m14s\u001b[0m 168ms/step - accuracy: 0.9810 - loss: 0.0749 - val_accuracy: 0.9759 - val_loss: 0.0610\n",
      "Epoch 17/30\n",
      "\u001b[1m82/82\u001b[0m \u001b[32m━━━━━━━━━━━━━━━━━━━━\u001b[0m\u001b[37m\u001b[0m \u001b[1m14s\u001b[0m 173ms/step - accuracy: 0.9813 - loss: 0.0664 - val_accuracy: 0.9759 - val_loss: 0.0532\n",
      "Epoch 18/30\n",
      "\u001b[1m82/82\u001b[0m \u001b[32m━━━━━━━━━━━━━━━━━━━━\u001b[0m\u001b[37m\u001b[0m \u001b[1m14s\u001b[0m 176ms/step - accuracy: 0.9852 - loss: 0.0595 - val_accuracy: 0.9828 - val_loss: 0.0489\n",
      "Epoch 19/30\n",
      "\u001b[1m82/82\u001b[0m \u001b[32m━━━━━━━━━━━━━━━━━━━━\u001b[0m\u001b[37m\u001b[0m \u001b[1m14s\u001b[0m 175ms/step - accuracy: 0.9843 - loss: 0.0602 - val_accuracy: 0.9759 - val_loss: 0.0535\n",
      "Epoch 20/30\n",
      "\u001b[1m82/82\u001b[0m \u001b[32m━━━━━━━━━━━━━━━━━━━━\u001b[0m\u001b[37m\u001b[0m \u001b[1m13s\u001b[0m 154ms/step - accuracy: 0.9858 - loss: 0.0577 - val_accuracy: 0.9724 - val_loss: 0.0546\n",
      "Epoch 21/30\n",
      "\u001b[1m82/82\u001b[0m \u001b[32m━━━━━━━━━━━━━━━━━━━━\u001b[0m\u001b[37m\u001b[0m \u001b[1m13s\u001b[0m 160ms/step - accuracy: 0.9893 - loss: 0.0528 - val_accuracy: 0.9724 - val_loss: 0.0511\n",
      "Epoch 22/30\n",
      "\u001b[1m82/82\u001b[0m \u001b[32m━━━━━━━━━━━━━━━━━━━━\u001b[0m\u001b[37m\u001b[0m \u001b[1m14s\u001b[0m 165ms/step - accuracy: 0.9876 - loss: 0.0552 - val_accuracy: 0.9897 - val_loss: 0.0330\n",
      "Epoch 23/30\n",
      "\u001b[1m82/82\u001b[0m \u001b[32m━━━━━━━━━━━━━━━━━━━━\u001b[0m\u001b[37m\u001b[0m \u001b[1m14s\u001b[0m 171ms/step - accuracy: 0.9930 - loss: 0.0354 - val_accuracy: 0.9793 - val_loss: 0.0409\n",
      "Epoch 24/30\n",
      "\u001b[1m82/82\u001b[0m \u001b[32m━━━━━━━━━━━━━━━━━━━━\u001b[0m\u001b[37m\u001b[0m \u001b[1m14s\u001b[0m 170ms/step - accuracy: 0.9930 - loss: 0.0373 - val_accuracy: 0.9897 - val_loss: 0.0313\n",
      "Epoch 25/30\n",
      "\u001b[1m82/82\u001b[0m \u001b[32m━━━━━━━━━━━━━━━━━━━━\u001b[0m\u001b[37m\u001b[0m \u001b[1m13s\u001b[0m 163ms/step - accuracy: 0.9903 - loss: 0.0391 - val_accuracy: 0.9862 - val_loss: 0.0360\n",
      "Epoch 26/30\n",
      "\u001b[1m82/82\u001b[0m \u001b[32m━━━━━━━━━━━━━━━━━━━━\u001b[0m\u001b[37m\u001b[0m \u001b[1m13s\u001b[0m 159ms/step - accuracy: 0.9916 - loss: 0.0347 - val_accuracy: 0.9897 - val_loss: 0.0381\n",
      "Epoch 27/30\n",
      "\u001b[1m82/82\u001b[0m \u001b[32m━━━━━━━━━━━━━━━━━━━━\u001b[0m\u001b[37m\u001b[0m \u001b[1m14s\u001b[0m 167ms/step - accuracy: 0.9860 - loss: 0.0429 - val_accuracy: 0.9828 - val_loss: 0.0393\n",
      "Epoch 28/30\n",
      "\u001b[1m82/82\u001b[0m \u001b[32m━━━━━━━━━━━━━━━━━━━━\u001b[0m\u001b[37m\u001b[0m \u001b[1m13s\u001b[0m 160ms/step - accuracy: 0.9872 - loss: 0.0370 - val_accuracy: 0.9862 - val_loss: 0.0398\n",
      "Epoch 29/30\n",
      "\u001b[1m82/82\u001b[0m \u001b[32m━━━━━━━━━━━━━━━━━━━━\u001b[0m\u001b[37m\u001b[0m \u001b[1m13s\u001b[0m 163ms/step - accuracy: 0.9935 - loss: 0.0310 - val_accuracy: 0.9862 - val_loss: 0.0299\n",
      "Epoch 30/30\n",
      "\u001b[1m82/82\u001b[0m \u001b[32m━━━━━━━━━━━━━━━━━━━━\u001b[0m\u001b[37m\u001b[0m \u001b[1m15s\u001b[0m 184ms/step - accuracy: 0.9951 - loss: 0.0289 - val_accuracy: 0.9793 - val_loss: 0.0498\n"
     ]
    }
   ],
   "source": [
    "# Train the model\n",
    "history = model_transfer.fit(X_color, y_color, epochs=30, validation_split=0.10,batch_size=32) "
   ]
  },
  {
   "cell_type": "code",
   "execution_count": 35,
   "id": "675701ad",
   "metadata": {},
   "outputs": [
    {
     "data": {
      "image/png": "[encoded data removed]",
      "text/plain": [
       "<Figure size 640x480 with 1 Axes>"
      ]
     },
     "metadata": {},
     "output_type": "display_data"
    },
    {
     "data": {
      "image/png": "[encoded data removed]",
      "text/plain": [
       "<Figure size 640x480 with 1 Axes>"
      ]
     },
     "metadata": {},
     "output_type": "display_data"
    }
   ],
   "source": [
    "# Plot training & validation loss values\n",
    "plt.plot(history.history['loss'])\n",
    "plt.plot(history.history['val_loss'])\n",
    "plt.title('Model Loss')\n",
    "plt.ylabel('Loss')\n",
    "plt.xlabel('Epoch')\n",
    "plt.legend(['Train', 'Validation'], loc='upper left')\n",
    "plt.show()\n",
    "\n",
    "# Plot training & validation accuracy values\n",
    "plt.plot(history.history['accuracy'])\n",
    "plt.plot(history.history['val_accuracy'])\n",
    "plt.title('Model Accuracy')\n",
    "plt.ylabel('Accuracy')\n",
    "plt.xlabel('Epoch')\n",
    "plt.legend(['Train', 'Validation'], loc='upper left')\n",
    "plt.show()"
   ]
  },
  {
   "cell_type": "code",
   "execution_count": 36,
   "id": "cf2d1173",
   "metadata": {},
   "outputs": [
    {
     "name": "stdout",
     "output_type": "stream",
     "text": [
      "\u001b[1m11/11\u001b[0m \u001b[32m━━━━━━━━━━━━━━━━━━━━\u001b[0m\u001b[37m\u001b[0m \u001b[1m2s\u001b[0m 158ms/step - accuracy: 0.8341 - loss: 0.5333\n",
      "Test Loss: 0.5358057618141174\n",
      "Test Accuracy: 0.8409090638160706\n"
     ]
    }
   ],
   "source": [
    "# Evaluate the model on the test dataset\n",
    "loss, accuracy = model_transfer.evaluate(X_test_color, y_test_color)\n",
    "\n",
    "# Print the test loss and accuracy\n",
    "print(\"Test Loss:\", loss)\n",
    "print(\"Test Accuracy:\", accuracy)"
   ]
  },
  {
   "cell_type": "markdown",
   "id": "8fdaa9f0",
   "metadata": {},
   "source": [
    "### Transfer learning with RMSProp Optimizer"
   ]
  },
  {
   "cell_type": "code",
   "execution_count": 38,
   "id": "a1b8dacf",
   "metadata": {},
   "outputs": [
    {
     "data": {
      "text/html": [
       "<pre style=\"white-space:pre;overflow-x:auto;line-height:normal;font-family:Menlo,'DejaVu Sans Mono',consolas,'Courier New',monospace\"><span style=\"font-weight: bold\">Model: \"sequential_7\"</span>\n",
       "</pre>\n"
      ],
      "text/plain": [
       "\u001b[1mModel: \"sequential_7\"\u001b[0m\n"
      ]
     },
     "metadata": {},
     "output_type": "display_data"
    },
    {
     "data": {
      "text/html": [
       "<pre style=\"white-space:pre;overflow-x:auto;line-height:normal;font-family:Menlo,'DejaVu Sans Mono',consolas,'Courier New',monospace\">┏━━━━━━━━━━━━━━━━━━━━━━━━━━━━━━━━━┳━━━━━━━━━━━━━━━━━━━━━━━━┳━━━━━━━━━━━━━━━┓\n",
       "┃<span style=\"font-weight: bold\"> Layer (type)                    </span>┃<span style=\"font-weight: bold\"> Output Shape           </span>┃<span style=\"font-weight: bold\">       Param # </span>┃\n",
       "┡━━━━━━━━━━━━━━━━━━━━━━━━━━━━━━━━━╇━━━━━━━━━━━━━━━━━━━━━━━━╇━━━━━━━━━━━━━━━┩\n",
       "│ vgg16 (<span style=\"color: #0087ff; text-decoration-color: #0087ff\">Functional</span>)              │ (<span style=\"color: #00d7ff; text-decoration-color: #00d7ff\">None</span>, <span style=\"color: #00af00; text-decoration-color: #00af00\">2</span>, <span style=\"color: #00af00; text-decoration-color: #00af00\">2</span>, <span style=\"color: #00af00; text-decoration-color: #00af00\">512</span>)      │    <span style=\"color: #00af00; text-decoration-color: #00af00\">14,714,688</span> │\n",
       "├─────────────────────────────────┼────────────────────────┼───────────────┤\n",
       "│ flatten_7 (<span style=\"color: #0087ff; text-decoration-color: #0087ff\">Flatten</span>)             │ (<span style=\"color: #00d7ff; text-decoration-color: #00d7ff\">None</span>, <span style=\"color: #00af00; text-decoration-color: #00af00\">2048</span>)           │             <span style=\"color: #00af00; text-decoration-color: #00af00\">0</span> │\n",
       "├─────────────────────────────────┼────────────────────────┼───────────────┤\n",
       "│ dense_15 (<span style=\"color: #0087ff; text-decoration-color: #0087ff\">Dense</span>)                │ (<span style=\"color: #00d7ff; text-decoration-color: #00d7ff\">None</span>, <span style=\"color: #00af00; text-decoration-color: #00af00\">128</span>)            │       <span style=\"color: #00af00; text-decoration-color: #00af00\">262,272</span> │\n",
       "├─────────────────────────────────┼────────────────────────┼───────────────┤\n",
       "│ dropout_7 (<span style=\"color: #0087ff; text-decoration-color: #0087ff\">Dropout</span>)             │ (<span style=\"color: #00d7ff; text-decoration-color: #00d7ff\">None</span>, <span style=\"color: #00af00; text-decoration-color: #00af00\">128</span>)            │             <span style=\"color: #00af00; text-decoration-color: #00af00\">0</span> │\n",
       "├─────────────────────────────────┼────────────────────────┼───────────────┤\n",
       "│ dense_14 (<span style=\"color: #0087ff; text-decoration-color: #0087ff\">Dense</span>)                │ (<span style=\"color: #00d7ff; text-decoration-color: #00d7ff\">None</span>, <span style=\"color: #00af00; text-decoration-color: #00af00\">32</span>)             │         <span style=\"color: #00af00; text-decoration-color: #00af00\">4,128</span> │\n",
       "└─────────────────────────────────┴────────────────────────┴───────────────┘\n",
       "</pre>\n"
      ],
      "text/plain": [
       "┏━━━━━━━━━━━━━━━━━━━━━━━━━━━━━━━━━┳━━━━━━━━━━━━━━━━━━━━━━━━┳━━━━━━━━━━━━━━━┓\n",
       "┃\u001b[1m \u001b[0m\u001b[1mLayer (type)                   \u001b[0m\u001b[1m \u001b[0m┃\u001b[1m \u001b[0m\u001b[1mOutput Shape          \u001b[0m\u001b[1m \u001b[0m┃\u001b[1m \u001b[0m\u001b[1m      Param #\u001b[0m\u001b[1m \u001b[0m┃\n",
       "┡━━━━━━━━━━━━━━━━━━━━━━━━━━━━━━━━━╇━━━━━━━━━━━━━━━━━━━━━━━━╇━━━━━━━━━━━━━━━┩\n",
       "│ vgg16 (\u001b[38;5;33mFunctional\u001b[0m)              │ (\u001b[38;5;45mNone\u001b[0m, \u001b[38;5;34m2\u001b[0m, \u001b[38;5;34m2\u001b[0m, \u001b[38;5;34m512\u001b[0m)      │    \u001b[38;5;34m14,714,688\u001b[0m │\n",
       "├─────────────────────────────────┼────────────────────────┼───────────────┤\n",
       "│ flatten_7 (\u001b[38;5;33mFlatten\u001b[0m)             │ (\u001b[38;5;45mNone\u001b[0m, \u001b[38;5;34m2048\u001b[0m)           │             \u001b[38;5;34m0\u001b[0m │\n",
       "├─────────────────────────────────┼────────────────────────┼───────────────┤\n",
       "│ dense_15 (\u001b[38;5;33mDense\u001b[0m)                │ (\u001b[38;5;45mNone\u001b[0m, \u001b[38;5;34m128\u001b[0m)            │       \u001b[38;5;34m262,272\u001b[0m │\n",
       "├─────────────────────────────────┼────────────────────────┼───────────────┤\n",
       "│ dropout_7 (\u001b[38;5;33mDropout\u001b[0m)             │ (\u001b[38;5;45mNone\u001b[0m, \u001b[38;5;34m128\u001b[0m)            │             \u001b[38;5;34m0\u001b[0m │\n",
       "├─────────────────────────────────┼────────────────────────┼───────────────┤\n",
       "│ dense_14 (\u001b[38;5;33mDense\u001b[0m)                │ (\u001b[38;5;45mNone\u001b[0m, \u001b[38;5;34m32\u001b[0m)             │         \u001b[38;5;34m4,128\u001b[0m │\n",
       "└─────────────────────────────────┴────────────────────────┴───────────────┘\n"
      ]
     },
     "metadata": {},
     "output_type": "display_data"
    },
    {
     "data": {
      "text/html": [
       "<pre style=\"white-space:pre;overflow-x:auto;line-height:normal;font-family:Menlo,'DejaVu Sans Mono',consolas,'Courier New',monospace\"><span style=\"font-weight: bold\"> Total params: </span><span style=\"color: #00af00; text-decoration-color: #00af00\">14,981,088</span> (57.15 MB)\n",
       "</pre>\n"
      ],
      "text/plain": [
       "\u001b[1m Total params: \u001b[0m\u001b[38;5;34m14,981,088\u001b[0m (57.15 MB)\n"
      ]
     },
     "metadata": {},
     "output_type": "display_data"
    },
    {
     "data": {
      "text/html": [
       "<pre style=\"white-space:pre;overflow-x:auto;line-height:normal;font-family:Menlo,'DejaVu Sans Mono',consolas,'Courier New',monospace\"><span style=\"font-weight: bold\"> Trainable params: </span><span style=\"color: #00af00; text-decoration-color: #00af00\">266,400</span> (1.02 MB)\n",
       "</pre>\n"
      ],
      "text/plain": [
       "\u001b[1m Trainable params: \u001b[0m\u001b[38;5;34m266,400\u001b[0m (1.02 MB)\n"
      ]
     },
     "metadata": {},
     "output_type": "display_data"
    },
    {
     "data": {
      "text/html": [
       "<pre style=\"white-space:pre;overflow-x:auto;line-height:normal;font-family:Menlo,'DejaVu Sans Mono',consolas,'Courier New',monospace\"><span style=\"font-weight: bold\"> Non-trainable params: </span><span style=\"color: #00af00; text-decoration-color: #00af00\">14,714,688</span> (56.13 MB)\n",
       "</pre>\n"
      ],
      "text/plain": [
       "\u001b[1m Non-trainable params: \u001b[0m\u001b[38;5;34m14,714,688\u001b[0m (56.13 MB)\n"
      ]
     },
     "metadata": {},
     "output_type": "display_data"
    }
   ],
   "source": [
    "# Add an InputLayer to explicitly define the input shape\n",
    "input_layer = InputLayer(input_shape=X_color.shape[1:])\n",
    "\n",
    "# Load pre-trained MobileNetV2 model without top (fully connected) layers\n",
    "base_model = VGG16(input_shape=X_color.shape[1:], include_top=False, weights='imagenet')\n",
    "\n",
    "# Set base model layers as non-trainable\n",
    "for layer in base_model.layers:\n",
    "    layer.trainable = False\n",
    "\n",
    "# Define output layer with 32 units for 32 labels\n",
    "output_layer = Dense(32, activation='softmax')\n",
    "\n",
    "# Add output layer on top of MobileNetV2\n",
    "model_transfer_rms = tf.keras.Sequential([\n",
    "    input_layer,  # InputLayer\n",
    "    base_model, # Include MobileNetV2 as base model\n",
    "    Flatten(),\n",
    "    Dense(128, activation='relu'),\n",
    "    Dropout(0.5),\n",
    "    output_layer  # Add output layer directly\n",
    "])\n",
    "\n",
    "# Compile the model\n",
    "model_transfer_rms.compile(optimizer='rmsprop', loss='sparse_categorical_crossentropy', metrics=['accuracy'])\n",
    "\n",
    "# Print the model summary\n",
    "model_transfer_rms.summary()"
   ]
  },
  {
   "cell_type": "code",
   "execution_count": 39,
   "id": "d1f5f763",
   "metadata": {
    "scrolled": true
   },
   "outputs": [
    {
     "name": "stdout",
     "output_type": "stream",
     "text": [
      "Epoch 1/30\n",
      "\u001b[1m82/82\u001b[0m \u001b[32m━━━━━━━━━━━━━━━━━━━━\u001b[0m\u001b[37m\u001b[0m \u001b[1m15s\u001b[0m 173ms/step - accuracy: 0.4260 - loss: 2.3501 - val_accuracy: 0.8690 - val_loss: 0.6471\n",
      "Epoch 2/30\n",
      "\u001b[1m82/82\u001b[0m \u001b[32m━━━━━━━━━━━━━━━━━━━━\u001b[0m\u001b[37m\u001b[0m \u001b[1m14s\u001b[0m 167ms/step - accuracy: 0.7951 - loss: 0.7938 - val_accuracy: 0.8966 - val_loss: 0.3220\n",
      "Epoch 3/30\n",
      "\u001b[1m82/82\u001b[0m \u001b[32m━━━━━━━━━━━━━━━━━━━━\u001b[0m\u001b[37m\u001b[0m \u001b[1m14s\u001b[0m 169ms/step - accuracy: 0.8564 - loss: 0.4943 - val_accuracy: 0.9448 - val_loss: 0.1829\n",
      "Epoch 4/30\n",
      "\u001b[1m82/82\u001b[0m \u001b[32m━━━━━━━━━━━━━━━━━━━━\u001b[0m\u001b[37m\u001b[0m \u001b[1m13s\u001b[0m 165ms/step - accuracy: 0.8891 - loss: 0.3421 - val_accuracy: 0.9414 - val_loss: 0.1404\n",
      "Epoch 5/30\n",
      "\u001b[1m82/82\u001b[0m \u001b[32m━━━━━━━━━━━━━━━━━━━━\u001b[0m\u001b[37m\u001b[0m \u001b[1m14s\u001b[0m 167ms/step - accuracy: 0.9082 - loss: 0.2981 - val_accuracy: 0.9586 - val_loss: 0.1223\n",
      "Epoch 6/30\n",
      "\u001b[1m82/82\u001b[0m \u001b[32m━━━━━━━━━━━━━━━━━━━━\u001b[0m\u001b[37m\u001b[0m \u001b[1m13s\u001b[0m 164ms/step - accuracy: 0.9303 - loss: 0.2193 - val_accuracy: 0.9621 - val_loss: 0.1122\n",
      "Epoch 7/30\n",
      "\u001b[1m82/82\u001b[0m \u001b[32m━━━━━━━━━━━━━━━━━━━━\u001b[0m\u001b[37m\u001b[0m \u001b[1m15s\u001b[0m 180ms/step - accuracy: 0.9409 - loss: 0.1775 - val_accuracy: 0.9724 - val_loss: 0.0953\n",
      "Epoch 8/30\n",
      "\u001b[1m82/82\u001b[0m \u001b[32m━━━━━━━━━━━━━━━━━━━━\u001b[0m\u001b[37m\u001b[0m \u001b[1m15s\u001b[0m 189ms/step - accuracy: 0.9547 - loss: 0.1491 - val_accuracy: 0.9448 - val_loss: 0.1173\n",
      "Epoch 9/30\n",
      "\u001b[1m82/82\u001b[0m \u001b[32m━━━━━━━━━━━━━━━━━━━━\u001b[0m\u001b[37m\u001b[0m \u001b[1m14s\u001b[0m 166ms/step - accuracy: 0.9547 - loss: 0.1465 - val_accuracy: 0.9655 - val_loss: 0.0732\n",
      "Epoch 10/30\n",
      "\u001b[1m82/82\u001b[0m \u001b[32m━━━━━━━━━━━━━━━━━━━━\u001b[0m\u001b[37m\u001b[0m \u001b[1m14s\u001b[0m 176ms/step - accuracy: 0.9620 - loss: 0.1234 - val_accuracy: 0.9724 - val_loss: 0.0647\n",
      "Epoch 11/30\n",
      "\u001b[1m82/82\u001b[0m \u001b[32m━━━━━━━━━━━━━━━━━━━━\u001b[0m\u001b[37m\u001b[0m \u001b[1m15s\u001b[0m 185ms/step - accuracy: 0.9710 - loss: 0.0982 - val_accuracy: 0.9793 - val_loss: 0.0531\n",
      "Epoch 12/30\n",
      "\u001b[1m82/82\u001b[0m \u001b[32m━━━━━━━━━━━━━━━━━━━━\u001b[0m\u001b[37m\u001b[0m \u001b[1m14s\u001b[0m 170ms/step - accuracy: 0.9706 - loss: 0.0940 - val_accuracy: 0.9586 - val_loss: 0.0689\n",
      "Epoch 13/30\n",
      "\u001b[1m82/82\u001b[0m \u001b[32m━━━━━━━━━━━━━━━━━━━━\u001b[0m\u001b[37m\u001b[0m \u001b[1m14s\u001b[0m 169ms/step - accuracy: 0.9720 - loss: 0.0889 - val_accuracy: 0.9690 - val_loss: 0.0609\n",
      "Epoch 14/30\n",
      "\u001b[1m82/82\u001b[0m \u001b[32m━━━━━━━━━━━━━━━━━━━━\u001b[0m\u001b[37m\u001b[0m \u001b[1m14s\u001b[0m 174ms/step - accuracy: 0.9784 - loss: 0.0757 - val_accuracy: 0.9655 - val_loss: 0.0688\n",
      "Epoch 15/30\n",
      "\u001b[1m82/82\u001b[0m \u001b[32m━━━━━━━━━━━━━━━━━━━━\u001b[0m\u001b[37m\u001b[0m \u001b[1m14s\u001b[0m 174ms/step - accuracy: 0.9781 - loss: 0.0732 - val_accuracy: 0.9793 - val_loss: 0.0478\n",
      "Epoch 16/30\n",
      "\u001b[1m82/82\u001b[0m \u001b[32m━━━━━━━━━━━━━━━━━━━━\u001b[0m\u001b[37m\u001b[0m \u001b[1m16s\u001b[0m 189ms/step - accuracy: 0.9824 - loss: 0.0546 - val_accuracy: 0.9759 - val_loss: 0.0446\n",
      "Epoch 17/30\n",
      "\u001b[1m82/82\u001b[0m \u001b[32m━━━━━━━━━━━━━━━━━━━━\u001b[0m\u001b[37m\u001b[0m \u001b[1m14s\u001b[0m 174ms/step - accuracy: 0.9759 - loss: 0.0733 - val_accuracy: 0.9897 - val_loss: 0.0476\n",
      "Epoch 18/30\n",
      "\u001b[1m82/82\u001b[0m \u001b[32m━━━━━━━━━━━━━━━━━━━━\u001b[0m\u001b[37m\u001b[0m \u001b[1m15s\u001b[0m 180ms/step - accuracy: 0.9780 - loss: 0.0683 - val_accuracy: 0.9828 - val_loss: 0.0438\n",
      "Epoch 19/30\n",
      "\u001b[1m82/82\u001b[0m \u001b[32m━━━━━━━━━━━━━━━━━━━━\u001b[0m\u001b[37m\u001b[0m \u001b[1m14s\u001b[0m 168ms/step - accuracy: 0.9827 - loss: 0.0502 - val_accuracy: 0.9759 - val_loss: 0.0467\n",
      "Epoch 20/30\n",
      "\u001b[1m82/82\u001b[0m \u001b[32m━━━━━━━━━━━━━━━━━━━━\u001b[0m\u001b[37m\u001b[0m \u001b[1m16s\u001b[0m 190ms/step - accuracy: 0.9820 - loss: 0.0550 - val_accuracy: 0.9828 - val_loss: 0.0547\n",
      "Epoch 21/30\n",
      "\u001b[1m82/82\u001b[0m \u001b[32m━━━━━━━━━━━━━━━━━━━━\u001b[0m\u001b[37m\u001b[0m \u001b[1m14s\u001b[0m 176ms/step - accuracy: 0.9821 - loss: 0.0545 - val_accuracy: 0.9828 - val_loss: 0.0387\n",
      "Epoch 22/30\n",
      "\u001b[1m82/82\u001b[0m \u001b[32m━━━━━━━━━━━━━━━━━━━━\u001b[0m\u001b[37m\u001b[0m \u001b[1m14s\u001b[0m 164ms/step - accuracy: 0.9882 - loss: 0.0432 - val_accuracy: 0.9862 - val_loss: 0.0360\n",
      "Epoch 23/30\n",
      "\u001b[1m82/82\u001b[0m \u001b[32m━━━━━━━━━━━━━━━━━━━━\u001b[0m\u001b[37m\u001b[0m \u001b[1m13s\u001b[0m 163ms/step - accuracy: 0.9886 - loss: 0.0376 - val_accuracy: 0.9862 - val_loss: 0.0378\n",
      "Epoch 24/30\n",
      "\u001b[1m82/82\u001b[0m \u001b[32m━━━━━━━━━━━━━━━━━━━━\u001b[0m\u001b[37m\u001b[0m \u001b[1m13s\u001b[0m 164ms/step - accuracy: 0.9855 - loss: 0.0433 - val_accuracy: 0.9759 - val_loss: 0.0577\n",
      "Epoch 25/30\n",
      "\u001b[1m82/82\u001b[0m \u001b[32m━━━━━━━━━━━━━━━━━━━━\u001b[0m\u001b[37m\u001b[0m \u001b[1m13s\u001b[0m 163ms/step - accuracy: 0.9874 - loss: 0.0336 - val_accuracy: 0.9828 - val_loss: 0.0508\n",
      "Epoch 26/30\n",
      "\u001b[1m82/82\u001b[0m \u001b[32m━━━━━━━━━━━━━━━━━━━━\u001b[0m\u001b[37m\u001b[0m \u001b[1m13s\u001b[0m 161ms/step - accuracy: 0.9863 - loss: 0.0413 - val_accuracy: 0.9828 - val_loss: 0.0284\n",
      "Epoch 27/30\n",
      "\u001b[1m82/82\u001b[0m \u001b[32m━━━━━━━━━━━━━━━━━━━━\u001b[0m\u001b[37m\u001b[0m \u001b[1m13s\u001b[0m 156ms/step - accuracy: 0.9919 - loss: 0.0333 - val_accuracy: 0.9793 - val_loss: 0.0361\n",
      "Epoch 28/30\n",
      "\u001b[1m82/82\u001b[0m \u001b[32m━━━━━━━━━━━━━━━━━━━━\u001b[0m\u001b[37m\u001b[0m \u001b[1m14s\u001b[0m 169ms/step - accuracy: 0.9901 - loss: 0.0292 - val_accuracy: 0.9724 - val_loss: 0.0464\n",
      "Epoch 29/30\n",
      "\u001b[1m82/82\u001b[0m \u001b[32m━━━━━━━━━━━━━━━━━━━━\u001b[0m\u001b[37m\u001b[0m \u001b[1m13s\u001b[0m 162ms/step - accuracy: 0.9870 - loss: 0.0304 - val_accuracy: 0.9862 - val_loss: 0.0415\n",
      "Epoch 30/30\n",
      "\u001b[1m82/82\u001b[0m \u001b[32m━━━━━━━━━━━━━━━━━━━━\u001b[0m\u001b[37m\u001b[0m \u001b[1m13s\u001b[0m 163ms/step - accuracy: 0.9929 - loss: 0.0269 - val_accuracy: 0.9897 - val_loss: 0.0310\n"
     ]
    }
   ],
   "source": [
    "# Train the model\n",
    "history = model_transfer_rms.fit(X_color, y_color, epochs=30, validation_split=0.10,batch_size=32) "
   ]
  },
  {
   "cell_type": "code",
   "execution_count": 40,
   "id": "6e052f0f",
   "metadata": {},
   "outputs": [
    {
     "data": {
      "image/png": "[encoded data removed]",
      "text/plain": [
       "<Figure size 640x480 with 1 Axes>"
      ]
     },
     "metadata": {},
     "output_type": "display_data"
    },
    {
     "data": {
      "image/png": "[encoded data removed]",
      "text/plain": [
       "<Figure size 640x480 with 1 Axes>"
      ]
     },
     "metadata": {},
     "output_type": "display_data"
    }
   ],
   "source": [
    "# Plot training & validation loss values\n",
    "plt.plot(history.history['loss'])\n",
    "plt.plot(history.history['val_loss'])\n",
    "plt.title('Model Loss')\n",
    "plt.ylabel('Loss')\n",
    "plt.xlabel('Epoch')\n",
    "plt.legend(['Train', 'Validation'], loc='upper left')\n",
    "plt.show()\n",
    "\n",
    "# Plot training & validation accuracy values\n",
    "plt.plot(history.history['accuracy'])\n",
    "plt.plot(history.history['val_accuracy'])\n",
    "plt.title('Model Accuracy')\n",
    "plt.ylabel('Accuracy')\n",
    "plt.xlabel('Epoch')\n",
    "plt.legend(['Train', 'Validation'], loc='upper left')\n",
    "plt.show()"
   ]
  },
  {
   "cell_type": "code",
   "execution_count": 41,
   "id": "276feceb",
   "metadata": {},
   "outputs": [
    {
     "name": "stdout",
     "output_type": "stream",
     "text": [
      "\u001b[1m11/11\u001b[0m \u001b[32m━━━━━━━━━━━━━━━━━━━━\u001b[0m\u001b[37m\u001b[0m \u001b[1m2s\u001b[0m 153ms/step - accuracy: 0.8535 - loss: 0.5130\n",
      "Test Loss: 0.4860612750053406\n",
      "Test Accuracy: 0.8522727489471436\n"
     ]
    }
   ],
   "source": [
    "# Evaluate the model on the test dataset\n",
    "loss, accuracy = model_transfer_rms.evaluate(X_test_color, y_test_color)\n",
    "\n",
    "# Print the test loss and accuracy\n",
    "print(\"Test Loss:\", loss)\n",
    "print(\"Test Accuracy:\", accuracy)"
   ]
  },
  {
   "cell_type": "markdown",
   "id": "090858f9",
   "metadata": {},
   "source": [
    "## Saving the models"
   ]
  },
  {
   "cell_type": "code",
   "execution_count": 45,
   "id": "368aad92",
   "metadata": {},
   "outputs": [],
   "source": [
    "model_color.save('Adam_Model.keras')\n",
    "model_RMS.save('RMS_Model.keras')"
   ]
  },
  {
   "cell_type": "code",
   "execution_count": 46,
   "id": "d286199a",
   "metadata": {},
   "outputs": [],
   "source": [
    "model_transfer.save('VGG16_adam.keras')"
   ]
  },
  {
   "cell_type": "code",
   "execution_count": 47,
   "id": "7702b021",
   "metadata": {},
   "outputs": [],
   "source": [
    "model_transfer.save('VGG16_RMS.keras')"
   ]
  },
  {
   "cell_type": "code",
   "execution_count": null,
   "id": "880c16f8",
   "metadata": {},
   "outputs": [],
   "source": []
  }
 ],
 "metadata": {
  "kernelspec": {
   "display_name": "Python 3 (ipykernel)",
   "language": "python",
   "name": "python3"
  },
  "language_info": {
   "codemirror_mode": {
    "name": "ipython",
    "version": 3
   },
   "file_extension": ".py",
   "mimetype": "text/x-python",
   "name": "python",
   "nbconvert_exporter": "python",
   "pygments_lexer": "ipython3",
   "version": "3.10.9"
  }
 },
 "nbformat": 4,
 "nbformat_minor": 5
}
